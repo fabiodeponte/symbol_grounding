{
 "cells": [
  {
   "cell_type": "markdown",
   "id": "74b9870c",
   "metadata": {},
   "source": [
    "The code is taken from here:\n",
    "\n",
    "https://keras.io/examples/nlp/lstm_seq2seq/"
   ]
  },
  {
   "cell_type": "markdown",
   "id": "631cacae",
   "metadata": {},
   "source": [
    "https://blog.keras.io/a-ten-minute-introduction-to-sequence-to-sequence-learning-in-keras.html\n",
    "\n",
    "https://machinelearningmastery.com/return-sequences-and-return-states-for-lstms-in-keras/\n"
   ]
  },
  {
   "cell_type": "markdown",
   "id": "ba61be69",
   "metadata": {},
   "source": [
    "# CHOLLET - BASE MODEL - 1024 - rmsprop"
   ]
  },
  {
   "cell_type": "code",
   "execution_count": 1,
   "id": "0d30d924",
   "metadata": {},
   "outputs": [
    {
     "name": "stderr",
     "output_type": "stream",
     "text": [
      "2022-09-12 14:08:37.982173: I tensorflow/core/platform/cpu_feature_guard.cc:193] This TensorFlow binary is optimized with oneAPI Deep Neural Network Library (oneDNN) to use the following CPU instructions in performance-critical operations:  AVX2 AVX_VNNI FMA\n",
      "To enable them in other operations, rebuild TensorFlow with the appropriate compiler flags.\n",
      "2022-09-12 14:08:38.050257: I tensorflow/core/util/util.cc:169] oneDNN custom operations are on. You may see slightly different numerical results due to floating-point round-off errors from different computation orders. To turn them off, set the environment variable `TF_ENABLE_ONEDNN_OPTS=0`.\n",
      "2022-09-12 14:08:38.066974: E tensorflow/stream_executor/cuda/cuda_blas.cc:2981] Unable to register cuBLAS factory: Attempting to register factory for plugin cuBLAS when one has already been registered\n",
      "2022-09-12 14:08:38.327538: W tensorflow/stream_executor/platform/default/dso_loader.cc:64] Could not load dynamic library 'libnvinfer.so.7'; dlerror: libnvinfer.so.7: cannot open shared object file: No such file or directory; LD_LIBRARY_PATH: :/home/digit/miniconda3/envs/keras/lib/\n",
      "2022-09-12 14:08:38.327574: W tensorflow/stream_executor/platform/default/dso_loader.cc:64] Could not load dynamic library 'libnvinfer_plugin.so.7'; dlerror: libnvinfer_plugin.so.7: cannot open shared object file: No such file or directory; LD_LIBRARY_PATH: :/home/digit/miniconda3/envs/keras/lib/\n",
      "2022-09-12 14:08:38.327577: W tensorflow/compiler/tf2tensorrt/utils/py_utils.cc:38] TF-TRT Warning: Cannot dlopen some TensorRT libraries. If you would like to use Nvidia GPU with TensorRT, please make sure the missing libraries mentioned above are installed properly.\n",
      "/home/digit/miniconda3/envs/keras/lib/python3.9/site-packages/tensorflow_addons/utils/ensure_tf_install.py:53: UserWarning: Tensorflow Addons supports using Python ops for all Tensorflow versions above or equal to 2.7.0 and strictly below 2.10.0 (nightly versions are not supported). \n",
      " The versions of TensorFlow you are currently using is 2.10.0 and is not supported. \n",
      "Some things might work, some things might not.\n",
      "If you were to encounter a bug, do not file an issue.\n",
      "If you want to make sure you're using a tested and supported configuration, either change the TensorFlow version or the TensorFlow Addons's version. \n",
      "You can find the compatibility matrix in TensorFlow Addon's readme:\n",
      "https://github.com/tensorflow/addons\n",
      "  warnings.warn(\n"
     ]
    }
   ],
   "source": [
    "import numpy as np\n",
    "import pandas as pd\n",
    "import os\n",
    "from numpy import save\n",
    "from numpy import load\n",
    "import matplotlib.pyplot as plt\n",
    "from numpy import argmax\n",
    "\n",
    "from tensorflow import keras\n",
    "from keras import models\n",
    "from keras.models import Sequential\n",
    "from keras.layers import LSTM, TimeDistributed, RepeatVector, Dense\n",
    "from keras.layers import BatchNormalization\n",
    "from keras.layers import Bidirectional\n",
    "from keras.layers import Concatenate\n",
    "from keras.layers import LayerNormalization\n",
    "\n",
    "from sklearn.model_selection import train_test_split\n",
    "import tensorflow_addons as tfa\n",
    "\n",
    "from keras.layers import Attention as AttentionLayer"
   ]
  },
  {
   "cell_type": "markdown",
   "id": "2cfd79fa",
   "metadata": {},
   "source": [
    "# Load data"
   ]
  },
  {
   "cell_type": "code",
   "execution_count": 2,
   "id": "12d3c94b",
   "metadata": {},
   "outputs": [],
   "source": [
    "#audio_features = pd.DataFrame(load('features/audio_wav2vec_features_0-14500_artificial_onlygood_converted2array.npy', allow_pickle=True))\n",
    "#video_features = pd.DataFrame(load('features/video_clip_features_0-14500_artificial_onlygood_converted2array.npy', allow_pickle=True))\n",
    "audio_features = pd.DataFrame(load('features/audio_features_without_pen.npy', allow_pickle=True))\n",
    "video_features = pd.DataFrame(load('features/video_features_without_pen.npy', allow_pickle=True))\n",
    "\n",
    "# audio features one-hot\n",
    "audio_features_onehot = keras.utils.to_categorical(audio_features, num_classes=None, dtype='float32')\n",
    "\n",
    "# video features one-hot\n",
    "def normalize(x):\n",
    "    return (x.astype(float) - video_features.min().min().astype(float)) / (video_features.max().max().astype(float) - video_features.min().min().astype(float))\n",
    "\n",
    "def de_normalize(x):\n",
    "    return (x * (video_features.max().max().astype(float) - video_features.min().min().astype(float)) + video_features.min().min().astype(float)).astype(int)\n",
    "\n",
    "video_features_norm = normalize(video_features)\n",
    "video_features_norm_100 = video_features_norm * 100\n",
    "video_features_norm_100 = video_features_norm_100.round()\n",
    "video_features_onehot = keras.utils.to_categorical(video_features_norm_100, num_classes=None, dtype='float32')\n"
   ]
  },
  {
   "cell_type": "code",
   "execution_count": 3,
   "id": "26d1686c",
   "metadata": {},
   "outputs": [
    {
     "data": {
      "text/plain": [
       "(13050, 150, 27)"
      ]
     },
     "execution_count": 3,
     "metadata": {},
     "output_type": "execute_result"
    }
   ],
   "source": [
    "audio_features_onehot.shape"
   ]
  },
  {
   "cell_type": "code",
   "execution_count": 4,
   "id": "52440c98",
   "metadata": {},
   "outputs": [
    {
     "data": {
      "text/plain": [
       "(13050, 512, 101)"
      ]
     },
     "execution_count": 4,
     "metadata": {},
     "output_type": "execute_result"
    }
   ],
   "source": [
    "video_features_onehot.shape\n"
   ]
  },
  {
   "cell_type": "markdown",
   "id": "44f2ca32",
   "metadata": {},
   "source": [
    "# Split train and test"
   ]
  },
  {
   "cell_type": "code",
   "execution_count": 5,
   "id": "c8f724a2",
   "metadata": {},
   "outputs": [],
   "source": [
    "X_train, X_test, y_train, y_test = train_test_split(video_features_onehot, audio_features_onehot, test_size=0.2, random_state=True)\n"
   ]
  },
  {
   "cell_type": "markdown",
   "id": "c262f583",
   "metadata": {},
   "source": [
    "# Create decoder_input_data, decoder_target_data, encoder_input_data"
   ]
  },
  {
   "cell_type": "code",
   "execution_count": 6,
   "id": "dfb1e15f",
   "metadata": {},
   "outputs": [],
   "source": [
    "encoder_input_data = X_train\n",
    "decoder_input_data = y_train\n",
    "decoder_target_data = np.zeros(decoder_input_data.shape)\n",
    "for a in range(decoder_input_data.shape[0]):\n",
    "    for i in range(decoder_input_data.shape[1]-1):\n",
    "        decoder_target_data[a][i]=decoder_input_data[a][i+1]\n",
    "    decoder_target_data[a][decoder_input_data.shape[1]-1] = decoder_input_data[a][decoder_input_data.shape[1]-1]\n",
    "    \n"
   ]
  },
  {
   "cell_type": "code",
   "execution_count": 7,
   "id": "50e1d468",
   "metadata": {},
   "outputs": [],
   "source": [
    "encoder_input_data_test = X_test\n",
    "decoder_input_data_test = y_test\n",
    "\n",
    "decoder_target_data_test = np.zeros(y_test.shape)\n",
    "for a in range(y_test.shape[0]):\n",
    "    for i in range(y_test.shape[1]-1):\n",
    "        decoder_target_data_test[a][i]=y_test[a][i+1]\n",
    "    decoder_target_data_test[a][y_test.shape[1]-1] = y_test[a][y_test.shape[1]-1]"
   ]
  },
  {
   "cell_type": "code",
   "execution_count": 8,
   "id": "0f2ca672",
   "metadata": {},
   "outputs": [],
   "source": [
    "# lengths of vectors\n",
    "num_encoder_tokens = encoder_input_data.shape[2]\n",
    "num_decoder_tokens = decoder_input_data.shape[2]\n",
    "target_max_length = decoder_input_data.shape[1]"
   ]
  },
  {
   "cell_type": "markdown",
   "id": "795e6b6d",
   "metadata": {},
   "source": [
    "# Set up the model"
   ]
  },
  {
   "cell_type": "code",
   "execution_count": 9,
   "id": "f68b9f37",
   "metadata": {},
   "outputs": [],
   "source": [
    "batch_size = 64  # Batch size for training.\n",
    "epochs = 100  # Number of epochs to train for.\n",
    "latent_dim = 1024  # Latent dimensionality of the encoding space.\n"
   ]
  },
  {
   "cell_type": "code",
   "execution_count": 10,
   "id": "01c303a6",
   "metadata": {},
   "outputs": [
    {
     "name": "stderr",
     "output_type": "stream",
     "text": [
      "2022-09-12 14:09:39.083068: I tensorflow/stream_executor/cuda/cuda_gpu_executor.cc:980] successful NUMA node read from SysFS had negative value (-1), but there must be at least one NUMA node, so returning NUMA node zero\n",
      "2022-09-12 14:09:39.085684: I tensorflow/stream_executor/cuda/cuda_gpu_executor.cc:980] successful NUMA node read from SysFS had negative value (-1), but there must be at least one NUMA node, so returning NUMA node zero\n",
      "2022-09-12 14:09:39.085767: I tensorflow/stream_executor/cuda/cuda_gpu_executor.cc:980] successful NUMA node read from SysFS had negative value (-1), but there must be at least one NUMA node, so returning NUMA node zero\n",
      "2022-09-12 14:09:39.086498: I tensorflow/core/platform/cpu_feature_guard.cc:193] This TensorFlow binary is optimized with oneAPI Deep Neural Network Library (oneDNN) to use the following CPU instructions in performance-critical operations:  AVX2 AVX_VNNI FMA\n",
      "To enable them in other operations, rebuild TensorFlow with the appropriate compiler flags.\n",
      "2022-09-12 14:09:39.087453: I tensorflow/stream_executor/cuda/cuda_gpu_executor.cc:980] successful NUMA node read from SysFS had negative value (-1), but there must be at least one NUMA node, so returning NUMA node zero\n",
      "2022-09-12 14:09:39.087528: I tensorflow/stream_executor/cuda/cuda_gpu_executor.cc:980] successful NUMA node read from SysFS had negative value (-1), but there must be at least one NUMA node, so returning NUMA node zero\n",
      "2022-09-12 14:09:39.087575: I tensorflow/stream_executor/cuda/cuda_gpu_executor.cc:980] successful NUMA node read from SysFS had negative value (-1), but there must be at least one NUMA node, so returning NUMA node zero\n",
      "2022-09-12 14:09:39.342466: I tensorflow/stream_executor/cuda/cuda_gpu_executor.cc:980] successful NUMA node read from SysFS had negative value (-1), but there must be at least one NUMA node, so returning NUMA node zero\n",
      "2022-09-12 14:09:39.342568: I tensorflow/stream_executor/cuda/cuda_gpu_executor.cc:980] successful NUMA node read from SysFS had negative value (-1), but there must be at least one NUMA node, so returning NUMA node zero\n",
      "2022-09-12 14:09:39.342621: I tensorflow/stream_executor/cuda/cuda_gpu_executor.cc:980] successful NUMA node read from SysFS had negative value (-1), but there must be at least one NUMA node, so returning NUMA node zero\n",
      "2022-09-12 14:09:39.342669: I tensorflow/core/common_runtime/gpu/gpu_device.cc:1616] Created device /job:localhost/replica:0/task:0/device:GPU:0 with 9357 MB memory:  -> device: 0, name: NVIDIA GeForce RTX 3080, pci bus id: 0000:01:00.0, compute capability: 8.6\n"
     ]
    }
   ],
   "source": [
    "# Define an input sequence and process it.\n",
    "encoder_inputs = keras.Input(shape=(None, num_encoder_tokens))\n",
    "encoder = keras.layers.LSTM(latent_dim, return_state=True)\n",
    "encoder_outputs, state_h, state_c = encoder(encoder_inputs)\n",
    "\n",
    "# We discard `encoder_outputs` and only keep the states.\n",
    "encoder_states = [state_h, state_c]\n",
    "\n",
    "# Set up the decoder, using `encoder_states` as initial state.\n",
    "decoder_inputs = keras.Input(shape=(None, num_decoder_tokens))\n",
    "\n",
    "# We set up our decoder to return full output sequences,\n",
    "# and to return internal states as well. We don't use the\n",
    "# return states in the training model, but we will use them in inference.\n",
    "decoder_lstm = keras.layers.LSTM(latent_dim, return_sequences=True, return_state=True)\n",
    "decoder_outputs, _, _ = decoder_lstm(decoder_inputs, initial_state=encoder_states)\n",
    "decoder_dense = keras.layers.Dense(num_decoder_tokens, activation=\"softmax\")\n",
    "decoder_outputs = decoder_dense(decoder_outputs)\n",
    "\n",
    "# Define the model that will turn\n",
    "# `encoder_input_data` & `decoder_input_data` into `decoder_target_data`\n",
    "model = keras.Model([encoder_inputs, decoder_inputs], decoder_outputs)\n"
   ]
  },
  {
   "cell_type": "code",
   "execution_count": 11,
   "id": "cad2eb02",
   "metadata": {},
   "outputs": [
    {
     "name": "stdout",
     "output_type": "stream",
     "text": [
      "Model: \"model\"\n",
      "__________________________________________________________________________________________________\n",
      " Layer (type)                   Output Shape         Param #     Connected to                     \n",
      "==================================================================================================\n",
      " input_1 (InputLayer)           [(None, None, 101)]  0           []                               \n",
      "                                                                                                  \n",
      " input_2 (InputLayer)           [(None, None, 27)]   0           []                               \n",
      "                                                                                                  \n",
      " lstm (LSTM)                    [(None, 1024),       4612096     ['input_1[0][0]']                \n",
      "                                 (None, 1024),                                                    \n",
      "                                 (None, 1024)]                                                    \n",
      "                                                                                                  \n",
      " lstm_1 (LSTM)                  [(None, None, 1024)  4308992     ['input_2[0][0]',                \n",
      "                                , (None, 1024),                   'lstm[0][1]',                   \n",
      "                                 (None, 1024)]                    'lstm[0][2]']                   \n",
      "                                                                                                  \n",
      " dense (Dense)                  (None, None, 27)     27675       ['lstm_1[0][0]']                 \n",
      "                                                                                                  \n",
      "==================================================================================================\n",
      "Total params: 8,948,763\n",
      "Trainable params: 8,948,763\n",
      "Non-trainable params: 0\n",
      "__________________________________________________________________________________________________\n"
     ]
    }
   ],
   "source": [
    "model.summary()"
   ]
  },
  {
   "cell_type": "code",
   "execution_count": 12,
   "id": "feb4fa3f",
   "metadata": {},
   "outputs": [],
   "source": [
    "import tensorflow as tf\n",
    "import tensorflow_addons as tfa\n",
    "f1 = tfa.metrics.F1Score(num_classes=2, average=None)\n",
    "\n",
    "from sklearn.metrics import confusion_matrix\n",
    "from sklearn.metrics import accuracy_score\n",
    "from sklearn.metrics import f1_score, precision_score, recall_score\n",
    "\n",
    "model.compile(\n",
    "    optimizer=\"adam\", loss=\"categorical_crossentropy\", metrics=[\"accuracy\", keras.metrics.Precision(thresholds=None, top_k=None, class_id=None, name=None, dtype=None), keras.metrics.Recall()\n",
    "]\n",
    ")\n"
   ]
  },
  {
   "cell_type": "code",
   "execution_count": 13,
   "id": "66169c0f",
   "metadata": {},
   "outputs": [
    {
     "name": "stdout",
     "output_type": "stream",
     "text": [
      "Epoch 1/100\n"
     ]
    },
    {
     "name": "stderr",
     "output_type": "stream",
     "text": [
      "2022-09-12 14:09:49.461495: I tensorflow/stream_executor/cuda/cuda_dnn.cc:384] Loaded cuDNN version 8100\n"
     ]
    },
    {
     "name": "stdout",
     "output_type": "stream",
     "text": [
      "\r",
      "  1/131 [..............................] - ETA: 4:05 - loss: 3.3323 - accuracy: 3.1250e-04 - precision: 0.0000e+00 - recall: 0.0000e+00"
     ]
    },
    {
     "name": "stderr",
     "output_type": "stream",
     "text": [
      "2022-09-12 14:09:49.855220: I tensorflow/stream_executor/cuda/cuda_blas.cc:1614] TensorFloat-32 will be used for the matrix multiplication. This will only be logged once.\n"
     ]
    },
    {
     "name": "stdout",
     "output_type": "stream",
     "text": [
      "131/131 [==============================] - 16s 108ms/step - loss: 0.8530 - accuracy: 0.8177 - precision: 0.8611 - recall: 0.7630 - val_loss: 0.6025 - val_accuracy: 0.8360 - val_precision: 0.9195 - val_recall: 0.7491\n",
      "Epoch 2/100\n",
      "131/131 [==============================] - 13s 103ms/step - loss: 0.5589 - accuracy: 0.8402 - precision: 0.8974 - recall: 0.7846 - val_loss: 0.4806 - val_accuracy: 0.8503 - val_precision: 0.8918 - val_recall: 0.8091\n",
      "Epoch 3/100\n",
      "131/131 [==============================] - 14s 104ms/step - loss: 0.4210 - accuracy: 0.8605 - precision: 0.8989 - recall: 0.8212 - val_loss: 0.3611 - val_accuracy: 0.8720 - val_precision: 0.9061 - val_recall: 0.8343\n",
      "Epoch 4/100\n",
      "131/131 [==============================] - 14s 104ms/step - loss: 0.3139 - accuracy: 0.8845 - precision: 0.9113 - recall: 0.8564 - val_loss: 0.2740 - val_accuracy: 0.8962 - val_precision: 0.9169 - val_recall: 0.8746\n",
      "Epoch 5/100\n",
      "131/131 [==============================] - 14s 104ms/step - loss: 0.2527 - accuracy: 0.9029 - precision: 0.9220 - recall: 0.8844 - val_loss: 0.2389 - val_accuracy: 0.9066 - val_precision: 0.9210 - val_recall: 0.8955\n",
      "Epoch 6/100\n",
      "131/131 [==============================] - 14s 105ms/step - loss: 0.2223 - accuracy: 0.9132 - precision: 0.9285 - recall: 0.8998 - val_loss: 0.2189 - val_accuracy: 0.9145 - val_precision: 0.9309 - val_recall: 0.8991\n",
      "Epoch 7/100\n",
      "131/131 [==============================] - 14s 106ms/step - loss: 0.2086 - accuracy: 0.9184 - precision: 0.9318 - recall: 0.9068 - val_loss: 0.2008 - val_accuracy: 0.9213 - val_precision: 0.9335 - val_recall: 0.9106\n",
      "Epoch 8/100\n",
      "131/131 [==============================] - 14s 105ms/step - loss: 0.1977 - accuracy: 0.9223 - precision: 0.9341 - recall: 0.9122 - val_loss: 0.1934 - val_accuracy: 0.9239 - val_precision: 0.9349 - val_recall: 0.9141\n",
      "Epoch 9/100\n",
      "131/131 [==============================] - 14s 104ms/step - loss: 0.1905 - accuracy: 0.9251 - precision: 0.9359 - recall: 0.9158 - val_loss: 0.1904 - val_accuracy: 0.9259 - val_precision: 0.9379 - val_recall: 0.9150\n",
      "Epoch 10/100\n",
      "131/131 [==============================] - 14s 106ms/step - loss: 0.1848 - accuracy: 0.9272 - precision: 0.9374 - recall: 0.9186 - val_loss: 0.1840 - val_accuracy: 0.9271 - val_precision: 0.9373 - val_recall: 0.9187\n",
      "Epoch 11/100\n",
      "131/131 [==============================] - 14s 106ms/step - loss: 0.1799 - accuracy: 0.9291 - precision: 0.9386 - recall: 0.9210 - val_loss: 0.1784 - val_accuracy: 0.9296 - val_precision: 0.9392 - val_recall: 0.9218\n",
      "Epoch 12/100\n",
      "131/131 [==============================] - 14s 106ms/step - loss: 0.1763 - accuracy: 0.9303 - precision: 0.9394 - recall: 0.9227 - val_loss: 0.1765 - val_accuracy: 0.9302 - val_precision: 0.9390 - val_recall: 0.9233\n",
      "Epoch 13/100\n",
      "131/131 [==============================] - 14s 106ms/step - loss: 0.1726 - accuracy: 0.9320 - precision: 0.9406 - recall: 0.9247 - val_loss: 0.1743 - val_accuracy: 0.9314 - val_precision: 0.9400 - val_recall: 0.9238\n",
      "Epoch 14/100\n",
      "131/131 [==============================] - 14s 106ms/step - loss: 0.1689 - accuracy: 0.9330 - precision: 0.9413 - recall: 0.9261 - val_loss: 0.1684 - val_accuracy: 0.9333 - val_precision: 0.9423 - val_recall: 0.9258\n",
      "Epoch 15/100\n",
      "131/131 [==============================] - 14s 106ms/step - loss: 0.1641 - accuracy: 0.9351 - precision: 0.9429 - recall: 0.9286 - val_loss: 0.1638 - val_accuracy: 0.9356 - val_precision: 0.9444 - val_recall: 0.9288\n",
      "Epoch 16/100\n",
      "131/131 [==============================] - 14s 105ms/step - loss: 0.1607 - accuracy: 0.9364 - precision: 0.9439 - recall: 0.9301 - val_loss: 0.1653 - val_accuracy: 0.9344 - val_precision: 0.9422 - val_recall: 0.9278\n",
      "Epoch 17/100\n",
      "131/131 [==============================] - 14s 107ms/step - loss: 0.1577 - accuracy: 0.9377 - precision: 0.9448 - recall: 0.9319 - val_loss: 0.1602 - val_accuracy: 0.9360 - val_precision: 0.9431 - val_recall: 0.9305\n",
      "Epoch 18/100\n",
      "131/131 [==============================] - 14s 104ms/step - loss: 0.1531 - accuracy: 0.9394 - precision: 0.9459 - recall: 0.9338 - val_loss: 0.1536 - val_accuracy: 0.9396 - val_precision: 0.9453 - val_recall: 0.9343\n",
      "Epoch 19/100\n",
      "131/131 [==============================] - 14s 105ms/step - loss: 0.1479 - accuracy: 0.9419 - precision: 0.9476 - recall: 0.9367 - val_loss: 0.1494 - val_accuracy: 0.9417 - val_precision: 0.9470 - val_recall: 0.9368\n",
      "Epoch 20/100\n",
      "131/131 [==============================] - 14s 107ms/step - loss: 0.1426 - accuracy: 0.9441 - precision: 0.9493 - recall: 0.9394 - val_loss: 0.1454 - val_accuracy: 0.9432 - val_precision: 0.9483 - val_recall: 0.9385\n",
      "Epoch 21/100\n",
      "131/131 [==============================] - 14s 107ms/step - loss: 0.1369 - accuracy: 0.9467 - precision: 0.9514 - recall: 0.9422 - val_loss: 0.1396 - val_accuracy: 0.9454 - val_precision: 0.9500 - val_recall: 0.9412\n",
      "Epoch 22/100\n",
      "131/131 [==============================] - 14s 105ms/step - loss: 0.1323 - accuracy: 0.9486 - precision: 0.9530 - recall: 0.9445 - val_loss: 0.1349 - val_accuracy: 0.9481 - val_precision: 0.9525 - val_recall: 0.9441\n",
      "Epoch 23/100\n",
      "131/131 [==============================] - 14s 105ms/step - loss: 0.1276 - accuracy: 0.9506 - precision: 0.9547 - recall: 0.9469 - val_loss: 0.1314 - val_accuracy: 0.9491 - val_precision: 0.9528 - val_recall: 0.9453\n",
      "Epoch 24/100\n",
      "131/131 [==============================] - 14s 105ms/step - loss: 0.1229 - accuracy: 0.9527 - precision: 0.9563 - recall: 0.9492 - val_loss: 0.1247 - val_accuracy: 0.9524 - val_precision: 0.9561 - val_recall: 0.9490\n",
      "Epoch 25/100\n",
      "131/131 [==============================] - 14s 104ms/step - loss: 0.1158 - accuracy: 0.9559 - precision: 0.9591 - recall: 0.9528 - val_loss: 0.1204 - val_accuracy: 0.9533 - val_precision: 0.9563 - val_recall: 0.9501\n",
      "Epoch 26/100\n",
      "131/131 [==============================] - 14s 104ms/step - loss: 0.1116 - accuracy: 0.9575 - precision: 0.9603 - recall: 0.9547 - val_loss: 0.1175 - val_accuracy: 0.9549 - val_precision: 0.9577 - val_recall: 0.9522\n",
      "Epoch 27/100\n",
      "131/131 [==============================] - 14s 104ms/step - loss: 0.1055 - accuracy: 0.9602 - precision: 0.9627 - recall: 0.9578 - val_loss: 0.1113 - val_accuracy: 0.9577 - val_precision: 0.9601 - val_recall: 0.9552\n",
      "Epoch 28/100\n",
      "131/131 [==============================] - 14s 104ms/step - loss: 0.1004 - accuracy: 0.9624 - precision: 0.9646 - recall: 0.9602 - val_loss: 0.1066 - val_accuracy: 0.9599 - val_precision: 0.9621 - val_recall: 0.9580\n",
      "Epoch 29/100\n",
      "131/131 [==============================] - 14s 105ms/step - loss: 0.0957 - accuracy: 0.9643 - precision: 0.9662 - recall: 0.9624 - val_loss: 0.1025 - val_accuracy: 0.9612 - val_precision: 0.9631 - val_recall: 0.9592\n",
      "Epoch 30/100\n",
      "131/131 [==============================] - 14s 104ms/step - loss: 0.0904 - accuracy: 0.9664 - precision: 0.9682 - recall: 0.9646 - val_loss: 0.0987 - val_accuracy: 0.9626 - val_precision: 0.9643 - val_recall: 0.9609\n",
      "Epoch 31/100\n",
      "131/131 [==============================] - 14s 107ms/step - loss: 0.0867 - accuracy: 0.9678 - precision: 0.9694 - recall: 0.9662 - val_loss: 0.0930 - val_accuracy: 0.9651 - val_precision: 0.9667 - val_recall: 0.9637\n",
      "Epoch 32/100\n",
      "131/131 [==============================] - 14s 104ms/step - loss: 0.0816 - accuracy: 0.9698 - precision: 0.9713 - recall: 0.9683 - val_loss: 0.0888 - val_accuracy: 0.9668 - val_precision: 0.9683 - val_recall: 0.9654\n",
      "Epoch 33/100\n",
      "131/131 [==============================] - 14s 104ms/step - loss: 0.0776 - accuracy: 0.9714 - precision: 0.9728 - recall: 0.9699 - val_loss: 0.0980 - val_accuracy: 0.9632 - val_precision: 0.9655 - val_recall: 0.9610\n",
      "Epoch 34/100\n",
      "131/131 [==============================] - 14s 104ms/step - loss: 0.0791 - accuracy: 0.9703 - precision: 0.9718 - recall: 0.9688 - val_loss: 0.0801 - val_accuracy: 0.9702 - val_precision: 0.9719 - val_recall: 0.9684\n",
      "Epoch 35/100\n",
      "131/131 [==============================] - 14s 106ms/step - loss: 0.0673 - accuracy: 0.9754 - precision: 0.9767 - recall: 0.9741 - val_loss: 0.0747 - val_accuracy: 0.9724 - val_precision: 0.9736 - val_recall: 0.9713\n",
      "Epoch 36/100\n",
      "131/131 [==============================] - 14s 106ms/step - loss: 0.0678 - accuracy: 0.9749 - precision: 0.9762 - recall: 0.9736 - val_loss: 0.0719 - val_accuracy: 0.9732 - val_precision: 0.9750 - val_recall: 0.9716\n"
     ]
    },
    {
     "name": "stdout",
     "output_type": "stream",
     "text": [
      "Epoch 37/100\n",
      "131/131 [==============================] - 14s 106ms/step - loss: 0.0611 - accuracy: 0.9773 - precision: 0.9786 - recall: 0.9761 - val_loss: 0.0686 - val_accuracy: 0.9744 - val_precision: 0.9756 - val_recall: 0.9734\n",
      "Epoch 38/100\n",
      "131/131 [==============================] - 14s 106ms/step - loss: 0.0575 - accuracy: 0.9788 - precision: 0.9800 - recall: 0.9777 - val_loss: 0.0677 - val_accuracy: 0.9749 - val_precision: 0.9760 - val_recall: 0.9737\n",
      "Epoch 39/100\n",
      "131/131 [==============================] - 14s 104ms/step - loss: 0.0568 - accuracy: 0.9787 - precision: 0.9800 - recall: 0.9777 - val_loss: 0.0665 - val_accuracy: 0.9748 - val_precision: 0.9762 - val_recall: 0.9735\n",
      "Epoch 40/100\n",
      "131/131 [==============================] - 14s 103ms/step - loss: 0.0546 - accuracy: 0.9796 - precision: 0.9809 - recall: 0.9785 - val_loss: 0.0616 - val_accuracy: 0.9771 - val_precision: 0.9784 - val_recall: 0.9760\n",
      "Epoch 41/100\n",
      "131/131 [==============================] - 14s 104ms/step - loss: 0.0522 - accuracy: 0.9804 - precision: 0.9815 - recall: 0.9794 - val_loss: 0.0677 - val_accuracy: 0.9744 - val_precision: 0.9755 - val_recall: 0.9732\n",
      "Epoch 42/100\n",
      "131/131 [==============================] - 14s 105ms/step - loss: 0.0535 - accuracy: 0.9798 - precision: 0.9810 - recall: 0.9788 - val_loss: 0.0593 - val_accuracy: 0.9776 - val_precision: 0.9787 - val_recall: 0.9766\n",
      "Epoch 43/100\n",
      "131/131 [==============================] - 14s 105ms/step - loss: 0.0444 - accuracy: 0.9834 - precision: 0.9843 - recall: 0.9825 - val_loss: 0.0513 - val_accuracy: 0.9811 - val_precision: 0.9819 - val_recall: 0.9803\n",
      "Epoch 44/100\n",
      "131/131 [==============================] - 14s 104ms/step - loss: 0.0404 - accuracy: 0.9848 - precision: 0.9857 - recall: 0.9841 - val_loss: 0.0512 - val_accuracy: 0.9811 - val_precision: 0.9820 - val_recall: 0.9801\n",
      "Epoch 45/100\n",
      "131/131 [==============================] - 14s 105ms/step - loss: 0.0410 - accuracy: 0.9846 - precision: 0.9854 - recall: 0.9838 - val_loss: 0.0544 - val_accuracy: 0.9795 - val_precision: 0.9806 - val_recall: 0.9785\n",
      "Epoch 46/100\n",
      "131/131 [==============================] - 14s 104ms/step - loss: 0.0436 - accuracy: 0.9835 - precision: 0.9843 - recall: 0.9827 - val_loss: 0.0535 - val_accuracy: 0.9797 - val_precision: 0.9806 - val_recall: 0.9789\n",
      "Epoch 47/100\n",
      "131/131 [==============================] - 14s 106ms/step - loss: 0.0399 - accuracy: 0.9849 - precision: 0.9856 - recall: 0.9842 - val_loss: 0.0474 - val_accuracy: 0.9823 - val_precision: 0.9832 - val_recall: 0.9815\n",
      "Epoch 48/100\n",
      "131/131 [==============================] - 14s 105ms/step - loss: 0.0341 - accuracy: 0.9872 - precision: 0.9878 - recall: 0.9866 - val_loss: 0.0453 - val_accuracy: 0.9831 - val_precision: 0.9838 - val_recall: 0.9825\n",
      "Epoch 49/100\n",
      "131/131 [==============================] - 14s 105ms/step - loss: 0.0317 - accuracy: 0.9881 - precision: 0.9886 - recall: 0.9876 - val_loss: 0.0442 - val_accuracy: 0.9834 - val_precision: 0.9840 - val_recall: 0.9828\n",
      "Epoch 50/100\n",
      "131/131 [==============================] - 14s 105ms/step - loss: 0.0310 - accuracy: 0.9884 - precision: 0.9888 - recall: 0.9879 - val_loss: 0.0441 - val_accuracy: 0.9834 - val_precision: 0.9841 - val_recall: 0.9827\n",
      "Epoch 51/100\n",
      "131/131 [==============================] - 14s 105ms/step - loss: 0.0341 - accuracy: 0.9871 - precision: 0.9876 - recall: 0.9866 - val_loss: 0.0504 - val_accuracy: 0.9809 - val_precision: 0.9817 - val_recall: 0.9802\n",
      "Epoch 52/100\n",
      "131/131 [==============================] - 14s 106ms/step - loss: 0.0358 - accuracy: 0.9865 - precision: 0.9870 - recall: 0.9860 - val_loss: 0.0459 - val_accuracy: 0.9831 - val_precision: 0.9838 - val_recall: 0.9825\n",
      "Epoch 53/100\n",
      "131/131 [==============================] - 14s 105ms/step - loss: 0.0293 - accuracy: 0.9891 - precision: 0.9895 - recall: 0.9887 - val_loss: 0.0403 - val_accuracy: 0.9853 - val_precision: 0.9859 - val_recall: 0.9848\n",
      "Epoch 54/100\n",
      "131/131 [==============================] - 14s 104ms/step - loss: 0.0250 - accuracy: 0.9906 - precision: 0.9909 - recall: 0.9903 - val_loss: 0.0385 - val_accuracy: 0.9859 - val_precision: 0.9863 - val_recall: 0.9854\n",
      "Epoch 55/100\n",
      "131/131 [==============================] - 14s 105ms/step - loss: 0.0240 - accuracy: 0.9909 - precision: 0.9912 - recall: 0.9906 - val_loss: 0.0382 - val_accuracy: 0.9860 - val_precision: 0.9864 - val_recall: 0.9857\n",
      "Epoch 56/100\n",
      "131/131 [==============================] - 14s 104ms/step - loss: 0.0234 - accuracy: 0.9911 - precision: 0.9914 - recall: 0.9908 - val_loss: 0.0379 - val_accuracy: 0.9859 - val_precision: 0.9863 - val_recall: 0.9855\n",
      "Epoch 57/100\n",
      "131/131 [==============================] - 14s 104ms/step - loss: 0.0242 - accuracy: 0.9908 - precision: 0.9911 - recall: 0.9906 - val_loss: 0.0387 - val_accuracy: 0.9861 - val_precision: 0.9865 - val_recall: 0.9858\n",
      "Epoch 58/100\n",
      "131/131 [==============================] - 14s 103ms/step - loss: 0.0260 - accuracy: 0.9901 - precision: 0.9904 - recall: 0.9898 - val_loss: 0.0454 - val_accuracy: 0.9834 - val_precision: 0.9838 - val_recall: 0.9830\n",
      "Epoch 59/100\n",
      "131/131 [==============================] - 14s 104ms/step - loss: 0.0451 - accuracy: 0.9830 - precision: 0.9836 - recall: 0.9825 - val_loss: 0.0623 - val_accuracy: 0.9767 - val_precision: 0.9774 - val_recall: 0.9759\n",
      "Epoch 60/100\n",
      "131/131 [==============================] - 14s 104ms/step - loss: 0.0288 - accuracy: 0.9890 - precision: 0.9894 - recall: 0.9887 - val_loss: 0.0360 - val_accuracy: 0.9867 - val_precision: 0.9871 - val_recall: 0.9863\n",
      "Epoch 61/100\n",
      "131/131 [==============================] - 14s 103ms/step - loss: 0.0195 - accuracy: 0.9924 - precision: 0.9926 - recall: 0.9922 - val_loss: 0.0339 - val_accuracy: 0.9877 - val_precision: 0.9880 - val_recall: 0.9874\n",
      "Epoch 62/100\n",
      "131/131 [==============================] - 13s 103ms/step - loss: 0.0180 - accuracy: 0.9929 - precision: 0.9930 - recall: 0.9927 - val_loss: 0.0323 - val_accuracy: 0.9882 - val_precision: 0.9884 - val_recall: 0.9879\n",
      "Epoch 63/100\n",
      "131/131 [==============================] - 14s 104ms/step - loss: 0.0171 - accuracy: 0.9931 - precision: 0.9933 - recall: 0.9930 - val_loss: 0.0335 - val_accuracy: 0.9879 - val_precision: 0.9882 - val_recall: 0.9876\n",
      "Epoch 64/100\n",
      "131/131 [==============================] - 14s 103ms/step - loss: 0.0169 - accuracy: 0.9931 - precision: 0.9933 - recall: 0.9930 - val_loss: 0.0331 - val_accuracy: 0.9881 - val_precision: 0.9884 - val_recall: 0.9879\n",
      "Epoch 65/100\n",
      "131/131 [==============================] - 14s 103ms/step - loss: 0.0170 - accuracy: 0.9932 - precision: 0.9933 - recall: 0.9930 - val_loss: 0.0349 - val_accuracy: 0.9877 - val_precision: 0.9879 - val_recall: 0.9875\n",
      "Epoch 66/100\n",
      "131/131 [==============================] - 14s 103ms/step - loss: 0.0178 - accuracy: 0.9929 - precision: 0.9930 - recall: 0.9928 - val_loss: 0.0358 - val_accuracy: 0.9873 - val_precision: 0.9876 - val_recall: 0.9871\n",
      "Epoch 67/100\n",
      "131/131 [==============================] - 13s 102ms/step - loss: 0.0377 - accuracy: 0.9857 - precision: 0.9861 - recall: 0.9854 - val_loss: 0.0620 - val_accuracy: 0.9767 - val_precision: 0.9776 - val_recall: 0.9761\n",
      "Epoch 68/100\n",
      "131/131 [==============================] - 14s 103ms/step - loss: 0.0308 - accuracy: 0.9882 - precision: 0.9886 - recall: 0.9879 - val_loss: 0.0391 - val_accuracy: 0.9857 - val_precision: 0.9860 - val_recall: 0.9853\n",
      "Epoch 69/100\n",
      "131/131 [==============================] - 14s 103ms/step - loss: 0.0184 - accuracy: 0.9928 - precision: 0.9929 - recall: 0.9927 - val_loss: 0.0334 - val_accuracy: 0.9882 - val_precision: 0.9885 - val_recall: 0.9880\n",
      "Epoch 70/100\n",
      "131/131 [==============================] - 14s 103ms/step - loss: 0.0155 - accuracy: 0.9936 - precision: 0.9938 - recall: 0.9935 - val_loss: 0.0320 - val_accuracy: 0.9884 - val_precision: 0.9886 - val_recall: 0.9882\n",
      "Epoch 71/100\n",
      "131/131 [==============================] - 13s 103ms/step - loss: 0.0148 - accuracy: 0.9937 - precision: 0.9939 - recall: 0.9936 - val_loss: 0.0317 - val_accuracy: 0.9886 - val_precision: 0.9888 - val_recall: 0.9884\n",
      "Epoch 72/100\n",
      "131/131 [==============================] - 13s 103ms/step - loss: 0.0147 - accuracy: 0.9938 - precision: 0.9939 - recall: 0.9937 - val_loss: 0.0330 - val_accuracy: 0.9883 - val_precision: 0.9885 - val_recall: 0.9881\n"
     ]
    },
    {
     "name": "stdout",
     "output_type": "stream",
     "text": [
      "Epoch 73/100\n",
      "131/131 [==============================] - 14s 104ms/step - loss: 0.0148 - accuracy: 0.9937 - precision: 0.9938 - recall: 0.9936 - val_loss: 0.0336 - val_accuracy: 0.9883 - val_precision: 0.9886 - val_recall: 0.9882\n",
      "Epoch 74/100\n",
      "131/131 [==============================] - 14s 104ms/step - loss: 0.0148 - accuracy: 0.9938 - precision: 0.9939 - recall: 0.9937 - val_loss: 0.0328 - val_accuracy: 0.9885 - val_precision: 0.9887 - val_recall: 0.9884\n",
      "Epoch 75/100\n",
      "131/131 [==============================] - 14s 103ms/step - loss: 0.0148 - accuracy: 0.9938 - precision: 0.9939 - recall: 0.9937 - val_loss: 0.0330 - val_accuracy: 0.9884 - val_precision: 0.9886 - val_recall: 0.9883\n",
      "Epoch 76/100\n",
      "131/131 [==============================] - 14s 104ms/step - loss: 0.0197 - accuracy: 0.9921 - precision: 0.9922 - recall: 0.9920 - val_loss: 0.0523 - val_accuracy: 0.9819 - val_precision: 0.9822 - val_recall: 0.9816\n",
      "Epoch 77/100\n",
      "131/131 [==============================] - 14s 103ms/step - loss: 0.0393 - accuracy: 0.9851 - precision: 0.9855 - recall: 0.9848 - val_loss: 0.0549 - val_accuracy: 0.9797 - val_precision: 0.9803 - val_recall: 0.9792\n",
      "Epoch 78/100\n",
      "131/131 [==============================] - 13s 103ms/step - loss: 0.0261 - accuracy: 0.9900 - precision: 0.9903 - recall: 0.9897 - val_loss: 0.0378 - val_accuracy: 0.9865 - val_precision: 0.9868 - val_recall: 0.9864\n",
      "Epoch 79/100\n",
      "131/131 [==============================] - 14s 104ms/step - loss: 0.0162 - accuracy: 0.9934 - precision: 0.9936 - recall: 0.9933 - val_loss: 0.0322 - val_accuracy: 0.9887 - val_precision: 0.9889 - val_recall: 0.9886\n",
      "Epoch 80/100\n",
      "131/131 [==============================] - 14s 104ms/step - loss: 0.0141 - accuracy: 0.9939 - precision: 0.9940 - recall: 0.9938 - val_loss: 0.0318 - val_accuracy: 0.9889 - val_precision: 0.9891 - val_recall: 0.9888\n",
      "Epoch 81/100\n",
      "131/131 [==============================] - 14s 105ms/step - loss: 0.0134 - accuracy: 0.9942 - precision: 0.9942 - recall: 0.9941 - val_loss: 0.0315 - val_accuracy: 0.9888 - val_precision: 0.9890 - val_recall: 0.9887\n",
      "Epoch 82/100\n",
      "131/131 [==============================] - 14s 103ms/step - loss: 0.0132 - accuracy: 0.9941 - precision: 0.9942 - recall: 0.9941 - val_loss: 0.0317 - val_accuracy: 0.9890 - val_precision: 0.9892 - val_recall: 0.9889\n",
      "Epoch 83/100\n",
      "131/131 [==============================] - 14s 104ms/step - loss: 0.0130 - accuracy: 0.9941 - precision: 0.9942 - recall: 0.9941 - val_loss: 0.0313 - val_accuracy: 0.9888 - val_precision: 0.9890 - val_recall: 0.9887\n",
      "Epoch 84/100\n",
      "131/131 [==============================] - 14s 104ms/step - loss: 0.0129 - accuracy: 0.9942 - precision: 0.9943 - recall: 0.9941 - val_loss: 0.0315 - val_accuracy: 0.9891 - val_precision: 0.9892 - val_recall: 0.9889\n",
      "Epoch 85/100\n",
      "131/131 [==============================] - 14s 103ms/step - loss: 0.0129 - accuracy: 0.9941 - precision: 0.9942 - recall: 0.9941 - val_loss: 0.0326 - val_accuracy: 0.9882 - val_precision: 0.9884 - val_recall: 0.9881\n",
      "Epoch 86/100\n",
      "131/131 [==============================] - 13s 103ms/step - loss: 0.0132 - accuracy: 0.9941 - precision: 0.9942 - recall: 0.9941 - val_loss: 0.0324 - val_accuracy: 0.9891 - val_precision: 0.9893 - val_recall: 0.9890\n",
      "Epoch 87/100\n",
      "131/131 [==============================] - 14s 105ms/step - loss: 0.0131 - accuracy: 0.9942 - precision: 0.9942 - recall: 0.9941 - val_loss: 0.0334 - val_accuracy: 0.9886 - val_precision: 0.9888 - val_recall: 0.9885\n",
      "Epoch 88/100\n",
      "131/131 [==============================] - 13s 103ms/step - loss: 0.0191 - accuracy: 0.9923 - precision: 0.9924 - recall: 0.9921 - val_loss: 0.0674 - val_accuracy: 0.9773 - val_precision: 0.9776 - val_recall: 0.9769\n",
      "Epoch 89/100\n",
      "131/131 [==============================] - 13s 103ms/step - loss: 0.0543 - accuracy: 0.9799 - precision: 0.9805 - recall: 0.9794 - val_loss: 0.0472 - val_accuracy: 0.9828 - val_precision: 0.9833 - val_recall: 0.9825\n",
      "Epoch 90/100\n",
      "131/131 [==============================] - 14s 103ms/step - loss: 0.0196 - accuracy: 0.9923 - precision: 0.9925 - recall: 0.9921 - val_loss: 0.0335 - val_accuracy: 0.9881 - val_precision: 0.9883 - val_recall: 0.9879\n",
      "Epoch 91/100\n",
      "131/131 [==============================] - 13s 103ms/step - loss: 0.0139 - accuracy: 0.9941 - precision: 0.9942 - recall: 0.9940 - val_loss: 0.0313 - val_accuracy: 0.9887 - val_precision: 0.9889 - val_recall: 0.9886\n",
      "Epoch 92/100\n",
      "131/131 [==============================] - 13s 103ms/step - loss: 0.0129 - accuracy: 0.9942 - precision: 0.9943 - recall: 0.9942 - val_loss: 0.0314 - val_accuracy: 0.9891 - val_precision: 0.9892 - val_recall: 0.9890\n",
      "Epoch 93/100\n",
      "131/131 [==============================] - 14s 103ms/step - loss: 0.0123 - accuracy: 0.9943 - precision: 0.9944 - recall: 0.9943 - val_loss: 0.0311 - val_accuracy: 0.9891 - val_precision: 0.9892 - val_recall: 0.9890\n",
      "Epoch 94/100\n",
      "131/131 [==============================] - 13s 103ms/step - loss: 0.0122 - accuracy: 0.9944 - precision: 0.9944 - recall: 0.9943 - val_loss: 0.0318 - val_accuracy: 0.9893 - val_precision: 0.9894 - val_recall: 0.9892\n",
      "Epoch 95/100\n",
      "131/131 [==============================] - 13s 103ms/step - loss: 0.0122 - accuracy: 0.9943 - precision: 0.9944 - recall: 0.9943 - val_loss: 0.0320 - val_accuracy: 0.9893 - val_precision: 0.9895 - val_recall: 0.9892\n",
      "Epoch 96/100\n",
      "131/131 [==============================] - 13s 103ms/step - loss: 0.0123 - accuracy: 0.9943 - precision: 0.9944 - recall: 0.9942 - val_loss: 0.0323 - val_accuracy: 0.9891 - val_precision: 0.9892 - val_recall: 0.9890\n",
      "Epoch 97/100\n",
      "131/131 [==============================] - 13s 103ms/step - loss: 0.0125 - accuracy: 0.9943 - precision: 0.9943 - recall: 0.9942 - val_loss: 0.0335 - val_accuracy: 0.9889 - val_precision: 0.9889 - val_recall: 0.9888\n",
      "Epoch 98/100\n",
      "131/131 [==============================] - 14s 104ms/step - loss: 0.0163 - accuracy: 0.9931 - precision: 0.9932 - recall: 0.9930 - val_loss: 0.0418 - val_accuracy: 0.9858 - val_precision: 0.9860 - val_recall: 0.9857\n",
      "Epoch 99/100\n",
      "131/131 [==============================] - 14s 104ms/step - loss: 0.0182 - accuracy: 0.9925 - precision: 0.9926 - recall: 0.9924 - val_loss: 0.0402 - val_accuracy: 0.9864 - val_precision: 0.9866 - val_recall: 0.9862\n",
      "Epoch 100/100\n",
      "131/131 [==============================] - 13s 102ms/step - loss: 0.0193 - accuracy: 0.9921 - precision: 0.9923 - recall: 0.9920 - val_loss: 0.0392 - val_accuracy: 0.9864 - val_precision: 0.9866 - val_recall: 0.9863\n"
     ]
    }
   ],
   "source": [
    "results = model.fit(\n",
    "    [encoder_input_data, decoder_input_data],\n",
    "    decoder_target_data,\n",
    "    batch_size=batch_size,\n",
    "    epochs=epochs,\n",
    "    validation_split=0.2,\n",
    ")"
   ]
  },
  {
   "cell_type": "code",
   "execution_count": 14,
   "id": "2ed411f8",
   "metadata": {},
   "outputs": [
    {
     "data": {
      "image/png": "[encoded data removed]",
      "text/plain": [
       "<Figure size 432x288 with 1 Axes>"
      ]
     },
     "metadata": {
      "needs_background": "light"
     },
     "output_type": "display_data"
    }
   ],
   "source": [
    "history = pd.DataFrame(results.history)\n",
    "\n",
    "fig = plt.figure\n",
    "plt.plot(history['loss'], label=\"training loss\");\n",
    "plt.plot(history['val_loss'], label=\"validation loss\");\n",
    "\n",
    "#plt.title('Layers: ' + str(number_layers) + ' - size: ' + str(layers_size))\n",
    "plt.legend();\n",
    "plt.show()"
   ]
  },
  {
   "cell_type": "code",
   "execution_count": 15,
   "id": "3f6cc8b6",
   "metadata": {},
   "outputs": [
    {
     "data": {
      "image/png": "[encoded data removed]",
      "text/plain": [
       "<Figure size 432x288 with 1 Axes>"
      ]
     },
     "metadata": {
      "needs_background": "light"
     },
     "output_type": "display_data"
    }
   ],
   "source": [
    "history = pd.DataFrame(results.history)\n",
    "\n",
    "fig = plt.figure\n",
    "plt.plot(history['accuracy'], label=\"training accuracy\");\n",
    "plt.plot(history['val_accuracy'], label=\"validation accuracy\");\n",
    "plt.plot(history['precision'], label=\"training prediction\");\n",
    "plt.plot(history['val_precision'], label=\"validation prediction\");\n",
    "plt.plot(history['recall'], label=\"training recall\");\n",
    "plt.plot(history['val_recall'], label=\"validation recall\");\n",
    "\n",
    "\n",
    "#plt.title('Layers: ' + str(number_layers) + ' - size: ' + str(layers_size))\n",
    "plt.legend();\n",
    "plt.show()"
   ]
  },
  {
   "cell_type": "code",
   "execution_count": 16,
   "id": "a07f951e",
   "metadata": {},
   "outputs": [
    {
     "name": "stderr",
     "output_type": "stream",
     "text": [
      "WARNING:absl:Found untraced functions such as lstm_cell_layer_call_fn, lstm_cell_layer_call_and_return_conditional_losses, lstm_cell_1_layer_call_fn, lstm_cell_1_layer_call_and_return_conditional_losses while saving (showing 4 of 4). These functions will not be directly callable after loading.\n"
     ]
    },
    {
     "name": "stdout",
     "output_type": "stream",
     "text": [
      "INFO:tensorflow:Assets written to: model_weights/MODEL_weights_chollet_06_train_without_pen/assets\n"
     ]
    },
    {
     "name": "stderr",
     "output_type": "stream",
     "text": [
      "INFO:tensorflow:Assets written to: model_weights/MODEL_weights_chollet_06_train_without_pen/assets\n"
     ]
    }
   ],
   "source": [
    "# Save model\n",
    "model.save(\"model_weights/MODEL_weights_chollet_06_train_without_pen\")"
   ]
  },
  {
   "cell_type": "markdown",
   "id": "4fb0a1c4",
   "metadata": {},
   "source": [
    "# Test model"
   ]
  },
  {
   "cell_type": "code",
   "execution_count": 17,
   "id": "e2f38594",
   "metadata": {},
   "outputs": [
    {
     "name": "stdout",
     "output_type": "stream",
     "text": [
      "82/82 [==============================] - 2s 27ms/step - loss: 0.0370 - accuracy: 0.9870 - precision: 0.9872 - recall: 0.9868\n"
     ]
    }
   ],
   "source": [
    "model_eval = model.evaluate([encoder_input_data_test, decoder_input_data_test],decoder_target_data_test)"
   ]
  },
  {
   "cell_type": "code",
   "execution_count": 18,
   "id": "36989c90",
   "metadata": {},
   "outputs": [
    {
     "name": "stdout",
     "output_type": "stream",
     "text": [
      "TEST MODEL\n",
      "Loss: 0.03699454292654991 \n",
      "Accuracy: 0.9869808554649353 \n",
      "Precision: 0.9872057437896729 \n",
      "Recall: 0.9868224859237671\n"
     ]
    }
   ],
   "source": [
    "print(\"TEST MODEL\\nLoss:\", model_eval[0], \"\\nAccuracy:\", model_eval[1], \"\\nPrecision:\", model_eval[2], \"\\nRecall:\", model_eval[3])"
   ]
  },
  {
   "cell_type": "markdown",
   "id": "1517d1b4",
   "metadata": {},
   "source": [
    "# PREDICT"
   ]
  },
  {
   "cell_type": "code",
   "execution_count": 19,
   "id": "ecbe9d9c",
   "metadata": {},
   "outputs": [],
   "source": [
    "batch_size = 64  # Batch size for training.\n",
    "epochs = 100  # Number of epochs to train for.\n",
    "latent_dim = 1024  # Latent dimensionality of the encoding space.\n",
    "\n"
   ]
  },
  {
   "cell_type": "code",
   "execution_count": 20,
   "id": "14b69fef",
   "metadata": {},
   "outputs": [],
   "source": [
    "model = keras.models.load_model(\"model_weights/MODEL_weights_chollet_06_train_without_pen\")\n"
   ]
  },
  {
   "cell_type": "code",
   "execution_count": 21,
   "id": "494b698b",
   "metadata": {},
   "outputs": [],
   "source": [
    "# define euclidean distance\n",
    "from math import sqrt\n",
    " \n",
    "# calculate euclidean distance\n",
    "def euclidean_distance(a, b):\n",
    "\treturn sqrt(sum((e1-e2)**2 for e1, e2 in zip(a,b)))\n"
   ]
  },
  {
   "cell_type": "code",
   "execution_count": 22,
   "id": "37fd46ad",
   "metadata": {},
   "outputs": [],
   "source": [
    "encoder_inputs = model.input[0]  # input_1\n",
    "encoder_outputs, state_h_enc, state_c_enc = model.layers[2].output  # lstm_1\n",
    "encoder_states = [state_h_enc, state_c_enc]\n",
    "encoder_model = keras.Model(encoder_inputs, encoder_states)\n",
    "\n",
    "decoder_inputs = model.input[1]  # input_2\n",
    "decoder_state_input_h = keras.Input(shape=(latent_dim,))\n",
    "decoder_state_input_c = keras.Input(shape=(latent_dim,))\n",
    "decoder_states_inputs = [decoder_state_input_h, decoder_state_input_c]\n",
    "decoder_lstm = model.layers[3]\n",
    "decoder_outputs, state_h_dec, state_c_dec = decoder_lstm(\n",
    "    decoder_inputs, initial_state=decoder_states_inputs\n",
    ")\n",
    "decoder_states = [state_h_dec, state_c_dec]\n",
    "decoder_dense = model.layers[4]\n",
    "decoder_outputs = decoder_dense(decoder_outputs)\n",
    "decoder_model = keras.Model(\n",
    "    [decoder_inputs] + decoder_states_inputs, [decoder_outputs] + decoder_states\n",
    ")\n",
    "\n",
    "# Reverse-lookup token index to decode sequences back to\n",
    "# something readable.\n"
   ]
  },
  {
   "cell_type": "code",
   "execution_count": 23,
   "id": "08f7f91a",
   "metadata": {},
   "outputs": [],
   "source": [
    "def decode_sequence(input_seq):\n",
    "    # Encode the input as state vectors.\n",
    "    states_value = encoder_model.predict(input_seq)\n",
    "\n",
    "    # Generate empty target sequence of length 1.\n",
    "    target_seq = np.zeros((1, 1, num_decoder_tokens))\n",
    "    # Populate the first character of target sequence with the start character.\n",
    "    #target_seq[0, 0, target_token_index[\"\\t\"]] = 1.0\n",
    "    \n",
    "    # Sampling loop for a batch of sequences\n",
    "    # (to simplify, here we assume a batch of size 1).\n",
    "    stop_condition = False\n",
    "    decoded_sentence = \"\"\n",
    "    predicted_tokens=[]\n",
    "    i=0\n",
    "    while not stop_condition:\n",
    "        i=i+1\n",
    "        output_tokens, h, c = decoder_model.predict([target_seq] + states_value, verbose=False)\n",
    "\n",
    "        # Sample a token\n",
    "        sampled_token_index = np.argmax(output_tokens[0, -1, :])\n",
    "        predicted_tokens.append(sampled_token_index)\n",
    "        #sampled_char = reverse_target_char_index[sampled_token_index]\n",
    "        #decoded_sentence += sampled_char\n",
    "\n",
    "        # Exit condition: either hit max length\n",
    "        # or find stop character.\n",
    "        #if sampled_char == \"\\n\" or len(decoded_sentence) > max_decoder_seq_length:\n",
    "        if i == target_max_length:\n",
    "            stop_condition = True\n",
    "\n",
    "        # Update the target sequence (of length 1).\n",
    "        target_seq = np.zeros((1, 1, num_decoder_tokens))\n",
    "        target_seq[0, 0, sampled_token_index] = 1.0\n",
    "\n",
    "        # Update states\n",
    "        states_value = [h, c]\n",
    "    #return decoded_sentence\n",
    "    return predicted_tokens"
   ]
  },
  {
   "cell_type": "markdown",
   "id": "86fc4bdb",
   "metadata": {},
   "source": [
    "# PREDICT MOVE PEN\n",
    "### generate encoder_input_data_MOVEPEN, decoder_input_data_MOVEPEN, decoder_target_data_MOVEPEN"
   ]
  },
  {
   "cell_type": "code",
   "execution_count": 24,
   "id": "7aab3e68",
   "metadata": {},
   "outputs": [],
   "source": [
    "audio_features_MOVEPEN = pd.DataFrame(load('features/audio_features_move_pen.npy', allow_pickle=True))\n",
    "audio_features_onehot_MOVEPEN = keras.utils.to_categorical(audio_features_MOVEPEN, num_classes=None, dtype='float32')\n",
    "\n",
    "video_features_MOVEPEN = pd.DataFrame(load('features/video_features_move_pen.npy', allow_pickle=True))\n",
    "video_features_norm_MOVEPEN = normalize(video_features_MOVEPEN)\n",
    "video_features_norm_100_MOVEPEN = video_features_norm_MOVEPEN * 100\n",
    "video_features_norm_100_MOVEPEN = video_features_norm_100_MOVEPEN.round()\n",
    "video_features_onehot_MOVEPEN = keras.utils.to_categorical(video_features_norm_100_MOVEPEN, num_classes=101, dtype='float32')\n",
    "\n",
    "encoder_input_data_MOVEPEN = video_features_onehot_MOVEPEN\n",
    "decoder_input_data_MOVEPEN = audio_features_onehot_MOVEPEN\n",
    "decoder_target_data_MOVEPEN = np.zeros(decoder_input_data_MOVEPEN.shape)\n",
    "for a in range(decoder_input_data_MOVEPEN.shape[0]):\n",
    "    for i in range(decoder_input_data_MOVEPEN.shape[1]-1):\n",
    "        decoder_target_data_MOVEPEN[a][i]=decoder_input_data_MOVEPEN[a][i+1]\n",
    "    decoder_target_data_MOVEPEN[a][decoder_input_data_MOVEPEN.shape[1]-1] = decoder_input_data_MOVEPEN[a][decoder_input_data_MOVEPEN.shape[1]-1]\n",
    "\n",
    "    \n",
    "    \n",
    "# lengths of vectors\n",
    "num_encoder_tokens = encoder_input_data.shape[2]\n",
    "num_decoder_tokens = decoder_input_data.shape[2]\n",
    "target_max_length = decoder_input_data.shape[1]"
   ]
  },
  {
   "cell_type": "code",
   "execution_count": 25,
   "id": "6c433724",
   "metadata": {},
   "outputs": [
    {
     "name": "stdout",
     "output_type": "stream",
     "text": [
      "1/1 [==============================] - 0s 137ms/step\n",
      "-SAMPLE N. 0\n",
      "Predicted audio features: [0, 0, 0, 0, 0, 0, 0, 0, 0, 0, 0, 0, 6, 11, 11, 0, 0, 0, 10, 0, 12, 0, 0, 4, 4, 0, 0, 0, 10, 0, 12, 0, 4, 4, 4, 4, 0, 7, 4, 4, 0, 0, 6, 0, 0, 0, 0, 0, 0, 0, 0, 0, 0, 7, 0, 0, 0, 9, 9, 0, 0, 0, 4, 4, 4, 4, 0, 0, 0, 0, 0, 0, 0, 0, 0, 0, 0, 0, 0, 0, 0, 0, 0, 0, 0, 0, 0, 0, 0, 0, 0, 0, 0, 0, 0, 0, 0, 0, 0, 0, 0, 0, 0, 0, 0, 0, 0, 0, 0, 0, 0, 0, 0, 0, 0, 0, 0, 0, 0, 0, 0, 0, 0, 0, 0, 0, 0, 0, 0, 0, 0, 0, 0, 0, 0, 0, 0, 0, 0, 0, 0, 0, 0, 0, 0, 0, 0, 0, 0, 0]\n",
      "---Target audio features: [0, 0, 17, 0, 0, 0, 8, 8, 0, 25, 5, 5, 0, 4, 4, 6, 11, 0, 5, 4, 4, 23, 0, 0, 5, 0, 0, 9, 9, 0, 0, 4, 0, 6, 0, 8, 0, 4, 4, 6, 11, 5, 4, 4, 0, 15, 0, 0, 0, 0, 5, 0, 20, 0, 0, 0, 6, 0, 4, 4, 0, 0, 0, 0, 0, 0, 0, 0, 0, 0, 0, 0, 0, 0, 0, 0, 0, 0, 0, 0, 0, 0, 0, 0, 0, 0, 0, 0, 0, 0, 0, 0, 0, 0, 0, 0, 0, 0, 0, 0, 0, 0, 0, 0, 0, 0, 0, 0, 0, 0, 0, 0, 0, 0, 0, 0, 0, 0, 0, 0, 0, 0, 0, 0, 0, 0, 0, 0, 0, 0, 0, 0, 0, 0, 0, 0, 0, 0, 0, 0, 0, 0, 0, 0, 0, 0, 0, 0, 0, 0]\n",
      "Euclidean distance: 58.54912467321779\n",
      "1/1 [==============================] - 0s 11ms/step\n",
      "-SAMPLE N. 1\n",
      "Predicted audio features: [0, 0, 0, 0, 0, 0, 0, 0, 0, 0, 0, 0, 6, 11, 11, 0, 0, 0, 10, 0, 12, 0, 0, 4, 4, 0, 0, 0, 10, 0, 12, 0, 4, 4, 4, 4, 0, 7, 4, 4, 0, 0, 6, 0, 0, 0, 0, 0, 0, 0, 0, 0, 0, 7, 0, 0, 0, 9, 9, 0, 0, 0, 4, 4, 4, 4, 0, 0, 0, 0, 0, 0, 0, 0, 0, 0, 0, 0, 0, 0, 0, 0, 0, 0, 0, 0, 0, 0, 0, 0, 0, 0, 0, 0, 0, 0, 0, 0, 0, 0, 0, 0, 0, 0, 0, 0, 0, 0, 0, 0, 0, 0, 0, 0, 0, 0, 0, 0, 0, 0, 0, 0, 0, 0, 0, 0, 0, 0, 0, 0, 0, 0, 0, 0, 0, 0, 0, 0, 0, 0, 0, 0, 0, 0, 0, 0, 0, 0, 0, 0]\n",
      "---Target audio features: [0, 0, 17, 0, 0, 0, 0, 8, 0, 25, 5, 5, 0, 4, 4, 6, 11, 0, 5, 4, 4, 23, 0, 0, 5, 0, 0, 9, 9, 0, 4, 4, 0, 6, 0, 8, 0, 4, 4, 6, 11, 5, 4, 4, 0, 13, 0, 0, 10, 10, 21, 11, 11, 6, 6, 0, 4, 4, 4, 4, 0, 0, 0, 0, 0, 0, 0, 0, 0, 0, 0, 0, 0, 0, 0, 0, 0, 0, 0, 0, 0, 0, 0, 0, 0, 0, 0, 0, 0, 0, 0, 0, 0, 0, 0, 0, 0, 0, 0, 0, 0, 0, 0, 0, 0, 0, 0, 0, 0, 0, 0, 0, 0, 0, 0, 0, 0, 0, 0, 0, 0, 0, 0, 0, 0, 0, 0, 0, 0, 0, 0, 0, 0, 0, 0, 0, 0, 0, 0, 0, 0, 0, 0, 0, 0, 0, 0, 0, 0, 0]\n",
      "Euclidean distance: 59.983331017875294\n",
      "1/1 [==============================] - 0s 12ms/step\n",
      "-SAMPLE N. 2\n",
      "Predicted audio features: [6, 11, 0, 10, 12, 0, 4, 4, 0, 10, 0, 12, 4, 4, 4, 7, 4, 4, 23, 0, 0, 0, 0, 5, 0, 9, 9, 9, 0, 4, 4, 4, 4, 0, 0, 0, 0, 0, 0, 0, 0, 0, 0, 0, 0, 0, 0, 0, 0, 0, 0, 0, 0, 0, 0, 0, 0, 0, 0, 0, 0, 0, 0, 0, 0, 0, 0, 0, 0, 0, 0, 0, 0, 0, 0, 0, 0, 0, 0, 0, 0, 0, 0, 0, 0, 0, 0, 0, 0, 0, 0, 0, 0, 0, 0, 0, 0, 0, 0, 0, 0, 0, 0, 0, 0, 0, 0, 0, 0, 0, 0, 0, 0, 0, 0, 0, 0, 0, 0, 0, 0, 0, 0, 0, 0, 0, 0, 0, 0, 0, 0, 0, 0, 0, 0, 0, 0, 0, 0, 0, 0, 0, 0, 0, 0, 0, 0, 0, 0, 0]\n",
      "---Target audio features: [0, 0, 17, 0, 0, 0, 0, 8, 0, 25, 25, 5, 0, 0, 4, 4, 6, 11, 5, 4, 4, 23, 0, 0, 0, 5, 9, 9, 9, 0, 4, 4, 0, 0, 0, 16, 0, 23, 23, 0, 0, 4, 4, 0, 0, 0, 0, 0, 0, 0, 0, 0, 0, 0, 0, 0, 0, 0, 0, 0, 0, 0, 0, 0, 0, 0, 0, 0, 0, 0, 0, 0, 0, 0, 0, 0, 0, 0, 0, 0, 0, 0, 0, 0, 0, 0, 0, 0, 0, 0, 0, 0, 0, 0, 0, 0, 0, 0, 0, 0, 0, 0, 0, 0, 0, 0, 0, 0, 0, 0, 0, 0, 0, 0, 0, 0, 0, 0, 0, 0, 0, 0, 0, 0, 0, 0, 0, 0, 0, 0, 0, 0, 0, 0, 0, 0, 0, 0, 0, 0, 0, 0, 0, 0, 0, 0, 0, 0, 0, 0]\n",
      "Euclidean distance: 64.03124237432849\n",
      "1/1 [==============================] - 0s 12ms/step\n",
      "-SAMPLE N. 3\n",
      "Predicted audio features: [0, 0, 0, 0, 0, 0, 0, 0, 6, 11, 11, 0, 10, 0, 12, 0, 4, 4, 0, 10, 0, 12, 12, 4, 4, 4, 7, 4, 4, 23, 0, 0, 0, 0, 0, 5, 0, 0, 9, 9, 0, 0, 4, 4, 4, 4, 0, 0, 0, 0, 0, 0, 0, 0, 0, 0, 0, 0, 0, 0, 0, 0, 0, 0, 0, 0, 0, 0, 0, 0, 0, 0, 0, 0, 0, 0, 0, 0, 0, 0, 0, 0, 0, 0, 0, 0, 0, 0, 0, 0, 0, 0, 0, 0, 0, 0, 0, 0, 0, 0, 0, 0, 0, 0, 0, 0, 0, 0, 0, 0, 0, 0, 0, 0, 0, 0, 0, 0, 0, 0, 0, 0, 0, 0, 0, 0, 0, 0, 0, 0, 0, 0, 0, 0, 0, 0, 0, 0, 0, 0, 0, 0, 0, 0, 0, 0, 0, 0, 0, 0]\n",
      "---Target audio features: [0, 0, 17, 0, 0, 0, 0, 8, 0, 25, 0, 5, 0, 4, 4, 4, 6, 11, 5, 4, 4, 23, 0, 0, 0, 5, 0, 9, 9, 9, 0, 0, 4, 4, 14, 14, 0, 0, 0, 0, 0, 8, 18, 0, 9, 0, 4, 4, 4, 4, 0, 0, 0, 0, 0, 0, 0, 0, 0, 0, 0, 0, 0, 0, 0, 0, 0, 0, 0, 0, 0, 0, 0, 0, 0, 0, 0, 0, 0, 0, 0, 0, 0, 0, 0, 0, 0, 0, 0, 0, 0, 0, 0, 0, 0, 0, 0, 0, 0, 0, 0, 0, 0, 0, 0, 0, 0, 0, 0, 0, 0, 0, 0, 0, 0, 0, 0, 0, 0, 0, 0, 0, 0, 0, 0, 0, 0, 0, 0, 0, 0, 0, 0, 0, 0, 0, 0, 0, 0, 0, 0, 0, 0, 0, 0, 0, 0, 0, 0, 0]\n",
      "Euclidean distance: 50.0199960015992\n",
      "1/1 [==============================] - 0s 12ms/step\n",
      "-SAMPLE N. 4\n",
      "Predicted audio features: [0, 6, 11, 0, 0, 10, 0, 12, 0, 0, 4, 0, 0, 0, 10, 0, 12, 12, 0, 4, 4, 4, 4, 0, 7, 4, 4, 0, 0, 23, 0, 0, 0, 0, 0, 0, 5, 0, 0, 0, 9, 9, 0, 0, 4, 4, 4, 4, 4, 0, 0, 0, 0, 0, 0, 0, 0, 0, 0, 0, 0, 0, 0, 0, 0, 0, 0, 0, 0, 0, 0, 0, 0, 0, 0, 0, 0, 0, 0, 0, 0, 0, 0, 0, 0, 0, 0, 0, 0, 0, 0, 0, 0, 0, 0, 0, 0, 0, 0, 0, 0, 0, 0, 0, 0, 0, 0, 0, 0, 0, 0, 0, 0, 0, 0, 0, 0, 0, 0, 0, 0, 0, 0, 0, 0, 0, 0, 0, 0, 0, 0, 0, 0, 0, 0, 0, 0, 0, 0, 0, 0, 0, 0, 0, 0, 0, 0, 0, 0, 0]\n",
      "---Target audio features: [0, 0, 18, 13, 13, 0, 8, 0, 0, 0, 0, 6, 0, 0, 0, 0, 7, 0, 0, 6, 5, 5, 0, 4, 4, 0, 6, 11, 5, 0, 4, 23, 0, 0, 0, 0, 5, 0, 0, 9, 9, 0, 0, 4, 4, 4, 4, 0, 0, 0, 0, 0, 0, 0, 0, 0, 0, 0, 0, 0, 0, 0, 0, 0, 0, 0, 0, 0, 0, 0, 0, 0, 0, 0, 0, 0, 0, 0, 0, 0, 0, 0, 0, 0, 0, 0, 0, 0, 0, 0, 0, 0, 0, 0, 0, 0, 0, 0, 0, 0, 0, 0, 0, 0, 0, 0, 0, 0, 0, 0, 0, 0, 0, 0, 0, 0, 0, 0, 0, 0, 0, 0, 0, 0, 0, 0, 0, 0, 0, 0, 0, 0, 0, 0, 0, 0, 0, 0, 0, 0, 0, 0, 0, 0, 0, 0, 0, 0, 0, 0]\n",
      "Euclidean distance: 50.48762224545735\n",
      "1/1 [==============================] - 0s 12ms/step\n",
      "-SAMPLE N. 5\n",
      "Predicted audio features: [0, 0, 0, 0, 0, 0, 0, 0, 0, 0, 0, 0, 0, 0, 0, 0, 0, 6, 11, 11, 0, 0, 0, 10, 0, 12, 0, 0, 4, 4, 0, 0, 0, 10, 12, 12, 0, 4, 4, 4, 0, 0, 7, 0, 4, 0, 0, 6, 0, 0, 0, 0, 0, 0, 0, 0, 0, 7, 0, 0, 0, 0, 9, 0, 0, 0, 4, 4, 4, 0, 0, 0, 0, 0, 0, 0, 0, 0, 0, 0, 0, 0, 0, 0, 0, 0, 0, 0, 0, 0, 0, 0, 0, 0, 0, 0, 0, 0, 0, 0, 0, 0, 0, 0, 0, 0, 0, 0, 0, 0, 0, 0, 0, 0, 0, 0, 0, 0, 0, 0, 0, 0, 0, 0, 0, 0, 0, 0, 0, 0, 0, 0, 0, 0, 0, 0, 0, 0, 0, 0, 0, 0, 0, 0, 0, 0, 0, 0, 0, 0]\n",
      "---Target audio features: [0, 0, 0, 0, 0, 0, 17, 0, 0, 0, 0, 8, 0, 0, 6, 11, 5, 0, 4, 4, 6, 11, 5, 4, 4, 0, 23, 0, 0, 5, 0, 0, 9, 0, 0, 0, 4, 4, 6, 6, 8, 4, 4, 4, 6, 11, 5, 4, 4, 0, 15, 0, 0, 0, 0, 0, 5, 0, 20, 0, 0, 0, 0, 6, 0, 0, 4, 4, 0, 0, 0, 0, 0, 0, 0, 0, 0, 0, 0, 0, 0, 0, 0, 0, 0, 0, 0, 0, 0, 0, 0, 0, 0, 0, 0, 0, 0, 0, 0, 0, 0, 0, 0, 0, 0, 0, 0, 0, 0, 0, 0, 0, 0, 0, 0, 0, 0, 0, 0, 0, 0, 0, 0, 0, 0, 0, 0, 0, 0, 0, 0, 0, 0, 0, 0, 0, 0, 0, 0, 0, 0, 0, 0, 0, 0, 0, 0, 0, 0, 0]\n",
      "Euclidean distance: 56.50663677834667\n",
      "1/1 [==============================] - 0s 12ms/step\n",
      "-SAMPLE N. 6\n",
      "Predicted audio features: [0, 0, 0, 0, 6, 11, 0, 0, 0, 0, 0, 10, 0, 0, 12, 0, 0, 4, 4, 0, 0, 0, 0, 10, 0, 12, 12, 0, 4, 4, 4, 4, 0, 7, 0, 4, 0, 0, 23, 0, 0, 0, 0, 0, 0, 0, 0, 0, 5, 0, 0, 9, 9, 9, 0, 0, 0, 4, 4, 4, 4, 4, 0, 0, 0, 0, 0, 0, 0, 0, 0, 0, 0, 0, 0, 0, 0, 0, 0, 0, 0, 0, 0, 0, 0, 0, 0, 0, 0, 0, 0, 0, 0, 0, 0, 0, 0, 0, 0, 0, 0, 0, 0, 0, 0, 0, 0, 0, 0, 0, 0, 0, 0, 0, 0, 0, 0, 0, 0, 0, 0, 0, 0, 0, 0, 0, 0, 0, 0, 0, 0, 0, 0, 0, 0, 0, 0, 0, 0, 0, 0, 0, 0, 0, 0, 0, 0, 0, 0, 0]\n",
      "---Target audio features: [0, 0, 17, 0, 0, 0, 0, 8, 0, 0, 25, 5, 5, 0, 4, 4, 6, 11, 5, 4, 4, 23, 0, 0, 0, 5, 0, 9, 9, 0, 0, 4, 4, 6, 6, 8, 0, 4, 4, 6, 11, 11, 5, 4, 4, 13, 13, 0, 0, 0, 0, 10, 21, 21, 11, 11, 6, 6, 0, 4, 4, 4, 4, 0, 0, 0, 0, 0, 0, 0, 0, 0, 0, 0, 0, 0, 0, 0, 0, 0, 0, 0, 0, 0, 0, 0, 0, 0, 0, 0, 0, 0, 0, 0, 0, 0, 0, 0, 0, 0, 0, 0, 0, 0, 0, 0, 0, 0, 0, 0, 0, 0, 0, 0, 0, 0, 0, 0, 0, 0, 0, 0, 0, 0, 0, 0, 0, 0, 0, 0, 0, 0, 0, 0, 0, 0, 0, 0, 0, 0, 0, 0, 0, 0, 0, 0, 0, 0, 0, 0]\n",
      "Euclidean distance: 63.953107821277925\n",
      "1/1 [==============================] - 0s 12ms/step\n",
      "-SAMPLE N. 7\n",
      "Predicted audio features: [0, 0, 0, 0, 0, 0, 0, 0, 0, 0, 0, 0, 6, 11, 0, 0, 10, 12, 0, 0, 4, 0, 0, 10, 0, 12, 0, 4, 4, 4, 7, 4, 4, 23, 23, 0, 0, 0, 0, 5, 0, 0, 9, 9, 0, 0, 4, 4, 4, 4, 4, 0, 0, 0, 0, 0, 0, 0, 0, 0, 0, 0, 0, 0, 0, 0, 0, 0, 0, 0, 0, 0, 0, 0, 0, 0, 0, 0, 0, 0, 0, 0, 0, 0, 0, 0, 0, 0, 0, 0, 0, 0, 0, 0, 0, 0, 0, 0, 0, 0, 0, 0, 0, 0, 0, 0, 0, 0, 0, 0, 0, 0, 0, 0, 0, 0, 0, 0, 0, 0, 0, 0, 0, 0, 0, 0, 0, 0, 0, 0, 0, 0, 0, 0, 0, 0, 0, 0, 0, 0, 0, 0, 0, 0, 0, 0, 0, 0, 0, 0]\n",
      "---Target audio features: [0, 0, 17, 0, 0, 0, 0, 8, 0, 0, 0, 5, 5, 0, 4, 4, 6, 11, 5, 4, 4, 0, 23, 0, 0, 0, 5, 0, 9, 0, 0, 0, 0, 0, 9, 0, 0, 0, 0, 0, 0, 8, 0, 0, 0, 24, 0, 0, 0, 4, 4, 0, 0, 0, 0, 0, 0, 0, 0, 0, 0, 0, 0, 0, 0, 0, 0, 0, 0, 0, 0, 0, 0, 0, 0, 0, 0, 0, 0, 0, 0, 0, 0, 0, 0, 0, 0, 0, 0, 0, 0, 0, 0, 0, 0, 0, 0, 0, 0, 0, 0, 0, 0, 0, 0, 0, 0, 0, 0, 0, 0, 0, 0, 0, 0, 0, 0, 0, 0, 0, 0, 0, 0, 0, 0, 0, 0, 0, 0, 0, 0, 0, 0, 0, 0, 0, 0, 0, 0, 0, 0, 0, 0, 0, 0, 0, 0, 0, 0, 0]\n",
      "Euclidean distance: 55.910642993977454\n"
     ]
    },
    {
     "name": "stdout",
     "output_type": "stream",
     "text": [
      "1/1 [==============================] - 0s 12ms/step\n",
      "-SAMPLE N. 8\n",
      "Predicted audio features: [0, 0, 0, 0, 0, 0, 0, 0, 0, 0, 0, 0, 0, 0, 0, 0, 0, 0, 6, 11, 11, 0, 0, 0, 10, 0, 12, 0, 0, 4, 4, 0, 0, 0, 10, 12, 12, 0, 4, 4, 4, 0, 0, 7, 0, 4, 0, 0, 6, 0, 0, 0, 0, 0, 0, 0, 0, 0, 7, 0, 0, 0, 0, 9, 0, 0, 0, 4, 4, 4, 0, 0, 0, 0, 0, 0, 0, 0, 0, 0, 0, 0, 0, 0, 0, 0, 0, 0, 0, 0, 0, 0, 0, 0, 0, 0, 0, 0, 0, 0, 0, 0, 0, 0, 0, 0, 0, 0, 0, 0, 0, 0, 0, 0, 0, 0, 0, 0, 0, 0, 0, 0, 0, 0, 0, 0, 0, 0, 0, 0, 0, 0, 0, 0, 0, 0, 0, 0, 0, 0, 0, 0, 0, 0, 0, 0, 0, 0, 0, 0]\n",
      "---Target audio features: [0, 0, 17, 0, 0, 0, 0, 8, 0, 0, 25, 5, 5, 0, 4, 4, 6, 11, 5, 4, 4, 23, 0, 0, 0, 5, 0, 0, 9, 9, 0, 0, 0, 4, 4, 0, 14, 14, 0, 0, 0, 0, 0, 0, 0, 0, 0, 8, 18, 0, 9, 9, 0, 4, 4, 4, 4, 4, 0, 0, 0, 0, 0, 0, 0, 0, 0, 0, 0, 0, 0, 0, 0, 0, 0, 0, 0, 0, 0, 0, 0, 0, 0, 0, 0, 0, 0, 0, 0, 0, 0, 0, 0, 0, 0, 0, 0, 0, 0, 0, 0, 0, 0, 0, 0, 0, 0, 0, 0, 0, 0, 0, 0, 0, 0, 0, 0, 0, 0, 0, 0, 0, 0, 0, 0, 0, 0, 0, 0, 0, 0, 0, 0, 0, 0, 0, 0, 0, 0, 0, 0, 0, 0, 0, 0, 0, 0, 0, 0, 0]\n",
      "Euclidean distance: 58.077534382926416\n",
      "1/1 [==============================] - 0s 12ms/step\n",
      "-SAMPLE N. 9\n",
      "Predicted audio features: [0, 0, 0, 0, 6, 0, 11, 0, 0, 0, 0, 10, 0, 12, 0, 0, 0, 4, 4, 0, 0, 0, 0, 10, 12, 12, 0, 4, 4, 4, 4, 0, 7, 4, 4, 0, 0, 23, 0, 0, 0, 0, 0, 0, 0, 5, 0, 0, 9, 9, 9, 0, 0, 0, 4, 4, 4, 4, 0, 0, 0, 0, 0, 0, 0, 0, 0, 0, 0, 0, 0, 0, 0, 0, 0, 0, 0, 0, 0, 0, 0, 0, 0, 0, 0, 0, 0, 0, 0, 0, 0, 0, 0, 0, 0, 0, 0, 0, 0, 0, 0, 0, 0, 0, 0, 0, 0, 0, 0, 0, 0, 0, 0, 0, 0, 0, 0, 0, 0, 0, 0, 0, 0, 0, 0, 0, 0, 0, 0, 0, 0, 0, 0, 0, 0, 0, 0, 0, 0, 0, 0, 0, 0, 0, 0, 0, 0, 0, 0, 0]\n",
      "---Target audio features: [0, 0, 0, 13, 13, 0, 0, 8, 0, 0, 0, 0, 6, 0, 0, 0, 7, 0, 0, 6, 0, 5, 4, 4, 6, 11, 5, 0, 4, 0, 23, 0, 0, 0, 0, 5, 0, 0, 9, 9, 0, 0, 4, 4, 4, 4, 0, 0, 0, 0, 0, 0, 0, 0, 0, 0, 0, 0, 0, 0, 0, 0, 0, 0, 0, 0, 0, 0, 0, 0, 0, 0, 0, 0, 0, 0, 0, 0, 0, 0, 0, 0, 0, 0, 0, 0, 0, 0, 0, 0, 0, 0, 0, 0, 0, 0, 0, 0, 0, 0, 0, 0, 0, 0, 0, 0, 0, 0, 0, 0, 0, 0, 0, 0, 0, 0, 0, 0, 0, 0, 0, 0, 0, 0, 0, 0, 0, 0, 0, 0, 0, 0, 0, 0, 0, 0, 0, 0, 0, 0, 0, 0, 0, 0, 0, 0, 0, 0, 0, 0]\n",
      "Euclidean distance: 49.84977432245807\n",
      "1/1 [==============================] - 0s 12ms/step\n",
      "-SAMPLE N. 10\n",
      "Predicted audio features: [0, 0, 0, 0, 0, 0, 0, 0, 0, 0, 0, 0, 6, 6, 11, 0, 10, 0, 12, 0, 0, 4, 4, 0, 0, 10, 12, 12, 4, 4, 4, 4, 7, 4, 4, 0, 12, 0, 0, 0, 23, 0, 8, 8, 0, 0, 0, 0, 8, 9, 9, 9, 0, 4, 4, 4, 0, 0, 0, 0, 0, 0, 0, 0, 0, 0, 0, 0, 0, 0, 0, 0, 0, 0, 0, 0, 0, 0, 0, 0, 0, 0, 0, 0, 0, 0, 0, 0, 0, 0, 0, 0, 0, 0, 0, 0, 0, 0, 0, 0, 0, 0, 0, 0, 0, 0, 0, 0, 0, 0, 0, 0, 0, 0, 0, 0, 0, 0, 0, 0, 0, 0, 0, 0, 0, 0, 0, 0, 0, 0, 0, 0, 0, 0, 0, 0, 0, 0, 0, 0, 0, 0, 0, 0, 0, 0, 0, 0, 0, 0]\n",
      "---Target audio features: [17, 0, 0, 0, 8, 0, 25, 5, 5, 0, 4, 4, 6, 11, 5, 4, 4, 23, 0, 0, 0, 7, 0, 0, 9, 0, 0, 4, 4, 0, 6, 0, 8, 0, 4, 4, 6, 11, 5, 4, 4, 0, 15, 0, 0, 0, 0, 5, 0, 20, 0, 0, 6, 0, 4, 4, 0, 0, 0, 0, 0, 0, 0, 0, 0, 0, 0, 0, 0, 0, 0, 0, 0, 0, 0, 0, 0, 0, 0, 0, 0, 0, 0, 0, 0, 0, 0, 0, 0, 0, 0, 0, 0, 0, 0, 0, 0, 0, 0, 0, 0, 0, 0, 0, 0, 0, 0, 0, 0, 0, 0, 0, 0, 0, 0, 0, 0, 0, 0, 0, 0, 0, 0, 0, 0, 0, 0, 0, 0, 0, 0, 0, 0, 0, 0, 0, 0, 0, 0, 0, 0, 0, 0, 0, 0, 0, 0, 0, 0, 0]\n",
      "Euclidean distance: 58.52349955359813\n",
      "1/1 [==============================] - 0s 16ms/step\n",
      "-SAMPLE N. 11\n",
      "Predicted audio features: [6, 11, 0, 10, 12, 12, 0, 4, 0, 0, 10, 12, 12, 4, 4, 4, 7, 7, 4, 0, 23, 0, 0, 0, 0, 5, 0, 0, 9, 0, 0, 4, 4, 4, 4, 4, 0, 0, 0, 0, 0, 0, 0, 0, 0, 0, 0, 0, 0, 0, 0, 0, 0, 0, 0, 0, 0, 0, 0, 0, 0, 0, 0, 0, 0, 0, 0, 0, 0, 0, 0, 0, 0, 0, 0, 0, 0, 0, 0, 0, 0, 0, 0, 0, 0, 0, 0, 0, 0, 0, 0, 0, 0, 0, 0, 0, 0, 0, 0, 0, 0, 0, 0, 0, 0, 0, 0, 0, 0, 0, 0, 0, 0, 0, 0, 0, 0, 0, 0, 0, 0, 0, 0, 0, 0, 0, 0, 0, 0, 0, 0, 0, 0, 0, 0, 0, 0, 0, 0, 0, 0, 0, 0, 0, 0, 0, 0, 0, 0, 0]\n",
      "---Target audio features: [0, 17, 0, 0, 8, 8, 25, 0, 5, 0, 4, 4, 6, 11, 5, 4, 4, 0, 23, 0, 0, 5, 0, 0, 9, 0, 0, 4, 4, 6, 0, 8, 0, 4, 4, 6, 11, 5, 4, 4, 0, 13, 0, 0, 0, 10, 0, 21, 11, 11, 6, 6, 0, 4, 4, 4, 0, 0, 0, 0, 0, 0, 0, 0, 0, 0, 0, 0, 0, 0, 0, 0, 0, 0, 0, 0, 0, 0, 0, 0, 0, 0, 0, 0, 0, 0, 0, 0, 0, 0, 0, 0, 0, 0, 0, 0, 0, 0, 0, 0, 0, 0, 0, 0, 0, 0, 0, 0, 0, 0, 0, 0, 0, 0, 0, 0, 0, 0, 0, 0, 0, 0, 0, 0, 0, 0, 0, 0, 0, 0, 0, 0, 0, 0, 0, 0, 0, 0, 0, 0, 0, 0, 0, 0, 0, 0, 0, 0, 0, 0]\n",
      "Euclidean distance: 59.14389233048498\n",
      "1/1 [==============================] - 0s 13ms/step\n",
      "-SAMPLE N. 12\n",
      "Predicted audio features: [0, 0, 0, 0, 0, 0, 0, 0, 0, 6, 11, 0, 10, 12, 0, 4, 4, 0, 10, 12, 12, 4, 4, 7, 4, 0, 23, 0, 0, 0, 5, 0, 9, 9, 0, 4, 4, 4, 0, 0, 0, 0, 0, 0, 0, 0, 0, 0, 0, 0, 0, 0, 0, 0, 0, 0, 0, 0, 0, 0, 0, 0, 0, 0, 0, 0, 0, 0, 0, 0, 0, 0, 0, 0, 0, 0, 0, 0, 0, 0, 0, 0, 0, 0, 0, 0, 0, 0, 0, 0, 0, 0, 0, 0, 0, 0, 0, 0, 0, 0, 0, 0, 0, 0, 0, 0, 0, 0, 0, 0, 0, 0, 0, 0, 0, 0, 0, 0, 0, 0, 0, 0, 0, 0, 0, 0, 0, 0, 0, 0, 0, 0, 0, 0, 0, 0, 0, 0, 0, 0, 0, 0, 0, 0, 0, 0, 0, 0, 0, 0]\n",
      "---Target audio features: [0, 17, 0, 0, 8, 0, 25, 25, 5, 0, 4, 4, 6, 11, 0, 5, 4, 4, 23, 0, 0, 5, 0, 9, 9, 9, 0, 4, 4, 0, 0, 0, 16, 0, 23, 0, 4, 4, 0, 0, 0, 0, 0, 0, 0, 0, 0, 0, 0, 0, 0, 0, 0, 0, 0, 0, 0, 0, 0, 0, 0, 0, 0, 0, 0, 0, 0, 0, 0, 0, 0, 0, 0, 0, 0, 0, 0, 0, 0, 0, 0, 0, 0, 0, 0, 0, 0, 0, 0, 0, 0, 0, 0, 0, 0, 0, 0, 0, 0, 0, 0, 0, 0, 0, 0, 0, 0, 0, 0, 0, 0, 0, 0, 0, 0, 0, 0, 0, 0, 0, 0, 0, 0, 0, 0, 0, 0, 0, 0, 0, 0, 0, 0, 0, 0, 0, 0, 0, 0, 0, 0, 0, 0, 0, 0, 0, 0, 0, 0, 0]\n",
      "Euclidean distance: 60.06662967072483\n",
      "1/1 [==============================] - 0s 12ms/step\n",
      "-SAMPLE N. 13\n",
      "Predicted audio features: [6, 11, 0, 10, 12, 0, 4, 4, 0, 10, 0, 12, 12, 4, 4, 4, 7, 4, 4, 23, 0, 0, 0, 0, 5, 0, 0, 9, 9, 0, 0, 4, 4, 4, 0, 0, 0, 0, 0, 0, 0, 0, 0, 0, 0, 0, 0, 0, 0, 0, 0, 0, 0, 0, 0, 0, 0, 0, 0, 0, 0, 0, 0, 0, 0, 0, 0, 0, 0, 0, 0, 0, 0, 0, 0, 0, 0, 0, 0, 0, 0, 0, 0, 0, 0, 0, 0, 0, 0, 0, 0, 0, 0, 0, 0, 0, 0, 0, 0, 0, 0, 0, 0, 0, 0, 0, 0, 0, 0, 0, 0, 0, 0, 0, 0, 0, 0, 0, 0, 0, 0, 0, 0, 0, 0, 0, 0, 0, 0, 0, 0, 0, 0, 0, 0, 0, 0, 0, 0, 0, 0, 0, 0, 0, 0, 0, 0, 0, 0, 0]\n",
      "---Target audio features: [0, 17, 0, 0, 0, 8, 0, 25, 5, 0, 4, 4, 6, 11, 0, 5, 4, 23, 23, 0, 0, 0, 5, 0, 0, 9, 9, 0, 0, 4, 4, 0, 14, 0, 0, 0, 0, 0, 0, 8, 18, 0, 0, 9, 0, 4, 4, 4, 4, 0, 0, 0, 0, 0, 0, 0, 0, 0, 0, 0, 0, 0, 0, 0, 0, 0, 0, 0, 0, 0, 0, 0, 0, 0, 0, 0, 0, 0, 0, 0, 0, 0, 0, 0, 0, 0, 0, 0, 0, 0, 0, 0, 0, 0, 0, 0, 0, 0, 0, 0, 0, 0, 0, 0, 0, 0, 0, 0, 0, 0, 0, 0, 0, 0, 0, 0, 0, 0, 0, 0, 0, 0, 0, 0, 0, 0, 0, 0, 0, 0, 0, 0, 0, 0, 0, 0, 0, 0, 0, 0, 0, 0, 0, 0, 0, 0, 0, 0, 0, 0]\n",
      "Euclidean distance: 58.94913061275798\n",
      "1/1 [==============================] - 0s 12ms/step\n",
      "-SAMPLE N. 14\n",
      "Predicted audio features: [0, 0, 0, 0, 0, 0, 0, 0, 0, 0, 0, 0, 6, 11, 0, 0, 10, 0, 12, 0, 0, 4, 0, 0, 0, 0, 10, 0, 12, 0, 4, 4, 4, 4, 4, 7, 0, 4, 0, 0, 26, 26, 9, 9, 0, 0, 0, 0, 0, 0, 10, 0, 0, 20, 5, 5, 0, 4, 4, 0, 0, 0, 0, 0, 0, 0, 0, 0, 0, 0, 0, 0, 0, 0, 0, 0, 0, 0, 0, 0, 0, 0, 0, 0, 0, 0, 0, 0, 0, 0, 0, 0, 0, 0, 0, 0, 0, 0, 0, 0, 0, 0, 0, 0, 0, 0, 0, 0, 0, 0, 0, 0, 0, 0, 0, 0, 0, 0, 0, 0, 0, 0, 0, 0, 0, 0, 0, 0, 0, 0, 0, 0, 0, 0, 0, 0, 0, 0, 0, 0, 0, 0, 0, 0, 0, 0, 0, 0, 0, 0]\n",
      "---Target audio features: [0, 0, 13, 13, 0, 8, 0, 0, 0, 6, 0, 0, 0, 7, 0, 0, 6, 5, 5, 4, 4, 6, 11, 0, 5, 4, 4, 23, 0, 0, 0, 0, 5, 0, 0, 9, 9, 0, 4, 4, 4, 4, 0, 0, 0, 0, 0, 0, 0, 0, 0, 0, 0, 0, 0, 0, 0, 0, 0, 0, 0, 0, 0, 0, 0, 0, 0, 0, 0, 0, 0, 0, 0, 0, 0, 0, 0, 0, 0, 0, 0, 0, 0, 0, 0, 0, 0, 0, 0, 0, 0, 0, 0, 0, 0, 0, 0, 0, 0, 0, 0, 0, 0, 0, 0, 0, 0, 0, 0, 0, 0, 0, 0, 0, 0, 0, 0, 0, 0, 0, 0, 0, 0, 0, 0, 0, 0, 0, 0, 0, 0, 0, 0, 0, 0, 0, 0, 0, 0, 0, 0, 0, 0, 0, 0, 0, 0, 0, 0, 0]\n",
      "Euclidean distance: 58.283788483591216\n",
      "1/1 [==============================] - 0s 12ms/step\n",
      "-SAMPLE N. 15\n",
      "Predicted audio features: [0, 0, 0, 0, 0, 0, 0, 0, 0, 0, 0, 0, 0, 0, 0, 0, 0, 6, 11, 11, 0, 0, 0, 10, 0, 12, 0, 0, 0, 4, 0, 0, 0, 0, 10, 0, 12, 12, 0, 4, 4, 4, 4, 0, 7, 4, 4, 0, 23, 23, 0, 0, 0, 0, 0, 0, 0, 0, 5, 0, 0, 9, 9, 9, 0, 0, 4, 4, 4, 4, 0, 0, 0, 0, 0, 0, 0, 0, 0, 0, 0, 0, 0, 0, 0, 0, 0, 0, 0, 0, 0, 0, 0, 0, 0, 0, 0, 0, 0, 0, 0, 0, 0, 0, 0, 0, 0, 0, 0, 0, 0, 0, 0, 0, 0, 0, 0, 0, 0, 0, 0, 0, 0, 0, 0, 0, 0, 0, 0, 0, 0, 0, 0, 0, 0, 0, 0, 0, 0, 0, 0, 0, 0, 0, 0, 0, 0, 0, 0, 0]\n",
      "---Target audio features: [0, 0, 0, 17, 0, 0, 0, 8, 8, 0, 25, 5, 5, 12, 0, 4, 4, 6, 11, 0, 5, 4, 4, 23, 0, 0, 0, 5, 0, 9, 9, 0, 0, 4, 4, 0, 6, 0, 8, 0, 4, 4, 4, 6, 11, 5, 4, 4, 0, 15, 15, 0, 0, 0, 0, 5, 0, 20, 0, 0, 0, 6, 0, 4, 4, 0, 0, 0, 0, 0, 0, 0, 0, 0, 0, 0, 0, 0, 0, 0, 0, 0, 0, 0, 0, 0, 0, 0, 0, 0, 0, 0, 0, 0, 0, 0, 0, 0, 0, 0, 0, 0, 0, 0, 0, 0, 0, 0, 0, 0, 0, 0, 0, 0, 0, 0, 0, 0, 0, 0, 0, 0, 0, 0, 0, 0, 0, 0, 0, 0, 0, 0, 0, 0, 0, 0, 0, 0, 0, 0, 0, 0, 0, 0, 0, 0, 0, 0, 0, 0]\n",
      "Euclidean distance: 61.106464469808756\n"
     ]
    },
    {
     "name": "stdout",
     "output_type": "stream",
     "text": [
      "1/1 [==============================] - 0s 12ms/step\n",
      "-SAMPLE N. 16\n",
      "Predicted audio features: [0, 0, 0, 0, 0, 0, 0, 0, 0, 0, 0, 0, 0, 0, 0, 0, 0, 6, 11, 11, 0, 0, 0, 10, 0, 12, 0, 0, 0, 4, 0, 0, 0, 0, 10, 0, 12, 12, 0, 4, 4, 4, 4, 0, 7, 4, 4, 0, 23, 23, 0, 0, 0, 0, 0, 0, 0, 0, 5, 0, 0, 9, 9, 9, 0, 0, 4, 4, 4, 4, 0, 0, 0, 0, 0, 0, 0, 0, 0, 0, 0, 0, 0, 0, 0, 0, 0, 0, 0, 0, 0, 0, 0, 0, 0, 0, 0, 0, 0, 0, 0, 0, 0, 0, 0, 0, 0, 0, 0, 0, 0, 0, 0, 0, 0, 0, 0, 0, 0, 0, 0, 0, 0, 0, 0, 0, 0, 0, 0, 0, 0, 0, 0, 0, 0, 0, 0, 0, 0, 0, 0, 0, 0, 0, 0, 0, 0, 0, 0, 0]\n",
      "---Target audio features: [0, 17, 0, 0, 0, 0, 8, 0, 25, 0, 5, 12, 0, 4, 4, 6, 11, 0, 5, 4, 4, 23, 0, 0, 0, 5, 0, 0, 9, 0, 0, 4, 4, 0, 6, 0, 8, 0, 4, 4, 6, 11, 5, 4, 4, 0, 13, 0, 0, 0, 10, 10, 21, 11, 11, 6, 0, 0, 4, 0, 0, 0, 0, 0, 0, 0, 0, 0, 0, 0, 0, 0, 0, 0, 0, 0, 0, 0, 0, 0, 0, 0, 0, 0, 0, 0, 0, 0, 0, 0, 0, 0, 0, 0, 0, 0, 0, 0, 0, 0, 0, 0, 0, 0, 0, 0, 0, 0, 0, 0, 0, 0, 0, 0, 0, 0, 0, 0, 0, 0, 0, 0, 0, 0, 0, 0, 0, 0, 0, 0, 0, 0, 0, 0, 0, 0, 0, 0, 0, 0, 0, 0, 0, 0, 0, 0, 0, 0, 0, 0]\n",
      "Euclidean distance: 70.2353187506115\n",
      "1/1 [==============================] - 0s 12ms/step\n",
      "-SAMPLE N. 17\n",
      "Predicted audio features: [0, 0, 0, 0, 0, 0, 0, 0, 0, 0, 0, 0, 6, 11, 0, 0, 10, 0, 12, 0, 0, 4, 4, 0, 0, 0, 10, 0, 12, 0, 0, 4, 4, 4, 4, 0, 7, 4, 4, 0, 23, 0, 0, 0, 0, 0, 0, 5, 0, 0, 0, 9, 0, 0, 0, 4, 4, 4, 4, 0, 0, 0, 0, 0, 0, 0, 0, 0, 0, 0, 0, 0, 0, 0, 0, 0, 0, 0, 0, 0, 0, 0, 0, 0, 0, 0, 0, 0, 0, 0, 0, 0, 0, 0, 0, 0, 0, 0, 0, 0, 0, 0, 0, 0, 0, 0, 0, 0, 0, 0, 0, 0, 0, 0, 0, 0, 0, 0, 0, 0, 0, 0, 0, 0, 0, 0, 0, 0, 0, 0, 0, 0, 0, 0, 0, 0, 0, 0, 0, 0, 0, 0, 0, 0, 0, 0, 0, 0, 0, 0]\n",
      "---Target audio features: [0, 0, 0, 15, 0, 0, 0, 0, 0, 16, 0, 0, 0, 0, 12, 0, 0, 0, 0, 5, 0, 0, 4, 23, 0, 0, 0, 5, 0, 0, 0, 9, 9, 0, 0, 0, 7, 0, 0, 0, 23, 0, 0, 4, 4, 0, 0, 0, 0, 0, 0, 0, 0, 0, 0, 0, 0, 0, 0, 0, 0, 0, 0, 0, 0, 0, 0, 0, 0, 0, 0, 0, 0, 0, 0, 0, 0, 0, 0, 0, 0, 0, 0, 0, 0, 0, 0, 0, 0, 0, 0, 0, 0, 0, 0, 0, 0, 0, 0, 0, 0, 0, 0, 0, 0, 0, 0, 0, 0, 0, 0, 0, 0, 0, 0, 0, 0, 0, 0, 0, 0, 0, 0, 0, 0, 0, 0, 0, 0, 0, 0, 0, 0, 0, 0, 0, 0, 0, 0, 0, 0, 0, 0, 0, 0, 0, 0, 0, 0, 0]\n",
      "Euclidean distance: 46.70117771534247\n",
      "1/1 [==============================] - 0s 12ms/step\n",
      "-SAMPLE N. 18\n",
      "Predicted audio features: [0, 0, 0, 0, 0, 0, 0, 0, 0, 0, 0, 0, 6, 11, 0, 0, 10, 0, 12, 0, 0, 4, 4, 0, 0, 0, 10, 0, 12, 0, 0, 4, 4, 4, 4, 0, 7, 4, 4, 0, 23, 0, 0, 0, 0, 0, 0, 5, 0, 0, 0, 9, 0, 0, 0, 4, 4, 4, 4, 0, 0, 0, 0, 0, 0, 0, 0, 0, 0, 0, 0, 0, 0, 0, 0, 0, 0, 0, 0, 0, 0, 0, 0, 0, 0, 0, 0, 0, 0, 0, 0, 0, 0, 0, 0, 0, 0, 0, 0, 0, 0, 0, 0, 0, 0, 0, 0, 0, 0, 0, 0, 0, 0, 0, 0, 0, 0, 0, 0, 0, 0, 0, 0, 0, 0, 0, 0, 0, 0, 0, 0, 0, 0, 0, 0, 0, 0, 0, 0, 0, 0, 0, 0, 0, 0, 0, 0, 0, 0, 0]\n",
      "---Target audio features: [0, 0, 0, 15, 0, 8, 0, 0, 0, 8, 0, 0, 12, 5, 0, 4, 4, 6, 11, 0, 5, 4, 4, 23, 0, 0, 5, 0, 0, 0, 9, 9, 0, 0, 4, 0, 14, 0, 0, 0, 0, 0, 8, 18, 0, 9, 9, 4, 4, 4, 4, 4, 0, 0, 0, 0, 0, 0, 0, 0, 0, 0, 0, 0, 0, 0, 0, 0, 0, 0, 0, 0, 0, 0, 0, 0, 0, 0, 0, 0, 0, 0, 0, 0, 0, 0, 0, 0, 0, 0, 0, 0, 0, 0, 0, 0, 0, 0, 0, 0, 0, 0, 0, 0, 0, 0, 0, 0, 0, 0, 0, 0, 0, 0, 0, 0, 0, 0, 0, 0, 0, 0, 0, 0, 0, 0, 0, 0, 0, 0, 0, 0, 0, 0, 0, 0, 0, 0, 0, 0, 0, 0, 0, 0, 0, 0, 0, 0, 0, 0]\n",
      "Euclidean distance: 51.70106381884226\n",
      "1/1 [==============================] - 0s 12ms/step\n",
      "-SAMPLE N. 19\n",
      "Predicted audio features: [0, 0, 0, 0, 0, 0, 0, 0, 0, 0, 0, 0, 6, 11, 11, 0, 0, 0, 10, 0, 12, 0, 0, 4, 4, 0, 0, 0, 10, 0, 12, 0, 4, 4, 4, 4, 0, 7, 4, 4, 0, 0, 6, 0, 0, 0, 0, 0, 0, 0, 0, 0, 0, 7, 0, 0, 0, 9, 9, 0, 0, 0, 4, 4, 4, 4, 0, 0, 0, 0, 0, 0, 0, 0, 0, 0, 0, 0, 0, 0, 0, 0, 0, 0, 0, 0, 0, 0, 0, 0, 0, 0, 0, 0, 0, 0, 0, 0, 0, 0, 0, 0, 0, 0, 0, 0, 0, 0, 0, 0, 0, 0, 0, 0, 0, 0, 0, 0, 0, 0, 0, 0, 0, 0, 0, 0, 0, 0, 0, 0, 0, 0, 0, 0, 0, 0, 0, 0, 0, 0, 0, 0, 0, 0, 0, 0, 0, 0, 0, 0]\n",
      "---Target audio features: [0, 0, 0, 18, 13, 13, 0, 8, 0, 0, 0, 0, 6, 0, 0, 0, 7, 0, 0, 6, 0, 5, 0, 4, 0, 6, 11, 5, 4, 4, 23, 0, 0, 0, 0, 5, 0, 0, 9, 9, 0, 4, 4, 4, 4, 0, 0, 0, 0, 0, 0, 0, 0, 0, 0, 0, 0, 0, 0, 0, 0, 0, 0, 0, 0, 0, 0, 0, 0, 0, 0, 0, 0, 0, 0, 0, 0, 0, 0, 0, 0, 0, 0, 0, 0, 0, 0, 0, 0, 0, 0, 0, 0, 0, 0, 0, 0, 0, 0, 0, 0, 0, 0, 0, 0, 0, 0, 0, 0, 0, 0, 0, 0, 0, 0, 0, 0, 0, 0, 0, 0, 0, 0, 0, 0, 0, 0, 0, 0, 0, 0, 0, 0, 0, 0, 0, 0, 0, 0, 0, 0, 0, 0, 0, 0, 0, 0, 0, 0, 0]\n",
      "Euclidean distance: 46.561786907291264\n",
      "1/1 [==============================] - 0s 12ms/step\n",
      "-SAMPLE N. 20\n",
      "Predicted audio features: [6, 11, 0, 10, 12, 12, 0, 4, 0, 0, 10, 12, 12, 4, 4, 4, 7, 7, 4, 0, 23, 0, 0, 0, 0, 5, 0, 0, 9, 0, 0, 4, 4, 4, 4, 0, 0, 0, 0, 0, 0, 0, 0, 0, 0, 0, 0, 0, 0, 0, 0, 0, 0, 0, 0, 0, 0, 0, 0, 0, 0, 0, 0, 0, 0, 0, 0, 0, 0, 0, 0, 0, 0, 0, 0, 0, 0, 0, 0, 0, 0, 0, 0, 0, 0, 0, 0, 0, 0, 0, 0, 0, 0, 0, 0, 0, 0, 0, 0, 0, 0, 0, 0, 0, 0, 0, 0, 0, 0, 0, 0, 0, 0, 0, 0, 0, 0, 0, 0, 0, 0, 0, 0, 0, 0, 0, 0, 0, 0, 0, 0, 0, 0, 0, 0, 0, 0, 0, 0, 0, 0, 0, 0, 0, 0, 0, 0, 0, 0, 0]\n",
      "---Target audio features: [0, 0, 0, 8, 0, 25, 0, 5, 14, 4, 4, 6, 11, 5, 4, 23, 0, 0, 7, 0, 0, 9, 9, 0, 0, 4, 4, 6, 8, 0, 4, 4, 4, 6, 11, 5, 4, 4, 15, 0, 0, 0, 5, 0, 20, 0, 0, 6, 6, 4, 4, 4, 0, 0, 0, 0, 0, 0, 0, 0, 0, 0, 0, 0, 0, 0, 0, 0, 0, 0, 0, 0, 0, 0, 0, 0, 0, 0, 0, 0, 0, 0, 0, 0, 0, 0, 0, 0, 0, 0, 0, 0, 0, 0, 0, 0, 0, 0, 0, 0, 0, 0, 0, 0, 0, 0, 0, 0, 0, 0, 0, 0, 0, 0, 0, 0, 0, 0, 0, 0, 0, 0, 0, 0, 0, 0, 0, 0, 0, 0, 0, 0, 0, 0, 0, 0, 0, 0, 0, 0, 0, 0, 0, 0, 0, 0, 0, 0, 0, 0]\n",
      "Euclidean distance: 53.5723809439155\n",
      "1/1 [==============================] - 0s 12ms/step\n",
      "-SAMPLE N. 21\n",
      "Predicted audio features: [6, 11, 11, 10, 0, 12, 0, 4, 0, 10, 0, 12, 4, 4, 4, 7, 4, 4, 23, 0, 0, 0, 5, 0, 9, 9, 9, 0, 4, 4, 4, 4, 0, 0, 0, 0, 0, 0, 0, 0, 0, 0, 0, 0, 0, 0, 0, 0, 0, 0, 0, 0, 0, 0, 0, 0, 0, 0, 0, 0, 0, 0, 0, 0, 0, 0, 0, 0, 0, 0, 0, 0, 0, 0, 0, 0, 0, 0, 0, 0, 0, 0, 0, 0, 0, 0, 0, 0, 0, 0, 0, 0, 0, 0, 0, 0, 0, 0, 0, 0, 0, 0, 0, 0, 0, 0, 0, 0, 0, 0, 0, 0, 0, 0, 0, 0, 0, 0, 0, 0, 0, 0, 0, 0, 0, 0, 0, 0, 0, 0, 0, 0, 0, 0, 0, 0, 0, 0, 0, 0, 0, 0, 0, 0, 0, 0, 0, 0, 0, 0]\n",
      "---Target audio features: [17, 0, 0, 8, 25, 25, 5, 0, 4, 4, 6, 11, 5, 4, 4, 23, 0, 0, 5, 0, 0, 9, 0, 0, 0, 4, 4, 6, 8, 0, 4, 4, 6, 11, 5, 4, 4, 0, 13, 0, 0, 0, 10, 0, 21, 11, 0, 6, 6, 4, 4, 4, 0, 0, 0, 0, 0, 0, 0, 0, 0, 0, 0, 0, 0, 0, 0, 0, 0, 0, 0, 0, 0, 0, 0, 0, 0, 0, 0, 0, 0, 0, 0, 0, 0, 0, 0, 0, 0, 0, 0, 0, 0, 0, 0, 0, 0, 0, 0, 0, 0, 0, 0, 0, 0, 0, 0, 0, 0, 0, 0, 0, 0, 0, 0, 0, 0, 0, 0, 0, 0, 0, 0, 0, 0, 0, 0, 0, 0, 0, 0, 0, 0, 0, 0, 0, 0, 0, 0, 0, 0, 0, 0, 0, 0, 0, 0, 0, 0, 0]\n",
      "Euclidean distance: 58.08614292583042\n",
      "1/1 [==============================] - 0s 12ms/step\n",
      "-SAMPLE N. 22\n",
      "Predicted audio features: [0, 0, 0, 0, 0, 0, 0, 0, 0, 0, 0, 0, 0, 0, 0, 0, 6, 11, 0, 0, 0, 0, 10, 0, 12, 0, 0, 4, 4, 0, 0, 0, 10, 0, 12, 0, 4, 4, 4, 4, 0, 0, 7, 4, 4, 0, 23, 0, 0, 0, 0, 0, 0, 0, 0, 5, 0, 0, 0, 9, 9, 9, 0, 0, 0, 4, 4, 4, 4, 4, 0, 0, 0, 0, 0, 0, 0, 0, 0, 0, 0, 0, 0, 0, 0, 0, 0, 0, 0, 0, 0, 0, 0, 0, 0, 0, 0, 0, 0, 0, 0, 0, 0, 0, 0, 0, 0, 0, 0, 0, 0, 0, 0, 0, 0, 0, 0, 0, 0, 0, 0, 0, 0, 0, 0, 0, 0, 0, 0, 0, 0, 0, 0, 0, 0, 0, 0, 0, 0, 0, 0, 0, 0, 0, 0, 0, 0, 0, 0, 0]\n",
      "---Target audio features: [17, 0, 0, 8, 0, 25, 5, 5, 0, 4, 6, 11, 5, 5, 4, 23, 0, 0, 5, 0, 9, 9, 0, 0, 4, 4, 0, 0, 16, 0, 23, 0, 4, 4, 4, 0, 0, 0, 0, 0, 0, 0, 0, 0, 0, 0, 0, 0, 0, 0, 0, 0, 0, 0, 0, 0, 0, 0, 0, 0, 0, 0, 0, 0, 0, 0, 0, 0, 0, 0, 0, 0, 0, 0, 0, 0, 0, 0, 0, 0, 0, 0, 0, 0, 0, 0, 0, 0, 0, 0, 0, 0, 0, 0, 0, 0, 0, 0, 0, 0, 0, 0, 0, 0, 0, 0, 0, 0, 0, 0, 0, 0, 0, 0, 0, 0, 0, 0, 0, 0, 0, 0, 0, 0, 0, 0, 0, 0, 0, 0, 0, 0, 0, 0, 0, 0, 0, 0, 0, 0, 0, 0, 0, 0, 0, 0, 0, 0, 0, 0]\n",
      "Euclidean distance: 64.39720490828775\n",
      "1/1 [==============================] - 0s 12ms/step\n",
      "-SAMPLE N. 23\n",
      "Predicted audio features: [0, 6, 11, 0, 10, 0, 12, 0, 4, 0, 0, 0, 10, 12, 12, 4, 4, 4, 4, 7, 4, 4, 23, 0, 0, 0, 0, 0, 5, 0, 0, 9, 9, 0, 0, 4, 4, 4, 4, 0, 0, 0, 0, 0, 0, 0, 0, 0, 0, 0, 0, 0, 0, 0, 0, 0, 0, 0, 0, 0, 0, 0, 0, 0, 0, 0, 0, 0, 0, 0, 0, 0, 0, 0, 0, 0, 0, 0, 0, 0, 0, 0, 0, 0, 0, 0, 0, 0, 0, 0, 0, 0, 0, 0, 0, 0, 0, 0, 0, 0, 0, 0, 0, 0, 0, 0, 0, 0, 0, 0, 0, 0, 0, 0, 0, 0, 0, 0, 0, 0, 0, 0, 0, 0, 0, 0, 0, 0, 0, 0, 0, 0, 0, 0, 0, 0, 0, 0, 0, 0, 0, 0, 0, 0, 0, 0, 0, 0, 0, 0]\n",
      "---Target audio features: [0, 0, 0, 0, 8, 0, 25, 5, 5, 4, 4, 6, 11, 5, 4, 4, 23, 0, 5, 0, 0, 9, 9, 0, 0, 4, 4, 14, 0, 0, 0, 0, 0, 0, 8, 18, 0, 9, 9, 0, 4, 4, 4, 4, 0, 0, 0, 0, 0, 0, 0, 0, 0, 0, 0, 0, 0, 0, 0, 0, 0, 0, 0, 0, 0, 0, 0, 0, 0, 0, 0, 0, 0, 0, 0, 0, 0, 0, 0, 0, 0, 0, 0, 0, 0, 0, 0, 0, 0, 0, 0, 0, 0, 0, 0, 0, 0, 0, 0, 0, 0, 0, 0, 0, 0, 0, 0, 0, 0, 0, 0, 0, 0, 0, 0, 0, 0, 0, 0, 0, 0, 0, 0, 0, 0, 0, 0, 0, 0, 0, 0, 0, 0, 0, 0, 0, 0, 0, 0, 0, 0, 0, 0, 0, 0, 0, 0, 0, 0, 0]\n",
      "Euclidean distance: 44.799553569204235\n"
     ]
    },
    {
     "name": "stdout",
     "output_type": "stream",
     "text": [
      "1/1 [==============================] - 0s 12ms/step\n",
      "-SAMPLE N. 24\n",
      "Predicted audio features: [0, 0, 0, 0, 0, 0, 0, 0, 0, 0, 0, 0, 0, 0, 0, 0, 0, 6, 11, 11, 0, 0, 0, 10, 0, 12, 0, 0, 0, 4, 0, 0, 0, 0, 10, 0, 12, 12, 0, 4, 4, 4, 4, 0, 7, 4, 4, 0, 23, 23, 0, 0, 0, 0, 0, 0, 0, 0, 5, 0, 0, 9, 9, 9, 0, 0, 4, 4, 4, 4, 0, 0, 0, 0, 0, 0, 0, 0, 0, 0, 0, 0, 0, 0, 0, 0, 0, 0, 0, 0, 0, 0, 0, 0, 0, 0, 0, 0, 0, 0, 0, 0, 0, 0, 0, 0, 0, 0, 0, 0, 0, 0, 0, 0, 0, 0, 0, 0, 0, 0, 0, 0, 0, 0, 0, 0, 0, 0, 0, 0, 0, 0, 0, 0, 0, 0, 0, 0, 0, 0, 0, 0, 0, 0, 0, 0, 0, 0, 0, 0]\n",
      "---Target audio features: [13, 13, 0, 8, 0, 0, 0, 0, 0, 6, 6, 0, 0, 7, 0, 0, 26, 5, 0, 4, 4, 6, 11, 5, 4, 4, 23, 0, 0, 0, 5, 0, 0, 9, 9, 0, 0, 4, 4, 4, 0, 0, 0, 0, 0, 0, 0, 0, 0, 0, 0, 0, 0, 0, 0, 0, 0, 0, 0, 0, 0, 0, 0, 0, 0, 0, 0, 0, 0, 0, 0, 0, 0, 0, 0, 0, 0, 0, 0, 0, 0, 0, 0, 0, 0, 0, 0, 0, 0, 0, 0, 0, 0, 0, 0, 0, 0, 0, 0, 0, 0, 0, 0, 0, 0, 0, 0, 0, 0, 0, 0, 0, 0, 0, 0, 0, 0, 0, 0, 0, 0, 0, 0, 0, 0, 0, 0, 0, 0, 0, 0, 0, 0, 0, 0, 0, 0, 0, 0, 0, 0, 0, 0, 0, 0, 0, 0, 0, 0, 0]\n",
      "Euclidean distance: 63.58458932791813\n",
      "1/1 [==============================] - 0s 12ms/step\n",
      "-SAMPLE N. 25\n",
      "Predicted audio features: [0, 0, 0, 8, 0, 0, 25, 5, 5, 4, 4, 6, 11, 5, 4, 4, 0, 10, 0, 0, 20, 5, 0, 0, 4, 6, 8, 0, 4, 4, 6, 11, 5, 4, 4, 0, 15, 0, 0, 0, 5, 20, 20, 0, 0, 6, 0, 4, 4, 4, 0, 0, 0, 0, 0, 0, 0, 0, 0, 0, 0, 0, 0, 0, 0, 0, 0, 0, 0, 0, 0, 0, 0, 0, 0, 0, 0, 0, 0, 0, 0, 0, 0, 0, 0, 0, 0, 0, 0, 0, 0, 0, 0, 0, 0, 0, 0, 0, 0, 0, 0, 0, 0, 0, 0, 0, 0, 0, 0, 0, 0, 0, 0, 0, 0, 0, 0, 0, 0, 0, 0, 0, 0, 0, 0, 0, 0, 0, 0, 0, 0, 0, 0, 0, 0, 0, 0, 0, 0, 0, 0, 0, 0, 0, 0, 0, 0, 0, 0, 0]\n",
      "---Target audio features: [0, 0, 0, 17, 0, 0, 0, 0, 8, 0, 25, 0, 5, 0, 0, 4, 4, 6, 11, 5, 4, 4, 0, 23, 0, 0, 0, 0, 5, 0, 0, 9, 9, 0, 0, 4, 4, 0, 6, 6, 8, 0, 4, 4, 4, 6, 11, 5, 4, 4, 0, 15, 0, 0, 0, 0, 0, 5, 0, 20, 0, 0, 6, 6, 0, 4, 0, 0, 0, 0, 0, 0, 0, 0, 0, 0, 0, 0, 0, 0, 0, 0, 0, 0, 0, 0, 0, 0, 0, 0, 0, 0, 0, 0, 0, 0, 0, 0, 0, 0, 0, 0, 0, 0, 0, 0, 0, 0, 0, 0, 0, 0, 0, 0, 0, 0, 0, 0, 0, 0, 0, 0, 0, 0, 0, 0, 0, 0, 0, 0, 0, 0, 0, 0, 0, 0, 0, 0, 0, 0, 0, 0, 0, 0, 0, 0, 0, 0, 0, 0]\n",
      "Euclidean distance: 65.27633568147036\n",
      "1/1 [==============================] - 0s 12ms/step\n",
      "-SAMPLE N. 26\n",
      "Predicted audio features: [0, 0, 0, 6, 6, 11, 0, 10, 0, 12, 0, 0, 4, 0, 0, 0, 10, 12, 12, 4, 4, 4, 0, 7, 4, 0, 23, 0, 0, 0, 0, 5, 0, 0, 0, 9, 0, 0, 4, 4, 0, 0, 0, 0, 0, 0, 0, 0, 0, 0, 0, 0, 0, 0, 0, 0, 0, 0, 0, 0, 0, 0, 0, 0, 0, 0, 0, 0, 0, 0, 0, 0, 0, 0, 0, 0, 0, 0, 0, 0, 0, 0, 0, 0, 0, 0, 0, 0, 0, 0, 0, 0, 0, 0, 0, 0, 0, 0, 0, 0, 0, 0, 0, 0, 0, 0, 0, 0, 0, 0, 0, 0, 0, 0, 0, 0, 0, 0, 0, 0, 0, 0, 0, 0, 0, 0, 0, 0, 0, 0, 0, 0, 0, 0, 0, 0, 0, 0, 0, 0, 0, 0, 0, 0, 0, 0, 0, 0, 0, 0]\n",
      "---Target audio features: [0, 0, 0, 17, 0, 0, 0, 0, 8, 0, 25, 0, 5, 0, 4, 4, 4, 6, 11, 5, 4, 4, 0, 23, 0, 0, 0, 0, 5, 0, 0, 9, 9, 0, 0, 4, 4, 0, 6, 6, 0, 8, 0, 4, 4, 6, 11, 5, 4, 4, 0, 13, 0, 0, 0, 10, 10, 21, 11, 6, 6, 0, 0, 4, 0, 0, 0, 0, 0, 0, 0, 0, 0, 0, 0, 0, 0, 0, 0, 0, 0, 0, 0, 0, 0, 0, 0, 0, 0, 0, 0, 0, 0, 0, 0, 0, 0, 0, 0, 0, 0, 0, 0, 0, 0, 0, 0, 0, 0, 0, 0, 0, 0, 0, 0, 0, 0, 0, 0, 0, 0, 0, 0, 0, 0, 0, 0, 0, 0, 0, 0, 0, 0, 0, 0, 0, 0, 0, 0, 0, 0, 0, 0, 0, 0, 0, 0, 0, 0, 0]\n",
      "Euclidean distance: 60.15812497078013\n",
      "1/1 [==============================] - 0s 12ms/step\n",
      "-SAMPLE N. 27\n",
      "Predicted audio features: [0, 0, 0, 0, 0, 17, 0, 0, 0, 0, 0, 0, 0, 8, 0, 0, 25, 0, 5, 0, 0, 4, 4, 4, 0, 6, 11, 0, 0, 5, 4, 4, 0, 26, 26, 26, 9, 9, 0, 0, 0, 0, 0, 10, 0, 0, 20, 0, 5, 5, 0, 4, 4, 0, 0, 0, 14, 0, 0, 0, 0, 0, 0, 0, 0, 0, 0, 8, 8, 18, 0, 9, 9, 0, 4, 4, 4, 4, 4, 4, 0, 0, 0, 0, 0, 0, 0, 0, 0, 0, 0, 0, 0, 0, 0, 0, 0, 0, 0, 0, 0, 0, 0, 0, 0, 0, 0, 0, 0, 0, 0, 0, 0, 0, 0, 0, 0, 0, 0, 0, 0, 0, 0, 0, 0, 0, 0, 0, 0, 0, 0, 0, 0, 0, 0, 0, 0, 0, 0, 0, 0, 0, 0, 0, 0, 0, 0, 0, 0, 0]\n",
      "---Target audio features: [0, 0, 0, 17, 0, 0, 0, 0, 8, 0, 25, 0, 5, 0, 0, 4, 4, 6, 11, 5, 4, 4, 0, 23, 0, 0, 0, 5, 9, 9, 0, 0, 9, 0, 0, 8, 0, 23, 0, 4, 0, 0, 0, 0, 0, 0, 0, 0, 0, 0, 0, 0, 0, 0, 0, 0, 0, 0, 0, 0, 0, 0, 0, 0, 0, 0, 0, 0, 0, 0, 0, 0, 0, 0, 0, 0, 0, 0, 0, 0, 0, 0, 0, 0, 0, 0, 0, 0, 0, 0, 0, 0, 0, 0, 0, 0, 0, 0, 0, 0, 0, 0, 0, 0, 0, 0, 0, 0, 0, 0, 0, 0, 0, 0, 0, 0, 0, 0, 0, 0, 0, 0, 0, 0, 0, 0, 0, 0, 0, 0, 0, 0, 0, 0, 0, 0, 0, 0, 0, 0, 0, 0, 0, 0, 0, 0, 0, 0, 0, 0]\n",
      "Euclidean distance: 78.43468620451031\n",
      "1/1 [==============================] - 0s 12ms/step\n",
      "-SAMPLE N. 28\n",
      "Predicted audio features: [0, 0, 0, 6, 0, 11, 0, 0, 10, 0, 12, 0, 0, 4, 0, 0, 10, 0, 12, 0, 4, 4, 4, 7, 4, 4, 23, 0, 0, 0, 0, 5, 0, 0, 0, 9, 0, 0, 4, 4, 4, 4, 0, 0, 0, 0, 0, 0, 0, 0, 0, 0, 0, 0, 0, 0, 0, 0, 0, 0, 0, 0, 0, 0, 0, 0, 0, 0, 0, 0, 0, 0, 0, 0, 0, 0, 0, 0, 0, 0, 0, 0, 0, 0, 0, 0, 0, 0, 0, 0, 0, 0, 0, 0, 0, 0, 0, 0, 0, 0, 0, 0, 0, 0, 0, 0, 0, 0, 0, 0, 0, 0, 0, 0, 0, 0, 0, 0, 0, 0, 0, 0, 0, 0, 0, 0, 0, 0, 0, 0, 0, 0, 0, 0, 0, 0, 0, 0, 0, 0, 0, 0, 0, 0, 0, 0, 0, 0, 0, 0]\n",
      "---Target audio features: [0, 0, 0, 17, 0, 0, 0, 0, 8, 0, 25, 0, 5, 0, 0, 4, 4, 6, 11, 0, 5, 4, 4, 23, 0, 0, 0, 5, 0, 0, 9, 9, 0, 0, 0, 4, 0, 14, 0, 0, 0, 0, 0, 8, 18, 0, 9, 9, 4, 4, 4, 4, 0, 0, 0, 0, 0, 0, 0, 0, 0, 0, 0, 0, 0, 0, 0, 0, 0, 0, 0, 0, 0, 0, 0, 0, 0, 0, 0, 0, 0, 0, 0, 0, 0, 0, 0, 0, 0, 0, 0, 0, 0, 0, 0, 0, 0, 0, 0, 0, 0, 0, 0, 0, 0, 0, 0, 0, 0, 0, 0, 0, 0, 0, 0, 0, 0, 0, 0, 0, 0, 0, 0, 0, 0, 0, 0, 0, 0, 0, 0, 0, 0, 0, 0, 0, 0, 0, 0, 0, 0, 0, 0, 0, 0, 0, 0, 0, 0, 0]\n",
      "Euclidean distance: 48.82622246293481\n",
      "1/1 [==============================] - 0s 12ms/step\n",
      "-SAMPLE N. 29\n",
      "Predicted audio features: [0, 0, 0, 6, 6, 11, 0, 10, 0, 12, 0, 0, 4, 0, 0, 0, 10, 12, 12, 4, 4, 4, 0, 7, 4, 0, 23, 0, 0, 0, 0, 5, 0, 0, 0, 9, 0, 0, 4, 4, 0, 0, 0, 0, 0, 0, 0, 0, 0, 0, 0, 0, 0, 0, 0, 0, 0, 0, 0, 0, 0, 0, 0, 0, 0, 0, 0, 0, 0, 0, 0, 0, 0, 0, 0, 0, 0, 0, 0, 0, 0, 0, 0, 0, 0, 0, 0, 0, 0, 0, 0, 0, 0, 0, 0, 0, 0, 0, 0, 0, 0, 0, 0, 0, 0, 0, 0, 0, 0, 0, 0, 0, 0, 0, 0, 0, 0, 0, 0, 0, 0, 0, 0, 0, 0, 0, 0, 0, 0, 0, 0, 0, 0, 0, 0, 0, 0, 0, 0, 0, 0, 0, 0, 0, 0, 0, 0, 0, 0, 0]\n",
      "---Target audio features: [0, 0, 0, 13, 13, 0, 8, 8, 0, 0, 0, 0, 6, 0, 0, 0, 7, 0, 0, 6, 11, 5, 0, 4, 0, 0, 6, 11, 0, 5, 4, 4, 0, 23, 0, 0, 0, 0, 5, 0, 0, 9, 9, 0, 0, 4, 4, 0, 0, 0, 0, 0, 0, 0, 0, 0, 0, 0, 0, 0, 0, 0, 0, 0, 0, 0, 0, 0, 0, 0, 0, 0, 0, 0, 0, 0, 0, 0, 0, 0, 0, 0, 0, 0, 0, 0, 0, 0, 0, 0, 0, 0, 0, 0, 0, 0, 0, 0, 0, 0, 0, 0, 0, 0, 0, 0, 0, 0, 0, 0, 0, 0, 0, 0, 0, 0, 0, 0, 0, 0, 0, 0, 0, 0, 0, 0, 0, 0, 0, 0, 0, 0, 0, 0, 0, 0, 0, 0, 0, 0, 0, 0, 0, 0, 0, 0, 0, 0, 0, 0]\n",
      "Euclidean distance: 45.65084884205331\n",
      "1/1 [==============================] - 0s 12ms/step\n",
      "-SAMPLE N. 30\n",
      "Predicted audio features: [0, 0, 0, 6, 0, 11, 0, 0, 10, 0, 12, 0, 4, 4, 0, 0, 10, 0, 12, 0, 4, 4, 4, 7, 4, 0, 23, 0, 0, 0, 0, 5, 0, 0, 9, 9, 0, 0, 4, 4, 4, 4, 0, 0, 0, 0, 0, 0, 0, 0, 0, 0, 0, 0, 0, 0, 0, 0, 0, 0, 0, 0, 0, 0, 0, 0, 0, 0, 0, 0, 0, 0, 0, 0, 0, 0, 0, 0, 0, 0, 0, 0, 0, 0, 0, 0, 0, 0, 0, 0, 0, 0, 0, 0, 0, 0, 0, 0, 0, 0, 0, 0, 0, 0, 0, 0, 0, 0, 0, 0, 0, 0, 0, 0, 0, 0, 0, 0, 0, 0, 0, 0, 0, 0, 0, 0, 0, 0, 0, 0, 0, 0, 0, 0, 0, 0, 0, 0, 0, 0, 0, 0, 0, 0, 0, 0, 0, 0, 0, 0]\n",
      "---Target audio features: [0, 0, 0, 0, 8, 8, 0, 25, 0, 5, 0, 14, 0, 0, 0, 6, 0, 0, 0, 0, 0, 0, 0, 0, 5, 0, 0, 9, 0, 0, 0, 4, 0, 6, 0, 8, 0, 0, 4, 4, 0, 0, 0, 4, 4, 0, 15, 0, 0, 0, 0, 5, 0, 20, 0, 0, 6, 6, 0, 4, 0, 0, 0, 0, 0, 0, 0, 0, 0, 0, 0, 0, 0, 0, 0, 0, 0, 0, 0, 0, 0, 0, 0, 0, 0, 0, 0, 0, 0, 0, 0, 0, 0, 0, 0, 0, 0, 0, 0, 0, 0, 0, 0, 0, 0, 0, 0, 0, 0, 0, 0, 0, 0, 0, 0, 0, 0, 0, 0, 0, 0, 0, 0, 0, 0, 0, 0, 0, 0, 0, 0, 0, 0, 0, 0, 0, 0, 0, 0, 0, 0, 0, 0, 0, 0, 0, 0, 0, 0, 0]\n",
      "Euclidean distance: 56.0357029044876\n",
      "1/1 [==============================] - 0s 16ms/step\n",
      "-SAMPLE N. 31\n",
      "Predicted audio features: [0, 0, 0, 0, 0, 0, 17, 0, 0, 0, 0, 0, 0, 0, 8, 0, 0, 25, 5, 5, 0, 0, 4, 4, 0, 0, 6, 11, 11, 0, 5, 4, 4, 0, 26, 26, 26, 9, 9, 0, 0, 0, 0, 0, 10, 10, 0, 0, 20, 5, 5, 0, 4, 4, 0, 0, 0, 6, 6, 0, 0, 0, 8, 0, 4, 4, 0, 0, 6, 11, 5, 4, 4, 0, 0, 0, 15, 0, 0, 0, 0, 0, 0, 0, 0, 5, 0, 20, 0, 0, 0, 0, 6, 0, 0, 4, 0, 0, 0, 0, 0, 0, 0, 0, 0, 0, 0, 0, 0, 0, 0, 0, 0, 0, 0, 0, 0, 0, 0, 0, 0, 0, 0, 0, 0, 0, 0, 0, 0, 0, 0, 0, 0, 0, 0, 0, 0, 0, 0, 0, 0, 0, 0, 0, 0, 0, 0, 0, 0, 0]\n",
      "---Target audio features: [0, 17, 0, 0, 0, 0, 8, 0, 25, 0, 5, 0, 0, 4, 4, 4, 6, 11, 5, 4, 4, 0, 23, 0, 0, 5, 0, 0, 9, 9, 0, 0, 4, 4, 0, 6, 0, 8, 0, 4, 4, 4, 6, 11, 5, 4, 4, 13, 13, 0, 0, 0, 10, 0, 21, 11, 11, 6, 6, 0, 4, 4, 4, 0, 0, 0, 0, 0, 0, 0, 0, 0, 0, 0, 0, 0, 0, 0, 0, 0, 0, 0, 0, 0, 0, 0, 0, 0, 0, 0, 0, 0, 0, 0, 0, 0, 0, 0, 0, 0, 0, 0, 0, 0, 0, 0, 0, 0, 0, 0, 0, 0, 0, 0, 0, 0, 0, 0, 0, 0, 0, 0, 0, 0, 0, 0, 0, 0, 0, 0, 0, 0, 0, 0, 0, 0, 0, 0, 0, 0, 0, 0, 0, 0, 0, 0, 0, 0, 0, 0]\n",
      "Euclidean distance: 78.31347265956222\n"
     ]
    },
    {
     "name": "stdout",
     "output_type": "stream",
     "text": [
      "1/1 [==============================] - 0s 16ms/step\n",
      "-SAMPLE N. 32\n",
      "Predicted audio features: [0, 0, 0, 0, 0, 0, 0, 0, 0, 0, 0, 0, 0, 0, 6, 0, 11, 0, 0, 0, 0, 10, 0, 12, 0, 0, 4, 4, 0, 0, 0, 0, 10, 0, 12, 12, 0, 4, 4, 4, 4, 0, 0, 7, 4, 0, 0, 0, 23, 0, 0, 0, 0, 0, 0, 0, 0, 0, 0, 5, 0, 0, 0, 9, 9, 0, 0, 0, 4, 4, 4, 4, 4, 0, 0, 0, 0, 0, 0, 0, 0, 0, 0, 0, 0, 0, 0, 0, 0, 0, 0, 0, 0, 0, 0, 0, 0, 0, 0, 0, 0, 0, 0, 0, 0, 0, 0, 0, 0, 0, 0, 0, 0, 0, 0, 0, 0, 0, 0, 0, 0, 0, 0, 0, 0, 0, 0, 0, 0, 0, 0, 0, 0, 0, 0, 0, 0, 0, 0, 0, 0, 0, 0, 0, 0, 0, 0, 0, 0, 0]\n",
      "---Target audio features: [0, 17, 17, 0, 0, 0, 8, 0, 0, 25, 5, 5, 0, 4, 4, 4, 6, 11, 0, 5, 4, 4, 23, 23, 0, 0, 5, 0, 0, 9, 9, 0, 0, 4, 4, 0, 0, 0, 0, 16, 0, 23, 0, 0, 4, 0, 0, 0, 0, 0, 0, 0, 0, 0, 0, 0, 0, 0, 0, 0, 0, 0, 0, 0, 0, 0, 0, 0, 0, 0, 0, 0, 0, 0, 0, 0, 0, 0, 0, 0, 0, 0, 0, 0, 0, 0, 0, 0, 0, 0, 0, 0, 0, 0, 0, 0, 0, 0, 0, 0, 0, 0, 0, 0, 0, 0, 0, 0, 0, 0, 0, 0, 0, 0, 0, 0, 0, 0, 0, 0, 0, 0, 0, 0, 0, 0, 0, 0, 0, 0, 0, 0, 0, 0, 0, 0, 0, 0, 0, 0, 0, 0, 0, 0, 0, 0, 0, 0, 0, 0]\n",
      "Euclidean distance: 65.53624951124378\n",
      "1/1 [==============================] - 0s 12ms/step\n",
      "-SAMPLE N. 33\n",
      "Predicted audio features: [0, 0, 0, 0, 0, 0, 0, 0, 0, 0, 0, 0, 0, 0, 0, 0, 0, 6, 11, 11, 0, 0, 0, 10, 0, 12, 0, 0, 0, 4, 0, 0, 0, 0, 10, 0, 12, 12, 0, 4, 4, 4, 4, 0, 7, 4, 4, 0, 23, 23, 0, 0, 0, 0, 0, 0, 0, 0, 5, 0, 0, 9, 9, 9, 0, 0, 4, 4, 4, 4, 0, 0, 0, 0, 0, 0, 0, 0, 0, 0, 0, 0, 0, 0, 0, 0, 0, 0, 0, 0, 0, 0, 0, 0, 0, 0, 0, 0, 0, 0, 0, 0, 0, 0, 0, 0, 0, 0, 0, 0, 0, 0, 0, 0, 0, 0, 0, 0, 0, 0, 0, 0, 0, 0, 0, 0, 0, 0, 0, 0, 0, 0, 0, 0, 0, 0, 0, 0, 0, 0, 0, 0, 0, 0, 0, 0, 0, 0, 0, 0]\n",
      "---Target audio features: [0, 17, 0, 0, 0, 8, 0, 25, 0, 5, 0, 0, 4, 4, 6, 11, 0, 5, 4, 4, 23, 0, 0, 0, 5, 0, 0, 0, 9, 0, 0, 0, 4, 0, 14, 14, 0, 0, 0, 0, 0, 8, 18, 0, 9, 9, 4, 4, 4, 4, 4, 4, 0, 0, 0, 0, 0, 0, 0, 0, 0, 0, 0, 0, 0, 0, 0, 0, 0, 0, 0, 0, 0, 0, 0, 0, 0, 0, 0, 0, 0, 0, 0, 0, 0, 0, 0, 0, 0, 0, 0, 0, 0, 0, 0, 0, 0, 0, 0, 0, 0, 0, 0, 0, 0, 0, 0, 0, 0, 0, 0, 0, 0, 0, 0, 0, 0, 0, 0, 0, 0, 0, 0, 0, 0, 0, 0, 0, 0, 0, 0, 0, 0, 0, 0, 0, 0, 0, 0, 0, 0, 0, 0, 0, 0, 0, 0, 0, 0, 0]\n",
      "Euclidean distance: 63.85138996137829\n",
      "1/1 [==============================] - 0s 12ms/step\n",
      "-SAMPLE N. 34\n",
      "Predicted audio features: [0, 0, 0, 0, 0, 0, 0, 0, 0, 0, 0, 0, 0, 0, 6, 0, 11, 0, 0, 0, 0, 10, 0, 12, 0, 0, 4, 4, 0, 0, 0, 0, 10, 0, 12, 12, 0, 4, 4, 4, 4, 0, 0, 7, 4, 0, 0, 0, 23, 0, 0, 0, 0, 0, 0, 0, 0, 0, 0, 5, 0, 0, 0, 9, 9, 0, 0, 0, 4, 4, 4, 4, 4, 0, 0, 0, 0, 0, 0, 0, 0, 0, 0, 0, 0, 0, 0, 0, 0, 0, 0, 0, 0, 0, 0, 0, 0, 0, 0, 0, 0, 0, 0, 0, 0, 0, 0, 0, 0, 0, 0, 0, 0, 0, 0, 0, 0, 0, 0, 0, 0, 0, 0, 0, 0, 0, 0, 0, 0, 0, 0, 0, 0, 0, 0, 0, 0, 0, 0, 0, 0, 0, 0, 0, 0, 0, 0, 0, 0, 0]\n",
      "---Target audio features: [0, 0, 13, 13, 0, 0, 8, 0, 0, 0, 0, 6, 0, 0, 0, 0, 7, 0, 0, 6, 5, 5, 0, 4, 0, 0, 6, 11, 0, 5, 4, 4, 23, 0, 0, 0, 0, 5, 0, 0, 9, 9, 0, 0, 4, 4, 4, 4, 4, 0, 0, 0, 0, 0, 0, 0, 0, 0, 0, 0, 0, 0, 0, 0, 0, 0, 0, 0, 0, 0, 0, 0, 0, 0, 0, 0, 0, 0, 0, 0, 0, 0, 0, 0, 0, 0, 0, 0, 0, 0, 0, 0, 0, 0, 0, 0, 0, 0, 0, 0, 0, 0, 0, 0, 0, 0, 0, 0, 0, 0, 0, 0, 0, 0, 0, 0, 0, 0, 0, 0, 0, 0, 0, 0, 0, 0, 0, 0, 0, 0, 0, 0, 0, 0, 0, 0, 0, 0, 0, 0, 0, 0, 0, 0, 0, 0, 0, 0, 0, 0]\n",
      "Euclidean distance: 45.50824101193101\n",
      "1/1 [==============================] - 0s 12ms/step\n",
      "-SAMPLE N. 35\n",
      "Predicted audio features: [0, 0, 0, 8, 0, 25, 0, 5, 0, 4, 4, 6, 11, 5, 4, 4, 20, 0, 0, 0, 8, 0, 0, 0, 9, 0, 0, 4, 4, 6, 6, 8, 0, 4, 4, 6, 11, 5, 4, 4, 0, 13, 0, 0, 10, 10, 21, 11, 11, 6, 6, 4, 4, 4, 0, 0, 0, 0, 0, 0, 0, 0, 0, 0, 0, 0, 0, 0, 0, 0, 0, 0, 0, 0, 0, 0, 0, 0, 0, 0, 0, 0, 0, 0, 0, 0, 0, 0, 0, 0, 0, 0, 0, 0, 0, 0, 0, 0, 0, 0, 0, 0, 0, 0, 0, 0, 0, 0, 0, 0, 0, 0, 0, 0, 0, 0, 0, 0, 0, 0, 0, 0, 0, 0, 0, 0, 0, 0, 0, 0, 0, 0, 0, 0, 0, 0, 0, 0, 0, 0, 0, 0, 0, 0, 0, 0, 0, 0, 0, 0]\n",
      "---Target audio features: [0, 0, 0, 17, 0, 0, 0, 8, 0, 25, 0, 5, 5, 14, 4, 4, 6, 11, 5, 4, 4, 23, 0, 0, 5, 0, 9, 9, 0, 0, 4, 4, 6, 0, 8, 4, 4, 4, 6, 11, 5, 4, 4, 15, 0, 0, 0, 0, 5, 0, 20, 0, 0, 0, 6, 0, 4, 4, 0, 0, 0, 0, 0, 0, 0, 0, 0, 0, 0, 0, 0, 0, 0, 0, 0, 0, 0, 0, 0, 0, 0, 0, 0, 0, 0, 0, 0, 0, 0, 0, 0, 0, 0, 0, 0, 0, 0, 0, 0, 0, 0, 0, 0, 0, 0, 0, 0, 0, 0, 0, 0, 0, 0, 0, 0, 0, 0, 0, 0, 0, 0, 0, 0, 0, 0, 0, 0, 0, 0, 0, 0, 0, 0, 0, 0, 0, 0, 0, 0, 0, 0, 0, 0, 0, 0, 0, 0, 0, 0, 0]\n",
      "Euclidean distance: 63.67888189973188\n",
      "1/1 [==============================] - 0s 12ms/step\n",
      "-SAMPLE N. 36\n",
      "Predicted audio features: [0, 0, 0, 0, 0, 0, 0, 0, 0, 0, 6, 0, 11, 0, 10, 0, 12, 0, 0, 4, 0, 0, 0, 10, 12, 12, 4, 4, 4, 0, 7, 4, 0, 23, 0, 0, 0, 0, 5, 0, 0, 9, 9, 0, 4, 4, 4, 4, 0, 0, 0, 0, 0, 0, 0, 0, 0, 0, 0, 0, 0, 0, 0, 0, 0, 0, 0, 0, 0, 0, 0, 0, 0, 0, 0, 0, 0, 0, 0, 0, 0, 0, 0, 0, 0, 0, 0, 0, 0, 0, 0, 0, 0, 0, 0, 0, 0, 0, 0, 0, 0, 0, 0, 0, 0, 0, 0, 0, 0, 0, 0, 0, 0, 0, 0, 0, 0, 0, 0, 0, 0, 0, 0, 0, 0, 0, 0, 0, 0, 0, 0, 0, 0, 0, 0, 0, 0, 0, 0, 0, 0, 0, 0, 0, 0, 0, 0, 0, 0, 0]\n",
      "---Target audio features: [0, 0, 0, 0, 17, 0, 0, 0, 8, 0, 25, 0, 5, 0, 4, 4, 6, 11, 5, 4, 4, 23, 0, 0, 5, 0, 0, 9, 9, 0, 4, 4, 6, 6, 8, 0, 4, 4, 6, 11, 5, 4, 4, 0, 13, 0, 0, 0, 0, 10, 10, 21, 0, 11, 6, 6, 0, 0, 4, 4, 0, 0, 0, 0, 0, 0, 0, 0, 0, 0, 0, 0, 0, 0, 0, 0, 0, 0, 0, 0, 0, 0, 0, 0, 0, 0, 0, 0, 0, 0, 0, 0, 0, 0, 0, 0, 0, 0, 0, 0, 0, 0, 0, 0, 0, 0, 0, 0, 0, 0, 0, 0, 0, 0, 0, 0, 0, 0, 0, 0, 0, 0, 0, 0, 0, 0, 0, 0, 0, 0, 0, 0, 0, 0, 0, 0, 0, 0, 0, 0, 0, 0, 0, 0, 0, 0, 0, 0, 0, 0]\n",
      "Euclidean distance: 59.2452529743945\n",
      "1/1 [==============================] - 0s 12ms/step\n",
      "-SAMPLE N. 37\n",
      "Predicted audio features: [0, 0, 0, 6, 0, 11, 0, 0, 10, 0, 12, 0, 0, 4, 0, 0, 10, 0, 12, 0, 4, 4, 4, 7, 4, 4, 23, 0, 0, 0, 0, 5, 0, 0, 0, 9, 0, 0, 4, 4, 4, 4, 0, 0, 0, 0, 0, 0, 0, 0, 0, 0, 0, 0, 0, 0, 0, 0, 0, 0, 0, 0, 0, 0, 0, 0, 0, 0, 0, 0, 0, 0, 0, 0, 0, 0, 0, 0, 0, 0, 0, 0, 0, 0, 0, 0, 0, 0, 0, 0, 0, 0, 0, 0, 0, 0, 0, 0, 0, 0, 0, 0, 0, 0, 0, 0, 0, 0, 0, 0, 0, 0, 0, 0, 0, 0, 0, 0, 0, 0, 0, 0, 0, 0, 0, 0, 0, 0, 0, 0, 0, 0, 0, 0, 0, 0, 0, 0, 0, 0, 0, 0, 0, 0, 0, 0, 0, 0, 0, 0]\n",
      "---Target audio features: [0, 0, 0, 17, 0, 0, 0, 0, 8, 0, 25, 5, 5, 4, 4, 6, 11, 0, 5, 4, 4, 23, 0, 0, 5, 0, 9, 9, 9, 0, 4, 4, 0, 0, 0, 16, 0, 23, 0, 4, 0, 0, 0, 0, 0, 0, 0, 0, 0, 0, 0, 0, 0, 0, 0, 0, 0, 0, 0, 0, 0, 0, 0, 0, 0, 0, 0, 0, 0, 0, 0, 0, 0, 0, 0, 0, 0, 0, 0, 0, 0, 0, 0, 0, 0, 0, 0, 0, 0, 0, 0, 0, 0, 0, 0, 0, 0, 0, 0, 0, 0, 0, 0, 0, 0, 0, 0, 0, 0, 0, 0, 0, 0, 0, 0, 0, 0, 0, 0, 0, 0, 0, 0, 0, 0, 0, 0, 0, 0, 0, 0, 0, 0, 0, 0, 0, 0, 0, 0, 0, 0, 0, 0, 0, 0, 0, 0, 0, 0, 0]\n",
      "Euclidean distance: 45.02221673796171\n",
      "1/1 [==============================] - 0s 12ms/step\n",
      "-SAMPLE N. 38\n",
      "Predicted audio features: [0, 0, 0, 6, 0, 11, 0, 0, 10, 0, 12, 0, 0, 4, 0, 0, 10, 0, 12, 0, 4, 4, 4, 7, 4, 4, 23, 0, 0, 0, 0, 5, 0, 0, 0, 9, 0, 0, 4, 4, 4, 4, 0, 0, 0, 0, 0, 0, 0, 0, 0, 0, 0, 0, 0, 0, 0, 0, 0, 0, 0, 0, 0, 0, 0, 0, 0, 0, 0, 0, 0, 0, 0, 0, 0, 0, 0, 0, 0, 0, 0, 0, 0, 0, 0, 0, 0, 0, 0, 0, 0, 0, 0, 0, 0, 0, 0, 0, 0, 0, 0, 0, 0, 0, 0, 0, 0, 0, 0, 0, 0, 0, 0, 0, 0, 0, 0, 0, 0, 0, 0, 0, 0, 0, 0, 0, 0, 0, 0, 0, 0, 0, 0, 0, 0, 0, 0, 0, 0, 0, 0, 0, 0, 0, 0, 0, 0, 0, 0, 0]\n",
      "---Target audio features: [0, 0, 0, 17, 0, 0, 0, 8, 0, 0, 25, 0, 5, 0, 4, 4, 6, 11, 5, 4, 4, 23, 0, 0, 5, 0, 0, 9, 9, 0, 0, 4, 4, 14, 14, 0, 0, 0, 0, 0, 8, 18, 0, 9, 9, 4, 4, 4, 4, 4, 4, 0, 0, 0, 0, 0, 0, 0, 0, 0, 0, 0, 0, 0, 0, 0, 0, 0, 0, 0, 0, 0, 0, 0, 0, 0, 0, 0, 0, 0, 0, 0, 0, 0, 0, 0, 0, 0, 0, 0, 0, 0, 0, 0, 0, 0, 0, 0, 0, 0, 0, 0, 0, 0, 0, 0, 0, 0, 0, 0, 0, 0, 0, 0, 0, 0, 0, 0, 0, 0, 0, 0, 0, 0, 0, 0, 0, 0, 0, 0, 0, 0, 0, 0, 0, 0, 0, 0, 0, 0, 0, 0, 0, 0, 0, 0, 0, 0, 0, 0]\n",
      "Euclidean distance: 54.55272678794342\n",
      "1/1 [==============================] - 0s 12ms/step\n",
      "-SAMPLE N. 39\n",
      "Predicted audio features: [0, 0, 0, 0, 0, 6, 11, 0, 0, 10, 0, 12, 0, 0, 4, 0, 0, 10, 12, 12, 0, 4, 4, 4, 7, 4, 4, 23, 23, 0, 0, 0, 5, 0, 0, 0, 9, 0, 0, 4, 4, 0, 0, 0, 0, 0, 0, 0, 0, 0, 0, 0, 0, 0, 0, 0, 0, 0, 0, 0, 0, 0, 0, 0, 0, 0, 0, 0, 0, 0, 0, 0, 0, 0, 0, 0, 0, 0, 0, 0, 0, 0, 0, 0, 0, 0, 0, 0, 0, 0, 0, 0, 0, 0, 0, 0, 0, 0, 0, 0, 0, 0, 0, 0, 0, 0, 0, 0, 0, 0, 0, 0, 0, 0, 0, 0, 0, 0, 0, 0, 0, 0, 0, 0, 0, 0, 0, 0, 0, 0, 0, 0, 0, 0, 0, 0, 0, 0, 0, 0, 0, 0, 0, 0, 0, 0, 0, 0, 0, 0]\n",
      "---Target audio features: [0, 0, 0, 13, 13, 0, 0, 8, 0, 0, 0, 0, 6, 0, 4, 0, 0, 7, 0, 0, 14, 5, 0, 4, 6, 11, 11, 5, 4, 4, 23, 0, 0, 0, 5, 0, 0, 9, 9, 9, 0, 4, 4, 4, 4, 0, 0, 0, 0, 0, 0, 0, 0, 0, 0, 0, 0, 0, 0, 0, 0, 0, 0, 0, 0, 0, 0, 0, 0, 0, 0, 0, 0, 0, 0, 0, 0, 0, 0, 0, 0, 0, 0, 0, 0, 0, 0, 0, 0, 0, 0, 0, 0, 0, 0, 0, 0, 0, 0, 0, 0, 0, 0, 0, 0, 0, 0, 0, 0, 0, 0, 0, 0, 0, 0, 0, 0, 0, 0, 0, 0, 0, 0, 0, 0, 0, 0, 0, 0, 0, 0, 0, 0, 0, 0, 0, 0, 0, 0, 0, 0, 0, 0, 0, 0, 0, 0, 0, 0, 0]\n",
      "Euclidean distance: 55.46169849544819\n"
     ]
    },
    {
     "name": "stdout",
     "output_type": "stream",
     "text": [
      "1/1 [==============================] - 0s 12ms/step\n",
      "-SAMPLE N. 40\n",
      "Predicted audio features: [0, 0, 0, 0, 0, 0, 0, 0, 0, 0, 0, 0, 0, 6, 11, 11, 0, 10, 0, 12, 0, 4, 4, 0, 10, 0, 12, 12, 4, 4, 4, 7, 4, 4, 23, 0, 0, 0, 0, 0, 5, 0, 0, 0, 9, 0, 0, 4, 4, 4, 4, 0, 0, 0, 0, 0, 0, 0, 0, 0, 0, 0, 0, 0, 0, 0, 0, 0, 0, 0, 0, 0, 0, 0, 0, 0, 0, 0, 0, 0, 0, 0, 0, 0, 0, 0, 0, 0, 0, 0, 0, 0, 0, 0, 0, 0, 0, 0, 0, 0, 0, 0, 0, 0, 0, 0, 0, 0, 0, 0, 0, 0, 0, 0, 0, 0, 0, 0, 0, 0, 0, 0, 0, 0, 0, 0, 0, 0, 0, 0, 0, 0, 0, 0, 0, 0, 0, 0, 0, 0, 0, 0, 0, 0, 0, 0, 0, 0, 0, 0]\n",
      "---Target audio features: [0, 0, 0, 0, 0, 0, 17, 0, 0, 0, 0, 8, 0, 25, 5, 5, 14, 4, 4, 6, 11, 0, 5, 4, 4, 0, 23, 0, 0, 0, 5, 0, 0, 9, 0, 0, 0, 4, 4, 6, 6, 0, 8, 0, 4, 4, 6, 11, 5, 4, 4, 4, 0, 15, 0, 0, 0, 0, 0, 5, 20, 20, 0, 0, 6, 0, 4, 4, 0, 0, 0, 0, 0, 0, 0, 0, 0, 0, 0, 0, 0, 0, 0, 0, 0, 0, 0, 0, 0, 0, 0, 0, 0, 0, 0, 0, 0, 0, 0, 0, 0, 0, 0, 0, 0, 0, 0, 0, 0, 0, 0, 0, 0, 0, 0, 0, 0, 0, 0, 0, 0, 0, 0, 0, 0, 0, 0, 0, 0, 0, 0, 0, 0, 0, 0, 0, 0, 0, 0, 0, 0, 0, 0, 0, 0, 0, 0, 0, 0, 0]\n",
      "Euclidean distance: 59.75784467331465\n",
      "1/1 [==============================] - 0s 12ms/step\n",
      "-SAMPLE N. 41\n",
      "Predicted audio features: [0, 0, 0, 0, 0, 0, 0, 0, 0, 0, 6, 0, 11, 0, 10, 0, 12, 0, 0, 4, 0, 0, 0, 10, 12, 12, 4, 4, 4, 0, 7, 4, 0, 23, 0, 0, 0, 0, 5, 0, 0, 9, 9, 0, 4, 4, 4, 4, 0, 0, 0, 0, 0, 0, 0, 0, 0, 0, 0, 0, 0, 0, 0, 0, 0, 0, 0, 0, 0, 0, 0, 0, 0, 0, 0, 0, 0, 0, 0, 0, 0, 0, 0, 0, 0, 0, 0, 0, 0, 0, 0, 0, 0, 0, 0, 0, 0, 0, 0, 0, 0, 0, 0, 0, 0, 0, 0, 0, 0, 0, 0, 0, 0, 0, 0, 0, 0, 0, 0, 0, 0, 0, 0, 0, 0, 0, 0, 0, 0, 0, 0, 0, 0, 0, 0, 0, 0, 0, 0, 0, 0, 0, 0, 0, 0, 0, 0, 0, 0, 0]\n",
      "---Target audio features: [0, 0, 0, 17, 0, 0, 0, 8, 0, 25, 5, 5, 0, 4, 4, 4, 6, 11, 5, 4, 4, 4, 23, 0, 0, 0, 0, 5, 0, 9, 9, 0, 0, 4, 4, 0, 6, 0, 8, 0, 4, 4, 4, 6, 11, 5, 4, 4, 0, 13, 0, 0, 0, 0, 10, 0, 21, 11, 11, 6, 6, 0, 4, 4, 0, 0, 0, 0, 0, 0, 0, 0, 0, 0, 0, 0, 0, 0, 0, 0, 0, 0, 0, 0, 0, 0, 0, 0, 0, 0, 0, 0, 0, 0, 0, 0, 0, 0, 0, 0, 0, 0, 0, 0, 0, 0, 0, 0, 0, 0, 0, 0, 0, 0, 0, 0, 0, 0, 0, 0, 0, 0, 0, 0, 0, 0, 0, 0, 0, 0, 0, 0, 0, 0, 0, 0, 0, 0, 0, 0, 0, 0, 0, 0, 0, 0, 0, 0, 0, 0]\n",
      "Euclidean distance: 63.93746945258312\n",
      "1/1 [==============================] - 0s 12ms/step\n",
      "-SAMPLE N. 42\n",
      "Predicted audio features: [0, 0, 0, 0, 0, 0, 0, 0, 0, 0, 0, 0, 0, 6, 11, 11, 0, 10, 0, 12, 0, 4, 4, 0, 10, 0, 12, 12, 4, 4, 4, 7, 4, 4, 23, 0, 0, 0, 0, 0, 5, 0, 0, 0, 9, 0, 0, 4, 4, 4, 4, 0, 0, 0, 0, 0, 0, 0, 0, 0, 0, 0, 0, 0, 0, 0, 0, 0, 0, 0, 0, 0, 0, 0, 0, 0, 0, 0, 0, 0, 0, 0, 0, 0, 0, 0, 0, 0, 0, 0, 0, 0, 0, 0, 0, 0, 0, 0, 0, 0, 0, 0, 0, 0, 0, 0, 0, 0, 0, 0, 0, 0, 0, 0, 0, 0, 0, 0, 0, 0, 0, 0, 0, 0, 0, 0, 0, 0, 0, 0, 0, 0, 0, 0, 0, 0, 0, 0, 0, 0, 0, 0, 0, 0, 0, 0, 0, 0, 0, 0]\n",
      "---Target audio features: [0, 0, 0, 17, 0, 0, 0, 8, 0, 25, 5, 5, 0, 4, 4, 6, 6, 11, 5, 4, 4, 0, 23, 0, 0, 0, 5, 9, 0, 0, 0, 9, 0, 0, 7, 0, 0, 4, 4, 4, 0, 0, 0, 0, 0, 0, 0, 0, 0, 0, 0, 0, 0, 0, 0, 0, 0, 0, 0, 0, 0, 0, 0, 0, 0, 0, 0, 0, 0, 0, 0, 0, 0, 0, 0, 0, 0, 0, 0, 0, 0, 0, 0, 0, 0, 0, 0, 0, 0, 0, 0, 0, 0, 0, 0, 0, 0, 0, 0, 0, 0, 0, 0, 0, 0, 0, 0, 0, 0, 0, 0, 0, 0, 0, 0, 0, 0, 0, 0, 0, 0, 0, 0, 0, 0, 0, 0, 0, 0, 0, 0, 0, 0, 0, 0, 0, 0, 0, 0, 0, 0, 0, 0, 0, 0, 0, 0, 0, 0, 0]\n",
      "Euclidean distance: 48.38388161361178\n",
      "1/1 [==============================] - 0s 12ms/step\n",
      "-SAMPLE N. 43\n",
      "Predicted audio features: [0, 0, 0, 0, 0, 6, 11, 0, 0, 10, 0, 12, 0, 4, 4, 0, 0, 10, 0, 12, 0, 4, 4, 4, 7, 4, 4, 0, 20, 0, 0, 0, 0, 0, 8, 13, 13, 0, 0, 26, 0, 0, 0, 4, 0, 0, 0, 0, 0, 0, 0, 0, 0, 0, 0, 0, 0, 0, 0, 0, 0, 0, 0, 0, 0, 0, 0, 0, 0, 0, 0, 0, 0, 0, 0, 0, 0, 0, 0, 0, 0, 0, 0, 0, 0, 0, 0, 0, 0, 0, 0, 0, 0, 0, 0, 0, 0, 0, 0, 0, 0, 0, 0, 0, 0, 0, 0, 0, 0, 0, 0, 0, 0, 0, 0, 0, 0, 0, 0, 0, 0, 0, 0, 0, 0, 0, 0, 0, 0, 0, 0, 0, 0, 0, 0, 0, 0, 0, 0, 0, 0, 0, 0, 0, 0, 0, 0, 0, 0, 0]\n",
      "---Target audio features: [0, 17, 0, 0, 0, 8, 0, 25, 5, 5, 0, 4, 4, 6, 11, 0, 5, 4, 4, 0, 23, 0, 0, 0, 5, 0, 0, 9, 9, 0, 0, 4, 14, 14, 0, 0, 0, 0, 0, 8, 18, 0, 9, 9, 0, 4, 0, 0, 0, 0, 0, 0, 0, 0, 0, 0, 0, 0, 0, 0, 0, 0, 0, 0, 0, 0, 0, 0, 0, 0, 0, 0, 0, 0, 0, 0, 0, 0, 0, 0, 0, 0, 0, 0, 0, 0, 0, 0, 0, 0, 0, 0, 0, 0, 0, 0, 0, 0, 0, 0, 0, 0, 0, 0, 0, 0, 0, 0, 0, 0, 0, 0, 0, 0, 0, 0, 0, 0, 0, 0, 0, 0, 0, 0, 0, 0, 0, 0, 0, 0, 0, 0, 0, 0, 0, 0, 0, 0, 0, 0, 0, 0, 0, 0, 0, 0, 0, 0, 0, 0]\n",
      "Euclidean distance: 61.95159400693416\n",
      "1/1 [==============================] - 0s 12ms/step\n",
      "-SAMPLE N. 44\n",
      "Predicted audio features: [0, 0, 6, 6, 11, 10, 0, 12, 0, 4, 0, 10, 12, 12, 4, 4, 4, 7, 4, 23, 0, 0, 0, 5, 0, 0, 9, 0, 0, 4, 4, 0, 0, 0, 0, 0, 0, 0, 0, 0, 0, 0, 0, 0, 0, 0, 0, 0, 0, 0, 0, 0, 0, 0, 0, 0, 0, 0, 0, 0, 0, 0, 0, 0, 0, 0, 0, 0, 0, 0, 0, 0, 0, 0, 0, 0, 0, 0, 0, 0, 0, 0, 0, 0, 0, 0, 0, 0, 0, 0, 0, 0, 0, 0, 0, 0, 0, 0, 0, 0, 0, 0, 0, 0, 0, 0, 0, 0, 0, 0, 0, 0, 0, 0, 0, 0, 0, 0, 0, 0, 0, 0, 0, 0, 0, 0, 0, 0, 0, 0, 0, 0, 0, 0, 0, 0, 0, 0, 0, 0, 0, 0, 0, 0, 0, 0, 0, 0, 0, 0]\n",
      "---Target audio features: [0, 13, 13, 0, 0, 8, 0, 0, 6, 5, 4, 4, 6, 0, 0, 7, 0, 0, 6, 5, 0, 4, 4, 4, 6, 11, 0, 5, 4, 4, 0, 23, 0, 0, 0, 0, 0, 0, 5, 0, 0, 9, 0, 0, 4, 0, 0, 0, 0, 0, 0, 0, 0, 0, 0, 0, 0, 0, 0, 0, 0, 0, 0, 0, 0, 0, 0, 0, 0, 0, 0, 0, 0, 0, 0, 0, 0, 0, 0, 0, 0, 0, 0, 0, 0, 0, 0, 0, 0, 0, 0, 0, 0, 0, 0, 0, 0, 0, 0, 0, 0, 0, 0, 0, 0, 0, 0, 0, 0, 0, 0, 0, 0, 0, 0, 0, 0, 0, 0, 0, 0, 0, 0, 0, 0, 0, 0, 0, 0, 0, 0, 0, 0, 0, 0, 0, 0, 0, 0, 0, 0, 0, 0, 0, 0, 0, 0, 0, 0, 0]\n",
      "Euclidean distance: 46.78675026115834\n",
      "1/1 [==============================] - 0s 14ms/step\n",
      "-SAMPLE N. 45\n",
      "Predicted audio features: [0, 0, 0, 0, 0, 0, 0, 0, 0, 0, 0, 0, 0, 6, 11, 0, 0, 10, 0, 12, 0, 0, 4, 4, 0, 0, 0, 10, 0, 12, 0, 0, 4, 4, 4, 4, 0, 7, 4, 4, 0, 23, 0, 0, 0, 0, 0, 0, 5, 0, 0, 0, 9, 0, 0, 0, 4, 4, 4, 4, 0, 0, 0, 0, 0, 0, 0, 0, 0, 0, 0, 0, 0, 0, 0, 0, 0, 0, 0, 0, 0, 0, 0, 0, 0, 0, 0, 0, 0, 0, 0, 0, 0, 0, 0, 0, 0, 0, 0, 0, 0, 0, 0, 0, 0, 0, 0, 0, 0, 0, 0, 0, 0, 0, 0, 0, 0, 0, 0, 0, 0, 0, 0, 0, 0, 0, 0, 0, 0, 0, 0, 0, 0, 0, 0, 0, 0, 0, 0, 0, 0, 0, 0, 0, 0, 0, 0, 0, 0, 0]\n",
      "---Target audio features: [0, 0, 0, 0, 0, 0, 0, 0, 17, 0, 0, 0, 0, 0, 8, 0, 25, 0, 5, 14, 0, 4, 4, 6, 11, 0, 5, 4, 4, 23, 0, 0, 0, 0, 7, 0, 0, 9, 9, 0, 0, 4, 0, 6, 6, 0, 8, 0, 4, 4, 4, 6, 11, 5, 4, 0, 0, 15, 0, 0, 0, 0, 0, 5, 0, 20, 20, 0, 0, 6, 0, 0, 4, 4, 0, 0, 0, 0, 0, 0, 0, 0, 0, 0, 0, 0, 0, 0, 0, 0, 0, 0, 0, 0, 0, 0, 0, 0, 0, 0, 0, 0, 0, 0, 0, 0, 0, 0, 0, 0, 0, 0, 0, 0, 0, 0, 0, 0, 0, 0, 0, 0, 0, 0, 0, 0, 0, 0, 0, 0, 0, 0, 0, 0, 0, 0, 0, 0, 0, 0, 0, 0, 0, 0, 0, 0, 0, 0, 0, 0]\n",
      "Euclidean distance: 56.586217403180434\n",
      "1/1 [==============================] - 0s 12ms/step\n",
      "-SAMPLE N. 46\n",
      "Predicted audio features: [0, 0, 0, 0, 0, 0, 0, 0, 0, 0, 0, 0, 6, 6, 11, 0, 10, 0, 12, 0, 0, 4, 4, 0, 0, 10, 12, 12, 4, 4, 4, 4, 7, 4, 4, 0, 12, 0, 0, 0, 23, 0, 8, 8, 0, 0, 0, 0, 8, 9, 9, 9, 0, 4, 4, 4, 0, 0, 0, 0, 0, 0, 0, 0, 0, 0, 0, 0, 0, 0, 0, 0, 0, 0, 0, 0, 0, 0, 0, 0, 0, 0, 0, 0, 0, 0, 0, 0, 0, 0, 0, 0, 0, 0, 0, 0, 0, 0, 0, 0, 0, 0, 0, 0, 0, 0, 0, 0, 0, 0, 0, 0, 0, 0, 0, 0, 0, 0, 0, 0, 0, 0, 0, 0, 0, 0, 0, 0, 0, 0, 0, 0, 0, 0, 0, 0, 0, 0, 0, 0, 0, 0, 0, 0, 0, 0, 0, 0, 0, 0]\n",
      "---Target audio features: [0, 0, 0, 17, 0, 0, 0, 0, 0, 8, 0, 25, 0, 5, 0, 4, 4, 4, 6, 11, 0, 5, 4, 4, 23, 0, 0, 0, 0, 7, 0, 0, 9, 9, 0, 0, 4, 0, 6, 6, 0, 8, 0, 4, 4, 6, 11, 5, 4, 4, 0, 13, 0, 0, 0, 10, 10, 21, 0, 11, 6, 6, 0, 4, 4, 4, 4, 0, 0, 0, 0, 0, 0, 0, 0, 0, 0, 0, 0, 0, 0, 0, 0, 0, 0, 0, 0, 0, 0, 0, 0, 0, 0, 0, 0, 0, 0, 0, 0, 0, 0, 0, 0, 0, 0, 0, 0, 0, 0, 0, 0, 0, 0, 0, 0, 0, 0, 0, 0, 0, 0, 0, 0, 0, 0, 0, 0, 0, 0, 0, 0, 0, 0, 0, 0, 0, 0, 0, 0, 0, 0, 0, 0, 0, 0, 0, 0, 0, 0, 0]\n",
      "Euclidean distance: 66.39277069079132\n",
      "1/1 [==============================] - 0s 12ms/step\n",
      "-SAMPLE N. 47\n",
      "Predicted audio features: [0, 0, 0, 0, 0, 0, 0, 0, 0, 0, 0, 0, 6, 6, 11, 0, 10, 0, 12, 0, 0, 4, 0, 0, 0, 10, 12, 12, 4, 4, 4, 4, 7, 4, 4, 0, 12, 0, 0, 0, 23, 0, 8, 8, 0, 0, 0, 0, 8, 8, 9, 9, 0, 0, 4, 4, 4, 4, 0, 0, 0, 0, 0, 0, 0, 0, 0, 0, 0, 0, 0, 0, 0, 0, 0, 0, 0, 0, 0, 0, 0, 0, 0, 0, 0, 0, 0, 0, 0, 0, 0, 0, 0, 0, 0, 0, 0, 0, 0, 0, 0, 0, 0, 0, 0, 0, 0, 0, 0, 0, 0, 0, 0, 0, 0, 0, 0, 0, 0, 0, 0, 0, 0, 0, 0, 0, 0, 0, 0, 0, 0, 0, 0, 0, 0, 0, 0, 0, 0, 0, 0, 0, 0, 0, 0, 0, 0, 0, 0, 0]\n",
      "---Target audio features: [0, 0, 0, 17, 0, 0, 0, 0, 8, 8, 0, 25, 5, 5, 0, 4, 4, 4, 6, 11, 5, 4, 4, 0, 23, 0, 0, 0, 5, 0, 9, 9, 9, 0, 0, 4, 0, 0, 0, 0, 16, 0, 23, 0, 4, 4, 0, 0, 0, 0, 0, 0, 0, 0, 0, 0, 0, 0, 0, 0, 0, 0, 0, 0, 0, 0, 0, 0, 0, 0, 0, 0, 0, 0, 0, 0, 0, 0, 0, 0, 0, 0, 0, 0, 0, 0, 0, 0, 0, 0, 0, 0, 0, 0, 0, 0, 0, 0, 0, 0, 0, 0, 0, 0, 0, 0, 0, 0, 0, 0, 0, 0, 0, 0, 0, 0, 0, 0, 0, 0, 0, 0, 0, 0, 0, 0, 0, 0, 0, 0, 0, 0, 0, 0, 0, 0, 0, 0, 0, 0, 0, 0, 0, 0, 0, 0, 0, 0, 0, 0]\n",
      "Euclidean distance: 57.74945887192364\n"
     ]
    },
    {
     "name": "stdout",
     "output_type": "stream",
     "text": [
      "1/1 [==============================] - 0s 13ms/step\n",
      "-SAMPLE N. 48\n",
      "Predicted audio features: [0, 0, 0, 0, 0, 8, 0, 0, 25, 0, 0, 0, 4, 4, 6, 11, 11, 5, 0, 4, 0, 0, 20, 0, 0, 0, 0, 0, 8, 0, 0, 5, 0, 0, 4, 4, 0, 9, 0, 0, 0, 0, 8, 18, 0, 0, 0, 4, 4, 0, 0, 0, 0, 0, 0, 0, 0, 0, 0, 0, 0, 0, 0, 0, 0, 0, 0, 0, 0, 0, 0, 0, 0, 0, 0, 0, 0, 0, 0, 0, 0, 0, 0, 0, 0, 0, 0, 0, 0, 0, 0, 0, 0, 0, 0, 0, 0, 0, 0, 0, 0, 0, 0, 0, 0, 0, 0, 0, 0, 0, 0, 0, 0, 0, 0, 0, 0, 0, 0, 0, 0, 0, 0, 0, 0, 0, 0, 0, 0, 0, 0, 0, 0, 0, 0, 0, 0, 0, 0, 0, 0, 0, 0, 0, 0, 0, 0, 0, 0, 0]\n",
      "---Target audio features: [0, 0, 0, 17, 0, 0, 0, 0, 0, 8, 0, 25, 0, 5, 0, 4, 4, 4, 6, 11, 0, 5, 4, 4, 23, 0, 0, 0, 5, 0, 0, 0, 9, 9, 0, 0, 4, 4, 14, 14, 0, 0, 0, 0, 0, 0, 8, 18, 0, 0, 9, 0, 4, 4, 4, 4, 4, 0, 0, 0, 0, 0, 0, 0, 0, 0, 0, 0, 0, 0, 0, 0, 0, 0, 0, 0, 0, 0, 0, 0, 0, 0, 0, 0, 0, 0, 0, 0, 0, 0, 0, 0, 0, 0, 0, 0, 0, 0, 0, 0, 0, 0, 0, 0, 0, 0, 0, 0, 0, 0, 0, 0, 0, 0, 0, 0, 0, 0, 0, 0, 0, 0, 0, 0, 0, 0, 0, 0, 0, 0, 0, 0, 0, 0, 0, 0, 0, 0, 0, 0, 0, 0, 0, 0, 0, 0, 0, 0, 0, 0]\n",
      "Euclidean distance: 64.9307323229917\n",
      "1/1 [==============================] - 0s 12ms/step\n",
      "-SAMPLE N. 49\n",
      "Predicted audio features: [0, 0, 0, 0, 0, 0, 0, 0, 0, 0, 0, 0, 6, 11, 0, 0, 10, 12, 0, 0, 4, 0, 0, 0, 10, 12, 12, 4, 4, 4, 7, 4, 4, 0, 26, 26, 9, 9, 0, 0, 0, 0, 10, 0, 0, 20, 0, 5, 4, 4, 0, 0, 0, 0, 0, 0, 0, 0, 0, 0, 0, 0, 0, 0, 0, 0, 0, 0, 0, 0, 0, 0, 0, 0, 0, 0, 0, 0, 0, 0, 0, 0, 0, 0, 0, 0, 0, 0, 0, 0, 0, 0, 0, 0, 0, 0, 0, 0, 0, 0, 0, 0, 0, 0, 0, 0, 0, 0, 0, 0, 0, 0, 0, 0, 0, 0, 0, 0, 0, 0, 0, 0, 0, 0, 0, 0, 0, 0, 0, 0, 0, 0, 0, 0, 0, 0, 0, 0, 0, 0, 0, 0, 0, 0, 0, 0, 0, 0, 0, 0]\n",
      "---Target audio features: [0, 0, 0, 13, 13, 13, 0, 8, 0, 0, 0, 0, 6, 0, 0, 0, 7, 0, 0, 6, 5, 5, 4, 4, 0, 6, 11, 5, 0, 4, 4, 23, 0, 0, 0, 0, 0, 5, 0, 0, 0, 9, 0, 0, 4, 4, 4, 0, 0, 0, 0, 0, 0, 0, 0, 0, 0, 0, 0, 0, 0, 0, 0, 0, 0, 0, 0, 0, 0, 0, 0, 0, 0, 0, 0, 0, 0, 0, 0, 0, 0, 0, 0, 0, 0, 0, 0, 0, 0, 0, 0, 0, 0, 0, 0, 0, 0, 0, 0, 0, 0, 0, 0, 0, 0, 0, 0, 0, 0, 0, 0, 0, 0, 0, 0, 0, 0, 0, 0, 0, 0, 0, 0, 0, 0, 0, 0, 0, 0, 0, 0, 0, 0, 0, 0, 0, 0, 0, 0, 0, 0, 0, 0, 0, 0, 0, 0, 0, 0, 0]\n",
      "Euclidean distance: 58.770741019660456\n",
      "1/1 [==============================] - 0s 12ms/step\n",
      "-SAMPLE N. 50\n",
      "Predicted audio features: [0, 0, 0, 0, 0, 0, 0, 0, 0, 0, 0, 0, 6, 11, 0, 0, 10, 0, 12, 0, 0, 4, 4, 0, 0, 10, 0, 12, 4, 4, 4, 4, 7, 4, 4, 23, 0, 0, 0, 0, 5, 0, 0, 9, 9, 0, 0, 4, 4, 4, 4, 0, 0, 0, 0, 0, 0, 0, 0, 0, 0, 0, 0, 0, 0, 0, 0, 0, 0, 0, 0, 0, 0, 0, 0, 0, 0, 0, 0, 0, 0, 0, 0, 0, 0, 0, 0, 0, 0, 0, 0, 0, 0, 0, 0, 0, 0, 0, 0, 0, 0, 0, 0, 0, 0, 0, 0, 0, 0, 0, 0, 0, 0, 0, 0, 0, 0, 0, 0, 0, 0, 0, 0, 0, 0, 0, 0, 0, 0, 0, 0, 0, 0, 0, 0, 0, 0, 0, 0, 0, 0, 0, 0, 0, 0, 0, 0, 0, 0, 0]\n",
      "---Target audio features: [0, 0, 17, 0, 0, 0, 8, 8, 0, 25, 5, 5, 0, 4, 4, 6, 11, 0, 5, 4, 4, 23, 0, 0, 5, 0, 0, 9, 9, 0, 0, 4, 0, 6, 0, 8, 0, 4, 4, 6, 11, 5, 4, 4, 0, 15, 0, 0, 0, 0, 5, 0, 20, 0, 0, 0, 6, 0, 4, 4, 0, 0, 0, 0, 0, 0, 0, 0, 0, 0, 0, 0, 0, 0, 0, 0, 0, 0, 0, 0, 0, 0, 0, 0, 0, 0, 0, 0, 0, 0, 0, 0, 0, 0, 0, 0, 0, 0, 0, 0, 0, 0, 0, 0, 0, 0, 0, 0, 0, 0, 0, 0, 0, 0, 0, 0, 0, 0, 0, 0, 0, 0, 0, 0, 0, 0, 0, 0, 0, 0, 0, 0, 0, 0, 0, 0, 0, 0, 0, 0, 0, 0, 0, 0, 0, 0, 0, 0, 0, 0]\n",
      "Euclidean distance: 56.2672195865408\n",
      "1/1 [==============================] - 0s 12ms/step\n",
      "-SAMPLE N. 51\n",
      "Predicted audio features: [0, 0, 0, 0, 0, 0, 0, 0, 0, 0, 6, 11, 11, 0, 10, 0, 12, 0, 0, 4, 4, 0, 0, 10, 12, 12, 4, 4, 4, 4, 7, 4, 0, 23, 11, 0, 0, 0, 0, 8, 8, 0, 9, 0, 5, 0, 4, 4, 4, 0, 0, 0, 0, 0, 0, 0, 0, 0, 0, 0, 0, 0, 0, 0, 0, 0, 0, 0, 0, 0, 0, 0, 0, 0, 0, 0, 0, 0, 0, 0, 0, 0, 0, 0, 0, 0, 0, 0, 0, 0, 0, 0, 0, 0, 0, 0, 0, 0, 0, 0, 0, 0, 0, 0, 0, 0, 0, 0, 0, 0, 0, 0, 0, 0, 0, 0, 0, 0, 0, 0, 0, 0, 0, 0, 0, 0, 0, 0, 0, 0, 0, 0, 0, 0, 0, 0, 0, 0, 0, 0, 0, 0, 0, 0, 0, 0, 0, 0, 0, 0]\n",
      "---Target audio features: [0, 0, 17, 0, 0, 0, 0, 8, 0, 25, 5, 5, 0, 4, 4, 6, 11, 0, 5, 4, 4, 23, 0, 0, 5, 0, 0, 9, 9, 0, 4, 4, 0, 6, 0, 8, 0, 4, 4, 6, 11, 5, 4, 4, 0, 13, 0, 0, 10, 10, 21, 11, 11, 6, 6, 0, 4, 4, 4, 4, 0, 0, 0, 0, 0, 0, 0, 0, 0, 0, 0, 0, 0, 0, 0, 0, 0, 0, 0, 0, 0, 0, 0, 0, 0, 0, 0, 0, 0, 0, 0, 0, 0, 0, 0, 0, 0, 0, 0, 0, 0, 0, 0, 0, 0, 0, 0, 0, 0, 0, 0, 0, 0, 0, 0, 0, 0, 0, 0, 0, 0, 0, 0, 0, 0, 0, 0, 0, 0, 0, 0, 0, 0, 0, 0, 0, 0, 0, 0, 0, 0, 0, 0, 0, 0, 0, 0, 0, 0, 0]\n",
      "Euclidean distance: 62.68173577685928\n",
      "1/1 [==============================] - 0s 12ms/step\n",
      "-SAMPLE N. 52\n",
      "Predicted audio features: [0, 0, 0, 0, 0, 0, 0, 0, 0, 0, 0, 0, 6, 11, 0, 0, 0, 10, 0, 12, 0, 0, 4, 0, 0, 0, 0, 10, 0, 12, 0, 4, 4, 4, 4, 4, 0, 7, 4, 4, 0, 0, 0, 0, 26, 9, 9, 0, 0, 0, 0, 0, 0, 0, 0, 10, 0, 0, 0, 20, 0, 5, 0, 4, 4, 0, 0, 0, 0, 0, 0, 0, 0, 0, 0, 0, 0, 0, 0, 0, 0, 0, 0, 0, 0, 0, 0, 0, 0, 0, 0, 0, 0, 0, 0, 0, 0, 0, 0, 0, 0, 0, 0, 0, 0, 0, 0, 0, 0, 0, 0, 0, 0, 0, 0, 0, 0, 0, 0, 0, 0, 0, 0, 0, 0, 0, 0, 0, 0, 0, 0, 0, 0, 0, 0, 0, 0, 0, 0, 0, 0, 0, 0, 0, 0, 0, 0, 0, 0, 0]\n",
      "---Target audio features: [0, 0, 17, 0, 0, 0, 0, 8, 0, 25, 25, 5, 0, 0, 4, 4, 6, 11, 5, 4, 4, 23, 0, 0, 0, 5, 9, 9, 9, 0, 4, 4, 0, 0, 0, 16, 0, 23, 23, 0, 0, 4, 4, 0, 0, 0, 0, 0, 0, 0, 0, 0, 0, 0, 0, 0, 0, 0, 0, 0, 0, 0, 0, 0, 0, 0, 0, 0, 0, 0, 0, 0, 0, 0, 0, 0, 0, 0, 0, 0, 0, 0, 0, 0, 0, 0, 0, 0, 0, 0, 0, 0, 0, 0, 0, 0, 0, 0, 0, 0, 0, 0, 0, 0, 0, 0, 0, 0, 0, 0, 0, 0, 0, 0, 0, 0, 0, 0, 0, 0, 0, 0, 0, 0, 0, 0, 0, 0, 0, 0, 0, 0, 0, 0, 0, 0, 0, 0, 0, 0, 0, 0, 0, 0, 0, 0, 0, 0, 0, 0]\n",
      "Euclidean distance: 71.442284397967\n",
      "1/1 [==============================] - 0s 19ms/step\n",
      "-SAMPLE N. 53\n",
      "Predicted audio features: [0, 0, 0, 0, 0, 0, 0, 0, 0, 0, 0, 0, 0, 0, 0, 0, 0, 0, 6, 11, 0, 0, 0, 10, 0, 0, 12, 0, 0, 4, 0, 0, 0, 0, 10, 12, 12, 0, 4, 4, 4, 4, 0, 0, 7, 4, 4, 0, 0, 0, 26, 26, 9, 9, 0, 0, 0, 0, 0, 0, 0, 0, 10, 0, 0, 0, 20, 0, 5, 5, 4, 4, 4, 0, 0, 0, 0, 0, 0, 0, 0, 0, 0, 0, 0, 0, 0, 0, 0, 0, 0, 0, 0, 0, 0, 0, 0, 0, 0, 0, 0, 0, 0, 0, 0, 0, 0, 0, 0, 0, 0, 0, 0, 0, 0, 0, 0, 0, 0, 0, 0, 0, 0, 0, 0, 0, 0, 0, 0, 0, 0, 0, 0, 0, 0, 0, 0, 0, 0, 0, 0, 0, 0, 0, 0, 0, 0, 0, 0, 0]\n",
      "---Target audio features: [0, 0, 17, 0, 0, 0, 0, 8, 0, 25, 0, 5, 0, 4, 4, 4, 6, 11, 5, 4, 4, 23, 0, 0, 0, 5, 0, 9, 9, 9, 0, 0, 4, 4, 14, 14, 0, 0, 0, 0, 0, 8, 18, 0, 9, 0, 4, 4, 4, 4, 0, 0, 0, 0, 0, 0, 0, 0, 0, 0, 0, 0, 0, 0, 0, 0, 0, 0, 0, 0, 0, 0, 0, 0, 0, 0, 0, 0, 0, 0, 0, 0, 0, 0, 0, 0, 0, 0, 0, 0, 0, 0, 0, 0, 0, 0, 0, 0, 0, 0, 0, 0, 0, 0, 0, 0, 0, 0, 0, 0, 0, 0, 0, 0, 0, 0, 0, 0, 0, 0, 0, 0, 0, 0, 0, 0, 0, 0, 0, 0, 0, 0, 0, 0, 0, 0, 0, 0, 0, 0, 0, 0, 0, 0, 0, 0, 0, 0, 0, 0]\n",
      "Euclidean distance: 70.87312607751969\n",
      "1/1 [==============================] - 0s 12ms/step\n",
      "-SAMPLE N. 54\n",
      "Predicted audio features: [0, 0, 0, 0, 0, 0, 0, 0, 0, 0, 0, 0, 6, 11, 0, 0, 10, 12, 0, 0, 4, 0, 0, 10, 0, 12, 0, 4, 4, 4, 7, 4, 4, 23, 23, 0, 0, 0, 0, 5, 0, 0, 9, 9, 0, 0, 4, 4, 4, 4, 4, 0, 0, 0, 0, 0, 0, 0, 0, 0, 0, 0, 0, 0, 0, 0, 0, 0, 0, 0, 0, 0, 0, 0, 0, 0, 0, 0, 0, 0, 0, 0, 0, 0, 0, 0, 0, 0, 0, 0, 0, 0, 0, 0, 0, 0, 0, 0, 0, 0, 0, 0, 0, 0, 0, 0, 0, 0, 0, 0, 0, 0, 0, 0, 0, 0, 0, 0, 0, 0, 0, 0, 0, 0, 0, 0, 0, 0, 0, 0, 0, 0, 0, 0, 0, 0, 0, 0, 0, 0, 0, 0, 0, 0, 0, 0, 0, 0, 0, 0]\n",
      "---Target audio features: [0, 0, 18, 13, 13, 0, 8, 0, 0, 0, 0, 6, 0, 0, 0, 0, 7, 0, 0, 6, 5, 5, 0, 4, 4, 0, 6, 11, 5, 0, 4, 23, 0, 0, 0, 0, 5, 0, 0, 9, 9, 0, 0, 4, 4, 4, 4, 0, 0, 0, 0, 0, 0, 0, 0, 0, 0, 0, 0, 0, 0, 0, 0, 0, 0, 0, 0, 0, 0, 0, 0, 0, 0, 0, 0, 0, 0, 0, 0, 0, 0, 0, 0, 0, 0, 0, 0, 0, 0, 0, 0, 0, 0, 0, 0, 0, 0, 0, 0, 0, 0, 0, 0, 0, 0, 0, 0, 0, 0, 0, 0, 0, 0, 0, 0, 0, 0, 0, 0, 0, 0, 0, 0, 0, 0, 0, 0, 0, 0, 0, 0, 0, 0, 0, 0, 0, 0, 0, 0, 0, 0, 0, 0, 0, 0, 0, 0, 0, 0, 0]\n",
      "Euclidean distance: 56.568542494923804\n",
      "1/1 [==============================] - 0s 12ms/step\n",
      "-SAMPLE N. 55\n",
      "Predicted audio features: [0, 0, 0, 0, 0, 0, 0, 0, 0, 0, 0, 0, 6, 11, 11, 0, 0, 0, 10, 0, 12, 0, 0, 4, 4, 0, 0, 0, 10, 0, 12, 0, 4, 4, 4, 4, 0, 7, 4, 4, 0, 0, 6, 0, 0, 0, 0, 0, 0, 0, 0, 0, 0, 7, 0, 0, 0, 9, 9, 0, 0, 0, 4, 4, 4, 4, 0, 0, 0, 0, 0, 0, 0, 0, 0, 0, 0, 0, 0, 0, 0, 0, 0, 0, 0, 0, 0, 0, 0, 0, 0, 0, 0, 0, 0, 0, 0, 0, 0, 0, 0, 0, 0, 0, 0, 0, 0, 0, 0, 0, 0, 0, 0, 0, 0, 0, 0, 0, 0, 0, 0, 0, 0, 0, 0, 0, 0, 0, 0, 0, 0, 0, 0, 0, 0, 0, 0, 0, 0, 0, 0, 0, 0, 0, 0, 0, 0, 0, 0, 0]\n",
      "---Target audio features: [0, 0, 0, 0, 0, 0, 17, 0, 0, 0, 0, 8, 0, 0, 6, 11, 5, 0, 4, 4, 6, 11, 5, 4, 4, 0, 23, 0, 0, 5, 0, 0, 9, 0, 0, 0, 4, 4, 6, 6, 8, 4, 4, 4, 6, 11, 5, 4, 4, 0, 15, 0, 0, 0, 0, 0, 5, 0, 20, 0, 0, 0, 0, 6, 0, 0, 4, 4, 0, 0, 0, 0, 0, 0, 0, 0, 0, 0, 0, 0, 0, 0, 0, 0, 0, 0, 0, 0, 0, 0, 0, 0, 0, 0, 0, 0, 0, 0, 0, 0, 0, 0, 0, 0, 0, 0, 0, 0, 0, 0, 0, 0, 0, 0, 0, 0, 0, 0, 0, 0, 0, 0, 0, 0, 0, 0, 0, 0, 0, 0, 0, 0, 0, 0, 0, 0, 0, 0, 0, 0, 0, 0, 0, 0, 0, 0, 0, 0, 0, 0]\n",
      "Euclidean distance: 52.1344415909483\n"
     ]
    },
    {
     "name": "stdout",
     "output_type": "stream",
     "text": [
      "1/1 [==============================] - 0s 12ms/step\n",
      "-SAMPLE N. 56\n",
      "Predicted audio features: [0, 0, 0, 0, 0, 0, 0, 0, 0, 0, 0, 0, 6, 11, 0, 0, 10, 0, 12, 0, 0, 4, 4, 0, 0, 10, 12, 12, 4, 4, 4, 4, 7, 4, 0, 23, 0, 0, 0, 0, 5, 0, 0, 9, 9, 0, 0, 4, 4, 4, 4, 4, 0, 0, 0, 0, 0, 0, 0, 0, 0, 0, 0, 0, 0, 0, 0, 0, 0, 0, 0, 0, 0, 0, 0, 0, 0, 0, 0, 0, 0, 0, 0, 0, 0, 0, 0, 0, 0, 0, 0, 0, 0, 0, 0, 0, 0, 0, 0, 0, 0, 0, 0, 0, 0, 0, 0, 0, 0, 0, 0, 0, 0, 0, 0, 0, 0, 0, 0, 0, 0, 0, 0, 0, 0, 0, 0, 0, 0, 0, 0, 0, 0, 0, 0, 0, 0, 0, 0, 0, 0, 0, 0, 0, 0, 0, 0, 0, 0, 0]\n",
      "---Target audio features: [0, 0, 17, 0, 0, 0, 0, 8, 0, 0, 25, 5, 5, 0, 4, 4, 6, 11, 5, 4, 4, 23, 0, 0, 0, 5, 0, 9, 9, 0, 0, 4, 4, 6, 6, 8, 0, 4, 4, 6, 11, 11, 5, 4, 4, 13, 13, 0, 0, 0, 0, 10, 21, 21, 11, 11, 6, 6, 0, 4, 4, 4, 4, 0, 0, 0, 0, 0, 0, 0, 0, 0, 0, 0, 0, 0, 0, 0, 0, 0, 0, 0, 0, 0, 0, 0, 0, 0, 0, 0, 0, 0, 0, 0, 0, 0, 0, 0, 0, 0, 0, 0, 0, 0, 0, 0, 0, 0, 0, 0, 0, 0, 0, 0, 0, 0, 0, 0, 0, 0, 0, 0, 0, 0, 0, 0, 0, 0, 0, 0, 0, 0, 0, 0, 0, 0, 0, 0, 0, 0, 0, 0, 0, 0, 0, 0, 0, 0, 0, 0]\n",
      "Euclidean distance: 65.26101439603893\n",
      "1/1 [==============================] - 0s 12ms/step\n",
      "-SAMPLE N. 57\n",
      "Predicted audio features: [0, 0, 0, 0, 0, 0, 0, 0, 0, 6, 6, 11, 0, 0, 10, 12, 0, 0, 4, 0, 0, 10, 12, 12, 4, 4, 4, 4, 7, 4, 4, 23, 0, 0, 0, 0, 0, 5, 0, 0, 9, 9, 0, 0, 4, 4, 4, 4, 4, 0, 0, 0, 0, 0, 0, 0, 0, 0, 0, 0, 0, 0, 0, 0, 0, 0, 0, 0, 0, 0, 0, 0, 0, 0, 0, 0, 0, 0, 0, 0, 0, 0, 0, 0, 0, 0, 0, 0, 0, 0, 0, 0, 0, 0, 0, 0, 0, 0, 0, 0, 0, 0, 0, 0, 0, 0, 0, 0, 0, 0, 0, 0, 0, 0, 0, 0, 0, 0, 0, 0, 0, 0, 0, 0, 0, 0, 0, 0, 0, 0, 0, 0, 0, 0, 0, 0, 0, 0, 0, 0, 0, 0, 0, 0, 0, 0, 0, 0, 0, 0]\n",
      "---Target audio features: [0, 0, 17, 0, 0, 0, 0, 8, 0, 0, 0, 5, 5, 0, 4, 4, 6, 11, 5, 4, 4, 0, 23, 0, 0, 0, 5, 0, 9, 0, 0, 0, 0, 0, 9, 0, 0, 0, 0, 0, 0, 8, 0, 0, 0, 24, 0, 0, 0, 4, 4, 0, 0, 0, 0, 0, 0, 0, 0, 0, 0, 0, 0, 0, 0, 0, 0, 0, 0, 0, 0, 0, 0, 0, 0, 0, 0, 0, 0, 0, 0, 0, 0, 0, 0, 0, 0, 0, 0, 0, 0, 0, 0, 0, 0, 0, 0, 0, 0, 0, 0, 0, 0, 0, 0, 0, 0, 0, 0, 0, 0, 0, 0, 0, 0, 0, 0, 0, 0, 0, 0, 0, 0, 0, 0, 0, 0, 0, 0, 0, 0, 0, 0, 0, 0, 0, 0, 0, 0, 0, 0, 0, 0, 0, 0, 0, 0, 0, 0, 0]\n",
      "Euclidean distance: 49.38623289946298\n",
      "1/1 [==============================] - 0s 12ms/step\n",
      "-SAMPLE N. 58\n",
      "Predicted audio features: [0, 0, 0, 0, 0, 0, 0, 0, 0, 0, 0, 0, 0, 0, 0, 0, 0, 6, 11, 11, 0, 0, 0, 10, 0, 12, 0, 0, 4, 4, 0, 0, 0, 10, 12, 12, 0, 4, 4, 4, 0, 0, 7, 0, 4, 0, 0, 6, 0, 0, 0, 0, 0, 0, 0, 0, 0, 7, 0, 0, 0, 0, 9, 0, 0, 0, 4, 4, 4, 0, 0, 0, 0, 0, 0, 0, 0, 0, 0, 0, 0, 0, 0, 0, 0, 0, 0, 0, 0, 0, 0, 0, 0, 0, 0, 0, 0, 0, 0, 0, 0, 0, 0, 0, 0, 0, 0, 0, 0, 0, 0, 0, 0, 0, 0, 0, 0, 0, 0, 0, 0, 0, 0, 0, 0, 0, 0, 0, 0, 0, 0, 0, 0, 0, 0, 0, 0, 0, 0, 0, 0, 0, 0, 0, 0, 0, 0, 0, 0, 0]\n",
      "---Target audio features: [0, 0, 17, 0, 0, 0, 0, 8, 0, 0, 25, 5, 5, 0, 4, 4, 6, 11, 5, 4, 4, 23, 0, 0, 0, 5, 0, 0, 9, 9, 0, 0, 0, 4, 4, 0, 14, 14, 0, 0, 0, 0, 0, 0, 0, 0, 0, 8, 18, 0, 9, 9, 0, 4, 4, 4, 4, 4, 0, 0, 0, 0, 0, 0, 0, 0, 0, 0, 0, 0, 0, 0, 0, 0, 0, 0, 0, 0, 0, 0, 0, 0, 0, 0, 0, 0, 0, 0, 0, 0, 0, 0, 0, 0, 0, 0, 0, 0, 0, 0, 0, 0, 0, 0, 0, 0, 0, 0, 0, 0, 0, 0, 0, 0, 0, 0, 0, 0, 0, 0, 0, 0, 0, 0, 0, 0, 0, 0, 0, 0, 0, 0, 0, 0, 0, 0, 0, 0, 0, 0, 0, 0, 0, 0, 0, 0, 0, 0, 0, 0]\n",
      "Euclidean distance: 57.262553208881634\n",
      "1/1 [==============================] - 0s 15ms/step\n",
      "-SAMPLE N. 59\n",
      "Predicted audio features: [0, 0, 0, 0, 0, 0, 0, 0, 0, 0, 0, 0, 0, 0, 0, 0, 6, 11, 0, 0, 0, 0, 10, 0, 12, 0, 0, 4, 4, 0, 0, 0, 10, 0, 12, 0, 4, 4, 4, 4, 0, 0, 7, 4, 4, 0, 23, 0, 0, 0, 0, 0, 0, 0, 0, 5, 0, 0, 0, 9, 9, 9, 0, 0, 0, 4, 4, 4, 4, 4, 0, 0, 0, 0, 0, 0, 0, 0, 0, 0, 0, 0, 0, 0, 0, 0, 0, 0, 0, 0, 0, 0, 0, 0, 0, 0, 0, 0, 0, 0, 0, 0, 0, 0, 0, 0, 0, 0, 0, 0, 0, 0, 0, 0, 0, 0, 0, 0, 0, 0, 0, 0, 0, 0, 0, 0, 0, 0, 0, 0, 0, 0, 0, 0, 0, 0, 0, 0, 0, 0, 0, 0, 0, 0, 0, 0, 0, 0, 0, 0]\n",
      "---Target audio features: [0, 0, 0, 13, 13, 0, 0, 8, 0, 0, 0, 0, 6, 0, 0, 0, 7, 0, 0, 6, 0, 5, 4, 4, 6, 11, 5, 0, 4, 0, 23, 0, 0, 0, 0, 5, 0, 0, 9, 9, 0, 0, 4, 4, 4, 4, 0, 0, 0, 0, 0, 0, 0, 0, 0, 0, 0, 0, 0, 0, 0, 0, 0, 0, 0, 0, 0, 0, 0, 0, 0, 0, 0, 0, 0, 0, 0, 0, 0, 0, 0, 0, 0, 0, 0, 0, 0, 0, 0, 0, 0, 0, 0, 0, 0, 0, 0, 0, 0, 0, 0, 0, 0, 0, 0, 0, 0, 0, 0, 0, 0, 0, 0, 0, 0, 0, 0, 0, 0, 0, 0, 0, 0, 0, 0, 0, 0, 0, 0, 0, 0, 0, 0, 0, 0, 0, 0, 0, 0, 0, 0, 0, 0, 0, 0, 0, 0, 0, 0, 0]\n",
      "Euclidean distance: 51.507281038703645\n",
      "1/1 [==============================] - 0s 12ms/step\n",
      "-SAMPLE N. 60\n",
      "Predicted audio features: [0, 0, 0, 0, 0, 0, 0, 0, 0, 0, 0, 0, 0, 0, 0, 0, 0, 6, 11, 11, 0, 0, 0, 10, 0, 12, 0, 0, 0, 4, 0, 0, 0, 0, 10, 0, 12, 12, 0, 4, 4, 4, 4, 0, 7, 4, 4, 0, 23, 23, 0, 0, 0, 0, 0, 0, 0, 0, 5, 0, 0, 9, 9, 9, 0, 0, 4, 4, 4, 4, 0, 0, 0, 0, 0, 0, 0, 0, 0, 0, 0, 0, 0, 0, 0, 0, 0, 0, 0, 0, 0, 0, 0, 0, 0, 0, 0, 0, 0, 0, 0, 0, 0, 0, 0, 0, 0, 0, 0, 0, 0, 0, 0, 0, 0, 0, 0, 0, 0, 0, 0, 0, 0, 0, 0, 0, 0, 0, 0, 0, 0, 0, 0, 0, 0, 0, 0, 0, 0, 0, 0, 0, 0, 0, 0, 0, 0, 0, 0, 0]\n",
      "---Target audio features: [17, 0, 0, 0, 8, 0, 25, 5, 5, 0, 4, 4, 6, 11, 5, 4, 4, 23, 0, 0, 0, 7, 0, 0, 9, 0, 0, 4, 4, 0, 6, 0, 8, 0, 4, 4, 6, 11, 5, 4, 4, 0, 15, 0, 0, 0, 0, 5, 0, 20, 0, 0, 6, 0, 4, 4, 0, 0, 0, 0, 0, 0, 0, 0, 0, 0, 0, 0, 0, 0, 0, 0, 0, 0, 0, 0, 0, 0, 0, 0, 0, 0, 0, 0, 0, 0, 0, 0, 0, 0, 0, 0, 0, 0, 0, 0, 0, 0, 0, 0, 0, 0, 0, 0, 0, 0, 0, 0, 0, 0, 0, 0, 0, 0, 0, 0, 0, 0, 0, 0, 0, 0, 0, 0, 0, 0, 0, 0, 0, 0, 0, 0, 0, 0, 0, 0, 0, 0, 0, 0, 0, 0, 0, 0, 0, 0, 0, 0, 0, 0]\n",
      "Euclidean distance: 60.18305409332431\n",
      "1/1 [==============================] - 0s 11ms/step\n",
      "-SAMPLE N. 61\n",
      "Predicted audio features: [0, 0, 0, 0, 0, 0, 0, 0, 0, 0, 0, 0, 6, 11, 0, 0, 10, 12, 0, 0, 4, 0, 0, 10, 0, 12, 0, 4, 4, 4, 7, 4, 4, 4, 26, 26, 9, 0, 0, 0, 10, 10, 0, 0, 20, 5, 5, 4, 4, 0, 0, 0, 0, 0, 0, 0, 0, 0, 0, 0, 0, 0, 0, 0, 0, 0, 0, 0, 0, 0, 0, 0, 0, 0, 0, 0, 0, 0, 0, 0, 0, 0, 0, 0, 0, 0, 0, 0, 0, 0, 0, 0, 0, 0, 0, 0, 0, 0, 0, 0, 0, 0, 0, 0, 0, 0, 0, 0, 0, 0, 0, 0, 0, 0, 0, 0, 0, 0, 0, 0, 0, 0, 0, 0, 0, 0, 0, 0, 0, 0, 0, 0, 0, 0, 0, 0, 0, 0, 0, 0, 0, 0, 0, 0, 0, 0, 0, 0, 0, 0]\n",
      "---Target audio features: [0, 17, 0, 0, 8, 8, 25, 0, 5, 0, 4, 4, 6, 11, 5, 4, 4, 0, 23, 0, 0, 5, 0, 0, 9, 0, 0, 4, 4, 6, 0, 8, 0, 4, 4, 6, 11, 5, 4, 4, 0, 13, 0, 0, 0, 10, 0, 21, 11, 11, 6, 6, 0, 4, 4, 4, 0, 0, 0, 0, 0, 0, 0, 0, 0, 0, 0, 0, 0, 0, 0, 0, 0, 0, 0, 0, 0, 0, 0, 0, 0, 0, 0, 0, 0, 0, 0, 0, 0, 0, 0, 0, 0, 0, 0, 0, 0, 0, 0, 0, 0, 0, 0, 0, 0, 0, 0, 0, 0, 0, 0, 0, 0, 0, 0, 0, 0, 0, 0, 0, 0, 0, 0, 0, 0, 0, 0, 0, 0, 0, 0, 0, 0, 0, 0, 0, 0, 0, 0, 0, 0, 0, 0, 0, 0, 0, 0, 0, 0, 0]\n",
      "Euclidean distance: 66.20422947214173\n",
      "1/1 [==============================] - 0s 12ms/step\n",
      "-SAMPLE N. 62\n",
      "Predicted audio features: [0, 0, 0, 0, 0, 0, 0, 0, 0, 0, 0, 0, 6, 0, 11, 0, 0, 10, 0, 12, 0, 0, 4, 0, 0, 0, 10, 0, 12, 0, 4, 4, 4, 0, 7, 4, 4, 0, 0, 23, 0, 0, 0, 0, 0, 0, 0, 5, 5, 0, 0, 0, 9, 9, 0, 0, 0, 4, 4, 4, 4, 0, 0, 0, 0, 0, 0, 0, 0, 0, 0, 0, 0, 0, 0, 0, 0, 0, 0, 0, 0, 0, 0, 0, 0, 0, 0, 0, 0, 0, 0, 0, 0, 0, 0, 0, 0, 0, 0, 0, 0, 0, 0, 0, 0, 0, 0, 0, 0, 0, 0, 0, 0, 0, 0, 0, 0, 0, 0, 0, 0, 0, 0, 0, 0, 0, 0, 0, 0, 0, 0, 0, 0, 0, 0, 0, 0, 0, 0, 0, 0, 0, 0, 0, 0, 0, 0, 0, 0, 0]\n",
      "---Target audio features: [0, 17, 0, 0, 8, 0, 25, 25, 5, 0, 4, 4, 6, 11, 0, 5, 4, 4, 23, 0, 0, 5, 0, 9, 9, 9, 0, 4, 4, 0, 0, 0, 16, 0, 23, 0, 4, 4, 0, 0, 0, 0, 0, 0, 0, 0, 0, 0, 0, 0, 0, 0, 0, 0, 0, 0, 0, 0, 0, 0, 0, 0, 0, 0, 0, 0, 0, 0, 0, 0, 0, 0, 0, 0, 0, 0, 0, 0, 0, 0, 0, 0, 0, 0, 0, 0, 0, 0, 0, 0, 0, 0, 0, 0, 0, 0, 0, 0, 0, 0, 0, 0, 0, 0, 0, 0, 0, 0, 0, 0, 0, 0, 0, 0, 0, 0, 0, 0, 0, 0, 0, 0, 0, 0, 0, 0, 0, 0, 0, 0, 0, 0, 0, 0, 0, 0, 0, 0, 0, 0, 0, 0, 0, 0, 0, 0, 0, 0, 0, 0]\n",
      "Euclidean distance: 66.21933252457322\n",
      "1/1 [==============================] - 0s 12ms/step\n",
      "-SAMPLE N. 63\n",
      "Predicted audio features: [6, 11, 0, 10, 12, 0, 0, 4, 0, 10, 0, 12, 12, 4, 4, 7, 4, 4, 0, 23, 0, 0, 0, 0, 0, 5, 0, 0, 9, 0, 0, 4, 4, 4, 4, 0, 0, 0, 0, 0, 0, 0, 0, 0, 0, 0, 0, 0, 0, 0, 0, 0, 0, 0, 0, 0, 0, 0, 0, 0, 0, 0, 0, 0, 0, 0, 0, 0, 0, 0, 0, 0, 0, 0, 0, 0, 0, 0, 0, 0, 0, 0, 0, 0, 0, 0, 0, 0, 0, 0, 0, 0, 0, 0, 0, 0, 0, 0, 0, 0, 0, 0, 0, 0, 0, 0, 0, 0, 0, 0, 0, 0, 0, 0, 0, 0, 0, 0, 0, 0, 0, 0, 0, 0, 0, 0, 0, 0, 0, 0, 0, 0, 0, 0, 0, 0, 0, 0, 0, 0, 0, 0, 0, 0, 0, 0, 0, 0, 0, 0]\n",
      "---Target audio features: [0, 17, 0, 0, 0, 8, 0, 25, 5, 0, 4, 4, 6, 11, 0, 5, 4, 23, 23, 0, 0, 0, 5, 0, 0, 9, 9, 0, 0, 4, 4, 0, 14, 0, 0, 0, 0, 0, 0, 8, 18, 0, 0, 9, 0, 4, 4, 4, 4, 0, 0, 0, 0, 0, 0, 0, 0, 0, 0, 0, 0, 0, 0, 0, 0, 0, 0, 0, 0, 0, 0, 0, 0, 0, 0, 0, 0, 0, 0, 0, 0, 0, 0, 0, 0, 0, 0, 0, 0, 0, 0, 0, 0, 0, 0, 0, 0, 0, 0, 0, 0, 0, 0, 0, 0, 0, 0, 0, 0, 0, 0, 0, 0, 0, 0, 0, 0, 0, 0, 0, 0, 0, 0, 0, 0, 0, 0, 0, 0, 0, 0, 0, 0, 0, 0, 0, 0, 0, 0, 0, 0, 0, 0, 0, 0, 0, 0, 0, 0, 0]\n",
      "Euclidean distance: 58.872744118140105\n"
     ]
    },
    {
     "name": "stdout",
     "output_type": "stream",
     "text": [
      "1/1 [==============================] - 0s 12ms/step\n",
      "-SAMPLE N. 64\n",
      "Predicted audio features: [0, 0, 0, 0, 0, 17, 0, 0, 0, 0, 0, 0, 8, 0, 0, 25, 0, 5, 0, 0, 4, 4, 4, 0, 6, 11, 0, 0, 5, 4, 4, 0, 0, 12, 0, 0, 0, 0, 23, 0, 8, 8, 0, 0, 0, 0, 0, 8, 8, 0, 9, 9, 0, 0, 0, 0, 4, 4, 0, 0, 0, 0, 0, 6, 0, 0, 0, 8, 0, 4, 4, 0, 0, 6, 11, 5, 5, 4, 4, 0, 13, 13, 0, 0, 0, 0, 0, 10, 10, 10, 21, 0, 11, 11, 6, 6, 0, 0, 4, 4, 4, 4, 0, 0, 0, 0, 0, 0, 0, 0, 0, 0, 0, 0, 0, 0, 0, 0, 0, 0, 0, 0, 0, 0, 0, 0, 0, 0, 0, 0, 0, 0, 0, 0, 0, 0, 0, 0, 0, 0, 0, 0, 0, 0, 0, 0, 0, 0, 0, 0]\n",
      "---Target audio features: [0, 0, 13, 13, 0, 8, 0, 0, 0, 6, 0, 0, 0, 7, 0, 0, 6, 5, 5, 4, 4, 6, 11, 0, 5, 4, 4, 23, 0, 0, 0, 0, 5, 0, 0, 9, 9, 0, 4, 4, 4, 4, 0, 0, 0, 0, 0, 0, 0, 0, 0, 0, 0, 0, 0, 0, 0, 0, 0, 0, 0, 0, 0, 0, 0, 0, 0, 0, 0, 0, 0, 0, 0, 0, 0, 0, 0, 0, 0, 0, 0, 0, 0, 0, 0, 0, 0, 0, 0, 0, 0, 0, 0, 0, 0, 0, 0, 0, 0, 0, 0, 0, 0, 0, 0, 0, 0, 0, 0, 0, 0, 0, 0, 0, 0, 0, 0, 0, 0, 0, 0, 0, 0, 0, 0, 0, 0, 0, 0, 0, 0, 0, 0, 0, 0, 0, 0, 0, 0, 0, 0, 0, 0, 0, 0, 0, 0, 0, 0, 0]\n",
      "Euclidean distance: 69.74955196988724\n",
      "1/1 [==============================] - 0s 15ms/step\n",
      "-SAMPLE N. 65\n",
      "Predicted audio features: [0, 17, 0, 0, 0, 8, 0, 25, 5, 5, 4, 4, 4, 6, 11, 5, 4, 4, 26, 26, 9, 0, 10, 0, 0, 20, 5, 5, 4, 4, 0, 0, 0, 0, 16, 23, 0, 4, 4, 0, 0, 0, 0, 0, 0, 0, 0, 0, 0, 0, 0, 0, 0, 0, 0, 0, 0, 0, 0, 0, 0, 0, 0, 0, 0, 0, 0, 0, 0, 0, 0, 0, 0, 0, 0, 0, 0, 0, 0, 0, 0, 0, 0, 0, 0, 0, 0, 0, 0, 0, 0, 0, 0, 0, 0, 0, 0, 0, 0, 0, 0, 0, 0, 0, 0, 0, 0, 0, 0, 0, 0, 0, 0, 0, 0, 0, 0, 0, 0, 0, 0, 0, 0, 0, 0, 0, 0, 0, 0, 0, 0, 0, 0, 0, 0, 0, 0, 0, 0, 0, 0, 0, 0, 0, 0, 0, 0, 0, 0, 0]\n",
      "---Target audio features: [0, 0, 0, 17, 0, 0, 0, 8, 8, 0, 25, 5, 5, 12, 0, 4, 4, 6, 11, 0, 5, 4, 4, 23, 0, 0, 0, 5, 0, 9, 9, 0, 0, 4, 4, 0, 6, 0, 8, 0, 4, 4, 4, 6, 11, 5, 4, 4, 0, 15, 15, 0, 0, 0, 0, 5, 0, 20, 0, 0, 0, 6, 0, 4, 4, 0, 0, 0, 0, 0, 0, 0, 0, 0, 0, 0, 0, 0, 0, 0, 0, 0, 0, 0, 0, 0, 0, 0, 0, 0, 0, 0, 0, 0, 0, 0, 0, 0, 0, 0, 0, 0, 0, 0, 0, 0, 0, 0, 0, 0, 0, 0, 0, 0, 0, 0, 0, 0, 0, 0, 0, 0, 0, 0, 0, 0, 0, 0, 0, 0, 0, 0, 0, 0, 0, 0, 0, 0, 0, 0, 0, 0, 0, 0, 0, 0, 0, 0, 0, 0]\n",
      "Euclidean distance: 74.67931440499437\n",
      "1/1 [==============================] - 0s 12ms/step\n",
      "-SAMPLE N. 66\n",
      "Predicted audio features: [0, 0, 0, 0, 0, 0, 0, 0, 0, 0, 0, 0, 0, 0, 6, 0, 11, 0, 0, 0, 0, 10, 0, 12, 0, 0, 4, 4, 0, 0, 0, 0, 10, 0, 12, 12, 0, 4, 4, 4, 4, 0, 0, 7, 4, 0, 0, 0, 23, 0, 0, 0, 0, 0, 0, 0, 0, 0, 0, 5, 0, 0, 0, 9, 9, 0, 0, 0, 4, 4, 4, 4, 4, 4, 0, 0, 0, 0, 0, 0, 0, 0, 0, 0, 0, 0, 0, 0, 0, 0, 0, 0, 0, 0, 0, 0, 0, 0, 0, 0, 0, 0, 0, 0, 0, 0, 0, 0, 0, 0, 0, 0, 0, 0, 0, 0, 0, 0, 0, 0, 0, 0, 0, 0, 0, 0, 0, 0, 0, 0, 0, 0, 0, 0, 0, 0, 0, 0, 0, 0, 0, 0, 0, 0, 0, 0, 0, 0, 0, 0]\n",
      "---Target audio features: [0, 17, 0, 0, 0, 0, 8, 0, 25, 0, 5, 12, 0, 4, 4, 6, 11, 0, 5, 4, 4, 23, 0, 0, 0, 5, 0, 0, 9, 0, 0, 4, 4, 0, 6, 0, 8, 0, 4, 4, 6, 11, 5, 4, 4, 0, 13, 0, 0, 0, 10, 10, 21, 11, 11, 6, 0, 0, 4, 0, 0, 0, 0, 0, 0, 0, 0, 0, 0, 0, 0, 0, 0, 0, 0, 0, 0, 0, 0, 0, 0, 0, 0, 0, 0, 0, 0, 0, 0, 0, 0, 0, 0, 0, 0, 0, 0, 0, 0, 0, 0, 0, 0, 0, 0, 0, 0, 0, 0, 0, 0, 0, 0, 0, 0, 0, 0, 0, 0, 0, 0, 0, 0, 0, 0, 0, 0, 0, 0, 0, 0, 0, 0, 0, 0, 0, 0, 0, 0, 0, 0, 0, 0, 0, 0, 0, 0, 0, 0, 0]\n",
      "Euclidean distance: 64.01562309311689\n",
      "1/1 [==============================] - 0s 12ms/step\n",
      "-SAMPLE N. 67\n",
      "Predicted audio features: [0, 0, 0, 0, 0, 0, 0, 0, 0, 0, 0, 0, 0, 0, 0, 0, 6, 11, 11, 0, 0, 0, 10, 0, 12, 0, 0, 0, 4, 0, 0, 0, 0, 10, 0, 12, 12, 0, 4, 4, 4, 4, 0, 7, 4, 4, 0, 23, 23, 0, 0, 0, 0, 0, 0, 0, 0, 5, 0, 0, 9, 9, 9, 0, 0, 4, 4, 4, 4, 0, 0, 0, 0, 0, 0, 0, 0, 0, 0, 0, 0, 0, 0, 0, 0, 0, 0, 0, 0, 0, 0, 0, 0, 0, 0, 0, 0, 0, 0, 0, 0, 0, 0, 0, 0, 0, 0, 0, 0, 0, 0, 0, 0, 0, 0, 0, 0, 0, 0, 0, 0, 0, 0, 0, 0, 0, 0, 0, 0, 0, 0, 0, 0, 0, 0, 0, 0, 0, 0, 0, 0, 0, 0, 0, 0, 0, 0, 0, 0, 0]\n",
      "---Target audio features: [0, 0, 0, 15, 0, 0, 0, 0, 0, 16, 0, 0, 0, 0, 12, 0, 0, 0, 0, 5, 0, 0, 4, 23, 0, 0, 0, 5, 0, 0, 0, 9, 9, 0, 0, 0, 7, 0, 0, 0, 23, 0, 0, 4, 4, 0, 0, 0, 0, 0, 0, 0, 0, 0, 0, 0, 0, 0, 0, 0, 0, 0, 0, 0, 0, 0, 0, 0, 0, 0, 0, 0, 0, 0, 0, 0, 0, 0, 0, 0, 0, 0, 0, 0, 0, 0, 0, 0, 0, 0, 0, 0, 0, 0, 0, 0, 0, 0, 0, 0, 0, 0, 0, 0, 0, 0, 0, 0, 0, 0, 0, 0, 0, 0, 0, 0, 0, 0, 0, 0, 0, 0, 0, 0, 0, 0, 0, 0, 0, 0, 0, 0, 0, 0, 0, 0, 0, 0, 0, 0, 0, 0, 0, 0, 0, 0, 0, 0, 0, 0]\n",
      "Euclidean distance: 62.71363488110062\n",
      "1/1 [==============================] - 0s 12ms/step\n",
      "-SAMPLE N. 68\n",
      "Predicted audio features: [0, 0, 0, 0, 0, 0, 0, 0, 0, 0, 0, 0, 0, 0, 0, 0, 0, 6, 11, 11, 0, 0, 0, 10, 0, 12, 0, 0, 0, 4, 0, 0, 0, 0, 10, 0, 12, 12, 0, 4, 4, 4, 4, 0, 7, 4, 4, 0, 23, 23, 0, 0, 0, 0, 0, 0, 0, 0, 5, 0, 0, 9, 9, 9, 0, 0, 4, 4, 4, 4, 0, 0, 0, 0, 0, 0, 0, 0, 0, 0, 0, 0, 0, 0, 0, 0, 0, 0, 0, 0, 0, 0, 0, 0, 0, 0, 0, 0, 0, 0, 0, 0, 0, 0, 0, 0, 0, 0, 0, 0, 0, 0, 0, 0, 0, 0, 0, 0, 0, 0, 0, 0, 0, 0, 0, 0, 0, 0, 0, 0, 0, 0, 0, 0, 0, 0, 0, 0, 0, 0, 0, 0, 0, 0, 0, 0, 0, 0, 0, 0]\n",
      "---Target audio features: [0, 0, 0, 15, 0, 8, 0, 0, 0, 8, 0, 0, 12, 5, 0, 4, 4, 6, 11, 0, 5, 4, 4, 23, 0, 0, 5, 0, 0, 0, 9, 9, 0, 0, 4, 0, 14, 0, 0, 0, 0, 0, 8, 18, 0, 9, 9, 4, 4, 4, 4, 4, 0, 0, 0, 0, 0, 0, 0, 0, 0, 0, 0, 0, 0, 0, 0, 0, 0, 0, 0, 0, 0, 0, 0, 0, 0, 0, 0, 0, 0, 0, 0, 0, 0, 0, 0, 0, 0, 0, 0, 0, 0, 0, 0, 0, 0, 0, 0, 0, 0, 0, 0, 0, 0, 0, 0, 0, 0, 0, 0, 0, 0, 0, 0, 0, 0, 0, 0, 0, 0, 0, 0, 0, 0, 0, 0, 0, 0, 0, 0, 0, 0, 0, 0, 0, 0, 0, 0, 0, 0, 0, 0, 0, 0, 0, 0, 0, 0, 0]\n",
      "Euclidean distance: 54.96362433464518\n",
      "1/1 [==============================] - 0s 14ms/step\n",
      "-SAMPLE N. 69\n",
      "Predicted audio features: [0, 0, 0, 0, 0, 0, 0, 0, 0, 0, 0, 0, 6, 11, 0, 0, 10, 0, 12, 0, 0, 4, 4, 0, 0, 10, 12, 12, 4, 4, 4, 4, 7, 4, 0, 23, 0, 0, 0, 0, 5, 0, 0, 9, 9, 0, 0, 4, 4, 4, 4, 4, 0, 0, 0, 0, 0, 0, 0, 0, 0, 0, 0, 0, 0, 0, 0, 0, 0, 0, 0, 0, 0, 0, 0, 0, 0, 0, 0, 0, 0, 0, 0, 0, 0, 0, 0, 0, 0, 0, 0, 0, 0, 0, 0, 0, 0, 0, 0, 0, 0, 0, 0, 0, 0, 0, 0, 0, 0, 0, 0, 0, 0, 0, 0, 0, 0, 0, 0, 0, 0, 0, 0, 0, 0, 0, 0, 0, 0, 0, 0, 0, 0, 0, 0, 0, 0, 0, 0, 0, 0, 0, 0, 0, 0, 0, 0, 0, 0, 0]\n",
      "---Target audio features: [0, 0, 0, 18, 13, 13, 0, 8, 0, 0, 0, 0, 6, 0, 0, 0, 7, 0, 0, 6, 0, 5, 0, 4, 0, 6, 11, 5, 4, 4, 23, 0, 0, 0, 0, 5, 0, 0, 9, 9, 0, 4, 4, 4, 4, 0, 0, 0, 0, 0, 0, 0, 0, 0, 0, 0, 0, 0, 0, 0, 0, 0, 0, 0, 0, 0, 0, 0, 0, 0, 0, 0, 0, 0, 0, 0, 0, 0, 0, 0, 0, 0, 0, 0, 0, 0, 0, 0, 0, 0, 0, 0, 0, 0, 0, 0, 0, 0, 0, 0, 0, 0, 0, 0, 0, 0, 0, 0, 0, 0, 0, 0, 0, 0, 0, 0, 0, 0, 0, 0, 0, 0, 0, 0, 0, 0, 0, 0, 0, 0, 0, 0, 0, 0, 0, 0, 0, 0, 0, 0, 0, 0, 0, 0, 0, 0, 0, 0, 0, 0]\n",
      "Euclidean distance: 47.43416490252569\n",
      "1/1 [==============================] - 0s 12ms/step\n",
      "-SAMPLE N. 70\n",
      "Predicted audio features: [0, 11, 0, 0, 0, 10, 12, 0, 0, 4, 4, 0, 0, 0, 10, 0, 12, 0, 4, 4, 4, 4, 7, 4, 4, 0, 0, 0, 26, 26, 9, 9, 0, 0, 0, 0, 0, 0, 0, 10, 0, 0, 20, 5, 5, 4, 4, 0, 0, 0, 0, 0, 0, 0, 0, 0, 0, 0, 0, 0, 0, 0, 0, 0, 0, 0, 0, 0, 0, 0, 0, 0, 0, 0, 0, 0, 0, 0, 0, 0, 0, 0, 0, 0, 0, 0, 0, 0, 0, 0, 0, 0, 0, 0, 0, 0, 0, 0, 0, 0, 0, 0, 0, 0, 0, 0, 0, 0, 0, 0, 0, 0, 0, 0, 0, 0, 0, 0, 0, 0, 0, 0, 0, 0, 0, 0, 0, 0, 0, 0, 0, 0, 0, 0, 0, 0, 0, 0, 0, 0, 0, 0, 0, 0, 0, 0, 0, 0, 0, 0]\n",
      "---Target audio features: [0, 0, 0, 8, 0, 25, 0, 5, 14, 4, 4, 6, 11, 5, 4, 23, 0, 0, 7, 0, 0, 9, 9, 0, 0, 4, 4, 6, 8, 0, 4, 4, 4, 6, 11, 5, 4, 4, 15, 0, 0, 0, 5, 0, 20, 0, 0, 6, 6, 4, 4, 4, 0, 0, 0, 0, 0, 0, 0, 0, 0, 0, 0, 0, 0, 0, 0, 0, 0, 0, 0, 0, 0, 0, 0, 0, 0, 0, 0, 0, 0, 0, 0, 0, 0, 0, 0, 0, 0, 0, 0, 0, 0, 0, 0, 0, 0, 0, 0, 0, 0, 0, 0, 0, 0, 0, 0, 0, 0, 0, 0, 0, 0, 0, 0, 0, 0, 0, 0, 0, 0, 0, 0, 0, 0, 0, 0, 0, 0, 0, 0, 0, 0, 0, 0, 0, 0, 0, 0, 0, 0, 0, 0, 0, 0, 0, 0, 0, 0, 0]\n",
      "Euclidean distance: 63.7808748764079\n",
      "1/1 [==============================] - 0s 15ms/step\n",
      "-SAMPLE N. 71\n",
      "Predicted audio features: [0, 6, 11, 0, 0, 10, 0, 12, 0, 0, 4, 0, 0, 0, 10, 0, 12, 12, 0, 4, 4, 4, 4, 0, 7, 4, 4, 0, 0, 23, 0, 0, 0, 0, 0, 0, 5, 0, 0, 0, 9, 9, 0, 0, 4, 4, 4, 4, 4, 0, 0, 0, 0, 0, 0, 0, 0, 0, 0, 0, 0, 0, 0, 0, 0, 0, 0, 0, 0, 0, 0, 0, 0, 0, 0, 0, 0, 0, 0, 0, 0, 0, 0, 0, 0, 0, 0, 0, 0, 0, 0, 0, 0, 0, 0, 0, 0, 0, 0, 0, 0, 0, 0, 0, 0, 0, 0, 0, 0, 0, 0, 0, 0, 0, 0, 0, 0, 0, 0, 0, 0, 0, 0, 0, 0, 0, 0, 0, 0, 0, 0, 0, 0, 0, 0, 0, 0, 0, 0, 0, 0, 0, 0, 0, 0, 0, 0, 0, 0, 0]\n",
      "---Target audio features: [17, 0, 0, 8, 25, 25, 5, 0, 4, 4, 6, 11, 5, 4, 4, 23, 0, 0, 5, 0, 0, 9, 0, 0, 0, 4, 4, 6, 8, 0, 4, 4, 6, 11, 5, 4, 4, 0, 13, 0, 0, 0, 10, 0, 21, 11, 0, 6, 6, 4, 4, 4, 0, 0, 0, 0, 0, 0, 0, 0, 0, 0, 0, 0, 0, 0, 0, 0, 0, 0, 0, 0, 0, 0, 0, 0, 0, 0, 0, 0, 0, 0, 0, 0, 0, 0, 0, 0, 0, 0, 0, 0, 0, 0, 0, 0, 0, 0, 0, 0, 0, 0, 0, 0, 0, 0, 0, 0, 0, 0, 0, 0, 0, 0, 0, 0, 0, 0, 0, 0, 0, 0, 0, 0, 0, 0, 0, 0, 0, 0, 0, 0, 0, 0, 0, 0, 0, 0, 0, 0, 0, 0, 0, 0, 0, 0, 0, 0, 0, 0]\n",
      "Euclidean distance: 66.5432190384565\n"
     ]
    },
    {
     "name": "stdout",
     "output_type": "stream",
     "text": [
      "1/1 [==============================] - 0s 12ms/step\n",
      "-SAMPLE N. 72\n",
      "Predicted audio features: [6, 11, 0, 10, 0, 12, 0, 0, 4, 4, 0, 0, 0, 10, 0, 12, 0, 4, 4, 4, 4, 4, 0, 7, 4, 0, 0, 23, 0, 0, 0, 0, 0, 0, 5, 0, 0, 0, 9, 9, 0, 0, 0, 4, 4, 4, 4, 0, 0, 0, 0, 0, 0, 0, 0, 0, 0, 0, 0, 0, 0, 0, 0, 0, 0, 0, 0, 0, 0, 0, 0, 0, 0, 0, 0, 0, 0, 0, 0, 0, 0, 0, 0, 0, 0, 0, 0, 0, 0, 0, 0, 0, 0, 0, 0, 0, 0, 0, 0, 0, 0, 0, 0, 0, 0, 0, 0, 0, 0, 0, 0, 0, 0, 0, 0, 0, 0, 0, 0, 0, 0, 0, 0, 0, 0, 0, 0, 0, 0, 0, 0, 0, 0, 0, 0, 0, 0, 0, 0, 0, 0, 0, 0, 0, 0, 0, 0, 0, 0, 0]\n",
      "---Target audio features: [17, 0, 0, 8, 0, 25, 5, 5, 0, 4, 6, 11, 5, 5, 4, 23, 0, 0, 5, 0, 9, 9, 0, 0, 4, 4, 0, 0, 16, 0, 23, 0, 4, 4, 4, 0, 0, 0, 0, 0, 0, 0, 0, 0, 0, 0, 0, 0, 0, 0, 0, 0, 0, 0, 0, 0, 0, 0, 0, 0, 0, 0, 0, 0, 0, 0, 0, 0, 0, 0, 0, 0, 0, 0, 0, 0, 0, 0, 0, 0, 0, 0, 0, 0, 0, 0, 0, 0, 0, 0, 0, 0, 0, 0, 0, 0, 0, 0, 0, 0, 0, 0, 0, 0, 0, 0, 0, 0, 0, 0, 0, 0, 0, 0, 0, 0, 0, 0, 0, 0, 0, 0, 0, 0, 0, 0, 0, 0, 0, 0, 0, 0, 0, 0, 0, 0, 0, 0, 0, 0, 0, 0, 0, 0, 0, 0, 0, 0, 0, 0]\n",
      "Euclidean distance: 50.457903246171455\n",
      "1/1 [==============================] - 0s 12ms/step\n",
      "-SAMPLE N. 73\n",
      "Predicted audio features: [0, 0, 0, 0, 0, 0, 0, 0, 0, 0, 0, 0, 0, 0, 0, 0, 6, 11, 0, 0, 0, 0, 10, 0, 12, 0, 0, 4, 4, 0, 0, 0, 10, 0, 12, 0, 4, 4, 4, 4, 0, 0, 7, 4, 4, 0, 23, 0, 0, 0, 0, 0, 0, 0, 0, 5, 0, 0, 0, 9, 9, 9, 0, 0, 0, 4, 4, 4, 4, 4, 0, 0, 0, 0, 0, 0, 0, 0, 0, 0, 0, 0, 0, 0, 0, 0, 0, 0, 0, 0, 0, 0, 0, 0, 0, 0, 0, 0, 0, 0, 0, 0, 0, 0, 0, 0, 0, 0, 0, 0, 0, 0, 0, 0, 0, 0, 0, 0, 0, 0, 0, 0, 0, 0, 0, 0, 0, 0, 0, 0, 0, 0, 0, 0, 0, 0, 0, 0, 0, 0, 0, 0, 0, 0, 0, 0, 0, 0, 0, 0]\n",
      "---Target audio features: [0, 0, 0, 0, 8, 0, 25, 5, 5, 4, 4, 6, 11, 5, 4, 4, 23, 0, 5, 0, 0, 9, 9, 0, 0, 4, 4, 14, 0, 0, 0, 0, 0, 0, 8, 18, 0, 9, 9, 0, 4, 4, 4, 4, 0, 0, 0, 0, 0, 0, 0, 0, 0, 0, 0, 0, 0, 0, 0, 0, 0, 0, 0, 0, 0, 0, 0, 0, 0, 0, 0, 0, 0, 0, 0, 0, 0, 0, 0, 0, 0, 0, 0, 0, 0, 0, 0, 0, 0, 0, 0, 0, 0, 0, 0, 0, 0, 0, 0, 0, 0, 0, 0, 0, 0, 0, 0, 0, 0, 0, 0, 0, 0, 0, 0, 0, 0, 0, 0, 0, 0, 0, 0, 0, 0, 0, 0, 0, 0, 0, 0, 0, 0, 0, 0, 0, 0, 0, 0, 0, 0, 0, 0, 0, 0, 0, 0, 0, 0, 0]\n",
      "Euclidean distance: 57.0087712549569\n",
      "1/1 [==============================] - 0s 12ms/step\n",
      "-SAMPLE N. 74\n",
      "Predicted audio features: [6, 11, 11, 10, 0, 12, 0, 4, 0, 0, 10, 0, 12, 4, 4, 4, 4, 7, 4, 4, 23, 0, 0, 0, 5, 0, 0, 9, 9, 0, 0, 4, 4, 4, 4, 0, 0, 0, 0, 0, 0, 0, 0, 0, 0, 0, 0, 0, 0, 0, 0, 0, 0, 0, 0, 0, 0, 0, 0, 0, 0, 0, 0, 0, 0, 0, 0, 0, 0, 0, 0, 0, 0, 0, 0, 0, 0, 0, 0, 0, 0, 0, 0, 0, 0, 0, 0, 0, 0, 0, 0, 0, 0, 0, 0, 0, 0, 0, 0, 0, 0, 0, 0, 0, 0, 0, 0, 0, 0, 0, 0, 0, 0, 0, 0, 0, 0, 0, 0, 0, 0, 0, 0, 0, 0, 0, 0, 0, 0, 0, 0, 0, 0, 0, 0, 0, 0, 0, 0, 0, 0, 0, 0, 0, 0, 0, 0, 0, 0, 0]\n",
      "---Target audio features: [13, 13, 0, 8, 0, 0, 0, 0, 0, 6, 6, 0, 0, 7, 0, 0, 26, 5, 0, 4, 4, 6, 11, 5, 4, 4, 23, 0, 0, 0, 5, 0, 0, 9, 9, 0, 0, 4, 4, 4, 0, 0, 0, 0, 0, 0, 0, 0, 0, 0, 0, 0, 0, 0, 0, 0, 0, 0, 0, 0, 0, 0, 0, 0, 0, 0, 0, 0, 0, 0, 0, 0, 0, 0, 0, 0, 0, 0, 0, 0, 0, 0, 0, 0, 0, 0, 0, 0, 0, 0, 0, 0, 0, 0, 0, 0, 0, 0, 0, 0, 0, 0, 0, 0, 0, 0, 0, 0, 0, 0, 0, 0, 0, 0, 0, 0, 0, 0, 0, 0, 0, 0, 0, 0, 0, 0, 0, 0, 0, 0, 0, 0, 0, 0, 0, 0, 0, 0, 0, 0, 0, 0, 0, 0, 0, 0, 0, 0, 0, 0]\n",
      "Euclidean distance: 49.84977432245807\n",
      "1/1 [==============================] - 0s 12ms/step\n",
      "-SAMPLE N. 75\n",
      "Predicted audio features: [0, 0, 0, 0, 0, 0, 0, 0, 0, 0, 0, 0, 0, 0, 0, 0, 0, 6, 11, 11, 0, 0, 0, 10, 0, 12, 0, 0, 0, 4, 0, 0, 0, 0, 10, 0, 12, 12, 0, 4, 4, 4, 4, 0, 7, 4, 4, 0, 23, 23, 0, 0, 0, 0, 0, 0, 0, 0, 5, 0, 0, 9, 9, 9, 0, 0, 4, 4, 4, 4, 0, 0, 0, 0, 0, 0, 0, 0, 0, 0, 0, 0, 0, 0, 0, 0, 0, 0, 0, 0, 0, 0, 0, 0, 0, 0, 0, 0, 0, 0, 0, 0, 0, 0, 0, 0, 0, 0, 0, 0, 0, 0, 0, 0, 0, 0, 0, 0, 0, 0, 0, 0, 0, 0, 0, 0, 0, 0, 0, 0, 0, 0, 0, 0, 0, 0, 0, 0, 0, 0, 0, 0, 0, 0, 0, 0, 0, 0, 0, 0]\n",
      "---Target audio features: [0, 0, 0, 17, 0, 0, 0, 0, 8, 0, 25, 0, 5, 0, 0, 4, 4, 6, 11, 5, 4, 4, 0, 23, 0, 0, 0, 0, 5, 0, 0, 9, 9, 0, 0, 4, 4, 0, 6, 6, 8, 0, 4, 4, 4, 6, 11, 5, 4, 4, 0, 15, 0, 0, 0, 0, 0, 5, 0, 20, 0, 0, 6, 6, 0, 4, 0, 0, 0, 0, 0, 0, 0, 0, 0, 0, 0, 0, 0, 0, 0, 0, 0, 0, 0, 0, 0, 0, 0, 0, 0, 0, 0, 0, 0, 0, 0, 0, 0, 0, 0, 0, 0, 0, 0, 0, 0, 0, 0, 0, 0, 0, 0, 0, 0, 0, 0, 0, 0, 0, 0, 0, 0, 0, 0, 0, 0, 0, 0, 0, 0, 0, 0, 0, 0, 0, 0, 0, 0, 0, 0, 0, 0, 0, 0, 0, 0, 0, 0, 0]\n",
      "Euclidean distance: 60.778285596090974\n",
      "1/1 [==============================] - 0s 13ms/step\n",
      "-SAMPLE N. 76\n",
      "Predicted audio features: [0, 0, 0, 0, 0, 0, 0, 0, 0, 0, 0, 0, 0, 0, 0, 0, 0, 6, 11, 11, 0, 0, 0, 10, 0, 12, 0, 0, 0, 4, 0, 0, 0, 0, 10, 0, 12, 12, 0, 4, 4, 4, 4, 0, 7, 4, 4, 0, 23, 23, 0, 0, 0, 0, 0, 0, 0, 0, 5, 0, 0, 9, 9, 9, 0, 0, 4, 4, 4, 4, 0, 0, 0, 0, 0, 0, 0, 0, 0, 0, 0, 0, 0, 0, 0, 0, 0, 0, 0, 0, 0, 0, 0, 0, 0, 0, 0, 0, 0, 0, 0, 0, 0, 0, 0, 0, 0, 0, 0, 0, 0, 0, 0, 0, 0, 0, 0, 0, 0, 0, 0, 0, 0, 0, 0, 0, 0, 0, 0, 0, 0, 0, 0, 0, 0, 0, 0, 0, 0, 0, 0, 0, 0, 0, 0, 0, 0, 0, 0, 0]\n",
      "---Target audio features: [0, 0, 0, 17, 0, 0, 0, 0, 8, 0, 25, 0, 5, 0, 4, 4, 4, 6, 11, 5, 4, 4, 0, 23, 0, 0, 0, 0, 5, 0, 0, 9, 9, 0, 0, 4, 4, 0, 6, 6, 0, 8, 0, 4, 4, 6, 11, 5, 4, 4, 0, 13, 0, 0, 0, 10, 10, 21, 11, 6, 6, 0, 0, 4, 0, 0, 0, 0, 0, 0, 0, 0, 0, 0, 0, 0, 0, 0, 0, 0, 0, 0, 0, 0, 0, 0, 0, 0, 0, 0, 0, 0, 0, 0, 0, 0, 0, 0, 0, 0, 0, 0, 0, 0, 0, 0, 0, 0, 0, 0, 0, 0, 0, 0, 0, 0, 0, 0, 0, 0, 0, 0, 0, 0, 0, 0, 0, 0, 0, 0, 0, 0, 0, 0, 0, 0, 0, 0, 0, 0, 0, 0, 0, 0, 0, 0, 0, 0, 0, 0]\n",
      "Euclidean distance: 63.56886030125127\n",
      "1/1 [==============================] - 0s 15ms/step\n",
      "-SAMPLE N. 77\n",
      "Predicted audio features: [0, 0, 0, 8, 0, 0, 0, 5, 4, 4, 6, 11, 5, 4, 4, 20, 0, 0, 8, 13, 13, 0, 26, 0, 0, 4, 6, 6, 8, 0, 4, 4, 6, 11, 5, 4, 4, 0, 15, 0, 0, 0, 5, 0, 20, 0, 0, 6, 6, 4, 4, 4, 0, 0, 0, 0, 0, 0, 0, 0, 0, 0, 0, 0, 0, 0, 0, 0, 0, 0, 0, 0, 0, 0, 0, 0, 0, 0, 0, 0, 0, 0, 0, 0, 0, 0, 0, 0, 0, 0, 0, 0, 0, 0, 0, 0, 0, 0, 0, 0, 0, 0, 0, 0, 0, 0, 0, 0, 0, 0, 0, 0, 0, 0, 0, 0, 0, 0, 0, 0, 0, 0, 0, 0, 0, 0, 0, 0, 0, 0, 0, 0, 0, 0, 0, 0, 0, 0, 0, 0, 0, 0, 0, 0, 0, 0, 0, 0, 0, 0]\n",
      "---Target audio features: [0, 0, 0, 17, 0, 0, 0, 0, 8, 0, 25, 0, 5, 0, 0, 4, 4, 6, 11, 5, 4, 4, 0, 23, 0, 0, 0, 5, 9, 9, 0, 0, 9, 0, 0, 8, 0, 23, 0, 4, 0, 0, 0, 0, 0, 0, 0, 0, 0, 0, 0, 0, 0, 0, 0, 0, 0, 0, 0, 0, 0, 0, 0, 0, 0, 0, 0, 0, 0, 0, 0, 0, 0, 0, 0, 0, 0, 0, 0, 0, 0, 0, 0, 0, 0, 0, 0, 0, 0, 0, 0, 0, 0, 0, 0, 0, 0, 0, 0, 0, 0, 0, 0, 0, 0, 0, 0, 0, 0, 0, 0, 0, 0, 0, 0, 0, 0, 0, 0, 0, 0, 0, 0, 0, 0, 0, 0, 0, 0, 0, 0, 0, 0, 0, 0, 0, 0, 0, 0, 0, 0, 0, 0, 0, 0, 0, 0, 0, 0, 0]\n",
      "Euclidean distance: 63.2771680782255\n",
      "1/1 [==============================] - 0s 13ms/step\n",
      "-SAMPLE N. 78\n",
      "Predicted audio features: [0, 0, 0, 0, 0, 0, 0, 0, 0, 0, 0, 0, 0, 0, 0, 0, 0, 6, 11, 11, 0, 0, 0, 10, 0, 12, 0, 0, 0, 4, 0, 0, 0, 0, 10, 0, 12, 12, 0, 4, 4, 4, 4, 0, 7, 4, 4, 0, 23, 23, 0, 0, 0, 0, 0, 0, 0, 0, 5, 0, 0, 9, 9, 9, 0, 0, 4, 4, 4, 4, 0, 0, 0, 0, 0, 0, 0, 0, 0, 0, 0, 0, 0, 0, 0, 0, 0, 0, 0, 0, 0, 0, 0, 0, 0, 0, 0, 0, 0, 0, 0, 0, 0, 0, 0, 0, 0, 0, 0, 0, 0, 0, 0, 0, 0, 0, 0, 0, 0, 0, 0, 0, 0, 0, 0, 0, 0, 0, 0, 0, 0, 0, 0, 0, 0, 0, 0, 0, 0, 0, 0, 0, 0, 0, 0, 0, 0, 0, 0, 0]\n",
      "---Target audio features: [0, 0, 0, 17, 0, 0, 0, 0, 8, 0, 25, 0, 5, 0, 0, 4, 4, 6, 11, 0, 5, 4, 4, 23, 0, 0, 0, 5, 0, 0, 9, 9, 0, 0, 0, 4, 0, 14, 0, 0, 0, 0, 0, 8, 18, 0, 9, 9, 4, 4, 4, 4, 0, 0, 0, 0, 0, 0, 0, 0, 0, 0, 0, 0, 0, 0, 0, 0, 0, 0, 0, 0, 0, 0, 0, 0, 0, 0, 0, 0, 0, 0, 0, 0, 0, 0, 0, 0, 0, 0, 0, 0, 0, 0, 0, 0, 0, 0, 0, 0, 0, 0, 0, 0, 0, 0, 0, 0, 0, 0, 0, 0, 0, 0, 0, 0, 0, 0, 0, 0, 0, 0, 0, 0, 0, 0, 0, 0, 0, 0, 0, 0, 0, 0, 0, 0, 0, 0, 0, 0, 0, 0, 0, 0, 0, 0, 0, 0, 0, 0]\n",
      "Euclidean distance: 58.73670062235365\n",
      "1/1 [==============================] - 0s 12ms/step\n",
      "-SAMPLE N. 79\n",
      "Predicted audio features: [0, 0, 0, 0, 0, 0, 0, 0, 0, 0, 6, 0, 11, 0, 10, 0, 12, 0, 0, 4, 0, 0, 0, 10, 12, 12, 4, 4, 4, 0, 7, 4, 0, 23, 0, 0, 0, 0, 5, 0, 0, 9, 9, 0, 4, 4, 4, 4, 0, 0, 0, 0, 0, 0, 0, 0, 0, 0, 0, 0, 0, 0, 0, 0, 0, 0, 0, 0, 0, 0, 0, 0, 0, 0, 0, 0, 0, 0, 0, 0, 0, 0, 0, 0, 0, 0, 0, 0, 0, 0, 0, 0, 0, 0, 0, 0, 0, 0, 0, 0, 0, 0, 0, 0, 0, 0, 0, 0, 0, 0, 0, 0, 0, 0, 0, 0, 0, 0, 0, 0, 0, 0, 0, 0, 0, 0, 0, 0, 0, 0, 0, 0, 0, 0, 0, 0, 0, 0, 0, 0, 0, 0, 0, 0, 0, 0, 0, 0, 0, 0]\n",
      "---Target audio features: [0, 0, 0, 13, 13, 0, 8, 8, 0, 0, 0, 0, 6, 0, 0, 0, 7, 0, 0, 6, 11, 5, 0, 4, 0, 0, 6, 11, 0, 5, 4, 4, 0, 23, 0, 0, 0, 0, 5, 0, 0, 9, 9, 0, 0, 4, 4, 0, 0, 0, 0, 0, 0, 0, 0, 0, 0, 0, 0, 0, 0, 0, 0, 0, 0, 0, 0, 0, 0, 0, 0, 0, 0, 0, 0, 0, 0, 0, 0, 0, 0, 0, 0, 0, 0, 0, 0, 0, 0, 0, 0, 0, 0, 0, 0, 0, 0, 0, 0, 0, 0, 0, 0, 0, 0, 0, 0, 0, 0, 0, 0, 0, 0, 0, 0, 0, 0, 0, 0, 0, 0, 0, 0, 0, 0, 0, 0, 0, 0, 0, 0, 0, 0, 0, 0, 0, 0, 0, 0, 0, 0, 0, 0, 0, 0, 0, 0, 0, 0, 0]\n",
      "Euclidean distance: 35.510561809129406\n"
     ]
    },
    {
     "name": "stdout",
     "output_type": "stream",
     "text": [
      "1/1 [==============================] - 0s 12ms/step\n",
      "-SAMPLE N. 80\n",
      "Predicted audio features: [0, 0, 6, 11, 11, 0, 0, 10, 0, 12, 0, 0, 4, 4, 0, 0, 0, 10, 0, 12, 12, 0, 4, 4, 4, 4, 0, 0, 7, 4, 4, 0, 0, 0, 0, 23, 0, 0, 0, 0, 0, 0, 0, 0, 0, 5, 0, 0, 0, 9, 9, 0, 0, 0, 4, 4, 4, 4, 0, 0, 0, 0, 0, 0, 0, 0, 0, 0, 0, 0, 0, 0, 0, 0, 0, 0, 0, 0, 0, 0, 0, 0, 0, 0, 0, 0, 0, 0, 0, 0, 0, 0, 0, 0, 0, 0, 0, 0, 0, 0, 0, 0, 0, 0, 0, 0, 0, 0, 0, 0, 0, 0, 0, 0, 0, 0, 0, 0, 0, 0, 0, 0, 0, 0, 0, 0, 0, 0, 0, 0, 0, 0, 0, 0, 0, 0, 0, 0, 0, 0, 0, 0, 0, 0, 0, 0, 0, 0, 0, 0]\n",
      "---Target audio features: [0, 0, 0, 0, 8, 8, 0, 25, 0, 5, 0, 14, 0, 0, 0, 6, 0, 0, 0, 0, 0, 0, 0, 0, 5, 0, 0, 9, 0, 0, 0, 4, 0, 6, 0, 8, 0, 0, 4, 4, 0, 0, 0, 4, 4, 0, 15, 0, 0, 0, 0, 5, 0, 20, 0, 0, 6, 6, 0, 4, 0, 0, 0, 0, 0, 0, 0, 0, 0, 0, 0, 0, 0, 0, 0, 0, 0, 0, 0, 0, 0, 0, 0, 0, 0, 0, 0, 0, 0, 0, 0, 0, 0, 0, 0, 0, 0, 0, 0, 0, 0, 0, 0, 0, 0, 0, 0, 0, 0, 0, 0, 0, 0, 0, 0, 0, 0, 0, 0, 0, 0, 0, 0, 0, 0, 0, 0, 0, 0, 0, 0, 0, 0, 0, 0, 0, 0, 0, 0, 0, 0, 0, 0, 0, 0, 0, 0, 0, 0, 0]\n",
      "Euclidean distance: 51.0\n",
      "1/1 [==============================] - 0s 12ms/step\n",
      "-SAMPLE N. 81\n",
      "Predicted audio features: [0, 0, 0, 0, 0, 0, 0, 0, 0, 6, 11, 11, 0, 10, 12, 0, 4, 4, 0, 10, 0, 12, 4, 4, 4, 7, 4, 4, 23, 0, 0, 0, 0, 5, 0, 9, 9, 9, 0, 4, 4, 4, 4, 0, 0, 0, 0, 0, 0, 0, 0, 0, 0, 0, 0, 0, 0, 0, 0, 0, 0, 0, 0, 0, 0, 0, 0, 0, 0, 0, 0, 0, 0, 0, 0, 0, 0, 0, 0, 0, 0, 0, 0, 0, 0, 0, 0, 0, 0, 0, 0, 0, 0, 0, 0, 0, 0, 0, 0, 0, 0, 0, 0, 0, 0, 0, 0, 0, 0, 0, 0, 0, 0, 0, 0, 0, 0, 0, 0, 0, 0, 0, 0, 0, 0, 0, 0, 0, 0, 0, 0, 0, 0, 0, 0, 0, 0, 0, 0, 0, 0, 0, 0, 0, 0, 0, 0, 0, 0, 0]\n",
      "---Target audio features: [0, 17, 0, 0, 0, 0, 8, 0, 25, 0, 5, 0, 0, 4, 4, 4, 6, 11, 5, 4, 4, 0, 23, 0, 0, 5, 0, 0, 9, 9, 0, 0, 4, 4, 0, 6, 0, 8, 0, 4, 4, 4, 6, 11, 5, 4, 4, 13, 13, 0, 0, 0, 10, 0, 21, 11, 11, 6, 6, 0, 4, 4, 4, 0, 0, 0, 0, 0, 0, 0, 0, 0, 0, 0, 0, 0, 0, 0, 0, 0, 0, 0, 0, 0, 0, 0, 0, 0, 0, 0, 0, 0, 0, 0, 0, 0, 0, 0, 0, 0, 0, 0, 0, 0, 0, 0, 0, 0, 0, 0, 0, 0, 0, 0, 0, 0, 0, 0, 0, 0, 0, 0, 0, 0, 0, 0, 0, 0, 0, 0, 0, 0, 0, 0, 0, 0, 0, 0, 0, 0, 0, 0, 0, 0, 0, 0, 0, 0, 0, 0]\n",
      "Euclidean distance: 61.62791575252241\n",
      "1/1 [==============================] - 0s 12ms/step\n",
      "-SAMPLE N. 82\n",
      "Predicted audio features: [0, 0, 0, 0, 0, 0, 0, 0, 0, 0, 6, 0, 11, 0, 10, 0, 12, 0, 0, 4, 0, 0, 0, 10, 12, 12, 4, 4, 4, 0, 7, 4, 0, 23, 0, 0, 0, 0, 5, 0, 0, 9, 9, 0, 4, 4, 4, 4, 0, 0, 0, 0, 0, 0, 0, 0, 0, 0, 0, 0, 0, 0, 0, 0, 0, 0, 0, 0, 0, 0, 0, 0, 0, 0, 0, 0, 0, 0, 0, 0, 0, 0, 0, 0, 0, 0, 0, 0, 0, 0, 0, 0, 0, 0, 0, 0, 0, 0, 0, 0, 0, 0, 0, 0, 0, 0, 0, 0, 0, 0, 0, 0, 0, 0, 0, 0, 0, 0, 0, 0, 0, 0, 0, 0, 0, 0, 0, 0, 0, 0, 0, 0, 0, 0, 0, 0, 0, 0, 0, 0, 0, 0, 0, 0, 0, 0, 0, 0, 0, 0]\n",
      "---Target audio features: [0, 17, 17, 0, 0, 0, 8, 0, 0, 25, 5, 5, 0, 4, 4, 4, 6, 11, 0, 5, 4, 4, 23, 23, 0, 0, 5, 0, 0, 9, 9, 0, 0, 4, 4, 0, 0, 0, 0, 16, 0, 23, 0, 0, 4, 0, 0, 0, 0, 0, 0, 0, 0, 0, 0, 0, 0, 0, 0, 0, 0, 0, 0, 0, 0, 0, 0, 0, 0, 0, 0, 0, 0, 0, 0, 0, 0, 0, 0, 0, 0, 0, 0, 0, 0, 0, 0, 0, 0, 0, 0, 0, 0, 0, 0, 0, 0, 0, 0, 0, 0, 0, 0, 0, 0, 0, 0, 0, 0, 0, 0, 0, 0, 0, 0, 0, 0, 0, 0, 0, 0, 0, 0, 0, 0, 0, 0, 0, 0, 0, 0, 0, 0, 0, 0, 0, 0, 0, 0, 0, 0, 0, 0, 0, 0, 0, 0, 0, 0, 0]\n",
      "Euclidean distance: 61.44102863722254\n",
      "1/1 [==============================] - 0s 15ms/step\n",
      "-SAMPLE N. 83\n",
      "Predicted audio features: [0, 0, 0, 0, 0, 0, 0, 0, 0, 0, 0, 0, 0, 0, 0, 0, 0, 6, 11, 0, 0, 0, 0, 10, 0, 0, 12, 0, 0, 4, 4, 0, 0, 0, 0, 10, 0, 12, 12, 0, 4, 4, 4, 0, 0, 7, 4, 4, 0, 0, 23, 0, 0, 0, 0, 0, 0, 0, 0, 5, 0, 0, 0, 9, 9, 0, 0, 0, 4, 4, 4, 4, 0, 0, 0, 0, 0, 0, 0, 0, 0, 0, 0, 0, 0, 0, 0, 0, 0, 0, 0, 0, 0, 0, 0, 0, 0, 0, 0, 0, 0, 0, 0, 0, 0, 0, 0, 0, 0, 0, 0, 0, 0, 0, 0, 0, 0, 0, 0, 0, 0, 0, 0, 0, 0, 0, 0, 0, 0, 0, 0, 0, 0, 0, 0, 0, 0, 0, 0, 0, 0, 0, 0, 0, 0, 0, 0, 0, 0, 0]\n",
      "---Target audio features: [0, 17, 0, 0, 0, 8, 0, 25, 0, 5, 0, 0, 4, 4, 6, 11, 0, 5, 4, 4, 23, 0, 0, 0, 5, 0, 0, 0, 9, 0, 0, 0, 4, 0, 14, 14, 0, 0, 0, 0, 0, 8, 18, 0, 9, 9, 4, 4, 4, 4, 4, 4, 0, 0, 0, 0, 0, 0, 0, 0, 0, 0, 0, 0, 0, 0, 0, 0, 0, 0, 0, 0, 0, 0, 0, 0, 0, 0, 0, 0, 0, 0, 0, 0, 0, 0, 0, 0, 0, 0, 0, 0, 0, 0, 0, 0, 0, 0, 0, 0, 0, 0, 0, 0, 0, 0, 0, 0, 0, 0, 0, 0, 0, 0, 0, 0, 0, 0, 0, 0, 0, 0, 0, 0, 0, 0, 0, 0, 0, 0, 0, 0, 0, 0, 0, 0, 0, 0, 0, 0, 0, 0, 0, 0, 0, 0, 0, 0, 0, 0]\n",
      "Euclidean distance: 60.481402100149765\n",
      "1/1 [==============================] - 0s 13ms/step\n",
      "-SAMPLE N. 84\n",
      "Predicted audio features: [0, 0, 0, 0, 0, 0, 0, 0, 0, 0, 0, 0, 0, 0, 0, 0, 0, 6, 11, 11, 0, 0, 0, 10, 0, 12, 0, 0, 0, 4, 0, 0, 0, 0, 10, 0, 12, 12, 0, 4, 4, 4, 4, 0, 7, 4, 4, 0, 23, 23, 0, 0, 0, 0, 0, 0, 0, 0, 5, 0, 0, 9, 9, 9, 0, 0, 4, 4, 4, 4, 0, 0, 0, 0, 0, 0, 0, 0, 0, 0, 0, 0, 0, 0, 0, 0, 0, 0, 0, 0, 0, 0, 0, 0, 0, 0, 0, 0, 0, 0, 0, 0, 0, 0, 0, 0, 0, 0, 0, 0, 0, 0, 0, 0, 0, 0, 0, 0, 0, 0, 0, 0, 0, 0, 0, 0, 0, 0, 0, 0, 0, 0, 0, 0, 0, 0, 0, 0, 0, 0, 0, 0, 0, 0, 0, 0, 0, 0, 0, 0]\n",
      "---Target audio features: [0, 0, 13, 13, 0, 0, 8, 0, 0, 0, 0, 6, 0, 0, 0, 0, 7, 0, 0, 6, 5, 5, 0, 4, 0, 0, 6, 11, 0, 5, 4, 4, 23, 0, 0, 0, 0, 5, 0, 0, 9, 9, 0, 0, 4, 4, 4, 4, 4, 0, 0, 0, 0, 0, 0, 0, 0, 0, 0, 0, 0, 0, 0, 0, 0, 0, 0, 0, 0, 0, 0, 0, 0, 0, 0, 0, 0, 0, 0, 0, 0, 0, 0, 0, 0, 0, 0, 0, 0, 0, 0, 0, 0, 0, 0, 0, 0, 0, 0, 0, 0, 0, 0, 0, 0, 0, 0, 0, 0, 0, 0, 0, 0, 0, 0, 0, 0, 0, 0, 0, 0, 0, 0, 0, 0, 0, 0, 0, 0, 0, 0, 0, 0, 0, 0, 0, 0, 0, 0, 0, 0, 0, 0, 0, 0, 0, 0, 0, 0, 0]\n",
      "Euclidean distance: 56.92099788303083\n",
      "1/1 [==============================] - 0s 12ms/step\n",
      "-SAMPLE N. 85\n",
      "Predicted audio features: [0, 0, 0, 0, 0, 0, 0, 0, 0, 0, 0, 0, 0, 0, 0, 0, 0, 6, 11, 11, 0, 0, 0, 10, 0, 12, 0, 0, 0, 4, 0, 0, 0, 0, 10, 0, 12, 12, 0, 4, 4, 4, 4, 0, 7, 4, 4, 0, 23, 23, 0, 0, 0, 0, 0, 0, 0, 0, 5, 0, 0, 9, 9, 9, 0, 0, 4, 4, 4, 4, 0, 0, 0, 0, 0, 0, 0, 0, 0, 0, 0, 0, 0, 0, 0, 0, 0, 0, 0, 0, 0, 0, 0, 0, 0, 0, 0, 0, 0, 0, 0, 0, 0, 0, 0, 0, 0, 0, 0, 0, 0, 0, 0, 0, 0, 0, 0, 0, 0, 0, 0, 0, 0, 0, 0, 0, 0, 0, 0, 0, 0, 0, 0, 0, 0, 0, 0, 0, 0, 0, 0, 0, 0, 0, 0, 0, 0, 0, 0, 0]\n",
      "---Target audio features: [0, 0, 0, 17, 0, 0, 0, 8, 0, 25, 0, 5, 5, 14, 4, 4, 6, 11, 5, 4, 4, 23, 0, 0, 5, 0, 9, 9, 0, 0, 4, 4, 6, 0, 8, 4, 4, 4, 6, 11, 5, 4, 4, 15, 0, 0, 0, 0, 5, 0, 20, 0, 0, 0, 6, 0, 4, 4, 0, 0, 0, 0, 0, 0, 0, 0, 0, 0, 0, 0, 0, 0, 0, 0, 0, 0, 0, 0, 0, 0, 0, 0, 0, 0, 0, 0, 0, 0, 0, 0, 0, 0, 0, 0, 0, 0, 0, 0, 0, 0, 0, 0, 0, 0, 0, 0, 0, 0, 0, 0, 0, 0, 0, 0, 0, 0, 0, 0, 0, 0, 0, 0, 0, 0, 0, 0, 0, 0, 0, 0, 0, 0, 0, 0, 0, 0, 0, 0, 0, 0, 0, 0, 0, 0, 0, 0, 0, 0, 0, 0]\n",
      "Euclidean distance: 68.22756041366274\n",
      "1/1 [==============================] - 0s 12ms/step\n",
      "-SAMPLE N. 86\n",
      "Predicted audio features: [0, 0, 0, 0, 0, 0, 17, 0, 0, 0, 0, 0, 0, 0, 8, 0, 0, 25, 5, 5, 0, 0, 4, 4, 0, 6, 11, 11, 0, 5, 4, 4, 0, 26, 26, 26, 9, 9, 0, 0, 0, 0, 0, 10, 10, 0, 0, 20, 5, 5, 0, 4, 4, 0, 0, 0, 6, 6, 0, 0, 0, 8, 0, 4, 4, 0, 0, 6, 11, 0, 5, 4, 4, 0, 0, 15, 0, 0, 0, 0, 0, 0, 0, 0, 5, 0, 20, 0, 0, 0, 0, 6, 0, 0, 4, 0, 0, 0, 0, 0, 0, 0, 0, 0, 0, 0, 0, 0, 0, 0, 0, 0, 0, 0, 0, 0, 0, 0, 0, 0, 0, 0, 0, 0, 0, 0, 0, 0, 0, 0, 0, 0, 0, 0, 0, 0, 0, 0, 0, 0, 0, 0, 0, 0, 0, 0, 0, 0, 0, 0]\n",
      "---Target audio features: [0, 0, 0, 0, 17, 0, 0, 0, 8, 0, 25, 0, 5, 0, 4, 4, 6, 11, 5, 4, 4, 23, 0, 0, 5, 0, 0, 9, 9, 0, 4, 4, 6, 6, 8, 0, 4, 4, 6, 11, 5, 4, 4, 0, 13, 0, 0, 0, 0, 10, 10, 21, 0, 11, 6, 6, 0, 0, 4, 4, 0, 0, 0, 0, 0, 0, 0, 0, 0, 0, 0, 0, 0, 0, 0, 0, 0, 0, 0, 0, 0, 0, 0, 0, 0, 0, 0, 0, 0, 0, 0, 0, 0, 0, 0, 0, 0, 0, 0, 0, 0, 0, 0, 0, 0, 0, 0, 0, 0, 0, 0, 0, 0, 0, 0, 0, 0, 0, 0, 0, 0, 0, 0, 0, 0, 0, 0, 0, 0, 0, 0, 0, 0, 0, 0, 0, 0, 0, 0, 0, 0, 0, 0, 0, 0, 0, 0, 0, 0, 0]\n",
      "Euclidean distance: 79.9937497558403\n",
      "1/1 [==============================] - 0s 14ms/step\n",
      "-SAMPLE N. 87\n",
      "Predicted audio features: [0, 0, 0, 0, 0, 0, 0, 0, 0, 0, 0, 0, 0, 0, 0, 0, 0, 6, 11, 11, 0, 0, 0, 10, 0, 12, 0, 0, 0, 4, 0, 0, 0, 0, 10, 0, 12, 12, 0, 4, 4, 4, 4, 0, 7, 4, 4, 0, 23, 23, 0, 0, 0, 0, 0, 0, 0, 0, 5, 0, 0, 9, 9, 9, 0, 0, 4, 4, 4, 4, 0, 0, 0, 0, 0, 0, 0, 0, 0, 0, 0, 0, 0, 0, 0, 0, 0, 0, 0, 0, 0, 0, 0, 0, 0, 0, 0, 0, 0, 0, 0, 0, 0, 0, 0, 0, 0, 0, 0, 0, 0, 0, 0, 0, 0, 0, 0, 0, 0, 0, 0, 0, 0, 0, 0, 0, 0, 0, 0, 0, 0, 0, 0, 0, 0, 0, 0, 0, 0, 0, 0, 0, 0, 0, 0, 0, 0, 0, 0, 0]\n",
      "---Target audio features: [0, 0, 0, 17, 0, 0, 0, 0, 8, 0, 25, 5, 5, 4, 4, 6, 11, 0, 5, 4, 4, 23, 0, 0, 5, 0, 9, 9, 9, 0, 4, 4, 0, 0, 0, 16, 0, 23, 0, 4, 0, 0, 0, 0, 0, 0, 0, 0, 0, 0, 0, 0, 0, 0, 0, 0, 0, 0, 0, 0, 0, 0, 0, 0, 0, 0, 0, 0, 0, 0, 0, 0, 0, 0, 0, 0, 0, 0, 0, 0, 0, 0, 0, 0, 0, 0, 0, 0, 0, 0, 0, 0, 0, 0, 0, 0, 0, 0, 0, 0, 0, 0, 0, 0, 0, 0, 0, 0, 0, 0, 0, 0, 0, 0, 0, 0, 0, 0, 0, 0, 0, 0, 0, 0, 0, 0, 0, 0, 0, 0, 0, 0, 0, 0, 0, 0, 0, 0, 0, 0, 0, 0, 0, 0, 0, 0, 0, 0, 0, 0]\n",
      "Euclidean distance: 67.69785816405124\n"
     ]
    },
    {
     "name": "stdout",
     "output_type": "stream",
     "text": [
      "1/1 [==============================] - 0s 12ms/step\n",
      "-SAMPLE N. 88\n",
      "Predicted audio features: [0, 0, 0, 6, 0, 11, 0, 0, 10, 0, 12, 0, 0, 4, 0, 0, 10, 0, 12, 0, 4, 4, 4, 7, 4, 4, 23, 0, 0, 0, 0, 5, 0, 0, 0, 9, 0, 0, 4, 4, 4, 4, 0, 0, 0, 0, 0, 0, 0, 0, 0, 0, 0, 0, 0, 0, 0, 0, 0, 0, 0, 0, 0, 0, 0, 0, 0, 0, 0, 0, 0, 0, 0, 0, 0, 0, 0, 0, 0, 0, 0, 0, 0, 0, 0, 0, 0, 0, 0, 0, 0, 0, 0, 0, 0, 0, 0, 0, 0, 0, 0, 0, 0, 0, 0, 0, 0, 0, 0, 0, 0, 0, 0, 0, 0, 0, 0, 0, 0, 0, 0, 0, 0, 0, 0, 0, 0, 0, 0, 0, 0, 0, 0, 0, 0, 0, 0, 0, 0, 0, 0, 0, 0, 0, 0, 0, 0, 0, 0, 0]\n",
      "---Target audio features: [0, 0, 0, 17, 0, 0, 0, 8, 0, 0, 25, 0, 5, 0, 4, 4, 6, 11, 5, 4, 4, 23, 0, 0, 5, 0, 0, 9, 9, 0, 0, 4, 4, 14, 14, 0, 0, 0, 0, 0, 8, 18, 0, 9, 9, 4, 4, 4, 4, 4, 4, 0, 0, 0, 0, 0, 0, 0, 0, 0, 0, 0, 0, 0, 0, 0, 0, 0, 0, 0, 0, 0, 0, 0, 0, 0, 0, 0, 0, 0, 0, 0, 0, 0, 0, 0, 0, 0, 0, 0, 0, 0, 0, 0, 0, 0, 0, 0, 0, 0, 0, 0, 0, 0, 0, 0, 0, 0, 0, 0, 0, 0, 0, 0, 0, 0, 0, 0, 0, 0, 0, 0, 0, 0, 0, 0, 0, 0, 0, 0, 0, 0, 0, 0, 0, 0, 0, 0, 0, 0, 0, 0, 0, 0, 0, 0, 0, 0, 0, 0]\n",
      "Euclidean distance: 54.55272678794342\n",
      "1/1 [==============================] - 0s 15ms/step\n",
      "-SAMPLE N. 89\n",
      "Predicted audio features: [0, 0, 0, 6, 0, 11, 0, 0, 10, 0, 12, 0, 0, 4, 0, 0, 10, 0, 12, 0, 4, 4, 4, 7, 4, 4, 23, 0, 0, 0, 0, 5, 0, 0, 0, 9, 0, 0, 4, 4, 4, 4, 0, 0, 0, 0, 0, 0, 0, 0, 0, 0, 0, 0, 0, 0, 0, 0, 0, 0, 0, 0, 0, 0, 0, 0, 0, 0, 0, 0, 0, 0, 0, 0, 0, 0, 0, 0, 0, 0, 0, 0, 0, 0, 0, 0, 0, 0, 0, 0, 0, 0, 0, 0, 0, 0, 0, 0, 0, 0, 0, 0, 0, 0, 0, 0, 0, 0, 0, 0, 0, 0, 0, 0, 0, 0, 0, 0, 0, 0, 0, 0, 0, 0, 0, 0, 0, 0, 0, 0, 0, 0, 0, 0, 0, 0, 0, 0, 0, 0, 0, 0, 0, 0, 0, 0, 0, 0, 0, 0]\n",
      "---Target audio features: [0, 0, 0, 13, 13, 0, 0, 8, 0, 0, 0, 0, 6, 0, 4, 0, 0, 7, 0, 0, 14, 5, 0, 4, 6, 11, 11, 5, 4, 4, 23, 0, 0, 0, 5, 0, 0, 9, 9, 9, 0, 4, 4, 4, 4, 0, 0, 0, 0, 0, 0, 0, 0, 0, 0, 0, 0, 0, 0, 0, 0, 0, 0, 0, 0, 0, 0, 0, 0, 0, 0, 0, 0, 0, 0, 0, 0, 0, 0, 0, 0, 0, 0, 0, 0, 0, 0, 0, 0, 0, 0, 0, 0, 0, 0, 0, 0, 0, 0, 0, 0, 0, 0, 0, 0, 0, 0, 0, 0, 0, 0, 0, 0, 0, 0, 0, 0, 0, 0, 0, 0, 0, 0, 0, 0, 0, 0, 0, 0, 0, 0, 0, 0, 0, 0, 0, 0, 0, 0, 0, 0, 0, 0, 0, 0, 0, 0, 0, 0, 0]\n",
      "Euclidean distance: 47.36032094485847\n",
      "1/1 [==============================] - 0s 12ms/step\n",
      "-SAMPLE N. 90\n",
      "Predicted audio features: [0, 0, 0, 0, 0, 0, 0, 0, 6, 11, 10, 0, 12, 0, 4, 0, 10, 12, 12, 4, 4, 7, 4, 4, 20, 0, 0, 0, 8, 13, 13, 0, 26, 0, 0, 4, 4, 4, 0, 0, 0, 0, 0, 0, 0, 0, 0, 0, 0, 0, 0, 0, 0, 0, 0, 0, 0, 0, 0, 0, 0, 0, 0, 0, 0, 0, 0, 0, 0, 0, 0, 0, 0, 0, 0, 0, 0, 0, 0, 0, 0, 0, 0, 0, 0, 0, 0, 0, 0, 0, 0, 0, 0, 0, 0, 0, 0, 0, 0, 0, 0, 0, 0, 0, 0, 0, 0, 0, 0, 0, 0, 0, 0, 0, 0, 0, 0, 0, 0, 0, 0, 0, 0, 0, 0, 0, 0, 0, 0, 0, 0, 0, 0, 0, 0, 0, 0, 0, 0, 0, 0, 0, 0, 0, 0, 0, 0, 0, 0, 0]\n",
      "---Target audio features: [0, 0, 0, 0, 0, 0, 17, 0, 0, 0, 0, 8, 0, 25, 5, 5, 14, 4, 4, 6, 11, 0, 5, 4, 4, 0, 23, 0, 0, 0, 5, 0, 0, 9, 0, 0, 0, 4, 4, 6, 6, 0, 8, 0, 4, 4, 6, 11, 5, 4, 4, 4, 0, 15, 0, 0, 0, 0, 0, 5, 20, 20, 0, 0, 6, 0, 4, 4, 0, 0, 0, 0, 0, 0, 0, 0, 0, 0, 0, 0, 0, 0, 0, 0, 0, 0, 0, 0, 0, 0, 0, 0, 0, 0, 0, 0, 0, 0, 0, 0, 0, 0, 0, 0, 0, 0, 0, 0, 0, 0, 0, 0, 0, 0, 0, 0, 0, 0, 0, 0, 0, 0, 0, 0, 0, 0, 0, 0, 0, 0, 0, 0, 0, 0, 0, 0, 0, 0, 0, 0, 0, 0, 0, 0, 0, 0, 0, 0, 0, 0]\n",
      "Euclidean distance: 71.09852319141376\n",
      "1/1 [==============================] - 0s 12ms/step\n",
      "-SAMPLE N. 91\n",
      "Predicted audio features: [0, 0, 0, 0, 8, 0, 0, 0, 0, 4, 0, 6, 11, 5, 0, 4, 4, 20, 0, 0, 8, 0, 13, 0, 0, 26, 0, 9, 0, 0, 0, 0, 7, 0, 0, 0, 0, 4, 0, 0, 0, 0, 0, 0, 0, 0, 0, 0, 0, 0, 0, 0, 0, 0, 0, 0, 0, 0, 0, 0, 0, 0, 0, 0, 0, 0, 0, 0, 0, 0, 0, 0, 0, 0, 0, 0, 0, 0, 0, 0, 0, 0, 0, 0, 0, 0, 0, 0, 0, 0, 0, 0, 0, 0, 0, 0, 0, 0, 0, 0, 0, 0, 0, 0, 0, 0, 0, 0, 0, 0, 0, 0, 0, 0, 0, 0, 0, 0, 0, 0, 0, 0, 0, 0, 0, 0, 0, 0, 0, 0, 0, 0, 0, 0, 0, 0, 0, 0, 0, 0, 0, 0, 0, 0, 0, 0, 0, 0, 0, 0]\n",
      "---Target audio features: [0, 0, 0, 17, 0, 0, 0, 8, 0, 25, 5, 5, 0, 4, 4, 4, 6, 11, 5, 4, 4, 4, 23, 0, 0, 0, 0, 5, 0, 9, 9, 0, 0, 4, 4, 0, 6, 0, 8, 0, 4, 4, 4, 6, 11, 5, 4, 4, 0, 13, 0, 0, 0, 0, 10, 0, 21, 11, 11, 6, 6, 0, 4, 4, 0, 0, 0, 0, 0, 0, 0, 0, 0, 0, 0, 0, 0, 0, 0, 0, 0, 0, 0, 0, 0, 0, 0, 0, 0, 0, 0, 0, 0, 0, 0, 0, 0, 0, 0, 0, 0, 0, 0, 0, 0, 0, 0, 0, 0, 0, 0, 0, 0, 0, 0, 0, 0, 0, 0, 0, 0, 0, 0, 0, 0, 0, 0, 0, 0, 0, 0, 0, 0, 0, 0, 0, 0, 0, 0, 0, 0, 0, 0, 0, 0, 0, 0, 0, 0, 0]\n",
      "Euclidean distance: 60.40695324215582\n",
      "1/1 [==============================] - 0s 12ms/step\n",
      "-SAMPLE N. 92\n",
      "Predicted audio features: [0, 0, 0, 0, 0, 0, 0, 0, 0, 0, 0, 0, 0, 6, 11, 0, 0, 10, 0, 12, 0, 0, 4, 0, 0, 0, 10, 0, 12, 0, 4, 4, 4, 4, 7, 4, 4, 0, 0, 26, 26, 9, 9, 0, 0, 0, 0, 0, 10, 10, 0, 0, 20, 0, 5, 4, 4, 4, 0, 0, 0, 0, 0, 0, 0, 0, 0, 0, 0, 0, 0, 0, 0, 0, 0, 0, 0, 0, 0, 0, 0, 0, 0, 0, 0, 0, 0, 0, 0, 0, 0, 0, 0, 0, 0, 0, 0, 0, 0, 0, 0, 0, 0, 0, 0, 0, 0, 0, 0, 0, 0, 0, 0, 0, 0, 0, 0, 0, 0, 0, 0, 0, 0, 0, 0, 0, 0, 0, 0, 0, 0, 0, 0, 0, 0, 0, 0, 0, 0, 0, 0, 0, 0, 0, 0, 0, 0, 0, 0, 0]\n",
      "---Target audio features: [0, 0, 0, 17, 0, 0, 0, 8, 0, 25, 5, 5, 0, 4, 4, 6, 6, 11, 5, 4, 4, 0, 23, 0, 0, 0, 5, 9, 0, 0, 0, 9, 0, 0, 7, 0, 0, 4, 4, 4, 0, 0, 0, 0, 0, 0, 0, 0, 0, 0, 0, 0, 0, 0, 0, 0, 0, 0, 0, 0, 0, 0, 0, 0, 0, 0, 0, 0, 0, 0, 0, 0, 0, 0, 0, 0, 0, 0, 0, 0, 0, 0, 0, 0, 0, 0, 0, 0, 0, 0, 0, 0, 0, 0, 0, 0, 0, 0, 0, 0, 0, 0, 0, 0, 0, 0, 0, 0, 0, 0, 0, 0, 0, 0, 0, 0, 0, 0, 0, 0, 0, 0, 0, 0, 0, 0, 0, 0, 0, 0, 0, 0, 0, 0, 0, 0, 0, 0, 0, 0, 0, 0, 0, 0, 0, 0, 0, 0, 0, 0]\n",
      "Euclidean distance: 63.26136261573884\n",
      "1/1 [==============================] - 0s 12ms/step\n",
      "-SAMPLE N. 93\n",
      "Predicted audio features: [0, 0, 0, 0, 0, 0, 0, 0, 0, 0, 0, 6, 11, 0, 10, 12, 0, 0, 4, 0, 0, 10, 12, 12, 4, 4, 7, 4, 4, 26, 9, 9, 0, 0, 10, 0, 0, 20, 5, 5, 4, 4, 0, 0, 0, 0, 0, 0, 0, 0, 0, 0, 0, 0, 0, 0, 0, 0, 0, 0, 0, 0, 0, 0, 0, 0, 0, 0, 0, 0, 0, 0, 0, 0, 0, 0, 0, 0, 0, 0, 0, 0, 0, 0, 0, 0, 0, 0, 0, 0, 0, 0, 0, 0, 0, 0, 0, 0, 0, 0, 0, 0, 0, 0, 0, 0, 0, 0, 0, 0, 0, 0, 0, 0, 0, 0, 0, 0, 0, 0, 0, 0, 0, 0, 0, 0, 0, 0, 0, 0, 0, 0, 0, 0, 0, 0, 0, 0, 0, 0, 0, 0, 0, 0, 0, 0, 0, 0, 0, 0]\n",
      "---Target audio features: [0, 17, 0, 0, 0, 8, 0, 25, 5, 5, 0, 4, 4, 6, 11, 0, 5, 4, 4, 0, 23, 0, 0, 0, 5, 0, 0, 9, 9, 0, 0, 4, 14, 14, 0, 0, 0, 0, 0, 8, 18, 0, 9, 9, 0, 4, 0, 0, 0, 0, 0, 0, 0, 0, 0, 0, 0, 0, 0, 0, 0, 0, 0, 0, 0, 0, 0, 0, 0, 0, 0, 0, 0, 0, 0, 0, 0, 0, 0, 0, 0, 0, 0, 0, 0, 0, 0, 0, 0, 0, 0, 0, 0, 0, 0, 0, 0, 0, 0, 0, 0, 0, 0, 0, 0, 0, 0, 0, 0, 0, 0, 0, 0, 0, 0, 0, 0, 0, 0, 0, 0, 0, 0, 0, 0, 0, 0, 0, 0, 0, 0, 0, 0, 0, 0, 0, 0, 0, 0, 0, 0, 0, 0, 0, 0, 0, 0, 0, 0, 0]\n",
      "Euclidean distance: 66.58828725834597\n",
      "1/1 [==============================] - 0s 12ms/step\n",
      "-SAMPLE N. 94\n",
      "Predicted audio features: [0, 0, 0, 0, 0, 0, 0, 0, 0, 0, 6, 11, 11, 0, 0, 10, 12, 12, 0, 4, 4, 0, 0, 10, 0, 12, 0, 4, 4, 4, 7, 4, 4, 0, 26, 26, 9, 9, 0, 0, 0, 0, 10, 10, 0, 0, 20, 5, 5, 4, 4, 0, 0, 0, 0, 0, 0, 0, 0, 0, 0, 0, 0, 0, 0, 0, 0, 0, 0, 0, 0, 0, 0, 0, 0, 0, 0, 0, 0, 0, 0, 0, 0, 0, 0, 0, 0, 0, 0, 0, 0, 0, 0, 0, 0, 0, 0, 0, 0, 0, 0, 0, 0, 0, 0, 0, 0, 0, 0, 0, 0, 0, 0, 0, 0, 0, 0, 0, 0, 0, 0, 0, 0, 0, 0, 0, 0, 0, 0, 0, 0, 0, 0, 0, 0, 0, 0, 0, 0, 0, 0, 0, 0, 0, 0, 0, 0, 0, 0, 0]\n",
      "---Target audio features: [0, 13, 13, 0, 0, 8, 0, 0, 6, 5, 4, 4, 6, 0, 0, 7, 0, 0, 6, 5, 0, 4, 4, 4, 6, 11, 0, 5, 4, 4, 0, 23, 0, 0, 0, 0, 0, 0, 5, 0, 0, 9, 0, 0, 4, 0, 0, 0, 0, 0, 0, 0, 0, 0, 0, 0, 0, 0, 0, 0, 0, 0, 0, 0, 0, 0, 0, 0, 0, 0, 0, 0, 0, 0, 0, 0, 0, 0, 0, 0, 0, 0, 0, 0, 0, 0, 0, 0, 0, 0, 0, 0, 0, 0, 0, 0, 0, 0, 0, 0, 0, 0, 0, 0, 0, 0, 0, 0, 0, 0, 0, 0, 0, 0, 0, 0, 0, 0, 0, 0, 0, 0, 0, 0, 0, 0, 0, 0, 0, 0, 0, 0, 0, 0, 0, 0, 0, 0, 0, 0, 0, 0, 0, 0, 0, 0, 0, 0, 0, 0]\n",
      "Euclidean distance: 61.163714733492114\n",
      "1/1 [==============================] - 0s 15ms/step\n",
      "-SAMPLE N. 95\n",
      "Predicted audio features: [0, 0, 0, 0, 0, 0, 0, 0, 0, 0, 0, 0, 6, 11, 0, 0, 0, 10, 0, 12, 0, 0, 4, 4, 0, 0, 10, 0, 12, 0, 4, 4, 4, 4, 7, 4, 4, 0, 0, 12, 12, 0, 0, 0, 0, 23, 0, 0, 8, 8, 0, 0, 0, 0, 0, 0, 8, 8, 9, 9, 9, 0, 0, 4, 4, 4, 4, 0, 0, 0, 0, 0, 0, 0, 0, 0, 0, 0, 0, 0, 0, 0, 0, 0, 0, 0, 0, 0, 0, 0, 0, 0, 0, 0, 0, 0, 0, 0, 0, 0, 0, 0, 0, 0, 0, 0, 0, 0, 0, 0, 0, 0, 0, 0, 0, 0, 0, 0, 0, 0, 0, 0, 0, 0, 0, 0, 0, 0, 0, 0, 0, 0, 0, 0, 0, 0, 0, 0, 0, 0, 0, 0, 0, 0, 0, 0, 0, 0, 0, 0]\n",
      "---Target audio features: [0, 0, 0, 0, 0, 0, 0, 0, 17, 0, 0, 0, 0, 0, 8, 0, 25, 0, 5, 14, 0, 4, 4, 6, 11, 0, 5, 4, 4, 23, 0, 0, 0, 0, 7, 0, 0, 9, 9, 0, 0, 4, 0, 6, 6, 0, 8, 0, 4, 4, 4, 6, 11, 5, 4, 0, 0, 15, 0, 0, 0, 0, 0, 5, 0, 20, 20, 0, 0, 6, 0, 0, 4, 4, 0, 0, 0, 0, 0, 0, 0, 0, 0, 0, 0, 0, 0, 0, 0, 0, 0, 0, 0, 0, 0, 0, 0, 0, 0, 0, 0, 0, 0, 0, 0, 0, 0, 0, 0, 0, 0, 0, 0, 0, 0, 0, 0, 0, 0, 0, 0, 0, 0, 0, 0, 0, 0, 0, 0, 0, 0, 0, 0, 0, 0, 0, 0, 0, 0, 0, 0, 0, 0, 0, 0, 0, 0, 0, 0, 0]\n",
      "Euclidean distance: 66.82065548915246\n"
     ]
    },
    {
     "name": "stdout",
     "output_type": "stream",
     "text": [
      "1/1 [==============================] - 0s 12ms/step\n",
      "-SAMPLE N. 96\n",
      "Predicted audio features: [0, 0, 0, 0, 0, 0, 0, 0, 6, 11, 10, 0, 12, 0, 4, 4, 10, 12, 12, 4, 4, 7, 4, 0, 23, 0, 0, 0, 5, 0, 9, 9, 0, 4, 4, 4, 0, 0, 0, 0, 0, 0, 0, 0, 0, 0, 0, 0, 0, 0, 0, 0, 0, 0, 0, 0, 0, 0, 0, 0, 0, 0, 0, 0, 0, 0, 0, 0, 0, 0, 0, 0, 0, 0, 0, 0, 0, 0, 0, 0, 0, 0, 0, 0, 0, 0, 0, 0, 0, 0, 0, 0, 0, 0, 0, 0, 0, 0, 0, 0, 0, 0, 0, 0, 0, 0, 0, 0, 0, 0, 0, 0, 0, 0, 0, 0, 0, 0, 0, 0, 0, 0, 0, 0, 0, 0, 0, 0, 0, 0, 0, 0, 0, 0, 0, 0, 0, 0, 0, 0, 0, 0, 0, 0, 0, 0, 0, 0, 0, 0]\n",
      "---Target audio features: [0, 0, 0, 17, 0, 0, 0, 0, 0, 8, 0, 25, 0, 5, 0, 4, 4, 4, 6, 11, 0, 5, 4, 4, 23, 0, 0, 0, 0, 7, 0, 0, 9, 9, 0, 0, 4, 0, 6, 6, 0, 8, 0, 4, 4, 6, 11, 5, 4, 4, 0, 13, 0, 0, 0, 10, 10, 21, 0, 11, 6, 6, 0, 4, 4, 4, 4, 0, 0, 0, 0, 0, 0, 0, 0, 0, 0, 0, 0, 0, 0, 0, 0, 0, 0, 0, 0, 0, 0, 0, 0, 0, 0, 0, 0, 0, 0, 0, 0, 0, 0, 0, 0, 0, 0, 0, 0, 0, 0, 0, 0, 0, 0, 0, 0, 0, 0, 0, 0, 0, 0, 0, 0, 0, 0, 0, 0, 0, 0, 0, 0, 0, 0, 0, 0, 0, 0, 0, 0, 0, 0, 0, 0, 0, 0, 0, 0, 0, 0, 0]\n",
      "Euclidean distance: 57.48043145279966\n",
      "1/1 [==============================] - 0s 12ms/step\n",
      "-SAMPLE N. 97\n",
      "Predicted audio features: [0, 0, 0, 0, 0, 0, 0, 0, 0, 0, 0, 0, 6, 6, 11, 0, 10, 0, 12, 0, 0, 4, 4, 0, 0, 10, 12, 12, 0, 4, 4, 4, 7, 4, 4, 0, 12, 0, 0, 0, 23, 8, 8, 0, 0, 0, 0, 8, 8, 9, 9, 0, 0, 4, 4, 4, 0, 0, 0, 0, 0, 0, 0, 0, 0, 0, 0, 0, 0, 0, 0, 0, 0, 0, 0, 0, 0, 0, 0, 0, 0, 0, 0, 0, 0, 0, 0, 0, 0, 0, 0, 0, 0, 0, 0, 0, 0, 0, 0, 0, 0, 0, 0, 0, 0, 0, 0, 0, 0, 0, 0, 0, 0, 0, 0, 0, 0, 0, 0, 0, 0, 0, 0, 0, 0, 0, 0, 0, 0, 0, 0, 0, 0, 0, 0, 0, 0, 0, 0, 0, 0, 0, 0, 0, 0, 0, 0, 0, 0, 0]\n",
      "---Target audio features: [0, 0, 0, 17, 0, 0, 0, 0, 8, 8, 0, 25, 5, 5, 0, 4, 4, 4, 6, 11, 5, 4, 4, 0, 23, 0, 0, 0, 5, 0, 9, 9, 9, 0, 0, 4, 0, 0, 0, 0, 16, 0, 23, 0, 4, 4, 0, 0, 0, 0, 0, 0, 0, 0, 0, 0, 0, 0, 0, 0, 0, 0, 0, 0, 0, 0, 0, 0, 0, 0, 0, 0, 0, 0, 0, 0, 0, 0, 0, 0, 0, 0, 0, 0, 0, 0, 0, 0, 0, 0, 0, 0, 0, 0, 0, 0, 0, 0, 0, 0, 0, 0, 0, 0, 0, 0, 0, 0, 0, 0, 0, 0, 0, 0, 0, 0, 0, 0, 0, 0, 0, 0, 0, 0, 0, 0, 0, 0, 0, 0, 0, 0, 0, 0, 0, 0, 0, 0, 0, 0, 0, 0, 0, 0, 0, 0, 0, 0, 0, 0]\n",
      "Euclidean distance: 57.68015256567895\n",
      "1/1 [==============================] - 0s 12ms/step\n",
      "-SAMPLE N. 98\n",
      "Predicted audio features: [0, 0, 0, 0, 0, 0, 0, 0, 0, 0, 0, 0, 6, 6, 11, 0, 10, 0, 12, 0, 0, 4, 4, 0, 0, 10, 12, 12, 4, 4, 4, 4, 7, 4, 4, 0, 12, 0, 0, 0, 23, 0, 8, 8, 0, 0, 0, 0, 8, 9, 9, 9, 0, 4, 4, 4, 0, 0, 0, 0, 0, 0, 0, 0, 0, 0, 0, 0, 0, 0, 0, 0, 0, 0, 0, 0, 0, 0, 0, 0, 0, 0, 0, 0, 0, 0, 0, 0, 0, 0, 0, 0, 0, 0, 0, 0, 0, 0, 0, 0, 0, 0, 0, 0, 0, 0, 0, 0, 0, 0, 0, 0, 0, 0, 0, 0, 0, 0, 0, 0, 0, 0, 0, 0, 0, 0, 0, 0, 0, 0, 0, 0, 0, 0, 0, 0, 0, 0, 0, 0, 0, 0, 0, 0, 0, 0, 0, 0, 0, 0]\n",
      "---Target audio features: [0, 0, 0, 17, 0, 0, 0, 0, 0, 8, 0, 25, 0, 5, 0, 4, 4, 4, 6, 11, 0, 5, 4, 4, 23, 0, 0, 0, 5, 0, 0, 0, 9, 9, 0, 0, 4, 4, 14, 14, 0, 0, 0, 0, 0, 0, 8, 18, 0, 0, 9, 0, 4, 4, 4, 4, 4, 0, 0, 0, 0, 0, 0, 0, 0, 0, 0, 0, 0, 0, 0, 0, 0, 0, 0, 0, 0, 0, 0, 0, 0, 0, 0, 0, 0, 0, 0, 0, 0, 0, 0, 0, 0, 0, 0, 0, 0, 0, 0, 0, 0, 0, 0, 0, 0, 0, 0, 0, 0, 0, 0, 0, 0, 0, 0, 0, 0, 0, 0, 0, 0, 0, 0, 0, 0, 0, 0, 0, 0, 0, 0, 0, 0, 0, 0, 0, 0, 0, 0, 0, 0, 0, 0, 0, 0, 0, 0, 0, 0, 0]\n",
      "Euclidean distance: 64.52906321960671\n",
      "1/1 [==============================] - 0s 12ms/step\n",
      "-SAMPLE N. 99\n",
      "Predicted audio features: [0, 0, 0, 0, 0, 0, 0, 0, 0, 6, 11, 0, 0, 10, 12, 0, 4, 4, 0, 10, 12, 12, 4, 4, 4, 7, 4, 0, 23, 0, 0, 0, 0, 0, 5, 0, 0, 9, 9, 0, 0, 4, 4, 4, 0, 0, 0, 0, 0, 0, 0, 0, 0, 0, 0, 0, 0, 0, 0, 0, 0, 0, 0, 0, 0, 0, 0, 0, 0, 0, 0, 0, 0, 0, 0, 0, 0, 0, 0, 0, 0, 0, 0, 0, 0, 0, 0, 0, 0, 0, 0, 0, 0, 0, 0, 0, 0, 0, 0, 0, 0, 0, 0, 0, 0, 0, 0, 0, 0, 0, 0, 0, 0, 0, 0, 0, 0, 0, 0, 0, 0, 0, 0, 0, 0, 0, 0, 0, 0, 0, 0, 0, 0, 0, 0, 0, 0, 0, 0, 0, 0, 0, 0, 0, 0, 0, 0, 0, 0, 0]\n",
      "---Target audio features: [0, 0, 0, 13, 13, 13, 0, 8, 0, 0, 0, 0, 6, 0, 0, 0, 7, 0, 0, 6, 5, 5, 4, 4, 0, 6, 11, 5, 0, 4, 4, 23, 0, 0, 0, 0, 0, 5, 0, 0, 0, 9, 0, 0, 4, 4, 4, 0, 0, 0, 0, 0, 0, 0, 0, 0, 0, 0, 0, 0, 0, 0, 0, 0, 0, 0, 0, 0, 0, 0, 0, 0, 0, 0, 0, 0, 0, 0, 0, 0, 0, 0, 0, 0, 0, 0, 0, 0, 0, 0, 0, 0, 0, 0, 0, 0, 0, 0, 0, 0, 0, 0, 0, 0, 0, 0, 0, 0, 0, 0, 0, 0, 0, 0, 0, 0, 0, 0, 0, 0, 0, 0, 0, 0, 0, 0, 0, 0, 0, 0, 0, 0, 0, 0, 0, 0, 0, 0, 0, 0, 0, 0, 0, 0, 0, 0, 0, 0, 0, 0]\n",
      "Euclidean distance: 50.547007824400445\n",
      "\n",
      "======\n",
      "MEAN DISTANCE: 591.0692684461518\n"
     ]
    }
   ],
   "source": [
    "entire_test_sequence_length=len(encoder_input_data_MOVEPEN) #2900\n",
    "\n",
    "predicted = []\n",
    "sum_distance = 0\n",
    "for seq_index in range(100):\n",
    "    # Take one sequence (part of the training set)\n",
    "    # for trying out decoding.\n",
    "    input_seq = encoder_input_data_MOVEPEN[seq_index : seq_index + 1]\n",
    "    decoded_sentence = decode_sequence(input_seq)\n",
    "    print(\"-SAMPLE N.\", seq_index)\n",
    "    #print(\"Input sentence:\", input_texts[seq_index])\n",
    "    print(\"Predicted audio features:\", decoded_sentence)\n",
    "    print(\"---Target audio features:\", list(argmax(decoder_target_data_MOVEPEN[seq_index], axis=1, out=None)))\n",
    "    predicted.append(decoded_sentence)\n",
    "    distance = euclidean_distance(decoded_sentence, list(argmax(decoder_target_data_MOVEPEN[seq_index], axis=1, out=None)))\n",
    "    print(\"Euclidean distance:\", distance)\n",
    "    sum_distance = sum_distance + distance\n",
    "\n",
    "mean_distance = sum_distance / 10\n",
    "print (\"\\n======\\nMEAN DISTANCE:\", mean_distance)\n",
    "\n",
    "\n"
   ]
  },
  {
   "cell_type": "code",
   "execution_count": 26,
   "id": "24b5d830",
   "metadata": {},
   "outputs": [
    {
     "name": "stdout",
     "output_type": "stream",
     "text": [
      "MEAN DISTANCE: 591.0692684461518\n"
     ]
    }
   ],
   "source": [
    "print (\"MEAN DISTANCE:\", mean_distance)\n"
   ]
  },
  {
   "cell_type": "code",
   "execution_count": 27,
   "id": "596f1680",
   "metadata": {},
   "outputs": [],
   "source": [
    "save('predictions/PREDICTED_MODEL_CHOLLET_06_movepen_0-100.npy', pd.DataFrame(predicted))"
   ]
  },
  {
   "cell_type": "code",
   "execution_count": null,
   "id": "d5cca814",
   "metadata": {},
   "outputs": [],
   "source": []
  },
  {
   "cell_type": "markdown",
   "id": "8d568a61",
   "metadata": {},
   "source": [
    "# Test model"
   ]
  },
  {
   "cell_type": "code",
   "execution_count": 28,
   "id": "a1425e4d",
   "metadata": {},
   "outputs": [
    {
     "name": "stdout",
     "output_type": "stream",
     "text": [
      "46/46 [==============================] - 2s 27ms/step - loss: 0.7321 - accuracy: 0.8849 - precision: 0.8875 - recall: 0.8836\n"
     ]
    }
   ],
   "source": [
    "model_eval = model.evaluate([encoder_input_data_MOVEPEN, decoder_input_data_MOVEPEN],decoder_target_data_MOVEPEN)"
   ]
  },
  {
   "cell_type": "code",
   "execution_count": 29,
   "id": "27da8664",
   "metadata": {},
   "outputs": [
    {
     "name": "stdout",
     "output_type": "stream",
     "text": [
      "TEST MODEL\n",
      "Loss: 0.7321354746818542 \n",
      "Accuracy: 0.8848505616188049 \n",
      "Precision: 0.8875254392623901 \n",
      "Recall: 0.883563220500946\n"
     ]
    }
   ],
   "source": [
    "print(\"TEST MODEL\\nLoss:\", model_eval[0], \"\\nAccuracy:\", model_eval[1], \"\\nPrecision:\", model_eval[2], \"\\nRecall:\", model_eval[3])"
   ]
  },
  {
   "cell_type": "code",
   "execution_count": null,
   "id": "68e0eb71",
   "metadata": {},
   "outputs": [],
   "source": []
  },
  {
   "cell_type": "code",
   "execution_count": null,
   "id": "6e7645a4",
   "metadata": {},
   "outputs": [],
   "source": []
  },
  {
   "cell_type": "code",
   "execution_count": null,
   "id": "9a7485f0",
   "metadata": {},
   "outputs": [],
   "source": []
  },
  {
   "cell_type": "code",
   "execution_count": null,
   "id": "b80c33ca",
   "metadata": {},
   "outputs": [],
   "source": []
  },
  {
   "cell_type": "code",
   "execution_count": null,
   "id": "f7838981",
   "metadata": {},
   "outputs": [],
   "source": []
  },
  {
   "cell_type": "code",
   "execution_count": null,
   "id": "a29e106d",
   "metadata": {},
   "outputs": [],
   "source": []
  },
  {
   "cell_type": "code",
   "execution_count": null,
   "id": "24667018",
   "metadata": {},
   "outputs": [],
   "source": []
  },
  {
   "cell_type": "code",
   "execution_count": null,
   "id": "4799d473",
   "metadata": {},
   "outputs": [],
   "source": []
  },
  {
   "cell_type": "code",
   "execution_count": null,
   "id": "bed28688",
   "metadata": {},
   "outputs": [],
   "source": []
  }
 ],
 "metadata": {
  "kernelspec": {
   "display_name": "Python 3 (ipykernel)",
   "language": "python",
   "name": "python3"
  },
  "language_info": {
   "codemirror_mode": {
    "name": "ipython",
    "version": 3
   },
   "file_extension": ".py",
   "mimetype": "text/x-python",
   "name": "python",
   "nbconvert_exporter": "python",
   "pygments_lexer": "ipython3",
   "version": "3.9.12"
  }
 },
 "nbformat": 4,
 "nbformat_minor": 5
}
