{
 "cells": [
  {
   "cell_type": "markdown",
   "id": "74b9870c",
   "metadata": {},
   "source": [
    "The code is taken from here:\n",
    "\n",
    "https://keras.io/examples/nlp/lstm_seq2seq/"
   ]
  },
  {
   "cell_type": "markdown",
   "id": "631cacae",
   "metadata": {},
   "source": [
    "https://blog.keras.io/a-ten-minute-introduction-to-sequence-to-sequence-learning-in-keras.html\n",
    "\n",
    "https://machinelearningmastery.com/return-sequences-and-return-states-for-lstms-in-keras/\n"
   ]
  },
  {
   "cell_type": "markdown",
   "id": "ba61be69",
   "metadata": {},
   "source": [
    "# CHOLLET - BASE MODEL - 1024 - rmsprop"
   ]
  },
  {
   "cell_type": "code",
   "execution_count": 1,
   "id": "0d30d924",
   "metadata": {},
   "outputs": [
    {
     "name": "stderr",
     "output_type": "stream",
     "text": [
      "2022-09-12 15:52:03.395001: I tensorflow/core/platform/cpu_feature_guard.cc:193] This TensorFlow binary is optimized with oneAPI Deep Neural Network Library (oneDNN) to use the following CPU instructions in performance-critical operations:  AVX2 AVX_VNNI FMA\n",
      "To enable them in other operations, rebuild TensorFlow with the appropriate compiler flags.\n",
      "2022-09-12 15:52:03.455542: I tensorflow/core/util/util.cc:169] oneDNN custom operations are on. You may see slightly different numerical results due to floating-point round-off errors from different computation orders. To turn them off, set the environment variable `TF_ENABLE_ONEDNN_OPTS=0`.\n",
      "2022-09-12 15:52:03.472061: E tensorflow/stream_executor/cuda/cuda_blas.cc:2981] Unable to register cuBLAS factory: Attempting to register factory for plugin cuBLAS when one has already been registered\n",
      "2022-09-12 15:52:03.729652: W tensorflow/stream_executor/platform/default/dso_loader.cc:64] Could not load dynamic library 'libnvinfer.so.7'; dlerror: libnvinfer.so.7: cannot open shared object file: No such file or directory; LD_LIBRARY_PATH: :/home/digit/miniconda3/envs/keras/lib/\n",
      "2022-09-12 15:52:03.729714: W tensorflow/stream_executor/platform/default/dso_loader.cc:64] Could not load dynamic library 'libnvinfer_plugin.so.7'; dlerror: libnvinfer_plugin.so.7: cannot open shared object file: No such file or directory; LD_LIBRARY_PATH: :/home/digit/miniconda3/envs/keras/lib/\n",
      "2022-09-12 15:52:03.729717: W tensorflow/compiler/tf2tensorrt/utils/py_utils.cc:38] TF-TRT Warning: Cannot dlopen some TensorRT libraries. If you would like to use Nvidia GPU with TensorRT, please make sure the missing libraries mentioned above are installed properly.\n",
      "/home/digit/miniconda3/envs/keras/lib/python3.9/site-packages/tensorflow_addons/utils/ensure_tf_install.py:53: UserWarning: Tensorflow Addons supports using Python ops for all Tensorflow versions above or equal to 2.7.0 and strictly below 2.10.0 (nightly versions are not supported). \n",
      " The versions of TensorFlow you are currently using is 2.10.0 and is not supported. \n",
      "Some things might work, some things might not.\n",
      "If you were to encounter a bug, do not file an issue.\n",
      "If you want to make sure you're using a tested and supported configuration, either change the TensorFlow version or the TensorFlow Addons's version. \n",
      "You can find the compatibility matrix in TensorFlow Addon's readme:\n",
      "https://github.com/tensorflow/addons\n",
      "  warnings.warn(\n"
     ]
    }
   ],
   "source": [
    "import numpy as np\n",
    "import pandas as pd\n",
    "import os\n",
    "from numpy import save\n",
    "from numpy import load\n",
    "import matplotlib.pyplot as plt\n",
    "from numpy import argmax\n",
    "\n",
    "from tensorflow import keras\n",
    "from keras import models\n",
    "from keras.models import Sequential\n",
    "from keras.layers import LSTM, TimeDistributed, RepeatVector, Dense\n",
    "from keras.layers import BatchNormalization\n",
    "from keras.layers import Bidirectional\n",
    "from keras.layers import Concatenate\n",
    "from keras.layers import LayerNormalization\n",
    "\n",
    "from sklearn.model_selection import train_test_split\n",
    "import tensorflow_addons as tfa\n",
    "\n",
    "from keras.layers import Attention as AttentionLayer"
   ]
  },
  {
   "cell_type": "markdown",
   "id": "2cfd79fa",
   "metadata": {},
   "source": [
    "# Load data"
   ]
  },
  {
   "cell_type": "code",
   "execution_count": 2,
   "id": "12d3c94b",
   "metadata": {},
   "outputs": [],
   "source": [
    "#audio_features = pd.DataFrame(load('features/audio_wav2vec_features_0-14500_artificial_onlygood_converted2array.npy', allow_pickle=True))\n",
    "#video_features = pd.DataFrame(load('features/video_clip_features_0-14500_artificial_onlygood_converted2array.npy', allow_pickle=True))\n",
    "audio_features = pd.DataFrame(load('features/audio_features_without_phone.npy', allow_pickle=True))\n",
    "video_features = pd.DataFrame(load('features/video_features_without_phone.npy', allow_pickle=True))\n",
    "\n",
    "# audio features one-hot\n",
    "audio_features_onehot = keras.utils.to_categorical(audio_features, num_classes=None, dtype='float32')\n",
    "\n",
    "# video features one-hot\n",
    "def normalize(x):\n",
    "    return (x.astype(float) - video_features.min().min().astype(float)) / (video_features.max().max().astype(float) - video_features.min().min().astype(float))\n",
    "\n",
    "def de_normalize(x):\n",
    "    return (x * (video_features.max().max().astype(float) - video_features.min().min().astype(float)) + video_features.min().min().astype(float)).astype(int)\n",
    "\n",
    "video_features_norm = normalize(video_features)\n",
    "video_features_norm_100 = video_features_norm * 100\n",
    "video_features_norm_100 = video_features_norm_100.round()\n",
    "video_features_onehot = keras.utils.to_categorical(video_features_norm_100, num_classes=None, dtype='float32')\n"
   ]
  },
  {
   "cell_type": "code",
   "execution_count": 3,
   "id": "26d1686c",
   "metadata": {},
   "outputs": [
    {
     "data": {
      "text/plain": [
       "(13050, 150, 27)"
      ]
     },
     "execution_count": 3,
     "metadata": {},
     "output_type": "execute_result"
    }
   ],
   "source": [
    "audio_features_onehot.shape"
   ]
  },
  {
   "cell_type": "code",
   "execution_count": 4,
   "id": "52440c98",
   "metadata": {},
   "outputs": [
    {
     "data": {
      "text/plain": [
       "(13050, 512, 101)"
      ]
     },
     "execution_count": 4,
     "metadata": {},
     "output_type": "execute_result"
    }
   ],
   "source": [
    "video_features_onehot.shape\n"
   ]
  },
  {
   "cell_type": "markdown",
   "id": "44f2ca32",
   "metadata": {},
   "source": [
    "# Split train and test"
   ]
  },
  {
   "cell_type": "code",
   "execution_count": 5,
   "id": "c8f724a2",
   "metadata": {},
   "outputs": [],
   "source": [
    "X_train, X_test, y_train, y_test = train_test_split(video_features_onehot, audio_features_onehot, test_size=0.2, random_state=True)\n"
   ]
  },
  {
   "cell_type": "markdown",
   "id": "c262f583",
   "metadata": {},
   "source": [
    "# Create decoder_input_data, decoder_target_data, encoder_input_data"
   ]
  },
  {
   "cell_type": "code",
   "execution_count": 6,
   "id": "dfb1e15f",
   "metadata": {},
   "outputs": [],
   "source": [
    "encoder_input_data = X_train\n",
    "decoder_input_data = y_train\n",
    "decoder_target_data = np.zeros(decoder_input_data.shape)\n",
    "for a in range(decoder_input_data.shape[0]):\n",
    "    for i in range(decoder_input_data.shape[1]-1):\n",
    "        decoder_target_data[a][i]=decoder_input_data[a][i+1]\n",
    "    decoder_target_data[a][decoder_input_data.shape[1]-1] = decoder_input_data[a][decoder_input_data.shape[1]-1]\n",
    "    \n"
   ]
  },
  {
   "cell_type": "code",
   "execution_count": 7,
   "id": "50e1d468",
   "metadata": {},
   "outputs": [],
   "source": [
    "encoder_input_data_test = X_test\n",
    "decoder_input_data_test = y_test\n",
    "\n",
    "decoder_target_data_test = np.zeros(y_test.shape)\n",
    "for a in range(y_test.shape[0]):\n",
    "    for i in range(y_test.shape[1]-1):\n",
    "        decoder_target_data_test[a][i]=y_test[a][i+1]\n",
    "    decoder_target_data_test[a][y_test.shape[1]-1] = y_test[a][y_test.shape[1]-1]"
   ]
  },
  {
   "cell_type": "code",
   "execution_count": 8,
   "id": "0f2ca672",
   "metadata": {},
   "outputs": [],
   "source": [
    "# lengths of vectors\n",
    "num_encoder_tokens = encoder_input_data.shape[2]\n",
    "num_decoder_tokens = decoder_input_data.shape[2]\n",
    "target_max_length = decoder_input_data.shape[1]"
   ]
  },
  {
   "cell_type": "markdown",
   "id": "795e6b6d",
   "metadata": {},
   "source": [
    "# Set up the model"
   ]
  },
  {
   "cell_type": "code",
   "execution_count": 9,
   "id": "f68b9f37",
   "metadata": {},
   "outputs": [],
   "source": [
    "batch_size = 64  # Batch size for training.\n",
    "epochs = 100  # Number of epochs to train for.\n",
    "latent_dim = 1024  # Latent dimensionality of the encoding space.\n"
   ]
  },
  {
   "cell_type": "code",
   "execution_count": 10,
   "id": "01c303a6",
   "metadata": {},
   "outputs": [
    {
     "name": "stderr",
     "output_type": "stream",
     "text": [
      "2022-09-12 15:52:06.187206: I tensorflow/stream_executor/cuda/cuda_gpu_executor.cc:980] successful NUMA node read from SysFS had negative value (-1), but there must be at least one NUMA node, so returning NUMA node zero\n",
      "2022-09-12 15:52:06.189771: I tensorflow/stream_executor/cuda/cuda_gpu_executor.cc:980] successful NUMA node read from SysFS had negative value (-1), but there must be at least one NUMA node, so returning NUMA node zero\n",
      "2022-09-12 15:52:06.189851: I tensorflow/stream_executor/cuda/cuda_gpu_executor.cc:980] successful NUMA node read from SysFS had negative value (-1), but there must be at least one NUMA node, so returning NUMA node zero\n",
      "2022-09-12 15:52:06.190116: I tensorflow/core/platform/cpu_feature_guard.cc:193] This TensorFlow binary is optimized with oneAPI Deep Neural Network Library (oneDNN) to use the following CPU instructions in performance-critical operations:  AVX2 AVX_VNNI FMA\n",
      "To enable them in other operations, rebuild TensorFlow with the appropriate compiler flags.\n",
      "2022-09-12 15:52:06.190922: I tensorflow/stream_executor/cuda/cuda_gpu_executor.cc:980] successful NUMA node read from SysFS had negative value (-1), but there must be at least one NUMA node, so returning NUMA node zero\n",
      "2022-09-12 15:52:06.191003: I tensorflow/stream_executor/cuda/cuda_gpu_executor.cc:980] successful NUMA node read from SysFS had negative value (-1), but there must be at least one NUMA node, so returning NUMA node zero\n",
      "2022-09-12 15:52:06.191047: I tensorflow/stream_executor/cuda/cuda_gpu_executor.cc:980] successful NUMA node read from SysFS had negative value (-1), but there must be at least one NUMA node, so returning NUMA node zero\n",
      "2022-09-12 15:52:06.451722: I tensorflow/stream_executor/cuda/cuda_gpu_executor.cc:980] successful NUMA node read from SysFS had negative value (-1), but there must be at least one NUMA node, so returning NUMA node zero\n",
      "2022-09-12 15:52:06.451826: I tensorflow/stream_executor/cuda/cuda_gpu_executor.cc:980] successful NUMA node read from SysFS had negative value (-1), but there must be at least one NUMA node, so returning NUMA node zero\n",
      "2022-09-12 15:52:06.451879: I tensorflow/stream_executor/cuda/cuda_gpu_executor.cc:980] successful NUMA node read from SysFS had negative value (-1), but there must be at least one NUMA node, so returning NUMA node zero\n",
      "2022-09-12 15:52:06.451929: I tensorflow/core/common_runtime/gpu/gpu_device.cc:1616] Created device /job:localhost/replica:0/task:0/device:GPU:0 with 9473 MB memory:  -> device: 0, name: NVIDIA GeForce RTX 3080, pci bus id: 0000:01:00.0, compute capability: 8.6\n"
     ]
    }
   ],
   "source": [
    "# Define an input sequence and process it.\n",
    "encoder_inputs = keras.Input(shape=(None, num_encoder_tokens))\n",
    "encoder = keras.layers.LSTM(latent_dim, return_state=True)\n",
    "encoder_outputs, state_h, state_c = encoder(encoder_inputs)\n",
    "\n",
    "# We discard `encoder_outputs` and only keep the states.\n",
    "encoder_states = [state_h, state_c]\n",
    "\n",
    "# Set up the decoder, using `encoder_states` as initial state.\n",
    "decoder_inputs = keras.Input(shape=(None, num_decoder_tokens))\n",
    "\n",
    "# We set up our decoder to return full output sequences,\n",
    "# and to return internal states as well. We don't use the\n",
    "# return states in the training model, but we will use them in inference.\n",
    "decoder_lstm = keras.layers.LSTM(latent_dim, return_sequences=True, return_state=True)\n",
    "decoder_outputs, _, _ = decoder_lstm(decoder_inputs, initial_state=encoder_states)\n",
    "decoder_dense = keras.layers.Dense(num_decoder_tokens, activation=\"softmax\")\n",
    "decoder_outputs = decoder_dense(decoder_outputs)\n",
    "\n",
    "# Define the model that will turn\n",
    "# `encoder_input_data` & `decoder_input_data` into `decoder_target_data`\n",
    "model = keras.Model([encoder_inputs, decoder_inputs], decoder_outputs)\n"
   ]
  },
  {
   "cell_type": "code",
   "execution_count": 11,
   "id": "cad2eb02",
   "metadata": {},
   "outputs": [
    {
     "name": "stdout",
     "output_type": "stream",
     "text": [
      "Model: \"model\"\n",
      "__________________________________________________________________________________________________\n",
      " Layer (type)                   Output Shape         Param #     Connected to                     \n",
      "==================================================================================================\n",
      " input_1 (InputLayer)           [(None, None, 101)]  0           []                               \n",
      "                                                                                                  \n",
      " input_2 (InputLayer)           [(None, None, 27)]   0           []                               \n",
      "                                                                                                  \n",
      " lstm (LSTM)                    [(None, 1024),       4612096     ['input_1[0][0]']                \n",
      "                                 (None, 1024),                                                    \n",
      "                                 (None, 1024)]                                                    \n",
      "                                                                                                  \n",
      " lstm_1 (LSTM)                  [(None, None, 1024)  4308992     ['input_2[0][0]',                \n",
      "                                , (None, 1024),                   'lstm[0][1]',                   \n",
      "                                 (None, 1024)]                    'lstm[0][2]']                   \n",
      "                                                                                                  \n",
      " dense (Dense)                  (None, None, 27)     27675       ['lstm_1[0][0]']                 \n",
      "                                                                                                  \n",
      "==================================================================================================\n",
      "Total params: 8,948,763\n",
      "Trainable params: 8,948,763\n",
      "Non-trainable params: 0\n",
      "__________________________________________________________________________________________________\n"
     ]
    }
   ],
   "source": [
    "model.summary()"
   ]
  },
  {
   "cell_type": "code",
   "execution_count": 12,
   "id": "feb4fa3f",
   "metadata": {},
   "outputs": [],
   "source": [
    "import tensorflow as tf\n",
    "import tensorflow_addons as tfa\n",
    "f1 = tfa.metrics.F1Score(num_classes=2, average=None)\n",
    "\n",
    "from sklearn.metrics import confusion_matrix\n",
    "from sklearn.metrics import accuracy_score\n",
    "from sklearn.metrics import f1_score, precision_score, recall_score\n",
    "\n",
    "model.compile(\n",
    "    optimizer=\"adam\", loss=\"categorical_crossentropy\", metrics=[\"accuracy\", keras.metrics.Precision(thresholds=None, top_k=None, class_id=None, name=None, dtype=None), keras.metrics.Recall()\n",
    "]\n",
    ")\n"
   ]
  },
  {
   "cell_type": "code",
   "execution_count": 13,
   "id": "66169c0f",
   "metadata": {},
   "outputs": [
    {
     "name": "stdout",
     "output_type": "stream",
     "text": [
      "Epoch 1/100\n"
     ]
    },
    {
     "name": "stderr",
     "output_type": "stream",
     "text": [
      "2022-09-12 15:52:09.749516: I tensorflow/stream_executor/cuda/cuda_dnn.cc:384] Loaded cuDNN version 8100\n"
     ]
    },
    {
     "name": "stdout",
     "output_type": "stream",
     "text": [
      "\r",
      "  1/131 [..............................] - ETA: 4:03 - loss: 3.2973 - accuracy: 0.0042 - precision: 0.0000e+00 - recall: 0.0000e+00"
     ]
    },
    {
     "name": "stderr",
     "output_type": "stream",
     "text": [
      "2022-09-12 15:52:10.126650: I tensorflow/stream_executor/cuda/cuda_blas.cc:1614] TensorFloat-32 will be used for the matrix multiplication. This will only be logged once.\n"
     ]
    },
    {
     "name": "stdout",
     "output_type": "stream",
     "text": [
      "131/131 [==============================] - 16s 105ms/step - loss: 0.8108 - accuracy: 0.8212 - precision: 0.8644 - recall: 0.7690 - val_loss: 0.5917 - val_accuracy: 0.8378 - val_precision: 0.9033 - val_recall: 0.7668\n",
      "Epoch 2/100\n",
      "131/131 [==============================] - 13s 102ms/step - loss: 0.5288 - accuracy: 0.8444 - precision: 0.8954 - recall: 0.7930 - val_loss: 0.4214 - val_accuracy: 0.8642 - val_precision: 0.9038 - val_recall: 0.8151\n",
      "Epoch 3/100\n",
      "131/131 [==============================] - 13s 100ms/step - loss: 0.3594 - accuracy: 0.8752 - precision: 0.9057 - recall: 0.8416 - val_loss: 0.2947 - val_accuracy: 0.8909 - val_precision: 0.9141 - val_recall: 0.8655\n",
      "Epoch 4/100\n",
      "131/131 [==============================] - 13s 102ms/step - loss: 0.2534 - accuracy: 0.9039 - precision: 0.9233 - recall: 0.8855 - val_loss: 0.2281 - val_accuracy: 0.9118 - val_precision: 0.9293 - val_recall: 0.8963\n",
      "Epoch 5/100\n",
      "131/131 [==============================] - 13s 101ms/step - loss: 0.2148 - accuracy: 0.9166 - precision: 0.9312 - recall: 0.9041 - val_loss: 0.2089 - val_accuracy: 0.9176 - val_precision: 0.9315 - val_recall: 0.9057\n",
      "Epoch 6/100\n",
      "131/131 [==============================] - 13s 103ms/step - loss: 0.1985 - accuracy: 0.9224 - precision: 0.9347 - recall: 0.9121 - val_loss: 0.1916 - val_accuracy: 0.9253 - val_precision: 0.9366 - val_recall: 0.9156\n",
      "Epoch 7/100\n",
      "131/131 [==============================] - 14s 104ms/step - loss: 0.1870 - accuracy: 0.9264 - precision: 0.9371 - recall: 0.9174 - val_loss: 0.1831 - val_accuracy: 0.9274 - val_precision: 0.9384 - val_recall: 0.9186\n",
      "Epoch 8/100\n",
      "131/131 [==============================] - 14s 103ms/step - loss: 0.1805 - accuracy: 0.9288 - precision: 0.9388 - recall: 0.9208 - val_loss: 0.1776 - val_accuracy: 0.9297 - val_precision: 0.9388 - val_recall: 0.9228\n",
      "Epoch 9/100\n",
      "131/131 [==============================] - 14s 104ms/step - loss: 0.1743 - accuracy: 0.9313 - precision: 0.9404 - recall: 0.9238 - val_loss: 0.1736 - val_accuracy: 0.9316 - val_precision: 0.9409 - val_recall: 0.9241\n",
      "Epoch 10/100\n",
      "131/131 [==============================] - 14s 103ms/step - loss: 0.1698 - accuracy: 0.9330 - precision: 0.9418 - recall: 0.9259 - val_loss: 0.1693 - val_accuracy: 0.9332 - val_precision: 0.9422 - val_recall: 0.9257\n",
      "Epoch 11/100\n",
      "131/131 [==============================] - 14s 103ms/step - loss: 0.1644 - accuracy: 0.9351 - precision: 0.9433 - recall: 0.9285 - val_loss: 0.1748 - val_accuracy: 0.9315 - val_precision: 0.9398 - val_recall: 0.9238\n",
      "Epoch 12/100\n",
      "131/131 [==============================] - 14s 103ms/step - loss: 0.1620 - accuracy: 0.9361 - precision: 0.9440 - recall: 0.9296 - val_loss: 0.1625 - val_accuracy: 0.9360 - val_precision: 0.9436 - val_recall: 0.9294\n",
      "Epoch 13/100\n",
      "131/131 [==============================] - 14s 103ms/step - loss: 0.1571 - accuracy: 0.9384 - precision: 0.9456 - recall: 0.9322 - val_loss: 0.1585 - val_accuracy: 0.9378 - val_precision: 0.9453 - val_recall: 0.9314\n",
      "Epoch 14/100\n",
      "131/131 [==============================] - 14s 103ms/step - loss: 0.1514 - accuracy: 0.9406 - precision: 0.9474 - recall: 0.9350 - val_loss: 0.1533 - val_accuracy: 0.9393 - val_precision: 0.9462 - val_recall: 0.9340\n",
      "Epoch 15/100\n",
      "131/131 [==============================] - 14s 104ms/step - loss: 0.1467 - accuracy: 0.9429 - precision: 0.9493 - recall: 0.9375 - val_loss: 0.1482 - val_accuracy: 0.9422 - val_precision: 0.9485 - val_recall: 0.9367\n",
      "Epoch 16/100\n",
      "131/131 [==============================] - 14s 104ms/step - loss: 0.1417 - accuracy: 0.9450 - precision: 0.9509 - recall: 0.9399 - val_loss: 0.1437 - val_accuracy: 0.9443 - val_precision: 0.9501 - val_recall: 0.9394\n",
      "Epoch 17/100\n",
      "131/131 [==============================] - 14s 103ms/step - loss: 0.1355 - accuracy: 0.9479 - precision: 0.9533 - recall: 0.9432 - val_loss: 0.1396 - val_accuracy: 0.9461 - val_precision: 0.9516 - val_recall: 0.9414\n",
      "Epoch 18/100\n",
      "131/131 [==============================] - 13s 102ms/step - loss: 0.1299 - accuracy: 0.9503 - precision: 0.9552 - recall: 0.9460 - val_loss: 0.1325 - val_accuracy: 0.9492 - val_precision: 0.9543 - val_recall: 0.9452\n",
      "Epoch 19/100\n",
      "131/131 [==============================] - 14s 103ms/step - loss: 0.1255 - accuracy: 0.9521 - precision: 0.9565 - recall: 0.9481 - val_loss: 0.1286 - val_accuracy: 0.9506 - val_precision: 0.9553 - val_recall: 0.9466\n",
      "Epoch 20/100\n",
      "131/131 [==============================] - 14s 104ms/step - loss: 0.1195 - accuracy: 0.9549 - precision: 0.9589 - recall: 0.9511 - val_loss: 0.1225 - val_accuracy: 0.9538 - val_precision: 0.9580 - val_recall: 0.9501\n",
      "Epoch 21/100\n",
      "131/131 [==============================] - 13s 103ms/step - loss: 0.1122 - accuracy: 0.9580 - precision: 0.9614 - recall: 0.9545 - val_loss: 0.1175 - val_accuracy: 0.9553 - val_precision: 0.9592 - val_recall: 0.9520\n",
      "Epoch 22/100\n",
      "131/131 [==============================] - 14s 104ms/step - loss: 0.1061 - accuracy: 0.9605 - precision: 0.9637 - recall: 0.9576 - val_loss: 0.1110 - val_accuracy: 0.9587 - val_precision: 0.9620 - val_recall: 0.9557\n",
      "Epoch 23/100\n",
      "131/131 [==============================] - 13s 103ms/step - loss: 0.1001 - accuracy: 0.9630 - precision: 0.9656 - recall: 0.9605 - val_loss: 0.1066 - val_accuracy: 0.9603 - val_precision: 0.9629 - val_recall: 0.9579\n",
      "Epoch 24/100\n",
      "131/131 [==============================] - 13s 103ms/step - loss: 0.0940 - accuracy: 0.9656 - precision: 0.9679 - recall: 0.9634 - val_loss: 0.1008 - val_accuracy: 0.9627 - val_precision: 0.9653 - val_recall: 0.9603\n",
      "Epoch 25/100\n",
      "131/131 [==============================] - 13s 103ms/step - loss: 0.0898 - accuracy: 0.9672 - precision: 0.9693 - recall: 0.9652 - val_loss: 0.0962 - val_accuracy: 0.9645 - val_precision: 0.9666 - val_recall: 0.9623\n",
      "Epoch 26/100\n",
      "131/131 [==============================] - 14s 103ms/step - loss: 0.0859 - accuracy: 0.9688 - precision: 0.9706 - recall: 0.9670 - val_loss: 0.0906 - val_accuracy: 0.9672 - val_precision: 0.9689 - val_recall: 0.9656\n",
      "Epoch 27/100\n",
      "131/131 [==============================] - 13s 102ms/step - loss: 0.0810 - accuracy: 0.9706 - precision: 0.9722 - recall: 0.9691 - val_loss: 0.0881 - val_accuracy: 0.9677 - val_precision: 0.9694 - val_recall: 0.9661\n",
      "Epoch 28/100\n",
      "131/131 [==============================] - 13s 103ms/step - loss: 0.0783 - accuracy: 0.9718 - precision: 0.9731 - recall: 0.9704 - val_loss: 0.0877 - val_accuracy: 0.9677 - val_precision: 0.9693 - val_recall: 0.9664\n",
      "Epoch 29/100\n",
      "131/131 [==============================] - 14s 104ms/step - loss: 0.0756 - accuracy: 0.9726 - precision: 0.9739 - recall: 0.9714 - val_loss: 0.0796 - val_accuracy: 0.9711 - val_precision: 0.9724 - val_recall: 0.9698\n",
      "Epoch 30/100\n",
      "131/131 [==============================] - 14s 103ms/step - loss: 0.0724 - accuracy: 0.9738 - precision: 0.9749 - recall: 0.9726 - val_loss: 0.0816 - val_accuracy: 0.9700 - val_precision: 0.9712 - val_recall: 0.9689\n",
      "Epoch 31/100\n",
      "131/131 [==============================] - 14s 104ms/step - loss: 0.0709 - accuracy: 0.9742 - precision: 0.9753 - recall: 0.9732 - val_loss: 0.0763 - val_accuracy: 0.9721 - val_precision: 0.9730 - val_recall: 0.9711\n",
      "Epoch 32/100\n",
      "131/131 [==============================] - 14s 104ms/step - loss: 0.0682 - accuracy: 0.9753 - precision: 0.9762 - recall: 0.9743 - val_loss: 0.0764 - val_accuracy: 0.9723 - val_precision: 0.9733 - val_recall: 0.9712\n",
      "Epoch 33/100\n",
      "131/131 [==============================] - 14s 105ms/step - loss: 0.0677 - accuracy: 0.9755 - precision: 0.9764 - recall: 0.9746 - val_loss: 0.0752 - val_accuracy: 0.9726 - val_precision: 0.9735 - val_recall: 0.9716\n",
      "Epoch 34/100\n",
      "131/131 [==============================] - 14s 103ms/step - loss: 0.0658 - accuracy: 0.9761 - precision: 0.9770 - recall: 0.9753 - val_loss: 0.0710 - val_accuracy: 0.9742 - val_precision: 0.9752 - val_recall: 0.9733\n",
      "Epoch 35/100\n",
      "131/131 [==============================] - 13s 103ms/step - loss: 0.0627 - accuracy: 0.9772 - precision: 0.9780 - recall: 0.9764 - val_loss: 0.0676 - val_accuracy: 0.9755 - val_precision: 0.9763 - val_recall: 0.9747\n",
      "Epoch 36/100\n",
      "131/131 [==============================] - 14s 104ms/step - loss: 0.0607 - accuracy: 0.9779 - precision: 0.9786 - recall: 0.9773 - val_loss: 0.0659 - val_accuracy: 0.9762 - val_precision: 0.9769 - val_recall: 0.9755\n"
     ]
    },
    {
     "name": "stdout",
     "output_type": "stream",
     "text": [
      "Epoch 37/100\n",
      "131/131 [==============================] - 14s 103ms/step - loss: 0.0600 - accuracy: 0.9781 - precision: 0.9787 - recall: 0.9774 - val_loss: 0.0667 - val_accuracy: 0.9757 - val_precision: 0.9766 - val_recall: 0.9748\n",
      "Epoch 38/100\n",
      "131/131 [==============================] - 13s 103ms/step - loss: 0.0600 - accuracy: 0.9781 - precision: 0.9788 - recall: 0.9775 - val_loss: 0.0661 - val_accuracy: 0.9757 - val_precision: 0.9765 - val_recall: 0.9750\n",
      "Epoch 39/100\n",
      "131/131 [==============================] - 14s 104ms/step - loss: 0.1251 - accuracy: 0.9584 - precision: 0.9608 - recall: 0.9564 - val_loss: 0.0856 - val_accuracy: 0.9682 - val_precision: 0.9699 - val_recall: 0.9667\n",
      "Epoch 40/100\n",
      "131/131 [==============================] - 14s 103ms/step - loss: 0.0663 - accuracy: 0.9762 - precision: 0.9771 - recall: 0.9753 - val_loss: 0.0656 - val_accuracy: 0.9765 - val_precision: 0.9773 - val_recall: 0.9757\n",
      "Epoch 41/100\n",
      "131/131 [==============================] - 14s 104ms/step - loss: 0.0588 - accuracy: 0.9786 - precision: 0.9793 - recall: 0.9780 - val_loss: 0.0635 - val_accuracy: 0.9775 - val_precision: 0.9782 - val_recall: 0.9767\n",
      "Epoch 42/100\n",
      "131/131 [==============================] - 14s 103ms/step - loss: 0.0572 - accuracy: 0.9791 - precision: 0.9797 - recall: 0.9784 - val_loss: 0.0615 - val_accuracy: 0.9778 - val_precision: 0.9786 - val_recall: 0.9770\n",
      "Epoch 43/100\n",
      "131/131 [==============================] - 14s 103ms/step - loss: 0.0566 - accuracy: 0.9792 - precision: 0.9798 - recall: 0.9786 - val_loss: 0.0610 - val_accuracy: 0.9780 - val_precision: 0.9786 - val_recall: 0.9774\n",
      "Epoch 44/100\n",
      "131/131 [==============================] - 14s 104ms/step - loss: 0.0560 - accuracy: 0.9793 - precision: 0.9799 - recall: 0.9788 - val_loss: 0.0605 - val_accuracy: 0.9781 - val_precision: 0.9789 - val_recall: 0.9775\n",
      "Epoch 45/100\n",
      "131/131 [==============================] - 13s 102ms/step - loss: 0.0571 - accuracy: 0.9789 - precision: 0.9796 - recall: 0.9784 - val_loss: 0.0634 - val_accuracy: 0.9771 - val_precision: 0.9778 - val_recall: 0.9765\n",
      "Epoch 46/100\n",
      "131/131 [==============================] - 14s 104ms/step - loss: 0.0582 - accuracy: 0.9785 - precision: 0.9791 - recall: 0.9780 - val_loss: 0.0654 - val_accuracy: 0.9760 - val_precision: 0.9768 - val_recall: 0.9754\n",
      "Epoch 47/100\n",
      "131/131 [==============================] - 14s 104ms/step - loss: 0.0577 - accuracy: 0.9788 - precision: 0.9794 - recall: 0.9783 - val_loss: 0.0609 - val_accuracy: 0.9779 - val_precision: 0.9786 - val_recall: 0.9772\n",
      "Epoch 48/100\n",
      "131/131 [==============================] - 14s 103ms/step - loss: 0.0545 - accuracy: 0.9798 - precision: 0.9804 - recall: 0.9793 - val_loss: 0.0605 - val_accuracy: 0.9779 - val_precision: 0.9785 - val_recall: 0.9774\n",
      "Epoch 49/100\n",
      "131/131 [==============================] - 14s 105ms/step - loss: 0.0545 - accuracy: 0.9799 - precision: 0.9804 - recall: 0.9794 - val_loss: 0.0596 - val_accuracy: 0.9783 - val_precision: 0.9790 - val_recall: 0.9778\n",
      "Epoch 50/100\n",
      "131/131 [==============================] - 14s 105ms/step - loss: 0.0595 - accuracy: 0.9781 - precision: 0.9787 - recall: 0.9775 - val_loss: 0.0653 - val_accuracy: 0.9762 - val_precision: 0.9771 - val_recall: 0.9754\n",
      "Epoch 51/100\n",
      "131/131 [==============================] - 14s 104ms/step - loss: 0.0563 - accuracy: 0.9793 - precision: 0.9799 - recall: 0.9787 - val_loss: 0.0585 - val_accuracy: 0.9785 - val_precision: 0.9791 - val_recall: 0.9779\n",
      "Epoch 52/100\n",
      "131/131 [==============================] - 14s 104ms/step - loss: 0.0528 - accuracy: 0.9805 - precision: 0.9811 - recall: 0.9801 - val_loss: 0.0578 - val_accuracy: 0.9787 - val_precision: 0.9792 - val_recall: 0.9781\n",
      "Epoch 53/100\n",
      "131/131 [==============================] - 14s 104ms/step - loss: 0.0521 - accuracy: 0.9807 - precision: 0.9812 - recall: 0.9803 - val_loss: 0.0569 - val_accuracy: 0.9794 - val_precision: 0.9799 - val_recall: 0.9788\n",
      "Epoch 54/100\n",
      "131/131 [==============================] - 14s 104ms/step - loss: 0.0513 - accuracy: 0.9809 - precision: 0.9814 - recall: 0.9805 - val_loss: 0.0567 - val_accuracy: 0.9793 - val_precision: 0.9798 - val_recall: 0.9787\n",
      "Epoch 55/100\n",
      "131/131 [==============================] - 14s 104ms/step - loss: 0.0509 - accuracy: 0.9812 - precision: 0.9817 - recall: 0.9808 - val_loss: 0.0560 - val_accuracy: 0.9793 - val_precision: 0.9799 - val_recall: 0.9788\n",
      "Epoch 56/100\n",
      "131/131 [==============================] - 14s 105ms/step - loss: 0.0508 - accuracy: 0.9811 - precision: 0.9816 - recall: 0.9807 - val_loss: 0.0558 - val_accuracy: 0.9796 - val_precision: 0.9801 - val_recall: 0.9793\n",
      "Epoch 57/100\n",
      "131/131 [==============================] - 14s 105ms/step - loss: 0.0506 - accuracy: 0.9812 - precision: 0.9818 - recall: 0.9809 - val_loss: 0.0561 - val_accuracy: 0.9800 - val_precision: 0.9804 - val_recall: 0.9795\n",
      "Epoch 58/100\n",
      "131/131 [==============================] - 13s 103ms/step - loss: 0.0543 - accuracy: 0.9800 - precision: 0.9805 - recall: 0.9795 - val_loss: 0.0639 - val_accuracy: 0.9766 - val_precision: 0.9774 - val_recall: 0.9760\n",
      "Epoch 59/100\n",
      "131/131 [==============================] - 13s 103ms/step - loss: 0.0540 - accuracy: 0.9801 - precision: 0.9807 - recall: 0.9797 - val_loss: 0.0561 - val_accuracy: 0.9796 - val_precision: 0.9801 - val_recall: 0.9791\n",
      "Epoch 60/100\n",
      "131/131 [==============================] - 14s 104ms/step - loss: 0.0501 - accuracy: 0.9815 - precision: 0.9819 - recall: 0.9811 - val_loss: 0.0538 - val_accuracy: 0.9805 - val_precision: 0.9810 - val_recall: 0.9801\n",
      "Epoch 61/100\n",
      "131/131 [==============================] - 13s 103ms/step - loss: 0.0473 - accuracy: 0.9824 - precision: 0.9828 - recall: 0.9820 - val_loss: 0.0529 - val_accuracy: 0.9809 - val_precision: 0.9813 - val_recall: 0.9806\n",
      "Epoch 62/100\n",
      "131/131 [==============================] - 14s 104ms/step - loss: 0.0461 - accuracy: 0.9828 - precision: 0.9832 - recall: 0.9823 - val_loss: 0.0511 - val_accuracy: 0.9815 - val_precision: 0.9821 - val_recall: 0.9810\n",
      "Epoch 63/100\n",
      "131/131 [==============================] - 14s 104ms/step - loss: 0.0458 - accuracy: 0.9829 - precision: 0.9834 - recall: 0.9825 - val_loss: 0.0518 - val_accuracy: 0.9813 - val_precision: 0.9819 - val_recall: 0.9806\n",
      "Epoch 64/100\n",
      "131/131 [==============================] - 13s 101ms/step - loss: 0.0453 - accuracy: 0.9830 - precision: 0.9835 - recall: 0.9826 - val_loss: 0.0514 - val_accuracy: 0.9814 - val_precision: 0.9819 - val_recall: 0.9809\n",
      "Epoch 65/100\n",
      "131/131 [==============================] - 13s 103ms/step - loss: 0.0462 - accuracy: 0.9828 - precision: 0.9833 - recall: 0.9823 - val_loss: 0.0533 - val_accuracy: 0.9805 - val_precision: 0.9811 - val_recall: 0.9799\n",
      "Epoch 66/100\n",
      "131/131 [==============================] - 13s 102ms/step - loss: 0.0592 - accuracy: 0.9782 - precision: 0.9790 - recall: 0.9776 - val_loss: 0.0795 - val_accuracy: 0.9706 - val_precision: 0.9715 - val_recall: 0.9698\n",
      "Epoch 67/100\n",
      "131/131 [==============================] - 13s 102ms/step - loss: 0.0558 - accuracy: 0.9794 - precision: 0.9801 - recall: 0.9788 - val_loss: 0.0531 - val_accuracy: 0.9806 - val_precision: 0.9814 - val_recall: 0.9800\n",
      "Epoch 68/100\n",
      "131/131 [==============================] - 13s 101ms/step - loss: 0.0444 - accuracy: 0.9835 - precision: 0.9841 - recall: 0.9830 - val_loss: 0.0499 - val_accuracy: 0.9816 - val_precision: 0.9824 - val_recall: 0.9810\n",
      "Epoch 69/100\n",
      "131/131 [==============================] - 13s 102ms/step - loss: 0.0426 - accuracy: 0.9840 - precision: 0.9845 - recall: 0.9835 - val_loss: 0.0489 - val_accuracy: 0.9821 - val_precision: 0.9828 - val_recall: 0.9813\n",
      "Epoch 70/100\n",
      "131/131 [==============================] - 13s 102ms/step - loss: 0.0420 - accuracy: 0.9842 - precision: 0.9848 - recall: 0.9837 - val_loss: 0.0483 - val_accuracy: 0.9825 - val_precision: 0.9832 - val_recall: 0.9817\n",
      "Epoch 71/100\n",
      "131/131 [==============================] - 14s 103ms/step - loss: 0.0415 - accuracy: 0.9843 - precision: 0.9849 - recall: 0.9838 - val_loss: 0.0479 - val_accuracy: 0.9825 - val_precision: 0.9830 - val_recall: 0.9820\n",
      "Epoch 72/100\n",
      "131/131 [==============================] - 14s 104ms/step - loss: 0.0408 - accuracy: 0.9846 - precision: 0.9851 - recall: 0.9841 - val_loss: 0.0477 - val_accuracy: 0.9826 - val_precision: 0.9831 - val_recall: 0.9822\n"
     ]
    },
    {
     "name": "stdout",
     "output_type": "stream",
     "text": [
      "Epoch 73/100\n",
      "131/131 [==============================] - 14s 104ms/step - loss: 0.0406 - accuracy: 0.9847 - precision: 0.9852 - recall: 0.9842 - val_loss: 0.0476 - val_accuracy: 0.9825 - val_precision: 0.9834 - val_recall: 0.9817\n",
      "Epoch 74/100\n",
      "131/131 [==============================] - 13s 103ms/step - loss: 0.0406 - accuracy: 0.9847 - precision: 0.9853 - recall: 0.9842 - val_loss: 0.0479 - val_accuracy: 0.9824 - val_precision: 0.9832 - val_recall: 0.9815\n",
      "Epoch 75/100\n",
      "131/131 [==============================] - 14s 103ms/step - loss: 0.0407 - accuracy: 0.9848 - precision: 0.9854 - recall: 0.9842 - val_loss: 0.0499 - val_accuracy: 0.9819 - val_precision: 0.9825 - val_recall: 0.9813\n",
      "Epoch 76/100\n",
      "131/131 [==============================] - 13s 103ms/step - loss: 0.0448 - accuracy: 0.9833 - precision: 0.9840 - recall: 0.9828 - val_loss: 0.0567 - val_accuracy: 0.9794 - val_precision: 0.9801 - val_recall: 0.9788\n",
      "Epoch 77/100\n",
      "131/131 [==============================] - 14s 104ms/step - loss: 0.0494 - accuracy: 0.9816 - precision: 0.9823 - recall: 0.9809 - val_loss: 0.0568 - val_accuracy: 0.9795 - val_precision: 0.9804 - val_recall: 0.9787\n",
      "Epoch 78/100\n",
      "131/131 [==============================] - 14s 104ms/step - loss: 0.0446 - accuracy: 0.9834 - precision: 0.9841 - recall: 0.9828 - val_loss: 0.0502 - val_accuracy: 0.9817 - val_precision: 0.9826 - val_recall: 0.9808\n",
      "Epoch 79/100\n",
      "131/131 [==============================] - 14s 104ms/step - loss: 0.0402 - accuracy: 0.9850 - precision: 0.9856 - recall: 0.9845 - val_loss: 0.0474 - val_accuracy: 0.9828 - val_precision: 0.9837 - val_recall: 0.9820\n",
      "Epoch 80/100\n",
      "131/131 [==============================] - 14s 103ms/step - loss: 0.0380 - accuracy: 0.9857 - precision: 0.9863 - recall: 0.9851 - val_loss: 0.0461 - val_accuracy: 0.9831 - val_precision: 0.9839 - val_recall: 0.9825\n",
      "Epoch 81/100\n",
      "131/131 [==============================] - 13s 103ms/step - loss: 0.0368 - accuracy: 0.9861 - precision: 0.9867 - recall: 0.9855 - val_loss: 0.0460 - val_accuracy: 0.9834 - val_precision: 0.9842 - val_recall: 0.9827\n",
      "Epoch 82/100\n",
      "131/131 [==============================] - 13s 102ms/step - loss: 0.0363 - accuracy: 0.9862 - precision: 0.9868 - recall: 0.9856 - val_loss: 0.0456 - val_accuracy: 0.9834 - val_precision: 0.9839 - val_recall: 0.9830\n",
      "Epoch 83/100\n",
      "131/131 [==============================] - 14s 104ms/step - loss: 0.0361 - accuracy: 0.9863 - precision: 0.9869 - recall: 0.9857 - val_loss: 0.0463 - val_accuracy: 0.9834 - val_precision: 0.9842 - val_recall: 0.9826\n",
      "Epoch 84/100\n",
      "131/131 [==============================] - 13s 103ms/step - loss: 0.0357 - accuracy: 0.9864 - precision: 0.9871 - recall: 0.9858 - val_loss: 0.0448 - val_accuracy: 0.9836 - val_precision: 0.9844 - val_recall: 0.9829\n",
      "Epoch 85/100\n",
      "131/131 [==============================] - 14s 104ms/step - loss: 0.0351 - accuracy: 0.9867 - precision: 0.9874 - recall: 0.9861 - val_loss: 0.0449 - val_accuracy: 0.9838 - val_precision: 0.9847 - val_recall: 0.9831\n",
      "Epoch 86/100\n",
      "131/131 [==============================] - 13s 103ms/step - loss: 0.0349 - accuracy: 0.9868 - precision: 0.9875 - recall: 0.9862 - val_loss: 0.0460 - val_accuracy: 0.9837 - val_precision: 0.9843 - val_recall: 0.9833\n",
      "Epoch 87/100\n",
      "131/131 [==============================] - 13s 103ms/step - loss: 0.0400 - accuracy: 0.9851 - precision: 0.9859 - recall: 0.9845 - val_loss: 0.0693 - val_accuracy: 0.9758 - val_precision: 0.9768 - val_recall: 0.9747\n",
      "Epoch 88/100\n",
      "131/131 [==============================] - 13s 102ms/step - loss: 0.0570 - accuracy: 0.9790 - precision: 0.9799 - recall: 0.9783 - val_loss: 0.0528 - val_accuracy: 0.9808 - val_precision: 0.9815 - val_recall: 0.9800\n",
      "Epoch 89/100\n",
      "131/131 [==============================] - 13s 102ms/step - loss: 0.0370 - accuracy: 0.9862 - precision: 0.9869 - recall: 0.9856 - val_loss: 0.0448 - val_accuracy: 0.9839 - val_precision: 0.9844 - val_recall: 0.9834\n",
      "Epoch 90/100\n",
      "131/131 [==============================] - 13s 102ms/step - loss: 0.0330 - accuracy: 0.9875 - precision: 0.9882 - recall: 0.9869 - val_loss: 0.0436 - val_accuracy: 0.9843 - val_precision: 0.9851 - val_recall: 0.9834\n",
      "Epoch 91/100\n",
      "131/131 [==============================] - 13s 103ms/step - loss: 0.0315 - accuracy: 0.9880 - precision: 0.9887 - recall: 0.9874 - val_loss: 0.0429 - val_accuracy: 0.9845 - val_precision: 0.9851 - val_recall: 0.9840\n",
      "Epoch 92/100\n",
      "131/131 [==============================] - 14s 104ms/step - loss: 0.0308 - accuracy: 0.9883 - precision: 0.9889 - recall: 0.9876 - val_loss: 0.0424 - val_accuracy: 0.9848 - val_precision: 0.9852 - val_recall: 0.9844\n",
      "Epoch 93/100\n",
      "131/131 [==============================] - 13s 102ms/step - loss: 0.0300 - accuracy: 0.9885 - precision: 0.9892 - recall: 0.9878 - val_loss: 0.0429 - val_accuracy: 0.9847 - val_precision: 0.9852 - val_recall: 0.9842\n",
      "Epoch 94/100\n",
      "131/131 [==============================] - 14s 103ms/step - loss: 0.0298 - accuracy: 0.9885 - precision: 0.9891 - recall: 0.9879 - val_loss: 0.0437 - val_accuracy: 0.9844 - val_precision: 0.9854 - val_recall: 0.9834\n",
      "Epoch 95/100\n",
      "131/131 [==============================] - 14s 103ms/step - loss: 0.0298 - accuracy: 0.9886 - precision: 0.9894 - recall: 0.9880 - val_loss: 0.0432 - val_accuracy: 0.9843 - val_precision: 0.9852 - val_recall: 0.9836\n",
      "Epoch 96/100\n",
      "131/131 [==============================] - 14s 104ms/step - loss: 0.0293 - accuracy: 0.9887 - precision: 0.9894 - recall: 0.9881 - val_loss: 0.0435 - val_accuracy: 0.9848 - val_precision: 0.9856 - val_recall: 0.9840\n",
      "Epoch 97/100\n",
      "131/131 [==============================] - 14s 104ms/step - loss: 0.0291 - accuracy: 0.9888 - precision: 0.9895 - recall: 0.9882 - val_loss: 0.0441 - val_accuracy: 0.9841 - val_precision: 0.9849 - val_recall: 0.9834\n",
      "Epoch 98/100\n",
      "131/131 [==============================] - 13s 102ms/step - loss: 0.0327 - accuracy: 0.9878 - precision: 0.9884 - recall: 0.9871 - val_loss: 0.0579 - val_accuracy: 0.9794 - val_precision: 0.9807 - val_recall: 0.9782\n",
      "Epoch 99/100\n",
      "131/131 [==============================] - 13s 102ms/step - loss: 0.0447 - accuracy: 0.9834 - precision: 0.9843 - recall: 0.9826 - val_loss: 0.0491 - val_accuracy: 0.9824 - val_precision: 0.9832 - val_recall: 0.9818\n",
      "Epoch 100/100\n",
      "131/131 [==============================] - 13s 102ms/step - loss: 0.0304 - accuracy: 0.9885 - precision: 0.9892 - recall: 0.9879 - val_loss: 0.0425 - val_accuracy: 0.9844 - val_precision: 0.9853 - val_recall: 0.9839\n"
     ]
    }
   ],
   "source": [
    "results = model.fit(\n",
    "    [encoder_input_data, decoder_input_data],\n",
    "    decoder_target_data,\n",
    "    batch_size=batch_size,\n",
    "    epochs=epochs,\n",
    "    validation_split=0.2,\n",
    ")"
   ]
  },
  {
   "cell_type": "code",
   "execution_count": 14,
   "id": "2ed411f8",
   "metadata": {},
   "outputs": [
    {
     "data": {
      "image/png": "[encoded data removed]",
      "text/plain": [
       "<Figure size 432x288 with 1 Axes>"
      ]
     },
     "metadata": {
      "needs_background": "light"
     },
     "output_type": "display_data"
    }
   ],
   "source": [
    "history = pd.DataFrame(results.history)\n",
    "\n",
    "fig = plt.figure\n",
    "plt.plot(history['loss'], label=\"training loss\");\n",
    "plt.plot(history['val_loss'], label=\"validation loss\");\n",
    "\n",
    "#plt.title('Layers: ' + str(number_layers) + ' - size: ' + str(layers_size))\n",
    "plt.legend();\n",
    "plt.show()"
   ]
  },
  {
   "cell_type": "code",
   "execution_count": 15,
   "id": "3f6cc8b6",
   "metadata": {},
   "outputs": [
    {
     "data": {
      "image/png": "[encoded data removed]",
      "text/plain": [
       "<Figure size 432x288 with 1 Axes>"
      ]
     },
     "metadata": {
      "needs_background": "light"
     },
     "output_type": "display_data"
    }
   ],
   "source": [
    "history = pd.DataFrame(results.history)\n",
    "\n",
    "fig = plt.figure\n",
    "plt.plot(history['accuracy'], label=\"training accuracy\");\n",
    "plt.plot(history['val_accuracy'], label=\"validation accuracy\");\n",
    "plt.plot(history['precision'], label=\"training prediction\");\n",
    "plt.plot(history['val_precision'], label=\"validation prediction\");\n",
    "plt.plot(history['recall'], label=\"training recall\");\n",
    "plt.plot(history['val_recall'], label=\"validation recall\");\n",
    "\n",
    "\n",
    "#plt.title('Layers: ' + str(number_layers) + ' - size: ' + str(layers_size))\n",
    "plt.legend();\n",
    "plt.show()"
   ]
  },
  {
   "cell_type": "code",
   "execution_count": 16,
   "id": "a07f951e",
   "metadata": {},
   "outputs": [
    {
     "name": "stderr",
     "output_type": "stream",
     "text": [
      "WARNING:absl:Found untraced functions such as lstm_cell_layer_call_fn, lstm_cell_layer_call_and_return_conditional_losses, lstm_cell_1_layer_call_fn, lstm_cell_1_layer_call_and_return_conditional_losses while saving (showing 4 of 4). These functions will not be directly callable after loading.\n"
     ]
    },
    {
     "name": "stdout",
     "output_type": "stream",
     "text": [
      "INFO:tensorflow:Assets written to: model_weights/MODEL_weights_chollet_06_train_without_phone/assets\n"
     ]
    },
    {
     "name": "stderr",
     "output_type": "stream",
     "text": [
      "INFO:tensorflow:Assets written to: model_weights/MODEL_weights_chollet_06_train_without_phone/assets\n"
     ]
    }
   ],
   "source": [
    "# Save model\n",
    "model.save(\"model_weights/MODEL_weights_chollet_06_train_without_phone\")"
   ]
  },
  {
   "cell_type": "markdown",
   "id": "4fb0a1c4",
   "metadata": {},
   "source": [
    "# Test model"
   ]
  },
  {
   "cell_type": "code",
   "execution_count": 17,
   "id": "e2f38594",
   "metadata": {},
   "outputs": [
    {
     "name": "stdout",
     "output_type": "stream",
     "text": [
      "82/82 [==============================] - 2s 27ms/step - loss: 0.0408 - accuracy: 0.9852 - precision: 0.9859 - recall: 0.9846\n"
     ]
    }
   ],
   "source": [
    "model_eval = model.evaluate([encoder_input_data_test, decoder_input_data_test],decoder_target_data_test)"
   ]
  },
  {
   "cell_type": "code",
   "execution_count": 18,
   "id": "36989c90",
   "metadata": {},
   "outputs": [
    {
     "name": "stdout",
     "output_type": "stream",
     "text": [
      "TEST MODEL\n",
      "Loss: 0.0407603457570076 \n",
      "Accuracy: 0.9851953983306885 \n",
      "Precision: 0.9859148263931274 \n",
      "Recall: 0.9846028089523315\n"
     ]
    }
   ],
   "source": [
    "print(\"TEST MODEL\\nLoss:\", model_eval[0], \"\\nAccuracy:\", model_eval[1], \"\\nPrecision:\", model_eval[2], \"\\nRecall:\", model_eval[3])"
   ]
  },
  {
   "cell_type": "markdown",
   "id": "1517d1b4",
   "metadata": {},
   "source": [
    "# PREDICT"
   ]
  },
  {
   "cell_type": "code",
   "execution_count": 19,
   "id": "ecbe9d9c",
   "metadata": {},
   "outputs": [],
   "source": [
    "batch_size = 64  # Batch size for training.\n",
    "epochs = 100  # Number of epochs to train for.\n",
    "latent_dim = 1024  # Latent dimensionality of the encoding space.\n",
    "\n"
   ]
  },
  {
   "cell_type": "code",
   "execution_count": 20,
   "id": "14b69fef",
   "metadata": {},
   "outputs": [],
   "source": [
    "model = keras.models.load_model(\"model_weights/MODEL_weights_chollet_06_train_without_phone\")\n"
   ]
  },
  {
   "cell_type": "code",
   "execution_count": 21,
   "id": "494b698b",
   "metadata": {},
   "outputs": [],
   "source": [
    "# define euclidean distance\n",
    "from math import sqrt\n",
    " \n",
    "# calculate euclidean distance\n",
    "def euclidean_distance(a, b):\n",
    "\treturn sqrt(sum((e1-e2)**2 for e1, e2 in zip(a,b)))\n"
   ]
  },
  {
   "cell_type": "code",
   "execution_count": 22,
   "id": "37fd46ad",
   "metadata": {},
   "outputs": [],
   "source": [
    "encoder_inputs = model.input[0]  # input_1\n",
    "encoder_outputs, state_h_enc, state_c_enc = model.layers[2].output  # lstm_1\n",
    "encoder_states = [state_h_enc, state_c_enc]\n",
    "encoder_model = keras.Model(encoder_inputs, encoder_states)\n",
    "\n",
    "decoder_inputs = model.input[1]  # input_2\n",
    "decoder_state_input_h = keras.Input(shape=(latent_dim,))\n",
    "decoder_state_input_c = keras.Input(shape=(latent_dim,))\n",
    "decoder_states_inputs = [decoder_state_input_h, decoder_state_input_c]\n",
    "decoder_lstm = model.layers[3]\n",
    "decoder_outputs, state_h_dec, state_c_dec = decoder_lstm(\n",
    "    decoder_inputs, initial_state=decoder_states_inputs\n",
    ")\n",
    "decoder_states = [state_h_dec, state_c_dec]\n",
    "decoder_dense = model.layers[4]\n",
    "decoder_outputs = decoder_dense(decoder_outputs)\n",
    "decoder_model = keras.Model(\n",
    "    [decoder_inputs] + decoder_states_inputs, [decoder_outputs] + decoder_states\n",
    ")\n",
    "\n",
    "# Reverse-lookup token index to decode sequences back to\n",
    "# something readable.\n"
   ]
  },
  {
   "cell_type": "code",
   "execution_count": 23,
   "id": "08f7f91a",
   "metadata": {},
   "outputs": [],
   "source": [
    "def decode_sequence(input_seq):\n",
    "    # Encode the input as state vectors.\n",
    "    states_value = encoder_model.predict(input_seq)\n",
    "\n",
    "    # Generate empty target sequence of length 1.\n",
    "    target_seq = np.zeros((1, 1, num_decoder_tokens))\n",
    "    # Populate the first character of target sequence with the start character.\n",
    "    #target_seq[0, 0, target_token_index[\"\\t\"]] = 1.0\n",
    "    \n",
    "    # Sampling loop for a batch of sequences\n",
    "    # (to simplify, here we assume a batch of size 1).\n",
    "    stop_condition = False\n",
    "    decoded_sentence = \"\"\n",
    "    predicted_tokens=[]\n",
    "    i=0\n",
    "    while not stop_condition:\n",
    "        i=i+1\n",
    "        output_tokens, h, c = decoder_model.predict([target_seq] + states_value, verbose=False)\n",
    "\n",
    "        # Sample a token\n",
    "        sampled_token_index = np.argmax(output_tokens[0, -1, :])\n",
    "        predicted_tokens.append(sampled_token_index)\n",
    "        #sampled_char = reverse_target_char_index[sampled_token_index]\n",
    "        #decoded_sentence += sampled_char\n",
    "\n",
    "        # Exit condition: either hit max length\n",
    "        # or find stop character.\n",
    "        #if sampled_char == \"\\n\" or len(decoded_sentence) > max_decoder_seq_length:\n",
    "        if i == target_max_length:\n",
    "            stop_condition = True\n",
    "\n",
    "        # Update the target sequence (of length 1).\n",
    "        target_seq = np.zeros((1, 1, num_decoder_tokens))\n",
    "        target_seq[0, 0, sampled_token_index] = 1.0\n",
    "\n",
    "        # Update states\n",
    "        states_value = [h, c]\n",
    "    #return decoded_sentence\n",
    "    return predicted_tokens"
   ]
  },
  {
   "cell_type": "markdown",
   "id": "f089deae",
   "metadata": {},
   "source": [
    "# PREDICT MOVE PHONE\n",
    "### generate encoder_input_data_MOVEPEN, decoder_input_data_MOVEPEN, decoder_target_data_MOVEPEN"
   ]
  },
  {
   "cell_type": "code",
   "execution_count": 24,
   "id": "7478b848",
   "metadata": {},
   "outputs": [],
   "source": [
    "audio_features_MOVEPEN = pd.DataFrame(load('features/audio_features_move_phone.npy', allow_pickle=True))\n",
    "audio_features_onehot_MOVEPEN = keras.utils.to_categorical(audio_features_MOVEPEN, num_classes=None, dtype='float32')\n",
    "\n",
    "video_features_MOVEPEN = pd.DataFrame(load('features/video_features_move_phone.npy', allow_pickle=True))\n",
    "video_features_norm_MOVEPEN = normalize(video_features_MOVEPEN)\n",
    "video_features_norm_100_MOVEPEN = video_features_norm_MOVEPEN * 100\n",
    "video_features_norm_100_MOVEPEN = video_features_norm_100_MOVEPEN.round()\n",
    "video_features_onehot_MOVEPEN = keras.utils.to_categorical(video_features_norm_100_MOVEPEN, num_classes=101, dtype='float32')\n",
    "\n",
    "encoder_input_data_MOVEPEN = video_features_onehot_MOVEPEN\n",
    "decoder_input_data_MOVEPEN = audio_features_onehot_MOVEPEN\n",
    "decoder_target_data_MOVEPEN = np.zeros(decoder_input_data_MOVEPEN.shape)\n",
    "for a in range(decoder_input_data_MOVEPEN.shape[0]):\n",
    "    for i in range(decoder_input_data_MOVEPEN.shape[1]-1):\n",
    "        decoder_target_data_MOVEPEN[a][i]=decoder_input_data_MOVEPEN[a][i+1]\n",
    "    decoder_target_data_MOVEPEN[a][decoder_input_data_MOVEPEN.shape[1]-1] = decoder_input_data_MOVEPEN[a][decoder_input_data_MOVEPEN.shape[1]-1]\n",
    "\n",
    "    \n",
    "    \n",
    "# lengths of vectors\n",
    "num_encoder_tokens = encoder_input_data.shape[2]\n",
    "num_decoder_tokens = decoder_input_data.shape[2]\n",
    "target_max_length = decoder_input_data.shape[1]"
   ]
  },
  {
   "cell_type": "code",
   "execution_count": 25,
   "id": "a0c866ed",
   "metadata": {},
   "outputs": [
    {
     "name": "stdout",
     "output_type": "stream",
     "text": [
      "1/1 [==============================] - 0s 135ms/step\n",
      "-SAMPLE N. 0\n",
      "Predicted audio features: [0, 0, 0, 0, 0, 0, 0, 0, 0, 0, 0, 0, 0, 0, 0, 0, 6, 11, 11, 0, 0, 0, 10, 0, 12, 0, 0, 4, 4, 4, 0, 0, 0, 10, 0, 12, 0, 4, 4, 4, 4, 0, 0, 7, 4, 4, 0, 0, 0, 23, 11, 0, 0, 0, 0, 0, 0, 0, 0, 0, 8, 0, 0, 9, 9, 5, 5, 0, 4, 4, 4, 4, 4, 0, 0, 0, 0, 0, 0, 0, 0, 0, 0, 0, 0, 0, 0, 0, 0, 0, 0, 0, 0, 0, 0, 0, 0, 0, 0, 0, 0, 0, 0, 0, 0, 0, 0, 0, 0, 0, 0, 0, 0, 0, 0, 0, 0, 0, 0, 0, 0, 0, 0, 0, 0, 0, 0, 0, 0, 0, 0, 0, 0, 0, 0, 0, 0, 0, 0, 0, 0, 0, 0, 0, 0, 0, 0, 0, 0, 0]\n",
      "---Target audio features: [0, 0, 0, 17, 0, 0, 0, 8, 0, 25, 0, 5, 0, 4, 4, 0, 6, 11, 5, 4, 4, 0, 23, 11, 0, 0, 8, 8, 0, 0, 9, 5, 5, 4, 4, 4, 6, 6, 0, 8, 0, 4, 4, 4, 6, 11, 5, 4, 4, 0, 15, 0, 0, 0, 0, 5, 0, 20, 0, 0, 0, 6, 0, 4, 4, 0, 0, 0, 0, 0, 0, 0, 0, 0, 0, 0, 0, 0, 0, 0, 0, 0, 0, 0, 0, 0, 0, 0, 0, 0, 0, 0, 0, 0, 0, 0, 0, 0, 0, 0, 0, 0, 0, 0, 0, 0, 0, 0, 0, 0, 0, 0, 0, 0, 0, 0, 0, 0, 0, 0, 0, 0, 0, 0, 0, 0, 0, 0, 0, 0, 0, 0, 0, 0, 0, 0, 0, 0, 0, 0, 0, 0, 0, 0, 0, 0, 0, 0, 0, 0]\n",
      "Euclidean distance: 58.180752831155424\n",
      "1/1 [==============================] - 0s 11ms/step\n",
      "-SAMPLE N. 1\n",
      "Predicted audio features: [0, 0, 0, 0, 0, 0, 0, 0, 0, 0, 0, 0, 0, 0, 0, 0, 6, 11, 0, 0, 0, 0, 0, 10, 0, 12, 12, 0, 0, 4, 4, 0, 0, 0, 0, 10, 0, 12, 0, 4, 4, 4, 4, 0, 0, 7, 0, 4, 0, 0, 0, 0, 0, 20, 0, 0, 0, 0, 0, 0, 0, 0, 0, 0, 0, 0, 0, 8, 18, 0, 0, 0, 0, 9, 9, 0, 0, 0, 4, 4, 4, 4, 4, 0, 0, 0, 0, 0, 0, 0, 0, 0, 0, 0, 0, 0, 0, 0, 0, 0, 0, 0, 0, 0, 0, 0, 0, 0, 0, 0, 0, 0, 0, 0, 0, 0, 0, 0, 0, 0, 0, 0, 0, 0, 0, 0, 0, 0, 0, 0, 0, 0, 0, 0, 0, 0, 0, 0, 0, 0, 0, 0, 0, 0, 0, 0, 0, 0, 0, 0]\n",
      "---Target audio features: [0, 0, 17, 17, 0, 0, 0, 8, 0, 25, 5, 5, 0, 4, 4, 0, 6, 11, 5, 4, 4, 0, 23, 11, 0, 0, 0, 8, 0, 0, 9, 0, 5, 0, 4, 4, 0, 0, 6, 0, 0, 8, 0, 4, 4, 6, 11, 5, 4, 4, 0, 13, 0, 0, 0, 10, 0, 21, 11, 11, 6, 6, 0, 4, 4, 4, 4, 0, 0, 0, 0, 0, 0, 0, 0, 0, 0, 0, 0, 0, 0, 0, 0, 0, 0, 0, 0, 0, 0, 0, 0, 0, 0, 0, 0, 0, 0, 0, 0, 0, 0, 0, 0, 0, 0, 0, 0, 0, 0, 0, 0, 0, 0, 0, 0, 0, 0, 0, 0, 0, 0, 0, 0, 0, 0, 0, 0, 0, 0, 0, 0, 0, 0, 0, 0, 0, 0, 0, 0, 0, 0, 0, 0, 0, 0, 0, 0, 0, 0, 0]\n",
      "Euclidean distance: 70.39176088151227\n",
      "1/1 [==============================] - 0s 12ms/step\n",
      "-SAMPLE N. 2\n",
      "Predicted audio features: [0, 0, 0, 0, 0, 0, 0, 0, 0, 0, 0, 0, 6, 11, 0, 0, 0, 10, 0, 12, 0, 0, 4, 0, 0, 0, 10, 0, 0, 12, 0, 0, 4, 4, 0, 0, 0, 7, 4, 4, 0, 12, 0, 0, 0, 0, 0, 0, 23, 0, 8, 0, 0, 0, 0, 0, 0, 8, 0, 0, 0, 0, 9, 9, 0, 0, 4, 4, 4, 4, 4, 0, 0, 0, 0, 0, 0, 0, 0, 0, 0, 0, 0, 0, 0, 0, 0, 0, 0, 0, 0, 0, 0, 0, 0, 0, 0, 0, 0, 0, 0, 0, 0, 0, 0, 0, 0, 0, 0, 0, 0, 0, 0, 0, 0, 0, 0, 0, 0, 0, 0, 0, 0, 0, 0, 0, 0, 0, 0, 0, 0, 0, 0, 0, 0, 0, 0, 0, 0, 0, 0, 0, 0, 0, 0, 0, 0, 0, 0, 0]\n",
      "---Target audio features: [0, 0, 17, 17, 0, 0, 0, 8, 0, 25, 0, 5, 0, 4, 4, 4, 6, 11, 5, 4, 4, 23, 11, 11, 0, 8, 0, 0, 0, 0, 9, 5, 5, 4, 4, 0, 0, 16, 0, 0, 23, 0, 4, 0, 0, 0, 0, 0, 0, 0, 0, 0, 0, 0, 0, 0, 0, 0, 0, 0, 0, 0, 0, 0, 0, 0, 0, 0, 0, 0, 0, 0, 0, 0, 0, 0, 0, 0, 0, 0, 0, 0, 0, 0, 0, 0, 0, 0, 0, 0, 0, 0, 0, 0, 0, 0, 0, 0, 0, 0, 0, 0, 0, 0, 0, 0, 0, 0, 0, 0, 0, 0, 0, 0, 0, 0, 0, 0, 0, 0, 0, 0, 0, 0, 0, 0, 0, 0, 0, 0, 0, 0, 0, 0, 0, 0, 0, 0, 0, 0, 0, 0, 0, 0, 0, 0, 0, 0, 0, 0]\n",
      "Euclidean distance: 66.19667665374146\n",
      "1/1 [==============================] - 0s 12ms/step\n",
      "-SAMPLE N. 3\n",
      "Predicted audio features: [0, 0, 0, 0, 0, 6, 11, 0, 0, 0, 0, 10, 0, 12, 0, 0, 4, 4, 0, 0, 0, 0, 10, 0, 12, 0, 4, 4, 4, 4, 0, 0, 7, 4, 0, 0, 0, 23, 11, 0, 0, 0, 0, 0, 0, 0, 0, 0, 8, 0, 0, 9, 0, 0, 5, 0, 4, 4, 4, 0, 0, 0, 0, 0, 0, 0, 0, 0, 0, 0, 0, 0, 0, 0, 0, 0, 0, 0, 0, 0, 0, 0, 0, 0, 0, 0, 0, 0, 0, 0, 0, 0, 0, 0, 0, 0, 0, 0, 0, 0, 0, 0, 0, 0, 0, 0, 0, 0, 0, 0, 0, 0, 0, 0, 0, 0, 0, 0, 0, 0, 0, 0, 0, 0, 0, 0, 0, 0, 0, 0, 0, 0, 0, 0, 0, 0, 0, 0, 0, 0, 0, 0, 0, 0, 0, 0, 0, 0, 0, 0]\n",
      "---Target audio features: [0, 0, 17, 17, 0, 0, 0, 8, 0, 25, 0, 5, 0, 4, 4, 4, 6, 11, 5, 4, 4, 23, 11, 11, 0, 0, 8, 0, 0, 0, 9, 5, 0, 4, 4, 0, 14, 0, 0, 0, 0, 0, 8, 18, 0, 9, 9, 4, 4, 4, 4, 4, 0, 0, 0, 0, 0, 0, 0, 0, 0, 0, 0, 0, 0, 0, 0, 0, 0, 0, 0, 0, 0, 0, 0, 0, 0, 0, 0, 0, 0, 0, 0, 0, 0, 0, 0, 0, 0, 0, 0, 0, 0, 0, 0, 0, 0, 0, 0, 0, 0, 0, 0, 0, 0, 0, 0, 0, 0, 0, 0, 0, 0, 0, 0, 0, 0, 0, 0, 0, 0, 0, 0, 0, 0, 0, 0, 0, 0, 0, 0, 0, 0, 0, 0, 0, 0, 0, 0, 0, 0, 0, 0, 0, 0, 0, 0, 0, 0, 0]\n",
      "Euclidean distance: 65.13831437794502\n",
      "1/1 [==============================] - 0s 12ms/step\n",
      "-SAMPLE N. 4\n",
      "Predicted audio features: [0, 0, 0, 6, 11, 0, 0, 10, 0, 12, 0, 0, 4, 0, 0, 0, 10, 12, 0, 4, 4, 4, 0, 7, 4, 0, 23, 11, 0, 0, 0, 0, 0, 8, 0, 0, 0, 9, 9, 5, 0, 4, 4, 4, 0, 0, 0, 0, 0, 0, 0, 0, 0, 0, 0, 0, 0, 0, 0, 0, 0, 0, 0, 0, 0, 0, 0, 0, 0, 0, 0, 0, 0, 0, 0, 0, 0, 0, 0, 0, 0, 0, 0, 0, 0, 0, 0, 0, 0, 0, 0, 0, 0, 0, 0, 0, 0, 0, 0, 0, 0, 0, 0, 0, 0, 0, 0, 0, 0, 0, 0, 0, 0, 0, 0, 0, 0, 0, 0, 0, 0, 0, 0, 0, 0, 0, 0, 0, 0, 0, 0, 0, 0, 0, 0, 0, 0, 0, 0, 0, 0, 0, 0, 0, 0, 0, 0, 0, 0, 0]\n",
      "---Target audio features: [0, 0, 0, 13, 13, 0, 0, 8, 0, 0, 0, 0, 6, 0, 0, 0, 7, 0, 0, 6, 0, 5, 0, 4, 4, 0, 6, 11, 5, 4, 4, 23, 0, 11, 0, 0, 0, 0, 8, 0, 0, 9, 9, 5, 0, 4, 4, 4, 0, 0, 0, 0, 0, 0, 0, 0, 0, 0, 0, 0, 0, 0, 0, 0, 0, 0, 0, 0, 0, 0, 0, 0, 0, 0, 0, 0, 0, 0, 0, 0, 0, 0, 0, 0, 0, 0, 0, 0, 0, 0, 0, 0, 0, 0, 0, 0, 0, 0, 0, 0, 0, 0, 0, 0, 0, 0, 0, 0, 0, 0, 0, 0, 0, 0, 0, 0, 0, 0, 0, 0, 0, 0, 0, 0, 0, 0, 0, 0, 0, 0, 0, 0, 0, 0, 0, 0, 0, 0, 0, 0, 0, 0, 0, 0, 0, 0, 0, 0, 0, 0]\n",
      "Euclidean distance: 38.44476557348217\n",
      "1/1 [==============================] - 0s 12ms/step\n",
      "-SAMPLE N. 5\n",
      "Predicted audio features: [0, 0, 0, 0, 0, 0, 0, 0, 0, 0, 0, 0, 6, 11, 0, 0, 10, 0, 12, 0, 0, 4, 4, 0, 0, 0, 10, 0, 12, 0, 0, 4, 4, 4, 0, 0, 7, 4, 4, 0, 0, 23, 0, 11, 0, 0, 0, 0, 0, 0, 0, 0, 7, 18, 0, 0, 0, 9, 9, 0, 0, 4, 4, 4, 4, 0, 0, 0, 0, 0, 0, 0, 0, 0, 0, 0, 0, 0, 0, 0, 0, 0, 0, 0, 0, 0, 0, 0, 0, 0, 0, 0, 0, 0, 0, 0, 0, 0, 0, 0, 0, 0, 0, 0, 0, 0, 0, 0, 0, 0, 0, 0, 0, 0, 0, 0, 0, 0, 0, 0, 0, 0, 0, 0, 0, 0, 0, 0, 0, 0, 0, 0, 0, 0, 0, 0, 0, 0, 0, 0, 0, 0, 0, 0, 0, 0, 0, 0, 0, 0]\n",
      "---Target audio features: [0, 0, 17, 0, 8, 0, 0, 0, 8, 0, 25, 0, 5, 0, 4, 4, 6, 11, 5, 4, 4, 4, 0, 23, 11, 0, 0, 8, 8, 0, 0, 9, 0, 5, 0, 4, 4, 0, 6, 8, 0, 4, 4, 4, 6, 11, 5, 4, 4, 0, 15, 0, 0, 0, 0, 0, 5, 0, 20, 0, 0, 0, 0, 6, 0, 0, 4, 4, 0, 0, 0, 0, 0, 0, 0, 0, 0, 0, 0, 0, 0, 0, 0, 0, 0, 0, 0, 0, 0, 0, 0, 0, 0, 0, 0, 0, 0, 0, 0, 0, 0, 0, 0, 0, 0, 0, 0, 0, 0, 0, 0, 0, 0, 0, 0, 0, 0, 0, 0, 0, 0, 0, 0, 0, 0, 0, 0, 0, 0, 0, 0, 0, 0, 0, 0, 0, 0, 0, 0, 0, 0, 0, 0, 0, 0, 0, 0, 0, 0, 0]\n",
      "Euclidean distance: 62.928530890209096\n",
      "1/1 [==============================] - 0s 13ms/step\n",
      "-SAMPLE N. 6\n",
      "Predicted audio features: [0, 0, 0, 0, 0, 0, 0, 0, 0, 0, 0, 0, 6, 11, 0, 0, 10, 0, 12, 0, 0, 4, 4, 0, 0, 0, 10, 0, 12, 0, 0, 4, 4, 4, 0, 0, 7, 4, 4, 0, 0, 23, 0, 11, 0, 0, 0, 0, 0, 0, 0, 0, 7, 18, 0, 0, 0, 9, 9, 0, 0, 4, 4, 4, 4, 0, 0, 0, 0, 0, 0, 0, 0, 0, 0, 0, 0, 0, 0, 0, 0, 0, 0, 0, 0, 0, 0, 0, 0, 0, 0, 0, 0, 0, 0, 0, 0, 0, 0, 0, 0, 0, 0, 0, 0, 0, 0, 0, 0, 0, 0, 0, 0, 0, 0, 0, 0, 0, 0, 0, 0, 0, 0, 0, 0, 0, 0, 0, 0, 0, 0, 0, 0, 0, 0, 0, 0, 0, 0, 0, 0, 0, 0, 0, 0, 0, 0, 0, 0, 0]\n",
      "---Target audio features: [0, 0, 17, 0, 0, 0, 0, 8, 0, 25, 0, 5, 0, 4, 4, 6, 11, 5, 4, 4, 4, 0, 23, 11, 0, 0, 0, 8, 0, 0, 9, 0, 5, 0, 4, 4, 6, 6, 8, 4, 4, 4, 6, 11, 5, 4, 4, 4, 13, 13, 0, 0, 0, 10, 10, 21, 0, 11, 0, 6, 6, 0, 4, 4, 4, 0, 0, 0, 0, 0, 0, 0, 0, 0, 0, 0, 0, 0, 0, 0, 0, 0, 0, 0, 0, 0, 0, 0, 0, 0, 0, 0, 0, 0, 0, 0, 0, 0, 0, 0, 0, 0, 0, 0, 0, 0, 0, 0, 0, 0, 0, 0, 0, 0, 0, 0, 0, 0, 0, 0, 0, 0, 0, 0, 0, 0, 0, 0, 0, 0, 0, 0, 0, 0, 0, 0, 0, 0, 0, 0, 0, 0, 0, 0, 0, 0, 0, 0, 0, 0]\n",
      "Euclidean distance: 62.465990746965666\n",
      "1/1 [==============================] - 0s 12ms/step\n",
      "-SAMPLE N. 7\n",
      "Predicted audio features: [0, 0, 0, 0, 0, 0, 0, 0, 0, 0, 0, 0, 6, 0, 11, 0, 0, 10, 0, 12, 0, 0, 4, 0, 0, 0, 10, 0, 12, 0, 4, 4, 4, 4, 0, 7, 4, 0, 0, 0, 0, 23, 11, 0, 0, 0, 0, 0, 0, 0, 8, 8, 7, 0, 17, 17, 0, 0, 0, 4, 4, 4, 4, 0, 0, 0, 0, 0, 0, 0, 0, 0, 0, 0, 0, 0, 0, 0, 0, 0, 0, 0, 0, 0, 0, 0, 0, 0, 0, 0, 0, 0, 0, 0, 0, 0, 0, 0, 0, 0, 0, 0, 0, 0, 0, 0, 0, 0, 0, 0, 0, 0, 0, 0, 0, 0, 0, 0, 0, 0, 0, 0, 0, 0, 0, 0, 0, 0, 0, 0, 0, 0, 0, 0, 0, 0, 0, 0, 0, 0, 0, 0, 0, 0, 0, 0, 0, 0, 0, 0]\n",
      "---Target audio features: [0, 17, 0, 8, 0, 0, 0, 8, 0, 0, 0, 0, 0, 0, 4, 0, 6, 11, 5, 0, 4, 4, 23, 23, 11, 0, 0, 0, 0, 8, 0, 5, 0, 0, 0, 4, 26, 9, 9, 0, 0, 0, 0, 0, 0, 0, 0, 8, 0, 0, 23, 0, 0, 0, 4, 4, 0, 0, 0, 0, 0, 0, 0, 0, 0, 0, 0, 0, 0, 0, 0, 0, 0, 0, 0, 0, 0, 0, 0, 0, 0, 0, 0, 0, 0, 0, 0, 0, 0, 0, 0, 0, 0, 0, 0, 0, 0, 0, 0, 0, 0, 0, 0, 0, 0, 0, 0, 0, 0, 0, 0, 0, 0, 0, 0, 0, 0, 0, 0, 0, 0, 0, 0, 0, 0, 0, 0, 0, 0, 0, 0, 0, 0, 0, 0, 0, 0, 0, 0, 0, 0, 0, 0, 0, 0, 0, 0, 0, 0, 0]\n",
      "Euclidean distance: 64.93843238021688\n"
     ]
    },
    {
     "name": "stdout",
     "output_type": "stream",
     "text": [
      "1/1 [==============================] - 0s 12ms/step\n",
      "-SAMPLE N. 8\n",
      "Predicted audio features: [6, 11, 0, 10, 12, 0, 4, 4, 0, 10, 0, 12, 4, 4, 4, 7, 4, 4, 0, 20, 0, 0, 0, 0, 0, 0, 0, 7, 13, 0, 0, 17, 0, 4, 4, 0, 0, 0, 0, 0, 0, 0, 0, 0, 0, 0, 0, 0, 0, 0, 0, 0, 0, 0, 0, 0, 0, 0, 0, 0, 0, 0, 0, 0, 0, 0, 0, 0, 0, 0, 0, 0, 0, 0, 0, 0, 0, 0, 0, 0, 0, 0, 0, 0, 0, 0, 0, 0, 0, 0, 0, 0, 0, 0, 0, 0, 0, 0, 0, 0, 0, 0, 0, 0, 0, 0, 0, 0, 0, 0, 0, 0, 0, 0, 0, 0, 0, 0, 0, 0, 0, 0, 0, 0, 0, 0, 0, 0, 0, 0, 0, 0, 0, 0, 0, 0, 0, 0, 0, 0, 0, 0, 0, 0, 0, 0, 0, 0, 0, 0]\n",
      "---Target audio features: [0, 0, 17, 0, 0, 0, 0, 8, 0, 25, 0, 5, 0, 4, 4, 6, 6, 11, 5, 4, 4, 0, 23, 11, 0, 0, 0, 0, 8, 0, 0, 0, 9, 0, 5, 0, 4, 4, 0, 0, 14, 0, 0, 0, 0, 0, 0, 0, 0, 0, 8, 18, 0, 0, 9, 0, 4, 4, 4, 4, 4, 0, 0, 0, 0, 0, 0, 0, 0, 0, 0, 0, 0, 0, 0, 0, 0, 0, 0, 0, 0, 0, 0, 0, 0, 0, 0, 0, 0, 0, 0, 0, 0, 0, 0, 0, 0, 0, 0, 0, 0, 0, 0, 0, 0, 0, 0, 0, 0, 0, 0, 0, 0, 0, 0, 0, 0, 0, 0, 0, 0, 0, 0, 0, 0, 0, 0, 0, 0, 0, 0, 0, 0, 0, 0, 0, 0, 0, 0, 0, 0, 0, 0, 0, 0, 0, 0, 0, 0, 0]\n",
      "Euclidean distance: 57.01754116059373\n",
      "1/1 [==============================] - 0s 12ms/step\n",
      "-SAMPLE N. 9\n",
      "Predicted audio features: [0, 0, 0, 0, 0, 0, 0, 0, 0, 0, 0, 6, 11, 0, 10, 0, 12, 0, 4, 4, 0, 10, 12, 12, 4, 4, 7, 4, 0, 23, 11, 11, 0, 0, 8, 0, 0, 9, 5, 0, 4, 4, 4, 0, 0, 0, 0, 0, 0, 0, 0, 0, 0, 0, 0, 0, 0, 0, 0, 0, 0, 0, 0, 0, 0, 0, 0, 0, 0, 0, 0, 0, 0, 0, 0, 0, 0, 0, 0, 0, 0, 0, 0, 0, 0, 0, 0, 0, 0, 0, 0, 0, 0, 0, 0, 0, 0, 0, 0, 0, 0, 0, 0, 0, 0, 0, 0, 0, 0, 0, 0, 0, 0, 0, 0, 0, 0, 0, 0, 0, 0, 0, 0, 0, 0, 0, 0, 0, 0, 0, 0, 0, 0, 0, 0, 0, 0, 0, 0, 0, 0, 0, 0, 0, 0, 0, 0, 0, 0, 0]\n",
      "---Target audio features: [0, 0, 0, 13, 13, 0, 0, 8, 0, 0, 0, 0, 0, 6, 0, 0, 0, 7, 0, 6, 0, 5, 0, 4, 6, 11, 0, 5, 4, 4, 0, 23, 11, 0, 0, 0, 0, 0, 0, 8, 0, 0, 0, 9, 0, 5, 5, 4, 4, 4, 0, 0, 0, 0, 0, 0, 0, 0, 0, 0, 0, 0, 0, 0, 0, 0, 0, 0, 0, 0, 0, 0, 0, 0, 0, 0, 0, 0, 0, 0, 0, 0, 0, 0, 0, 0, 0, 0, 0, 0, 0, 0, 0, 0, 0, 0, 0, 0, 0, 0, 0, 0, 0, 0, 0, 0, 0, 0, 0, 0, 0, 0, 0, 0, 0, 0, 0, 0, 0, 0, 0, 0, 0, 0, 0, 0, 0, 0, 0, 0, 0, 0, 0, 0, 0, 0, 0, 0, 0, 0, 0, 0, 0, 0, 0, 0, 0, 0, 0, 0]\n",
      "Euclidean distance: 49.678969393496885\n",
      "1/1 [==============================] - 0s 12ms/step\n",
      "-SAMPLE N. 10\n",
      "Predicted audio features: [0, 0, 0, 0, 0, 0, 0, 0, 0, 0, 0, 0, 6, 11, 0, 0, 10, 0, 12, 0, 0, 4, 4, 0, 0, 10, 0, 12, 0, 4, 4, 4, 0, 7, 4, 0, 0, 0, 23, 11, 0, 0, 0, 0, 0, 0, 0, 8, 0, 0, 0, 9, 0, 5, 0, 4, 4, 4, 4, 0, 0, 0, 0, 0, 0, 0, 0, 0, 0, 0, 0, 0, 0, 0, 0, 0, 0, 0, 0, 0, 0, 0, 0, 0, 0, 0, 0, 0, 0, 0, 0, 0, 0, 0, 0, 0, 0, 0, 0, 0, 0, 0, 0, 0, 0, 0, 0, 0, 0, 0, 0, 0, 0, 0, 0, 0, 0, 0, 0, 0, 0, 0, 0, 0, 0, 0, 0, 0, 0, 0, 0, 0, 0, 0, 0, 0, 0, 0, 0, 0, 0, 0, 0, 0, 0, 0, 0, 0, 0, 0]\n",
      "---Target audio features: [17, 0, 0, 0, 8, 25, 0, 5, 0, 4, 4, 6, 11, 5, 4, 4, 0, 23, 11, 0, 0, 8, 8, 0, 0, 9, 5, 0, 4, 4, 6, 6, 8, 0, 4, 4, 6, 6, 11, 5, 4, 0, 15, 0, 0, 0, 0, 5, 0, 20, 0, 0, 6, 0, 4, 4, 4, 0, 0, 0, 0, 0, 0, 0, 0, 0, 0, 0, 0, 0, 0, 0, 0, 0, 0, 0, 0, 0, 0, 0, 0, 0, 0, 0, 0, 0, 0, 0, 0, 0, 0, 0, 0, 0, 0, 0, 0, 0, 0, 0, 0, 0, 0, 0, 0, 0, 0, 0, 0, 0, 0, 0, 0, 0, 0, 0, 0, 0, 0, 0, 0, 0, 0, 0, 0, 0, 0, 0, 0, 0, 0, 0, 0, 0, 0, 0, 0, 0, 0, 0, 0, 0, 0, 0, 0, 0, 0, 0, 0, 0]\n",
      "Euclidean distance: 56.929781309961136\n",
      "1/1 [==============================] - 0s 12ms/step\n",
      "-SAMPLE N. 11\n",
      "Predicted audio features: [0, 0, 0, 0, 0, 0, 0, 0, 0, 0, 0, 0, 6, 6, 11, 0, 0, 10, 0, 12, 0, 0, 4, 0, 0, 0, 10, 0, 12, 0, 4, 4, 4, 4, 7, 4, 4, 0, 0, 0, 20, 0, 0, 0, 0, 0, 0, 0, 0, 0, 8, 8, 7, 0, 0, 17, 0, 0, 0, 4, 4, 4, 4, 0, 0, 0, 0, 0, 0, 0, 0, 0, 0, 0, 0, 0, 0, 0, 0, 0, 0, 0, 0, 0, 0, 0, 0, 0, 0, 0, 0, 0, 0, 0, 0, 0, 0, 0, 0, 0, 0, 0, 0, 0, 0, 0, 0, 0, 0, 0, 0, 0, 0, 0, 0, 0, 0, 0, 0, 0, 0, 0, 0, 0, 0, 0, 0, 0, 0, 0, 0, 0, 0, 0, 0, 0, 0, 0, 0, 0, 0, 0, 0, 0, 0, 0, 0, 0, 0, 0]\n",
      "---Target audio features: [17, 0, 0, 0, 8, 0, 25, 5, 5, 4, 0, 4, 6, 11, 5, 4, 4, 20, 0, 0, 0, 0, 8, 0, 0, 9, 0, 0, 4, 4, 6, 6, 8, 0, 4, 4, 6, 11, 5, 4, 4, 0, 13, 0, 0, 10, 10, 21, 11, 11, 6, 6, 4, 4, 4, 0, 0, 0, 0, 0, 0, 0, 0, 0, 0, 0, 0, 0, 0, 0, 0, 0, 0, 0, 0, 0, 0, 0, 0, 0, 0, 0, 0, 0, 0, 0, 0, 0, 0, 0, 0, 0, 0, 0, 0, 0, 0, 0, 0, 0, 0, 0, 0, 0, 0, 0, 0, 0, 0, 0, 0, 0, 0, 0, 0, 0, 0, 0, 0, 0, 0, 0, 0, 0, 0, 0, 0, 0, 0, 0, 0, 0, 0, 0, 0, 0, 0, 0, 0, 0, 0, 0, 0, 0, 0, 0, 0, 0, 0, 0]\n",
      "Euclidean distance: 59.99166608788257\n",
      "1/1 [==============================] - 0s 13ms/step\n",
      "-SAMPLE N. 12\n",
      "Predicted audio features: [0, 0, 0, 0, 0, 0, 0, 0, 0, 0, 0, 0, 6, 6, 11, 0, 0, 10, 0, 12, 0, 0, 4, 0, 0, 0, 10, 0, 12, 0, 4, 4, 4, 4, 7, 4, 4, 0, 0, 0, 20, 0, 0, 0, 0, 0, 0, 0, 0, 0, 8, 8, 7, 0, 0, 17, 0, 0, 0, 4, 4, 4, 4, 0, 0, 0, 0, 0, 0, 0, 0, 0, 0, 0, 0, 0, 0, 0, 0, 0, 0, 0, 0, 0, 0, 0, 0, 0, 0, 0, 0, 0, 0, 0, 0, 0, 0, 0, 0, 0, 0, 0, 0, 0, 0, 0, 0, 0, 0, 0, 0, 0, 0, 0, 0, 0, 0, 0, 0, 0, 0, 0, 0, 0, 0, 0, 0, 0, 0, 0, 0, 0, 0, 0, 0, 0, 0, 0, 0, 0, 0, 0, 0, 0, 0, 0, 0, 0, 0, 0]\n",
      "---Target audio features: [0, 17, 0, 0, 0, 8, 0, 25, 5, 0, 4, 4, 6, 11, 5, 5, 4, 0, 23, 11, 0, 0, 8, 0, 0, 0, 9, 5, 5, 4, 4, 0, 0, 16, 0, 23, 0, 4, 0, 0, 0, 0, 0, 0, 0, 0, 0, 0, 0, 0, 0, 0, 0, 0, 0, 0, 0, 0, 0, 0, 0, 0, 0, 0, 0, 0, 0, 0, 0, 0, 0, 0, 0, 0, 0, 0, 0, 0, 0, 0, 0, 0, 0, 0, 0, 0, 0, 0, 0, 0, 0, 0, 0, 0, 0, 0, 0, 0, 0, 0, 0, 0, 0, 0, 0, 0, 0, 0, 0, 0, 0, 0, 0, 0, 0, 0, 0, 0, 0, 0, 0, 0, 0, 0, 0, 0, 0, 0, 0, 0, 0, 0, 0, 0, 0, 0, 0, 0, 0, 0, 0, 0, 0, 0, 0, 0, 0, 0, 0, 0]\n",
      "Euclidean distance: 58.497863208838666\n",
      "1/1 [==============================] - 0s 12ms/step\n",
      "-SAMPLE N. 13\n",
      "Predicted audio features: [0, 0, 0, 0, 0, 0, 0, 0, 0, 0, 0, 6, 11, 0, 10, 12, 12, 0, 4, 0, 0, 10, 12, 12, 4, 4, 7, 4, 0, 23, 11, 11, 0, 0, 8, 0, 0, 9, 5, 0, 4, 4, 4, 0, 0, 0, 0, 0, 0, 0, 0, 0, 0, 0, 0, 0, 0, 0, 0, 0, 0, 0, 0, 0, 0, 0, 0, 0, 0, 0, 0, 0, 0, 0, 0, 0, 0, 0, 0, 0, 0, 0, 0, 0, 0, 0, 0, 0, 0, 0, 0, 0, 0, 0, 0, 0, 0, 0, 0, 0, 0, 0, 0, 0, 0, 0, 0, 0, 0, 0, 0, 0, 0, 0, 0, 0, 0, 0, 0, 0, 0, 0, 0, 0, 0, 0, 0, 0, 0, 0, 0, 0, 0, 0, 0, 0, 0, 0, 0, 0, 0, 0, 0, 0, 0, 0, 0, 0, 0, 0]\n",
      "---Target audio features: [0, 17, 0, 0, 0, 8, 25, 25, 5, 0, 0, 4, 4, 6, 11, 5, 4, 4, 23, 11, 0, 0, 0, 8, 0, 0, 9, 0, 5, 0, 4, 4, 0, 14, 0, 0, 0, 0, 0, 8, 18, 0, 9, 9, 0, 4, 4, 4, 4, 0, 0, 0, 0, 0, 0, 0, 0, 0, 0, 0, 0, 0, 0, 0, 0, 0, 0, 0, 0, 0, 0, 0, 0, 0, 0, 0, 0, 0, 0, 0, 0, 0, 0, 0, 0, 0, 0, 0, 0, 0, 0, 0, 0, 0, 0, 0, 0, 0, 0, 0, 0, 0, 0, 0, 0, 0, 0, 0, 0, 0, 0, 0, 0, 0, 0, 0, 0, 0, 0, 0, 0, 0, 0, 0, 0, 0, 0, 0, 0, 0, 0, 0, 0, 0, 0, 0, 0, 0, 0, 0, 0, 0, 0, 0, 0, 0, 0, 0, 0, 0]\n",
      "Euclidean distance: 64.07027391856539\n",
      "1/1 [==============================] - 0s 12ms/step\n",
      "-SAMPLE N. 14\n",
      "Predicted audio features: [0, 0, 10, 0, 12, 0, 0, 4, 0, 0, 10, 12, 12, 4, 4, 4, 7, 0, 4, 0, 20, 0, 0, 0, 0, 0, 0, 0, 7, 13, 0, 0, 9, 0, 4, 4, 0, 0, 0, 0, 0, 0, 0, 0, 0, 0, 0, 0, 0, 0, 0, 0, 0, 0, 0, 0, 0, 0, 0, 0, 0, 0, 0, 0, 0, 0, 0, 0, 0, 0, 0, 0, 0, 0, 0, 0, 0, 0, 0, 0, 0, 0, 0, 0, 0, 0, 0, 0, 0, 0, 0, 0, 0, 0, 0, 0, 0, 0, 0, 0, 0, 0, 0, 0, 0, 0, 0, 0, 0, 0, 0, 0, 0, 0, 0, 0, 0, 0, 0, 0, 0, 0, 0, 0, 0, 0, 0, 0, 0, 0, 0, 0, 0, 0, 0, 0, 0, 0, 0, 0, 0, 0, 0, 0, 0, 0, 0, 0, 0, 0]\n",
      "---Target audio features: [0, 13, 13, 0, 0, 8, 0, 0, 0, 6, 0, 0, 0, 7, 0, 0, 6, 5, 0, 4, 4, 6, 11, 5, 5, 4, 4, 23, 11, 11, 0, 0, 0, 0, 8, 0, 0, 0, 9, 5, 0, 4, 4, 0, 0, 0, 0, 0, 0, 0, 0, 0, 0, 0, 0, 0, 0, 0, 0, 0, 0, 0, 0, 0, 0, 0, 0, 0, 0, 0, 0, 0, 0, 0, 0, 0, 0, 0, 0, 0, 0, 0, 0, 0, 0, 0, 0, 0, 0, 0, 0, 0, 0, 0, 0, 0, 0, 0, 0, 0, 0, 0, 0, 0, 0, 0, 0, 0, 0, 0, 0, 0, 0, 0, 0, 0, 0, 0, 0, 0, 0, 0, 0, 0, 0, 0, 0, 0, 0, 0, 0, 0, 0, 0, 0, 0, 0, 0, 0, 0, 0, 0, 0, 0, 0, 0, 0, 0, 0, 0]\n",
      "Euclidean distance: 47.11687595755899\n",
      "1/1 [==============================] - 0s 12ms/step\n",
      "-SAMPLE N. 15\n",
      "Predicted audio features: [0, 0, 0, 0, 0, 0, 0, 0, 0, 0, 0, 0, 6, 11, 11, 0, 0, 10, 0, 12, 0, 0, 4, 0, 0, 10, 0, 12, 0, 4, 4, 4, 7, 4, 4, 4, 12, 12, 0, 0, 23, 8, 8, 0, 0, 0, 0, 8, 9, 9, 0, 0, 4, 4, 4, 4, 0, 0, 0, 0, 0, 0, 0, 0, 0, 0, 0, 0, 0, 0, 0, 0, 0, 0, 0, 0, 0, 0, 0, 0, 0, 0, 0, 0, 0, 0, 0, 0, 0, 0, 0, 0, 0, 0, 0, 0, 0, 0, 0, 0, 0, 0, 0, 0, 0, 0, 0, 0, 0, 0, 0, 0, 0, 0, 0, 0, 0, 0, 0, 0, 0, 0, 0, 0, 0, 0, 0, 0, 0, 0, 0, 0, 0, 0, 0, 0, 0, 0, 0, 0, 0, 0, 0, 0, 0, 0, 0, 0, 0, 0]\n",
      "---Target audio features: [0, 17, 17, 0, 0, 0, 8, 0, 25, 5, 5, 12, 0, 4, 4, 6, 11, 0, 5, 4, 4, 0, 23, 11, 0, 0, 8, 0, 9, 0, 5, 0, 4, 4, 6, 6, 8, 0, 0, 4, 4, 6, 11, 5, 4, 4, 0, 0, 15, 0, 0, 0, 0, 5, 0, 20, 0, 0, 0, 6, 0, 4, 4, 0, 0, 0, 0, 0, 0, 0, 0, 0, 0, 0, 0, 0, 0, 0, 0, 0, 0, 0, 0, 0, 0, 0, 0, 0, 0, 0, 0, 0, 0, 0, 0, 0, 0, 0, 0, 0, 0, 0, 0, 0, 0, 0, 0, 0, 0, 0, 0, 0, 0, 0, 0, 0, 0, 0, 0, 0, 0, 0, 0, 0, 0, 0, 0, 0, 0, 0, 0, 0, 0, 0, 0, 0, 0, 0, 0, 0, 0, 0, 0, 0, 0, 0, 0, 0, 0, 0]\n",
      "Euclidean distance: 63.42712353559792\n"
     ]
    },
    {
     "name": "stdout",
     "output_type": "stream",
     "text": [
      "1/1 [==============================] - 0s 12ms/step\n",
      "-SAMPLE N. 16\n",
      "Predicted audio features: [0, 0, 0, 0, 0, 0, 0, 0, 0, 0, 0, 0, 0, 0, 6, 0, 11, 0, 0, 0, 0, 10, 0, 12, 0, 0, 4, 4, 0, 0, 0, 0, 10, 12, 12, 0, 4, 4, 4, 0, 0, 0, 7, 0, 4, 0, 0, 0, 23, 11, 11, 0, 0, 0, 0, 0, 0, 0, 0, 0, 8, 8, 0, 0, 0, 9, 0, 5, 5, 0, 4, 4, 4, 4, 4, 0, 0, 0, 0, 0, 0, 0, 0, 0, 0, 0, 0, 0, 0, 0, 0, 0, 0, 0, 0, 0, 0, 0, 0, 0, 0, 0, 0, 0, 0, 0, 0, 0, 0, 0, 0, 0, 0, 0, 0, 0, 0, 0, 0, 0, 0, 0, 0, 0, 0, 0, 0, 0, 0, 0, 0, 0, 0, 0, 0, 0, 0, 0, 0, 0, 0, 0, 0, 0, 0, 0, 0, 0, 0, 0]\n",
      "---Target audio features: [0, 0, 15, 0, 0, 0, 0, 8, 0, 12, 0, 5, 0, 4, 4, 6, 11, 5, 0, 4, 0, 23, 11, 0, 0, 0, 8, 0, 0, 9, 5, 0, 4, 4, 6, 0, 8, 4, 4, 4, 6, 11, 5, 4, 4, 13, 13, 0, 0, 0, 10, 21, 21, 11, 6, 6, 0, 4, 0, 0, 0, 0, 0, 0, 0, 0, 0, 0, 0, 0, 0, 0, 0, 0, 0, 0, 0, 0, 0, 0, 0, 0, 0, 0, 0, 0, 0, 0, 0, 0, 0, 0, 0, 0, 0, 0, 0, 0, 0, 0, 0, 0, 0, 0, 0, 0, 0, 0, 0, 0, 0, 0, 0, 0, 0, 0, 0, 0, 0, 0, 0, 0, 0, 0, 0, 0, 0, 0, 0, 0, 0, 0, 0, 0, 0, 0, 0, 0, 0, 0, 0, 0, 0, 0, 0, 0, 0, 0, 0, 0]\n",
      "Euclidean distance: 62.37788069500277\n",
      "1/1 [==============================] - 0s 12ms/step\n",
      "-SAMPLE N. 17\n",
      "Predicted audio features: [0, 0, 0, 0, 0, 0, 0, 0, 0, 0, 0, 0, 0, 0, 0, 0, 0, 6, 11, 0, 0, 0, 0, 10, 0, 12, 0, 0, 4, 4, 0, 0, 0, 0, 10, 0, 12, 12, 0, 4, 4, 4, 4, 4, 7, 4, 4, 0, 0, 12, 12, 0, 0, 0, 0, 0, 23, 0, 0, 8, 8, 0, 0, 0, 0, 0, 0, 8, 0, 9, 9, 0, 0, 0, 4, 4, 4, 4, 0, 0, 0, 0, 0, 0, 0, 0, 0, 0, 0, 0, 0, 0, 0, 0, 0, 0, 0, 0, 0, 0, 0, 0, 0, 0, 0, 0, 0, 0, 0, 0, 0, 0, 0, 0, 0, 0, 0, 0, 0, 0, 0, 0, 0, 0, 0, 0, 0, 0, 0, 0, 0, 0, 0, 0, 0, 0, 0, 0, 0, 0, 0, 0, 0, 0, 0, 0, 0, 0, 0, 0]\n",
      "---Target audio features: [0, 0, 0, 0, 17, 0, 0, 0, 0, 16, 0, 25, 5, 0, 0, 0, 0, 0, 0, 5, 0, 0, 0, 23, 11, 0, 0, 8, 0, 0, 0, 9, 5, 0, 4, 0, 0, 16, 0, 0, 23, 0, 4, 4, 0, 0, 0, 0, 0, 0, 0, 0, 0, 0, 0, 0, 0, 0, 0, 0, 0, 0, 0, 0, 0, 0, 0, 0, 0, 0, 0, 0, 0, 0, 0, 0, 0, 0, 0, 0, 0, 0, 0, 0, 0, 0, 0, 0, 0, 0, 0, 0, 0, 0, 0, 0, 0, 0, 0, 0, 0, 0, 0, 0, 0, 0, 0, 0, 0, 0, 0, 0, 0, 0, 0, 0, 0, 0, 0, 0, 0, 0, 0, 0, 0, 0, 0, 0, 0, 0, 0, 0, 0, 0, 0, 0, 0, 0, 0, 0, 0, 0, 0, 0, 0, 0, 0, 0, 0, 0]\n",
      "Euclidean distance: 62.5939294181153\n",
      "1/1 [==============================] - 0s 13ms/step\n",
      "-SAMPLE N. 18\n",
      "Predicted audio features: [0, 0, 0, 0, 0, 0, 0, 0, 0, 0, 0, 0, 0, 0, 6, 0, 11, 0, 0, 0, 0, 10, 0, 12, 0, 0, 4, 4, 0, 0, 0, 0, 10, 12, 12, 0, 4, 4, 4, 0, 0, 0, 7, 0, 4, 0, 0, 0, 23, 11, 11, 0, 0, 0, 0, 0, 0, 0, 0, 0, 8, 8, 0, 0, 0, 9, 0, 5, 5, 0, 4, 4, 4, 4, 4, 0, 0, 0, 0, 0, 0, 0, 0, 0, 0, 0, 0, 0, 0, 0, 0, 0, 0, 0, 0, 0, 0, 0, 0, 0, 0, 0, 0, 0, 0, 0, 0, 0, 0, 0, 0, 0, 0, 0, 0, 0, 0, 0, 0, 0, 0, 0, 0, 0, 0, 0, 0, 0, 0, 0, 0, 0, 0, 0, 0, 0, 0, 0, 0, 0, 0, 0, 0, 0, 0, 0, 0, 0, 0, 0]\n",
      "---Target audio features: [0, 0, 0, 17, 0, 0, 0, 0, 0, 8, 0, 25, 5, 0, 12, 4, 0, 6, 11, 5, 0, 4, 0, 23, 11, 0, 0, 8, 0, 0, 0, 9, 0, 5, 0, 4, 4, 14, 0, 0, 0, 0, 8, 18, 0, 0, 9, 0, 4, 4, 4, 4, 0, 0, 0, 0, 0, 0, 0, 0, 0, 0, 0, 0, 0, 0, 0, 0, 0, 0, 0, 0, 0, 0, 0, 0, 0, 0, 0, 0, 0, 0, 0, 0, 0, 0, 0, 0, 0, 0, 0, 0, 0, 0, 0, 0, 0, 0, 0, 0, 0, 0, 0, 0, 0, 0, 0, 0, 0, 0, 0, 0, 0, 0, 0, 0, 0, 0, 0, 0, 0, 0, 0, 0, 0, 0, 0, 0, 0, 0, 0, 0, 0, 0, 0, 0, 0, 0, 0, 0, 0, 0, 0, 0, 0, 0, 0, 0, 0, 0]\n",
      "Euclidean distance: 58.39520528262573\n",
      "1/1 [==============================] - 0s 12ms/step\n",
      "-SAMPLE N. 19\n",
      "Predicted audio features: [0, 0, 0, 0, 0, 0, 0, 0, 0, 0, 0, 0, 0, 0, 6, 0, 11, 0, 0, 0, 0, 10, 0, 12, 0, 0, 4, 4, 0, 0, 0, 0, 10, 12, 12, 0, 4, 4, 4, 0, 0, 0, 7, 0, 4, 0, 0, 0, 23, 11, 11, 0, 0, 0, 0, 0, 0, 0, 0, 0, 8, 8, 0, 0, 0, 9, 0, 5, 5, 0, 4, 4, 4, 4, 4, 0, 0, 0, 0, 0, 0, 0, 0, 0, 0, 0, 0, 0, 0, 0, 0, 0, 0, 0, 0, 0, 0, 0, 0, 0, 0, 0, 0, 0, 0, 0, 0, 0, 0, 0, 0, 0, 0, 0, 0, 0, 0, 0, 0, 0, 0, 0, 0, 0, 0, 0, 0, 0, 0, 0, 0, 0, 0, 0, 0, 0, 0, 0, 0, 0, 0, 0, 0, 0, 0, 0, 0, 0, 0, 0]\n",
      "---Target audio features: [0, 0, 0, 13, 13, 0, 0, 8, 0, 0, 0, 0, 6, 0, 0, 0, 5, 0, 0, 0, 6, 5, 0, 4, 6, 0, 0, 5, 0, 0, 23, 11, 11, 0, 0, 0, 8, 0, 0, 9, 0, 0, 5, 4, 4, 0, 0, 0, 0, 0, 0, 0, 0, 0, 0, 0, 0, 0, 0, 0, 0, 0, 0, 0, 0, 0, 0, 0, 0, 0, 0, 0, 0, 0, 0, 0, 0, 0, 0, 0, 0, 0, 0, 0, 0, 0, 0, 0, 0, 0, 0, 0, 0, 0, 0, 0, 0, 0, 0, 0, 0, 0, 0, 0, 0, 0, 0, 0, 0, 0, 0, 0, 0, 0, 0, 0, 0, 0, 0, 0, 0, 0, 0, 0, 0, 0, 0, 0, 0, 0, 0, 0, 0, 0, 0, 0, 0, 0, 0, 0, 0, 0, 0, 0, 0, 0, 0, 0, 0, 0]\n",
      "Euclidean distance: 53.72150407425317\n",
      "1/1 [==============================] - 0s 12ms/step\n",
      "-SAMPLE N. 20\n",
      "Predicted audio features: [0, 0, 0, 0, 0, 0, 0, 0, 0, 0, 0, 0, 6, 11, 0, 0, 10, 0, 12, 0, 0, 4, 4, 0, 0, 0, 10, 0, 12, 0, 0, 4, 4, 4, 0, 0, 7, 4, 4, 0, 0, 23, 0, 11, 0, 0, 0, 0, 0, 0, 0, 0, 7, 18, 0, 0, 0, 9, 9, 0, 0, 4, 4, 4, 4, 0, 0, 0, 0, 0, 0, 0, 0, 0, 0, 0, 0, 0, 0, 0, 0, 0, 0, 0, 0, 0, 0, 0, 0, 0, 0, 0, 0, 0, 0, 0, 0, 0, 0, 0, 0, 0, 0, 0, 0, 0, 0, 0, 0, 0, 0, 0, 0, 0, 0, 0, 0, 0, 0, 0, 0, 0, 0, 0, 0, 0, 0, 0, 0, 0, 0, 0, 0, 0, 0, 0, 0, 0, 0, 0, 0, 0, 0, 0, 0, 0, 0, 0, 0, 0]\n",
      "---Target audio features: [17, 0, 0, 8, 0, 25, 0, 5, 14, 4, 4, 6, 11, 5, 4, 4, 23, 11, 11, 0, 8, 0, 0, 9, 0, 5, 0, 4, 0, 6, 0, 8, 0, 4, 4, 6, 11, 5, 4, 4, 15, 0, 0, 0, 5, 5, 20, 20, 0, 0, 6, 0, 4, 4, 4, 0, 0, 0, 0, 0, 0, 0, 0, 0, 0, 0, 0, 0, 0, 0, 0, 0, 0, 0, 0, 0, 0, 0, 0, 0, 0, 0, 0, 0, 0, 0, 0, 0, 0, 0, 0, 0, 0, 0, 0, 0, 0, 0, 0, 0, 0, 0, 0, 0, 0, 0, 0, 0, 0, 0, 0, 0, 0, 0, 0, 0, 0, 0, 0, 0, 0, 0, 0, 0, 0, 0, 0, 0, 0, 0, 0, 0, 0, 0, 0, 0, 0, 0, 0, 0, 0, 0, 0, 0, 0, 0, 0, 0, 0, 0]\n",
      "Euclidean distance: 66.88796603276258\n",
      "1/1 [==============================] - 0s 12ms/step\n",
      "-SAMPLE N. 21\n",
      "Predicted audio features: [0, 0, 0, 0, 17, 0, 0, 0, 0, 0, 0, 0, 8, 0, 0, 6, 0, 11, 5, 0, 0, 4, 4, 6, 11, 0, 5, 0, 4, 4, 0, 0, 12, 0, 0, 0, 0, 23, 0, 8, 0, 0, 0, 0, 8, 8, 9, 9, 0, 0, 0, 4, 4, 0, 6, 6, 0, 8, 0, 0, 4, 4, 4, 6, 11, 5, 4, 4, 4, 0, 0, 15, 15, 0, 0, 0, 0, 0, 0, 0, 0, 0, 5, 0, 20, 20, 0, 0, 0, 0, 6, 6, 0, 0, 4, 4, 0, 0, 0, 0, 0, 0, 0, 0, 0, 0, 0, 0, 0, 0, 0, 0, 0, 0, 0, 0, 0, 0, 0, 0, 0, 0, 0, 0, 0, 0, 0, 0, 0, 0, 0, 0, 0, 0, 0, 0, 0, 0, 0, 0, 0, 0, 0, 0, 0, 0, 0, 0, 0, 0]\n",
      "---Target audio features: [17, 0, 0, 8, 25, 0, 5, 0, 14, 4, 6, 11, 5, 4, 4, 23, 11, 11, 0, 8, 0, 0, 0, 9, 5, 5, 4, 4, 6, 0, 8, 0, 4, 4, 6, 11, 5, 4, 4, 0, 13, 0, 0, 0, 10, 10, 21, 11, 11, 6, 6, 4, 4, 4, 4, 0, 0, 0, 0, 0, 0, 0, 0, 0, 0, 0, 0, 0, 0, 0, 0, 0, 0, 0, 0, 0, 0, 0, 0, 0, 0, 0, 0, 0, 0, 0, 0, 0, 0, 0, 0, 0, 0, 0, 0, 0, 0, 0, 0, 0, 0, 0, 0, 0, 0, 0, 0, 0, 0, 0, 0, 0, 0, 0, 0, 0, 0, 0, 0, 0, 0, 0, 0, 0, 0, 0, 0, 0, 0, 0, 0, 0, 0, 0, 0, 0, 0, 0, 0, 0, 0, 0, 0, 0, 0, 0, 0, 0, 0, 0]\n",
      "Euclidean distance: 67.468511173732\n",
      "1/1 [==============================] - 0s 12ms/step\n",
      "-SAMPLE N. 22\n",
      "Predicted audio features: [0, 0, 10, 0, 12, 0, 0, 4, 0, 0, 10, 12, 12, 4, 4, 4, 7, 0, 4, 0, 20, 0, 0, 0, 0, 0, 0, 0, 7, 13, 0, 0, 9, 0, 4, 4, 0, 0, 0, 0, 0, 0, 0, 0, 0, 0, 0, 0, 0, 0, 0, 0, 0, 0, 0, 0, 0, 0, 0, 0, 0, 0, 0, 0, 0, 0, 0, 0, 0, 0, 0, 0, 0, 0, 0, 0, 0, 0, 0, 0, 0, 0, 0, 0, 0, 0, 0, 0, 0, 0, 0, 0, 0, 0, 0, 0, 0, 0, 0, 0, 0, 0, 0, 0, 0, 0, 0, 0, 0, 0, 0, 0, 0, 0, 0, 0, 0, 0, 0, 0, 0, 0, 0, 0, 0, 0, 0, 0, 0, 0, 0, 0, 0, 0, 0, 0, 0, 0, 0, 0, 0, 0, 0, 0, 0, 0, 0, 0, 0, 0]\n",
      "---Target audio features: [8, 0, 0, 8, 0, 25, 0, 0, 0, 4, 6, 11, 5, 4, 4, 23, 11, 0, 0, 8, 0, 0, 0, 0, 9, 0, 0, 4, 0, 0, 16, 0, 23, 0, 0, 4, 0, 0, 0, 0, 0, 0, 0, 0, 0, 0, 0, 0, 0, 0, 0, 0, 0, 0, 0, 0, 0, 0, 0, 0, 0, 0, 0, 0, 0, 0, 0, 0, 0, 0, 0, 0, 0, 0, 0, 0, 0, 0, 0, 0, 0, 0, 0, 0, 0, 0, 0, 0, 0, 0, 0, 0, 0, 0, 0, 0, 0, 0, 0, 0, 0, 0, 0, 0, 0, 0, 0, 0, 0, 0, 0, 0, 0, 0, 0, 0, 0, 0, 0, 0, 0, 0, 0, 0, 0, 0, 0, 0, 0, 0, 0, 0, 0, 0, 0, 0, 0, 0, 0, 0, 0, 0, 0, 0, 0, 0, 0, 0, 0, 0]\n",
      "Euclidean distance: 52.29722745997153\n",
      "1/1 [==============================] - 0s 12ms/step\n",
      "-SAMPLE N. 23\n",
      "Predicted audio features: [0, 0, 0, 0, 0, 0, 0, 0, 0, 0, 0, 0, 0, 0, 0, 0, 0, 6, 11, 0, 0, 0, 0, 10, 0, 12, 0, 0, 0, 4, 0, 0, 0, 0, 0, 10, 12, 12, 0, 4, 4, 4, 4, 0, 0, 7, 4, 4, 0, 0, 23, 11, 0, 0, 0, 0, 0, 0, 0, 0, 8, 0, 0, 0, 9, 0, 5, 0, 4, 4, 4, 4, 0, 0, 0, 0, 0, 0, 0, 0, 0, 0, 0, 0, 0, 0, 0, 0, 0, 0, 0, 0, 0, 0, 0, 0, 0, 0, 0, 0, 0, 0, 0, 0, 0, 0, 0, 0, 0, 0, 0, 0, 0, 0, 0, 0, 0, 0, 0, 0, 0, 0, 0, 0, 0, 0, 0, 0, 0, 0, 0, 0, 0, 0, 0, 0, 0, 0, 0, 0, 0, 0, 0, 0, 0, 0, 0, 0, 0, 0]\n",
      "---Target audio features: [0, 0, 0, 8, 0, 25, 0, 5, 0, 4, 4, 6, 11, 5, 4, 20, 0, 0, 0, 7, 15, 0, 0, 0, 17, 0, 0, 4, 4, 14, 0, 0, 0, 0, 0, 8, 18, 0, 9, 9, 0, 4, 4, 4, 4, 0, 0, 0, 0, 0, 0, 0, 0, 0, 0, 0, 0, 0, 0, 0, 0, 0, 0, 0, 0, 0, 0, 0, 0, 0, 0, 0, 0, 0, 0, 0, 0, 0, 0, 0, 0, 0, 0, 0, 0, 0, 0, 0, 0, 0, 0, 0, 0, 0, 0, 0, 0, 0, 0, 0, 0, 0, 0, 0, 0, 0, 0, 0, 0, 0, 0, 0, 0, 0, 0, 0, 0, 0, 0, 0, 0, 0, 0, 0, 0, 0, 0, 0, 0, 0, 0, 0, 0, 0, 0, 0, 0, 0, 0, 0, 0, 0, 0, 0, 0, 0, 0, 0, 0, 0]\n",
      "Euclidean distance: 61.180062111769715\n"
     ]
    },
    {
     "name": "stdout",
     "output_type": "stream",
     "text": [
      "1/1 [==============================] - 0s 13ms/step\n",
      "-SAMPLE N. 24\n",
      "Predicted audio features: [0, 0, 0, 0, 0, 0, 0, 0, 0, 0, 0, 0, 6, 11, 0, 0, 10, 0, 12, 0, 0, 4, 4, 0, 0, 0, 10, 0, 12, 0, 0, 4, 4, 4, 0, 0, 7, 4, 4, 0, 0, 23, 0, 11, 0, 0, 0, 0, 0, 0, 0, 0, 7, 18, 0, 0, 0, 9, 9, 0, 0, 4, 4, 4, 4, 0, 0, 0, 0, 0, 0, 0, 0, 0, 0, 0, 0, 0, 0, 0, 0, 0, 0, 0, 0, 0, 0, 0, 0, 0, 0, 0, 0, 0, 0, 0, 0, 0, 0, 0, 0, 0, 0, 0, 0, 0, 0, 0, 0, 0, 0, 0, 0, 0, 0, 0, 0, 0, 0, 0, 0, 0, 0, 0, 0, 0, 0, 0, 0, 0, 0, 0, 0, 0, 0, 0, 0, 0, 0, 0, 0, 0, 0, 0, 0, 0, 0, 0, 0, 0]\n",
      "---Target audio features: [13, 13, 0, 8, 16, 0, 0, 0, 0, 6, 0, 0, 0, 7, 0, 26, 0, 5, 4, 4, 0, 6, 11, 5, 4, 4, 23, 11, 11, 0, 0, 0, 0, 8, 0, 0, 9, 0, 5, 4, 4, 4, 0, 0, 0, 0, 0, 0, 0, 0, 0, 0, 0, 0, 0, 0, 0, 0, 0, 0, 0, 0, 0, 0, 0, 0, 0, 0, 0, 0, 0, 0, 0, 0, 0, 0, 0, 0, 0, 0, 0, 0, 0, 0, 0, 0, 0, 0, 0, 0, 0, 0, 0, 0, 0, 0, 0, 0, 0, 0, 0, 0, 0, 0, 0, 0, 0, 0, 0, 0, 0, 0, 0, 0, 0, 0, 0, 0, 0, 0, 0, 0, 0, 0, 0, 0, 0, 0, 0, 0, 0, 0, 0, 0, 0, 0, 0, 0, 0, 0, 0, 0, 0, 0, 0, 0, 0, 0, 0, 0]\n",
      "Euclidean distance: 56.65686189686118\n",
      "1/1 [==============================] - 0s 12ms/step\n",
      "-SAMPLE N. 25\n",
      "Predicted audio features: [0, 0, 0, 0, 0, 0, 0, 0, 0, 0, 0, 6, 11, 0, 10, 0, 12, 0, 4, 4, 0, 10, 12, 12, 4, 4, 7, 4, 0, 23, 11, 11, 0, 0, 8, 0, 0, 9, 5, 0, 4, 4, 4, 0, 0, 0, 0, 0, 0, 0, 0, 0, 0, 0, 0, 0, 0, 0, 0, 0, 0, 0, 0, 0, 0, 0, 0, 0, 0, 0, 0, 0, 0, 0, 0, 0, 0, 0, 0, 0, 0, 0, 0, 0, 0, 0, 0, 0, 0, 0, 0, 0, 0, 0, 0, 0, 0, 0, 0, 0, 0, 0, 0, 0, 0, 0, 0, 0, 0, 0, 0, 0, 0, 0, 0, 0, 0, 0, 0, 0, 0, 0, 0, 0, 0, 0, 0, 0, 0, 0, 0, 0, 0, 0, 0, 0, 0, 0, 0, 0, 0, 0, 0, 0, 0, 0, 0, 0, 0, 0]\n",
      "---Target audio features: [0, 0, 0, 17, 0, 0, 0, 0, 8, 0, 0, 25, 5, 5, 0, 4, 4, 6, 11, 5, 4, 4, 4, 0, 23, 11, 0, 0, 0, 0, 8, 8, 0, 0, 9, 5, 5, 0, 4, 4, 0, 6, 0, 8, 0, 4, 4, 6, 11, 5, 4, 0, 15, 15, 0, 0, 0, 0, 5, 0, 20, 20, 0, 0, 6, 0, 0, 0, 0, 0, 0, 0, 0, 0, 0, 0, 0, 0, 0, 0, 0, 0, 0, 0, 0, 0, 0, 0, 0, 0, 0, 0, 0, 0, 0, 0, 0, 0, 0, 0, 0, 0, 0, 0, 0, 0, 0, 0, 0, 0, 0, 0, 0, 0, 0, 0, 0, 0, 0, 0, 0, 0, 0, 0, 0, 0, 0, 0, 0, 0, 0, 0, 0, 0, 0, 0, 0, 0, 0, 0, 0, 0, 0, 0, 0, 0, 0, 0, 0, 0]\n",
      "Euclidean distance: 64.13267497929586\n",
      "1/1 [==============================] - 0s 12ms/step\n",
      "-SAMPLE N. 26\n",
      "Predicted audio features: [0, 0, 0, 6, 11, 0, 0, 10, 0, 12, 0, 4, 4, 0, 0, 10, 12, 12, 0, 4, 4, 4, 7, 4, 0, 0, 23, 11, 0, 0, 0, 0, 0, 8, 0, 0, 9, 5, 0, 4, 0, 0, 0, 0, 0, 0, 0, 0, 0, 0, 0, 0, 0, 0, 0, 0, 0, 0, 0, 0, 0, 0, 0, 0, 0, 0, 0, 0, 0, 0, 0, 0, 0, 0, 0, 0, 0, 0, 0, 0, 0, 0, 0, 0, 0, 0, 0, 0, 0, 0, 0, 0, 0, 0, 0, 0, 0, 0, 0, 0, 0, 0, 0, 0, 0, 0, 0, 0, 0, 0, 0, 0, 0, 0, 0, 0, 0, 0, 0, 0, 0, 0, 0, 0, 0, 0, 0, 0, 0, 0, 0, 0, 0, 0, 0, 0, 0, 0, 0, 0, 0, 0, 0, 0, 0, 0, 0, 0, 0, 0]\n",
      "---Target audio features: [0, 0, 0, 17, 0, 0, 0, 8, 8, 0, 25, 5, 5, 0, 4, 4, 6, 11, 0, 5, 4, 4, 0, 23, 11, 11, 0, 0, 0, 0, 8, 0, 0, 9, 5, 5, 4, 4, 4, 0, 6, 0, 8, 0, 0, 4, 4, 6, 11, 5, 4, 4, 0, 13, 0, 0, 10, 10, 21, 0, 11, 6, 6, 0, 4, 4, 0, 0, 0, 0, 0, 0, 0, 0, 0, 0, 0, 0, 0, 0, 0, 0, 0, 0, 0, 0, 0, 0, 0, 0, 0, 0, 0, 0, 0, 0, 0, 0, 0, 0, 0, 0, 0, 0, 0, 0, 0, 0, 0, 0, 0, 0, 0, 0, 0, 0, 0, 0, 0, 0, 0, 0, 0, 0, 0, 0, 0, 0, 0, 0, 0, 0, 0, 0, 0, 0, 0, 0, 0, 0, 0, 0, 0, 0, 0, 0, 0, 0, 0, 0]\n",
      "Euclidean distance: 63.45864795282043\n",
      "1/1 [==============================] - 0s 12ms/step\n",
      "-SAMPLE N. 27\n",
      "Predicted audio features: [0, 0, 0, 0, 0, 6, 11, 0, 0, 0, 0, 10, 0, 12, 0, 0, 4, 4, 0, 0, 0, 0, 10, 0, 12, 0, 4, 4, 4, 4, 0, 0, 7, 4, 0, 0, 0, 23, 11, 0, 0, 0, 0, 0, 0, 0, 0, 0, 8, 0, 0, 9, 0, 0, 5, 0, 4, 4, 4, 0, 0, 0, 0, 0, 0, 0, 0, 0, 0, 0, 0, 0, 0, 0, 0, 0, 0, 0, 0, 0, 0, 0, 0, 0, 0, 0, 0, 0, 0, 0, 0, 0, 0, 0, 0, 0, 0, 0, 0, 0, 0, 0, 0, 0, 0, 0, 0, 0, 0, 0, 0, 0, 0, 0, 0, 0, 0, 0, 0, 0, 0, 0, 0, 0, 0, 0, 0, 0, 0, 0, 0, 0, 0, 0, 0, 0, 0, 0, 0, 0, 0, 0, 0, 0, 0, 0, 0, 0, 0, 0]\n",
      "---Target audio features: [0, 0, 0, 17, 0, 0, 0, 0, 8, 0, 25, 0, 5, 5, 0, 4, 6, 6, 11, 5, 4, 0, 23, 11, 11, 0, 0, 0, 8, 0, 0, 0, 9, 0, 0, 7, 0, 4, 4, 4, 0, 0, 0, 0, 0, 0, 0, 0, 0, 0, 0, 0, 0, 0, 0, 0, 0, 0, 0, 0, 0, 0, 0, 0, 0, 0, 0, 0, 0, 0, 0, 0, 0, 0, 0, 0, 0, 0, 0, 0, 0, 0, 0, 0, 0, 0, 0, 0, 0, 0, 0, 0, 0, 0, 0, 0, 0, 0, 0, 0, 0, 0, 0, 0, 0, 0, 0, 0, 0, 0, 0, 0, 0, 0, 0, 0, 0, 0, 0, 0, 0, 0, 0, 0, 0, 0, 0, 0, 0, 0, 0, 0, 0, 0, 0, 0, 0, 0, 0, 0, 0, 0, 0, 0, 0, 0, 0, 0, 0, 0]\n",
      "Euclidean distance: 50.62608023538856\n",
      "1/1 [==============================] - 0s 12ms/step\n",
      "-SAMPLE N. 28\n",
      "Predicted audio features: [0, 0, 0, 6, 11, 0, 0, 10, 0, 12, 0, 4, 4, 0, 0, 10, 12, 12, 4, 4, 4, 0, 7, 4, 0, 0, 20, 0, 0, 0, 0, 0, 0, 8, 18, 0, 0, 9, 0, 4, 4, 0, 0, 0, 0, 0, 0, 0, 0, 0, 0, 0, 0, 0, 0, 0, 0, 0, 0, 0, 0, 0, 0, 0, 0, 0, 0, 0, 0, 0, 0, 0, 0, 0, 0, 0, 0, 0, 0, 0, 0, 0, 0, 0, 0, 0, 0, 0, 0, 0, 0, 0, 0, 0, 0, 0, 0, 0, 0, 0, 0, 0, 0, 0, 0, 0, 0, 0, 0, 0, 0, 0, 0, 0, 0, 0, 0, 0, 0, 0, 0, 0, 0, 0, 0, 0, 0, 0, 0, 0, 0, 0, 0, 0, 0, 0, 0, 0, 0, 0, 0, 0, 0, 0, 0, 0, 0, 0, 0, 0]\n",
      "---Target audio features: [0, 0, 0, 17, 0, 0, 0, 0, 8, 0, 25, 0, 5, 0, 4, 4, 4, 6, 11, 5, 4, 4, 20, 0, 0, 0, 0, 8, 0, 0, 0, 9, 0, 5, 0, 4, 0, 14, 0, 0, 0, 0, 8, 18, 18, 9, 9, 4, 4, 4, 4, 0, 0, 0, 0, 0, 0, 0, 0, 0, 0, 0, 0, 0, 0, 0, 0, 0, 0, 0, 0, 0, 0, 0, 0, 0, 0, 0, 0, 0, 0, 0, 0, 0, 0, 0, 0, 0, 0, 0, 0, 0, 0, 0, 0, 0, 0, 0, 0, 0, 0, 0, 0, 0, 0, 0, 0, 0, 0, 0, 0, 0, 0, 0, 0, 0, 0, 0, 0, 0, 0, 0, 0, 0, 0, 0, 0, 0, 0, 0, 0, 0, 0, 0, 0, 0, 0, 0, 0, 0, 0, 0, 0, 0, 0, 0, 0, 0, 0, 0]\n",
      "Euclidean distance: 59.02541825349483\n",
      "1/1 [==============================] - 0s 12ms/step\n",
      "-SAMPLE N. 29\n",
      "Predicted audio features: [0, 0, 0, 0, 0, 0, 0, 0, 0, 0, 0, 0, 6, 0, 11, 0, 0, 10, 0, 12, 0, 0, 4, 0, 0, 0, 10, 0, 12, 0, 4, 4, 4, 0, 7, 4, 4, 0, 0, 23, 0, 0, 0, 0, 0, 0, 0, 5, 5, 0, 0, 0, 9, 9, 0, 0, 0, 4, 4, 4, 4, 0, 0, 0, 0, 0, 0, 0, 0, 0, 0, 0, 0, 0, 0, 0, 0, 0, 0, 0, 0, 0, 0, 0, 0, 0, 0, 0, 0, 0, 0, 0, 0, 0, 0, 0, 0, 0, 0, 0, 0, 0, 0, 0, 0, 0, 0, 0, 0, 0, 0, 0, 0, 0, 0, 0, 0, 0, 0, 0, 0, 0, 0, 0, 0, 0, 0, 0, 0, 0, 0, 0, 0, 0, 0, 0, 0, 0, 0, 0, 0, 0, 0, 0, 0, 0, 0, 0, 0, 0]\n",
      "---Target audio features: [0, 0, 0, 13, 0, 0, 8, 0, 0, 0, 0, 6, 0, 0, 0, 7, 7, 0, 0, 6, 5, 0, 4, 4, 0, 6, 11, 5, 4, 4, 0, 23, 11, 0, 0, 0, 0, 0, 8, 0, 0, 0, 9, 5, 5, 4, 4, 0, 0, 0, 0, 0, 0, 0, 0, 0, 0, 0, 0, 0, 0, 0, 0, 0, 0, 0, 0, 0, 0, 0, 0, 0, 0, 0, 0, 0, 0, 0, 0, 0, 0, 0, 0, 0, 0, 0, 0, 0, 0, 0, 0, 0, 0, 0, 0, 0, 0, 0, 0, 0, 0, 0, 0, 0, 0, 0, 0, 0, 0, 0, 0, 0, 0, 0, 0, 0, 0, 0, 0, 0, 0, 0, 0, 0, 0, 0, 0, 0, 0, 0, 0, 0, 0, 0, 0, 0, 0, 0, 0, 0, 0, 0, 0, 0, 0, 0, 0, 0, 0, 0]\n",
      "Euclidean distance: 48.80573736764972\n",
      "1/1 [==============================] - 0s 13ms/step\n",
      "-SAMPLE N. 30\n",
      "Predicted audio features: [0, 0, 0, 0, 0, 0, 0, 0, 0, 0, 0, 0, 0, 0, 6, 0, 11, 0, 0, 0, 0, 10, 0, 12, 0, 0, 4, 4, 0, 0, 0, 0, 10, 12, 12, 0, 4, 4, 4, 0, 0, 0, 7, 0, 4, 0, 0, 0, 23, 11, 11, 0, 0, 0, 0, 0, 0, 0, 0, 0, 8, 8, 0, 0, 0, 9, 0, 5, 5, 0, 4, 4, 4, 4, 4, 0, 0, 0, 0, 0, 0, 0, 0, 0, 0, 0, 0, 0, 0, 0, 0, 0, 0, 0, 0, 0, 0, 0, 0, 0, 0, 0, 0, 0, 0, 0, 0, 0, 0, 0, 0, 0, 0, 0, 0, 0, 0, 0, 0, 0, 0, 0, 0, 0, 0, 0, 0, 0, 0, 0, 0, 0, 0, 0, 0, 0, 0, 0, 0, 0, 0, 0, 0, 0, 0, 0, 0, 0, 0, 0]\n",
      "---Target audio features: [0, 17, 0, 0, 0, 8, 0, 25, 0, 5, 0, 0, 4, 4, 6, 6, 11, 5, 4, 4, 0, 23, 11, 0, 0, 0, 0, 8, 0, 0, 9, 0, 5, 0, 4, 4, 0, 0, 0, 6, 6, 0, 8, 0, 0, 4, 4, 6, 11, 5, 4, 4, 0, 15, 0, 0, 0, 0, 0, 5, 20, 0, 0, 0, 6, 0, 4, 4, 0, 0, 0, 0, 0, 0, 0, 0, 0, 0, 0, 0, 0, 0, 0, 0, 0, 0, 0, 0, 0, 0, 0, 0, 0, 0, 0, 0, 0, 0, 0, 0, 0, 0, 0, 0, 0, 0, 0, 0, 0, 0, 0, 0, 0, 0, 0, 0, 0, 0, 0, 0, 0, 0, 0, 0, 0, 0, 0, 0, 0, 0, 0, 0, 0, 0, 0, 0, 0, 0, 0, 0, 0, 0, 0, 0, 0, 0, 0, 0, 0, 0]\n",
      "Euclidean distance: 55.41660400998964\n",
      "1/1 [==============================] - 0s 12ms/step\n",
      "-SAMPLE N. 31\n",
      "Predicted audio features: [0, 0, 0, 0, 0, 6, 11, 0, 0, 0, 0, 10, 0, 12, 0, 0, 4, 4, 0, 0, 0, 0, 10, 0, 12, 0, 4, 4, 4, 4, 0, 0, 7, 4, 0, 0, 0, 23, 11, 0, 0, 0, 0, 0, 0, 0, 0, 0, 8, 0, 0, 9, 0, 0, 5, 0, 4, 4, 4, 0, 0, 0, 0, 0, 0, 0, 0, 0, 0, 0, 0, 0, 0, 0, 0, 0, 0, 0, 0, 0, 0, 0, 0, 0, 0, 0, 0, 0, 0, 0, 0, 0, 0, 0, 0, 0, 0, 0, 0, 0, 0, 0, 0, 0, 0, 0, 0, 0, 0, 0, 0, 0, 0, 0, 0, 0, 0, 0, 0, 0, 0, 0, 0, 0, 0, 0, 0, 0, 0, 0, 0, 0, 0, 0, 0, 0, 0, 0, 0, 0, 0, 0, 0, 0, 0, 0, 0, 0, 0, 0]\n",
      "---Target audio features: [0, 17, 0, 0, 0, 8, 0, 25, 0, 5, 0, 4, 4, 0, 6, 11, 5, 4, 4, 0, 23, 11, 0, 0, 0, 0, 8, 0, 0, 9, 0, 5, 0, 4, 4, 0, 0, 0, 6, 0, 0, 8, 0, 4, 4, 6, 11, 5, 4, 4, 0, 13, 0, 0, 0, 10, 10, 21, 11, 11, 6, 6, 0, 4, 4, 4, 0, 0, 0, 0, 0, 0, 0, 0, 0, 0, 0, 0, 0, 0, 0, 0, 0, 0, 0, 0, 0, 0, 0, 0, 0, 0, 0, 0, 0, 0, 0, 0, 0, 0, 0, 0, 0, 0, 0, 0, 0, 0, 0, 0, 0, 0, 0, 0, 0, 0, 0, 0, 0, 0, 0, 0, 0, 0, 0, 0, 0, 0, 0, 0, 0, 0, 0, 0, 0, 0, 0, 0, 0, 0, 0, 0, 0, 0, 0, 0, 0, 0, 0, 0]\n",
      "Euclidean distance: 64.11708040764177\n"
     ]
    },
    {
     "name": "stdout",
     "output_type": "stream",
     "text": [
      "1/1 [==============================] - 0s 12ms/step\n",
      "-SAMPLE N. 32\n",
      "Predicted audio features: [0, 0, 0, 0, 0, 0, 0, 0, 0, 0, 0, 6, 11, 0, 10, 12, 12, 0, 4, 0, 0, 10, 12, 12, 4, 4, 7, 4, 0, 23, 11, 11, 0, 0, 8, 0, 0, 9, 5, 0, 4, 4, 4, 0, 0, 0, 0, 0, 0, 0, 0, 0, 0, 0, 0, 0, 0, 0, 0, 0, 0, 0, 0, 0, 0, 0, 0, 0, 0, 0, 0, 0, 0, 0, 0, 0, 0, 0, 0, 0, 0, 0, 0, 0, 0, 0, 0, 0, 0, 0, 0, 0, 0, 0, 0, 0, 0, 0, 0, 0, 0, 0, 0, 0, 0, 0, 0, 0, 0, 0, 0, 0, 0, 0, 0, 0, 0, 0, 0, 0, 0, 0, 0, 0, 0, 0, 0, 0, 0, 0, 0, 0, 0, 0, 0, 0, 0, 0, 0, 0, 0, 0, 0, 0, 0, 0, 0, 0, 0, 0]\n",
      "---Target audio features: [0, 17, 0, 0, 0, 0, 8, 0, 25, 0, 5, 0, 0, 4, 4, 6, 6, 11, 5, 4, 4, 0, 23, 11, 0, 0, 0, 8, 0, 0, 0, 9, 5, 5, 4, 4, 0, 0, 0, 0, 0, 16, 0, 23, 0, 4, 0, 0, 0, 0, 0, 0, 0, 0, 0, 0, 0, 0, 0, 0, 0, 0, 0, 0, 0, 0, 0, 0, 0, 0, 0, 0, 0, 0, 0, 0, 0, 0, 0, 0, 0, 0, 0, 0, 0, 0, 0, 0, 0, 0, 0, 0, 0, 0, 0, 0, 0, 0, 0, 0, 0, 0, 0, 0, 0, 0, 0, 0, 0, 0, 0, 0, 0, 0, 0, 0, 0, 0, 0, 0, 0, 0, 0, 0, 0, 0, 0, 0, 0, 0, 0, 0, 0, 0, 0, 0, 0, 0, 0, 0, 0, 0, 0, 0, 0, 0, 0, 0, 0, 0]\n",
      "Euclidean distance: 57.619441163551734\n",
      "1/1 [==============================] - 0s 12ms/step\n",
      "-SAMPLE N. 33\n",
      "Predicted audio features: [0, 0, 0, 0, 0, 0, 0, 0, 0, 0, 0, 6, 11, 0, 10, 12, 12, 0, 4, 0, 0, 10, 12, 12, 4, 4, 7, 4, 0, 23, 11, 11, 0, 0, 8, 0, 0, 9, 5, 0, 4, 4, 4, 0, 0, 0, 0, 0, 0, 0, 0, 0, 0, 0, 0, 0, 0, 0, 0, 0, 0, 0, 0, 0, 0, 0, 0, 0, 0, 0, 0, 0, 0, 0, 0, 0, 0, 0, 0, 0, 0, 0, 0, 0, 0, 0, 0, 0, 0, 0, 0, 0, 0, 0, 0, 0, 0, 0, 0, 0, 0, 0, 0, 0, 0, 0, 0, 0, 0, 0, 0, 0, 0, 0, 0, 0, 0, 0, 0, 0, 0, 0, 0, 0, 0, 0, 0, 0, 0, 0, 0, 0, 0, 0, 0, 0, 0, 0, 0, 0, 0, 0, 0, 0, 0, 0, 0, 0, 0, 0]\n",
      "---Target audio features: [0, 17, 0, 0, 0, 8, 0, 25, 0, 5, 0, 0, 4, 4, 6, 11, 5, 4, 4, 0, 23, 11, 0, 0, 0, 8, 0, 0, 9, 0, 5, 0, 4, 4, 0, 14, 0, 0, 0, 0, 0, 8, 8, 18, 0, 9, 0, 4, 4, 4, 4, 4, 4, 0, 0, 0, 0, 0, 0, 0, 0, 0, 0, 0, 0, 0, 0, 0, 0, 0, 0, 0, 0, 0, 0, 0, 0, 0, 0, 0, 0, 0, 0, 0, 0, 0, 0, 0, 0, 0, 0, 0, 0, 0, 0, 0, 0, 0, 0, 0, 0, 0, 0, 0, 0, 0, 0, 0, 0, 0, 0, 0, 0, 0, 0, 0, 0, 0, 0, 0, 0, 0, 0, 0, 0, 0, 0, 0, 0, 0, 0, 0, 0, 0, 0, 0, 0, 0, 0, 0, 0, 0, 0, 0, 0, 0, 0, 0, 0, 0]\n",
      "Euclidean distance: 61.765686266729034\n",
      "1/1 [==============================] - 0s 12ms/step\n",
      "-SAMPLE N. 34\n",
      "Predicted audio features: [0, 0, 0, 0, 0, 0, 0, 0, 0, 6, 0, 11, 0, 0, 0, 0, 10, 0, 0, 12, 0, 0, 4, 4, 0, 0, 0, 0, 0, 10, 12, 12, 0, 4, 4, 4, 0, 0, 7, 0, 4, 0, 0, 0, 0, 0, 20, 0, 0, 0, 0, 0, 0, 0, 0, 0, 0, 0, 0, 0, 8, 18, 0, 0, 0, 0, 0, 9, 0, 0, 0, 4, 4, 4, 4, 0, 0, 0, 0, 0, 0, 0, 0, 0, 0, 0, 0, 0, 0, 0, 0, 0, 0, 0, 0, 0, 0, 0, 0, 0, 0, 0, 0, 0, 0, 0, 0, 0, 0, 0, 0, 0, 0, 0, 0, 0, 0, 0, 0, 0, 0, 0, 0, 0, 0, 0, 0, 0, 0, 0, 0, 0, 0, 0, 0, 0, 0, 0, 0, 0, 0, 0, 0, 0, 0, 0, 0, 0, 0, 0]\n",
      "---Target audio features: [0, 0, 13, 13, 0, 0, 8, 0, 0, 0, 0, 6, 0, 0, 0, 0, 7, 0, 0, 6, 6, 5, 0, 4, 4, 0, 6, 11, 11, 0, 5, 4, 4, 23, 11, 11, 0, 0, 0, 0, 8, 0, 0, 9, 0, 5, 0, 4, 4, 4, 0, 0, 0, 0, 0, 0, 0, 0, 0, 0, 0, 0, 0, 0, 0, 0, 0, 0, 0, 0, 0, 0, 0, 0, 0, 0, 0, 0, 0, 0, 0, 0, 0, 0, 0, 0, 0, 0, 0, 0, 0, 0, 0, 0, 0, 0, 0, 0, 0, 0, 0, 0, 0, 0, 0, 0, 0, 0, 0, 0, 0, 0, 0, 0, 0, 0, 0, 0, 0, 0, 0, 0, 0, 0, 0, 0, 0, 0, 0, 0, 0, 0, 0, 0, 0, 0, 0, 0, 0, 0, 0, 0, 0, 0, 0, 0, 0, 0, 0, 0]\n",
      "Euclidean distance: 52.14403129793476\n",
      "1/1 [==============================] - 0s 12ms/step\n",
      "-SAMPLE N. 35\n",
      "Predicted audio features: [0, 0, 0, 6, 11, 0, 0, 10, 0, 12, 0, 4, 4, 0, 0, 10, 12, 12, 4, 4, 4, 0, 7, 4, 0, 0, 20, 0, 0, 0, 0, 0, 0, 8, 18, 0, 0, 9, 0, 4, 4, 0, 0, 0, 0, 0, 0, 0, 0, 0, 0, 0, 0, 0, 0, 0, 0, 0, 0, 0, 0, 0, 0, 0, 0, 0, 0, 0, 0, 0, 0, 0, 0, 0, 0, 0, 0, 0, 0, 0, 0, 0, 0, 0, 0, 0, 0, 0, 0, 0, 0, 0, 0, 0, 0, 0, 0, 0, 0, 0, 0, 0, 0, 0, 0, 0, 0, 0, 0, 0, 0, 0, 0, 0, 0, 0, 0, 0, 0, 0, 0, 0, 0, 0, 0, 0, 0, 0, 0, 0, 0, 0, 0, 0, 0, 0, 0, 0, 0, 0, 0, 0, 0, 0, 0, 0, 0, 0, 0, 0]\n",
      "---Target audio features: [0, 0, 0, 0, 17, 0, 0, 8, 0, 25, 0, 5, 5, 0, 4, 6, 11, 5, 5, 4, 4, 20, 0, 0, 0, 8, 16, 0, 0, 9, 14, 0, 4, 4, 6, 0, 8, 0, 4, 6, 11, 5, 4, 4, 0, 15, 0, 0, 0, 0, 5, 0, 20, 0, 0, 0, 6, 0, 4, 4, 0, 0, 0, 0, 0, 0, 0, 0, 0, 0, 0, 0, 0, 0, 0, 0, 0, 0, 0, 0, 0, 0, 0, 0, 0, 0, 0, 0, 0, 0, 0, 0, 0, 0, 0, 0, 0, 0, 0, 0, 0, 0, 0, 0, 0, 0, 0, 0, 0, 0, 0, 0, 0, 0, 0, 0, 0, 0, 0, 0, 0, 0, 0, 0, 0, 0, 0, 0, 0, 0, 0, 0, 0, 0, 0, 0, 0, 0, 0, 0, 0, 0, 0, 0, 0, 0, 0, 0, 0, 0]\n",
      "Euclidean distance: 48.13522618623496\n",
      "1/1 [==============================] - 0s 13ms/step\n",
      "-SAMPLE N. 36\n",
      "Predicted audio features: [0, 0, 0, 0, 0, 0, 0, 0, 0, 0, 0, 0, 0, 0, 6, 0, 11, 0, 0, 0, 0, 10, 0, 12, 0, 0, 4, 4, 0, 0, 0, 0, 10, 12, 12, 0, 4, 4, 4, 0, 0, 0, 7, 0, 4, 0, 0, 0, 23, 11, 11, 0, 0, 0, 0, 0, 0, 0, 0, 0, 8, 8, 0, 0, 0, 9, 0, 5, 5, 0, 4, 4, 4, 4, 4, 0, 0, 0, 0, 0, 0, 0, 0, 0, 0, 0, 0, 0, 0, 0, 0, 0, 0, 0, 0, 0, 0, 0, 0, 0, 0, 0, 0, 0, 0, 0, 0, 0, 0, 0, 0, 0, 0, 0, 0, 0, 0, 0, 0, 0, 0, 0, 0, 0, 0, 0, 0, 0, 0, 0, 0, 0, 0, 0, 0, 0, 0, 0, 0, 0, 0, 0, 0, 0, 0, 0, 0, 0, 0, 0]\n",
      "---Target audio features: [0, 0, 0, 17, 17, 0, 0, 0, 8, 0, 25, 5, 0, 4, 4, 6, 11, 0, 5, 4, 4, 23, 11, 0, 0, 8, 0, 0, 9, 9, 5, 0, 4, 4, 6, 6, 8, 0, 4, 4, 6, 11, 5, 4, 4, 13, 13, 0, 0, 0, 0, 10, 10, 21, 11, 11, 6, 6, 0, 4, 4, 4, 0, 0, 0, 0, 0, 0, 0, 0, 0, 0, 0, 0, 0, 0, 0, 0, 0, 0, 0, 0, 0, 0, 0, 0, 0, 0, 0, 0, 0, 0, 0, 0, 0, 0, 0, 0, 0, 0, 0, 0, 0, 0, 0, 0, 0, 0, 0, 0, 0, 0, 0, 0, 0, 0, 0, 0, 0, 0, 0, 0, 0, 0, 0, 0, 0, 0, 0, 0, 0, 0, 0, 0, 0, 0, 0, 0, 0, 0, 0, 0, 0, 0, 0, 0, 0, 0, 0, 0]\n",
      "Euclidean distance: 69.58448102845921\n",
      "1/1 [==============================] - 0s 12ms/step\n",
      "-SAMPLE N. 37\n",
      "Predicted audio features: [0, 0, 0, 6, 11, 0, 0, 10, 0, 12, 0, 0, 4, 0, 0, 0, 10, 12, 0, 4, 4, 4, 0, 7, 4, 0, 23, 11, 0, 0, 0, 0, 0, 8, 0, 0, 0, 9, 9, 5, 0, 4, 4, 4, 0, 0, 0, 0, 0, 0, 0, 0, 0, 0, 0, 0, 0, 0, 0, 0, 0, 0, 0, 0, 0, 0, 0, 0, 0, 0, 0, 0, 0, 0, 0, 0, 0, 0, 0, 0, 0, 0, 0, 0, 0, 0, 0, 0, 0, 0, 0, 0, 0, 0, 0, 0, 0, 0, 0, 0, 0, 0, 0, 0, 0, 0, 0, 0, 0, 0, 0, 0, 0, 0, 0, 0, 0, 0, 0, 0, 0, 0, 0, 0, 0, 0, 0, 0, 0, 0, 0, 0, 0, 0, 0, 0, 0, 0, 0, 0, 0, 0, 0, 0, 0, 0, 0, 0, 0, 0]\n",
      "---Target audio features: [0, 0, 0, 17, 0, 0, 0, 8, 0, 25, 0, 5, 14, 4, 4, 6, 11, 11, 5, 4, 4, 23, 23, 11, 0, 8, 8, 0, 0, 9, 5, 5, 4, 4, 0, 0, 0, 16, 0, 23, 0, 0, 4, 0, 0, 0, 0, 0, 0, 0, 0, 0, 0, 0, 0, 0, 0, 0, 0, 0, 0, 0, 0, 0, 0, 0, 0, 0, 0, 0, 0, 0, 0, 0, 0, 0, 0, 0, 0, 0, 0, 0, 0, 0, 0, 0, 0, 0, 0, 0, 0, 0, 0, 0, 0, 0, 0, 0, 0, 0, 0, 0, 0, 0, 0, 0, 0, 0, 0, 0, 0, 0, 0, 0, 0, 0, 0, 0, 0, 0, 0, 0, 0, 0, 0, 0, 0, 0, 0, 0, 0, 0, 0, 0, 0, 0, 0, 0, 0, 0, 0, 0, 0, 0, 0, 0, 0, 0, 0, 0]\n",
      "Euclidean distance: 51.146847410177685\n",
      "1/1 [==============================] - 0s 12ms/step\n",
      "-SAMPLE N. 38\n",
      "Predicted audio features: [0, 0, 0, 0, 0, 0, 0, 0, 0, 0, 0, 0, 0, 0, 6, 0, 11, 0, 0, 0, 0, 10, 0, 12, 0, 0, 4, 4, 0, 0, 0, 0, 10, 12, 12, 0, 4, 4, 4, 0, 0, 0, 7, 0, 4, 0, 0, 0, 23, 11, 11, 0, 0, 0, 0, 0, 0, 0, 0, 0, 8, 8, 0, 0, 0, 9, 0, 5, 5, 0, 4, 4, 4, 4, 4, 0, 0, 0, 0, 0, 0, 0, 0, 0, 0, 0, 0, 0, 0, 0, 0, 0, 0, 0, 0, 0, 0, 0, 0, 0, 0, 0, 0, 0, 0, 0, 0, 0, 0, 0, 0, 0, 0, 0, 0, 0, 0, 0, 0, 0, 0, 0, 0, 0, 0, 0, 0, 0, 0, 0, 0, 0, 0, 0, 0, 0, 0, 0, 0, 0, 0, 0, 0, 0, 0, 0, 0, 0, 0, 0]\n",
      "---Target audio features: [0, 0, 0, 0, 17, 0, 0, 0, 8, 25, 25, 5, 0, 14, 4, 4, 6, 11, 5, 4, 4, 4, 23, 11, 0, 0, 8, 0, 0, 0, 9, 5, 0, 4, 4, 0, 14, 0, 0, 0, 0, 0, 8, 8, 18, 0, 9, 0, 4, 4, 4, 4, 4, 0, 0, 0, 0, 0, 0, 0, 0, 0, 0, 0, 0, 0, 0, 0, 0, 0, 0, 0, 0, 0, 0, 0, 0, 0, 0, 0, 0, 0, 0, 0, 0, 0, 0, 0, 0, 0, 0, 0, 0, 0, 0, 0, 0, 0, 0, 0, 0, 0, 0, 0, 0, 0, 0, 0, 0, 0, 0, 0, 0, 0, 0, 0, 0, 0, 0, 0, 0, 0, 0, 0, 0, 0, 0, 0, 0, 0, 0, 0, 0, 0, 0, 0, 0, 0, 0, 0, 0, 0, 0, 0, 0, 0, 0, 0, 0, 0]\n",
      "Euclidean distance: 65.4446330878247\n",
      "1/1 [==============================] - 0s 12ms/step\n",
      "-SAMPLE N. 39\n",
      "Predicted audio features: [0, 0, 0, 6, 11, 0, 0, 10, 0, 12, 0, 0, 4, 0, 0, 0, 10, 12, 0, 4, 4, 4, 0, 7, 4, 0, 23, 11, 0, 0, 0, 0, 0, 8, 0, 0, 0, 9, 9, 5, 0, 4, 4, 4, 0, 0, 0, 0, 0, 0, 0, 0, 0, 0, 0, 0, 0, 0, 0, 0, 0, 0, 0, 0, 0, 0, 0, 0, 0, 0, 0, 0, 0, 0, 0, 0, 0, 0, 0, 0, 0, 0, 0, 0, 0, 0, 0, 0, 0, 0, 0, 0, 0, 0, 0, 0, 0, 0, 0, 0, 0, 0, 0, 0, 0, 0, 0, 0, 0, 0, 0, 0, 0, 0, 0, 0, 0, 0, 0, 0, 0, 0, 0, 0, 0, 0, 0, 0, 0, 0, 0, 0, 0, 0, 0, 0, 0, 0, 0, 0, 0, 0, 0, 0, 0, 0, 0, 0, 0, 0]\n",
      "---Target audio features: [0, 0, 0, 13, 13, 0, 0, 8, 0, 0, 0, 0, 0, 6, 0, 0, 0, 7, 0, 0, 14, 5, 0, 4, 4, 6, 11, 5, 4, 4, 23, 11, 11, 0, 0, 0, 0, 8, 8, 0, 0, 0, 9, 0, 5, 4, 4, 4, 0, 0, 0, 0, 0, 0, 0, 0, 0, 0, 0, 0, 0, 0, 0, 0, 0, 0, 0, 0, 0, 0, 0, 0, 0, 0, 0, 0, 0, 0, 0, 0, 0, 0, 0, 0, 0, 0, 0, 0, 0, 0, 0, 0, 0, 0, 0, 0, 0, 0, 0, 0, 0, 0, 0, 0, 0, 0, 0, 0, 0, 0, 0, 0, 0, 0, 0, 0, 0, 0, 0, 0, 0, 0, 0, 0, 0, 0, 0, 0, 0, 0, 0, 0, 0, 0, 0, 0, 0, 0, 0, 0, 0, 0, 0, 0, 0, 0, 0, 0, 0, 0]\n",
      "Euclidean distance: 41.7612260356422\n"
     ]
    },
    {
     "name": "stdout",
     "output_type": "stream",
     "text": [
      "1/1 [==============================] - 0s 12ms/step\n",
      "-SAMPLE N. 40\n",
      "Predicted audio features: [0, 0, 0, 0, 0, 0, 0, 0, 0, 0, 0, 6, 11, 0, 10, 0, 12, 0, 4, 4, 0, 10, 12, 12, 4, 4, 7, 4, 0, 23, 11, 11, 0, 0, 8, 0, 0, 9, 5, 0, 4, 4, 4, 0, 0, 0, 0, 0, 0, 0, 0, 0, 0, 0, 0, 0, 0, 0, 0, 0, 0, 0, 0, 0, 0, 0, 0, 0, 0, 0, 0, 0, 0, 0, 0, 0, 0, 0, 0, 0, 0, 0, 0, 0, 0, 0, 0, 0, 0, 0, 0, 0, 0, 0, 0, 0, 0, 0, 0, 0, 0, 0, 0, 0, 0, 0, 0, 0, 0, 0, 0, 0, 0, 0, 0, 0, 0, 0, 0, 0, 0, 0, 0, 0, 0, 0, 0, 0, 0, 0, 0, 0, 0, 0, 0, 0, 0, 0, 0, 0, 0, 0, 0, 0, 0, 0, 0, 0, 0, 0]\n",
      "---Target audio features: [0, 0, 17, 0, 0, 8, 0, 25, 0, 5, 0, 4, 4, 4, 6, 11, 5, 4, 4, 0, 23, 11, 11, 0, 0, 8, 0, 0, 9, 9, 5, 0, 4, 4, 0, 6, 0, 8, 0, 4, 4, 4, 6, 11, 5, 4, 4, 0, 15, 0, 0, 0, 0, 0, 5, 0, 20, 0, 0, 6, 0, 4, 0, 0, 0, 0, 0, 0, 0, 0, 0, 0, 0, 0, 0, 0, 0, 0, 0, 0, 0, 0, 0, 0, 0, 0, 0, 0, 0, 0, 0, 0, 0, 0, 0, 0, 0, 0, 0, 0, 0, 0, 0, 0, 0, 0, 0, 0, 0, 0, 0, 0, 0, 0, 0, 0, 0, 0, 0, 0, 0, 0, 0, 0, 0, 0, 0, 0, 0, 0, 0, 0, 0, 0, 0, 0, 0, 0, 0, 0, 0, 0, 0, 0, 0, 0, 0, 0, 0, 0]\n",
      "Euclidean distance: 59.61543424315552\n",
      "1/1 [==============================] - 0s 12ms/step\n",
      "-SAMPLE N. 41\n",
      "Predicted audio features: [0, 0, 0, 0, 0, 0, 0, 0, 0, 0, 0, 6, 11, 0, 10, 0, 12, 0, 4, 4, 0, 10, 12, 12, 4, 4, 7, 4, 0, 23, 11, 11, 0, 0, 8, 0, 0, 9, 5, 0, 4, 4, 4, 0, 0, 0, 0, 0, 0, 0, 0, 0, 0, 0, 0, 0, 0, 0, 0, 0, 0, 0, 0, 0, 0, 0, 0, 0, 0, 0, 0, 0, 0, 0, 0, 0, 0, 0, 0, 0, 0, 0, 0, 0, 0, 0, 0, 0, 0, 0, 0, 0, 0, 0, 0, 0, 0, 0, 0, 0, 0, 0, 0, 0, 0, 0, 0, 0, 0, 0, 0, 0, 0, 0, 0, 0, 0, 0, 0, 0, 0, 0, 0, 0, 0, 0, 0, 0, 0, 0, 0, 0, 0, 0, 0, 0, 0, 0, 0, 0, 0, 0, 0, 0, 0, 0, 0, 0, 0, 0]\n",
      "---Target audio features: [0, 17, 0, 0, 0, 8, 0, 25, 5, 0, 4, 4, 4, 6, 11, 5, 4, 4, 4, 0, 23, 11, 0, 0, 0, 8, 0, 0, 9, 5, 0, 4, 4, 0, 6, 0, 8, 0, 4, 4, 4, 6, 11, 5, 4, 4, 0, 13, 0, 0, 0, 0, 10, 10, 21, 11, 11, 6, 0, 4, 0, 0, 0, 0, 0, 0, 0, 0, 0, 0, 0, 0, 0, 0, 0, 0, 0, 0, 0, 0, 0, 0, 0, 0, 0, 0, 0, 0, 0, 0, 0, 0, 0, 0, 0, 0, 0, 0, 0, 0, 0, 0, 0, 0, 0, 0, 0, 0, 0, 0, 0, 0, 0, 0, 0, 0, 0, 0, 0, 0, 0, 0, 0, 0, 0, 0, 0, 0, 0, 0, 0, 0, 0, 0, 0, 0, 0, 0, 0, 0, 0, 0, 0, 0, 0, 0, 0, 0, 0, 0]\n",
      "Euclidean distance: 64.15605972938177\n",
      "1/1 [==============================] - 0s 14ms/step\n",
      "-SAMPLE N. 42\n",
      "Predicted audio features: [0, 0, 0, 0, 0, 0, 0, 0, 0, 0, 0, 0, 6, 0, 11, 0, 0, 10, 0, 12, 0, 0, 4, 0, 0, 0, 10, 0, 12, 0, 4, 4, 4, 4, 0, 7, 4, 0, 0, 0, 0, 23, 11, 0, 0, 0, 0, 0, 0, 0, 8, 8, 7, 0, 17, 17, 0, 0, 0, 4, 4, 4, 4, 0, 0, 0, 0, 0, 0, 0, 0, 0, 0, 0, 0, 0, 0, 0, 0, 0, 0, 0, 0, 0, 0, 0, 0, 0, 0, 0, 0, 0, 0, 0, 0, 0, 0, 0, 0, 0, 0, 0, 0, 0, 0, 0, 0, 0, 0, 0, 0, 0, 0, 0, 0, 0, 0, 0, 0, 0, 0, 0, 0, 0, 0, 0, 0, 0, 0, 0, 0, 0, 0, 0, 0, 0, 0, 0, 0, 0, 0, 0, 0, 0, 0, 0, 0, 0, 0, 0]\n",
      "---Target audio features: [0, 0, 17, 0, 0, 8, 0, 25, 5, 5, 14, 4, 4, 6, 11, 5, 4, 4, 0, 23, 11, 0, 0, 8, 0, 0, 0, 0, 9, 9, 0, 0, 0, 16, 0, 23, 0, 4, 4, 0, 0, 0, 0, 0, 0, 0, 0, 0, 0, 0, 0, 0, 0, 0, 0, 0, 0, 0, 0, 0, 0, 0, 0, 0, 0, 0, 0, 0, 0, 0, 0, 0, 0, 0, 0, 0, 0, 0, 0, 0, 0, 0, 0, 0, 0, 0, 0, 0, 0, 0, 0, 0, 0, 0, 0, 0, 0, 0, 0, 0, 0, 0, 0, 0, 0, 0, 0, 0, 0, 0, 0, 0, 0, 0, 0, 0, 0, 0, 0, 0, 0, 0, 0, 0, 0, 0, 0, 0, 0, 0, 0, 0, 0, 0, 0, 0, 0, 0, 0, 0, 0, 0, 0, 0, 0, 0, 0, 0, 0, 0]\n",
      "Euclidean distance: 61.91930232165088\n",
      "1/1 [==============================] - 0s 12ms/step\n",
      "-SAMPLE N. 43\n",
      "Predicted audio features: [0, 0, 0, 0, 0, 0, 0, 0, 0, 0, 0, 0, 0, 0, 0, 0, 0, 6, 11, 0, 0, 0, 0, 10, 0, 12, 0, 0, 4, 4, 4, 0, 0, 0, 0, 10, 12, 12, 0, 4, 4, 4, 4, 0, 0, 7, 4, 4, 0, 0, 23, 11, 0, 0, 0, 0, 0, 0, 0, 0, 8, 0, 0, 0, 9, 0, 5, 0, 4, 4, 4, 4, 0, 0, 0, 0, 0, 0, 0, 0, 0, 0, 0, 0, 0, 0, 0, 0, 0, 0, 0, 0, 0, 0, 0, 0, 0, 0, 0, 0, 0, 0, 0, 0, 0, 0, 0, 0, 0, 0, 0, 0, 0, 0, 0, 0, 0, 0, 0, 0, 0, 0, 0, 0, 0, 0, 0, 0, 0, 0, 0, 0, 0, 0, 0, 0, 0, 0, 0, 0, 0, 0, 0, 0, 0, 0, 0, 0, 0, 0]\n",
      "---Target audio features: [0, 0, 17, 0, 8, 0, 25, 0, 5, 0, 0, 4, 4, 6, 11, 5, 4, 4, 23, 0, 11, 0, 0, 8, 0, 0, 9, 0, 5, 0, 4, 4, 14, 14, 0, 0, 0, 0, 8, 18, 0, 9, 0, 4, 4, 4, 0, 0, 0, 0, 0, 0, 0, 0, 0, 0, 0, 0, 0, 0, 0, 0, 0, 0, 0, 0, 0, 0, 0, 0, 0, 0, 0, 0, 0, 0, 0, 0, 0, 0, 0, 0, 0, 0, 0, 0, 0, 0, 0, 0, 0, 0, 0, 0, 0, 0, 0, 0, 0, 0, 0, 0, 0, 0, 0, 0, 0, 0, 0, 0, 0, 0, 0, 0, 0, 0, 0, 0, 0, 0, 0, 0, 0, 0, 0, 0, 0, 0, 0, 0, 0, 0, 0, 0, 0, 0, 0, 0, 0, 0, 0, 0, 0, 0, 0, 0, 0, 0, 0, 0]\n",
      "Euclidean distance: 61.78996682310163\n",
      "1/1 [==============================] - 0s 12ms/step\n",
      "-SAMPLE N. 44\n",
      "Predicted audio features: [0, 0, 0, 0, 0, 0, 0, 0, 0, 0, 0, 6, 11, 0, 10, 12, 12, 0, 4, 0, 0, 10, 12, 12, 4, 4, 7, 4, 0, 23, 11, 11, 0, 0, 8, 0, 0, 9, 5, 0, 4, 4, 4, 0, 0, 0, 0, 0, 0, 0, 0, 0, 0, 0, 0, 0, 0, 0, 0, 0, 0, 0, 0, 0, 0, 0, 0, 0, 0, 0, 0, 0, 0, 0, 0, 0, 0, 0, 0, 0, 0, 0, 0, 0, 0, 0, 0, 0, 0, 0, 0, 0, 0, 0, 0, 0, 0, 0, 0, 0, 0, 0, 0, 0, 0, 0, 0, 0, 0, 0, 0, 0, 0, 0, 0, 0, 0, 0, 0, 0, 0, 0, 0, 0, 0, 0, 0, 0, 0, 0, 0, 0, 0, 0, 0, 0, 0, 0, 0, 0, 0, 0, 0, 0, 0, 0, 0, 0, 0, 0]\n",
      "---Target audio features: [0, 13, 13, 0, 0, 8, 0, 0, 0, 0, 0, 6, 0, 0, 7, 0, 0, 0, 6, 5, 0, 4, 4, 6, 11, 0, 5, 4, 4, 0, 20, 0, 0, 0, 0, 0, 0, 0, 0, 7, 18, 0, 0, 9, 0, 4, 4, 0, 0, 0, 0, 0, 0, 0, 0, 0, 0, 0, 0, 0, 0, 0, 0, 0, 0, 0, 0, 0, 0, 0, 0, 0, 0, 0, 0, 0, 0, 0, 0, 0, 0, 0, 0, 0, 0, 0, 0, 0, 0, 0, 0, 0, 0, 0, 0, 0, 0, 0, 0, 0, 0, 0, 0, 0, 0, 0, 0, 0, 0, 0, 0, 0, 0, 0, 0, 0, 0, 0, 0, 0, 0, 0, 0, 0, 0, 0, 0, 0, 0, 0, 0, 0, 0, 0, 0, 0, 0, 0, 0, 0, 0, 0, 0, 0, 0, 0, 0, 0, 0, 0]\n",
      "Euclidean distance: 48.590122453025366\n",
      "1/1 [==============================] - 0s 11ms/step\n",
      "-SAMPLE N. 45\n",
      "Predicted audio features: [0, 0, 0, 6, 11, 0, 0, 10, 0, 12, 0, 4, 4, 0, 0, 10, 12, 12, 0, 4, 4, 4, 7, 4, 4, 4, 12, 12, 0, 0, 23, 8, 0, 0, 0, 8, 0, 0, 0, 0, 10, 9, 0, 21, 4, 0, 0, 0, 0, 0, 0, 0, 0, 0, 0, 0, 0, 0, 0, 0, 0, 0, 0, 0, 0, 0, 0, 0, 0, 0, 0, 0, 0, 0, 0, 0, 0, 0, 0, 0, 0, 0, 0, 0, 0, 0, 0, 0, 0, 0, 0, 0, 0, 0, 0, 0, 0, 0, 0, 0, 0, 0, 0, 0, 0, 0, 0, 0, 0, 0, 0, 0, 0, 0, 0, 0, 0, 0, 0, 0, 0, 0, 0, 0, 0, 0, 0, 0, 0, 0, 0, 0, 0, 0, 0, 0, 0, 0, 0, 0, 0, 0, 0, 0, 0, 0, 0, 0, 0, 0]\n",
      "---Target audio features: [0, 0, 0, 17, 0, 0, 0, 0, 0, 8, 0, 25, 0, 5, 0, 0, 4, 4, 0, 6, 11, 5, 4, 4, 0, 23, 11, 11, 0, 0, 0, 8, 0, 0, 9, 5, 5, 4, 4, 0, 6, 0, 8, 0, 4, 4, 6, 11, 11, 5, 4, 0, 0, 15, 0, 0, 0, 0, 0, 5, 0, 20, 0, 0, 0, 6, 0, 4, 4, 0, 0, 0, 0, 0, 0, 0, 0, 0, 0, 0, 0, 0, 0, 0, 0, 0, 0, 0, 0, 0, 0, 0, 0, 0, 0, 0, 0, 0, 0, 0, 0, 0, 0, 0, 0, 0, 0, 0, 0, 0, 0, 0, 0, 0, 0, 0, 0, 0, 0, 0, 0, 0, 0, 0, 0, 0, 0, 0, 0, 0, 0, 0, 0, 0, 0, 0, 0, 0, 0, 0, 0, 0, 0, 0, 0, 0, 0, 0, 0, 0]\n",
      "Euclidean distance: 61.97580172938467\n",
      "1/1 [==============================] - 0s 12ms/step\n",
      "-SAMPLE N. 46\n",
      "Predicted audio features: [0, 0, 0, 0, 0, 0, 0, 0, 0, 0, 0, 0, 0, 0, 0, 0, 0, 6, 11, 0, 0, 0, 0, 0, 10, 0, 12, 0, 0, 4, 4, 4, 0, 0, 0, 0, 10, 0, 12, 0, 4, 4, 4, 4, 0, 0, 7, 4, 0, 0, 0, 23, 11, 11, 0, 0, 0, 0, 0, 0, 0, 0, 8, 0, 0, 0, 9, 0, 5, 5, 0, 4, 4, 4, 0, 0, 0, 0, 0, 0, 0, 0, 0, 0, 0, 0, 0, 0, 0, 0, 0, 0, 0, 0, 0, 0, 0, 0, 0, 0, 0, 0, 0, 0, 0, 0, 0, 0, 0, 0, 0, 0, 0, 0, 0, 0, 0, 0, 0, 0, 0, 0, 0, 0, 0, 0, 0, 0, 0, 0, 0, 0, 0, 0, 0, 0, 0, 0, 0, 0, 0, 0, 0, 0, 0, 0, 0, 0, 0, 0]\n",
      "---Target audio features: [0, 0, 0, 17, 17, 0, 0, 0, 0, 8, 0, 25, 0, 5, 0, 0, 4, 4, 0, 6, 11, 5, 4, 4, 0, 23, 11, 11, 0, 0, 0, 8, 0, 0, 0, 9, 5, 0, 4, 4, 0, 6, 0, 8, 0, 4, 4, 6, 11, 5, 4, 4, 0, 13, 0, 0, 0, 10, 0, 21, 11, 11, 6, 6, 0, 4, 4, 4, 0, 0, 0, 0, 0, 0, 0, 0, 0, 0, 0, 0, 0, 0, 0, 0, 0, 0, 0, 0, 0, 0, 0, 0, 0, 0, 0, 0, 0, 0, 0, 0, 0, 0, 0, 0, 0, 0, 0, 0, 0, 0, 0, 0, 0, 0, 0, 0, 0, 0, 0, 0, 0, 0, 0, 0, 0, 0, 0, 0, 0, 0, 0, 0, 0, 0, 0, 0, 0, 0, 0, 0, 0, 0, 0, 0, 0, 0, 0, 0, 0, 0]\n",
      "Euclidean distance: 65.87108622149782\n",
      "1/1 [==============================] - 0s 12ms/step\n",
      "-SAMPLE N. 47\n",
      "Predicted audio features: [0, 0, 0, 0, 0, 0, 0, 0, 0, 0, 0, 0, 0, 0, 0, 0, 0, 6, 11, 0, 0, 0, 0, 0, 10, 0, 12, 0, 0, 4, 4, 4, 0, 0, 0, 0, 10, 0, 12, 0, 4, 4, 4, 4, 0, 0, 7, 4, 0, 0, 0, 23, 11, 11, 0, 0, 0, 0, 0, 0, 0, 0, 8, 0, 0, 0, 9, 0, 5, 5, 0, 4, 4, 4, 0, 0, 0, 0, 0, 0, 0, 0, 0, 0, 0, 0, 0, 0, 0, 0, 0, 0, 0, 0, 0, 0, 0, 0, 0, 0, 0, 0, 0, 0, 0, 0, 0, 0, 0, 0, 0, 0, 0, 0, 0, 0, 0, 0, 0, 0, 0, 0, 0, 0, 0, 0, 0, 0, 0, 0, 0, 0, 0, 0, 0, 0, 0, 0, 0, 0, 0, 0, 0, 0, 0, 0, 0, 0, 0, 0]\n",
      "---Target audio features: [0, 0, 0, 17, 0, 0, 0, 0, 0, 8, 0, 25, 0, 5, 0, 4, 4, 4, 6, 11, 0, 5, 4, 4, 23, 11, 11, 0, 0, 8, 0, 0, 0, 9, 0, 5, 0, 4, 4, 0, 0, 0, 16, 0, 23, 0, 0, 4, 0, 0, 0, 0, 0, 0, 0, 0, 0, 0, 0, 0, 0, 0, 0, 0, 0, 0, 0, 0, 0, 0, 0, 0, 0, 0, 0, 0, 0, 0, 0, 0, 0, 0, 0, 0, 0, 0, 0, 0, 0, 0, 0, 0, 0, 0, 0, 0, 0, 0, 0, 0, 0, 0, 0, 0, 0, 0, 0, 0, 0, 0, 0, 0, 0, 0, 0, 0, 0, 0, 0, 0, 0, 0, 0, 0, 0, 0, 0, 0, 0, 0, 0, 0, 0, 0, 0, 0, 0, 0, 0, 0, 0, 0, 0, 0, 0, 0, 0, 0, 0, 0]\n",
      "Euclidean distance: 60.423505360083176\n"
     ]
    },
    {
     "name": "stdout",
     "output_type": "stream",
     "text": [
      "1/1 [==============================] - 0s 13ms/step\n",
      "-SAMPLE N. 48\n",
      "Predicted audio features: [0, 0, 0, 0, 0, 0, 0, 0, 0, 0, 0, 0, 0, 0, 0, 0, 0, 6, 11, 0, 0, 0, 0, 0, 10, 0, 12, 0, 0, 4, 4, 4, 0, 0, 0, 0, 10, 0, 12, 0, 4, 4, 4, 4, 0, 0, 7, 4, 0, 0, 0, 23, 11, 11, 0, 0, 0, 0, 0, 0, 0, 0, 8, 0, 0, 0, 9, 0, 5, 5, 0, 4, 4, 4, 0, 0, 0, 0, 0, 0, 0, 0, 0, 0, 0, 0, 0, 0, 0, 0, 0, 0, 0, 0, 0, 0, 0, 0, 0, 0, 0, 0, 0, 0, 0, 0, 0, 0, 0, 0, 0, 0, 0, 0, 0, 0, 0, 0, 0, 0, 0, 0, 0, 0, 0, 0, 0, 0, 0, 0, 0, 0, 0, 0, 0, 0, 0, 0, 0, 0, 0, 0, 0, 0, 0, 0, 0, 0, 0, 0]\n",
      "---Target audio features: [0, 0, 0, 17, 0, 0, 0, 0, 0, 0, 8, 0, 25, 5, 5, 4, 4, 4, 0, 6, 11, 5, 4, 4, 0, 23, 11, 0, 0, 0, 8, 8, 0, 0, 9, 0, 5, 0, 4, 4, 14, 14, 0, 0, 0, 0, 0, 8, 8, 18, 0, 9, 9, 4, 4, 4, 4, 4, 0, 0, 0, 0, 0, 0, 0, 0, 0, 0, 0, 0, 0, 0, 0, 0, 0, 0, 0, 0, 0, 0, 0, 0, 0, 0, 0, 0, 0, 0, 0, 0, 0, 0, 0, 0, 0, 0, 0, 0, 0, 0, 0, 0, 0, 0, 0, 0, 0, 0, 0, 0, 0, 0, 0, 0, 0, 0, 0, 0, 0, 0, 0, 0, 0, 0, 0, 0, 0, 0, 0, 0, 0, 0, 0, 0, 0, 0, 0, 0, 0, 0, 0, 0, 0, 0, 0, 0, 0, 0, 0, 0]\n",
      "Euclidean distance: 59.19459434779497\n",
      "1/1 [==============================] - 0s 12ms/step\n",
      "-SAMPLE N. 49\n",
      "Predicted audio features: [0, 0, 0, 0, 0, 0, 0, 0, 0, 0, 0, 0, 6, 0, 11, 0, 0, 10, 12, 0, 0, 4, 4, 0, 0, 10, 12, 12, 4, 4, 4, 4, 7, 4, 0, 23, 0, 11, 0, 0, 0, 0, 8, 8, 0, 9, 0, 5, 0, 4, 4, 0, 0, 0, 0, 0, 0, 0, 0, 0, 0, 0, 0, 0, 0, 0, 0, 0, 0, 0, 0, 0, 0, 0, 0, 0, 0, 0, 0, 0, 0, 0, 0, 0, 0, 0, 0, 0, 0, 0, 0, 0, 0, 0, 0, 0, 0, 0, 0, 0, 0, 0, 0, 0, 0, 0, 0, 0, 0, 0, 0, 0, 0, 0, 0, 0, 0, 0, 0, 0, 0, 0, 0, 0, 0, 0, 0, 0, 0, 0, 0, 0, 0, 0, 0, 0, 0, 0, 0, 0, 0, 0, 0, 0, 0, 0, 0, 0, 0, 0]\n",
      "---Target audio features: [0, 0, 0, 13, 13, 0, 0, 8, 0, 0, 0, 0, 6, 0, 0, 0, 7, 0, 0, 6, 5, 5, 4, 4, 6, 11, 11, 5, 4, 4, 23, 0, 11, 0, 0, 0, 0, 0, 8, 0, 0, 9, 0, 5, 0, 4, 4, 0, 0, 0, 0, 0, 0, 0, 0, 0, 0, 0, 0, 0, 0, 0, 0, 0, 0, 0, 0, 0, 0, 0, 0, 0, 0, 0, 0, 0, 0, 0, 0, 0, 0, 0, 0, 0, 0, 0, 0, 0, 0, 0, 0, 0, 0, 0, 0, 0, 0, 0, 0, 0, 0, 0, 0, 0, 0, 0, 0, 0, 0, 0, 0, 0, 0, 0, 0, 0, 0, 0, 0, 0, 0, 0, 0, 0, 0, 0, 0, 0, 0, 0, 0, 0, 0, 0, 0, 0, 0, 0, 0, 0, 0, 0, 0, 0, 0, 0, 0, 0, 0, 0]\n",
      "Euclidean distance: 48.53864439804639\n",
      "1/1 [==============================] - 0s 12ms/step\n",
      "-SAMPLE N. 50\n",
      "Predicted audio features: [0, 0, 0, 0, 0, 0, 0, 0, 0, 0, 0, 0, 0, 0, 0, 0, 6, 11, 0, 0, 0, 0, 0, 10, 0, 12, 12, 0, 0, 4, 4, 0, 0, 0, 0, 10, 0, 12, 0, 4, 4, 4, 4, 0, 0, 7, 0, 4, 0, 0, 0, 0, 0, 20, 0, 0, 0, 0, 0, 0, 0, 0, 0, 0, 0, 0, 0, 8, 18, 0, 0, 0, 0, 9, 9, 0, 0, 0, 4, 4, 4, 4, 4, 0, 0, 0, 0, 0, 0, 0, 0, 0, 0, 0, 0, 0, 0, 0, 0, 0, 0, 0, 0, 0, 0, 0, 0, 0, 0, 0, 0, 0, 0, 0, 0, 0, 0, 0, 0, 0, 0, 0, 0, 0, 0, 0, 0, 0, 0, 0, 0, 0, 0, 0, 0, 0, 0, 0, 0, 0, 0, 0, 0, 0, 0, 0, 0, 0, 0, 0]\n",
      "---Target audio features: [0, 0, 0, 17, 0, 0, 0, 8, 0, 25, 0, 5, 0, 4, 4, 0, 6, 11, 5, 4, 4, 0, 23, 11, 0, 0, 8, 8, 0, 0, 9, 5, 5, 4, 4, 4, 6, 6, 0, 8, 0, 4, 4, 4, 6, 11, 5, 4, 4, 0, 15, 0, 0, 0, 0, 5, 0, 20, 0, 0, 0, 6, 0, 4, 4, 0, 0, 0, 0, 0, 0, 0, 0, 0, 0, 0, 0, 0, 0, 0, 0, 0, 0, 0, 0, 0, 0, 0, 0, 0, 0, 0, 0, 0, 0, 0, 0, 0, 0, 0, 0, 0, 0, 0, 0, 0, 0, 0, 0, 0, 0, 0, 0, 0, 0, 0, 0, 0, 0, 0, 0, 0, 0, 0, 0, 0, 0, 0, 0, 0, 0, 0, 0, 0, 0, 0, 0, 0, 0, 0, 0, 0, 0, 0, 0, 0, 0, 0, 0, 0]\n",
      "Euclidean distance: 62.976185975335156\n",
      "1/1 [==============================] - 0s 12ms/step\n",
      "-SAMPLE N. 51\n",
      "Predicted audio features: [0, 0, 0, 0, 0, 0, 0, 0, 0, 0, 0, 0, 0, 0, 0, 0, 6, 11, 0, 0, 0, 0, 0, 10, 0, 12, 12, 0, 0, 4, 4, 0, 0, 0, 0, 10, 0, 12, 0, 4, 4, 4, 4, 0, 0, 7, 0, 4, 0, 0, 0, 0, 0, 20, 0, 0, 0, 0, 0, 0, 0, 0, 0, 0, 0, 0, 0, 8, 18, 0, 0, 0, 0, 9, 9, 0, 0, 0, 4, 4, 4, 4, 4, 0, 0, 0, 0, 0, 0, 0, 0, 0, 0, 0, 0, 0, 0, 0, 0, 0, 0, 0, 0, 0, 0, 0, 0, 0, 0, 0, 0, 0, 0, 0, 0, 0, 0, 0, 0, 0, 0, 0, 0, 0, 0, 0, 0, 0, 0, 0, 0, 0, 0, 0, 0, 0, 0, 0, 0, 0, 0, 0, 0, 0, 0, 0, 0, 0, 0, 0]\n",
      "---Target audio features: [0, 0, 17, 17, 0, 0, 0, 8, 0, 25, 5, 5, 0, 4, 4, 0, 6, 11, 5, 4, 4, 0, 23, 11, 0, 0, 0, 8, 0, 0, 9, 0, 5, 0, 4, 4, 0, 0, 6, 0, 0, 8, 0, 4, 4, 6, 11, 5, 4, 4, 0, 13, 0, 0, 0, 10, 0, 21, 11, 11, 6, 6, 0, 4, 4, 4, 4, 0, 0, 0, 0, 0, 0, 0, 0, 0, 0, 0, 0, 0, 0, 0, 0, 0, 0, 0, 0, 0, 0, 0, 0, 0, 0, 0, 0, 0, 0, 0, 0, 0, 0, 0, 0, 0, 0, 0, 0, 0, 0, 0, 0, 0, 0, 0, 0, 0, 0, 0, 0, 0, 0, 0, 0, 0, 0, 0, 0, 0, 0, 0, 0, 0, 0, 0, 0, 0, 0, 0, 0, 0, 0, 0, 0, 0, 0, 0, 0, 0, 0, 0]\n",
      "Euclidean distance: 70.39176088151227\n",
      "1/1 [==============================] - 0s 12ms/step\n",
      "-SAMPLE N. 52\n",
      "Predicted audio features: [0, 0, 0, 0, 0, 0, 0, 0, 0, 0, 0, 0, 0, 0, 0, 0, 6, 11, 0, 0, 0, 0, 0, 10, 0, 0, 12, 0, 0, 4, 4, 0, 0, 0, 0, 0, 10, 12, 12, 0, 4, 4, 4, 4, 0, 7, 0, 4, 0, 0, 0, 0, 0, 20, 0, 0, 0, 0, 0, 0, 0, 0, 0, 0, 0, 0, 0, 8, 18, 0, 0, 0, 0, 9, 9, 0, 0, 0, 0, 4, 4, 4, 4, 0, 0, 0, 0, 0, 0, 0, 0, 0, 0, 0, 0, 0, 0, 0, 0, 0, 0, 0, 0, 0, 0, 0, 0, 0, 0, 0, 0, 0, 0, 0, 0, 0, 0, 0, 0, 0, 0, 0, 0, 0, 0, 0, 0, 0, 0, 0, 0, 0, 0, 0, 0, 0, 0, 0, 0, 0, 0, 0, 0, 0, 0, 0, 0, 0, 0, 0]\n",
      "---Target audio features: [0, 0, 17, 17, 0, 0, 0, 8, 0, 25, 0, 5, 0, 4, 4, 4, 6, 11, 5, 4, 4, 23, 11, 11, 0, 8, 0, 0, 0, 0, 9, 5, 5, 4, 4, 0, 0, 16, 0, 0, 23, 0, 4, 0, 0, 0, 0, 0, 0, 0, 0, 0, 0, 0, 0, 0, 0, 0, 0, 0, 0, 0, 0, 0, 0, 0, 0, 0, 0, 0, 0, 0, 0, 0, 0, 0, 0, 0, 0, 0, 0, 0, 0, 0, 0, 0, 0, 0, 0, 0, 0, 0, 0, 0, 0, 0, 0, 0, 0, 0, 0, 0, 0, 0, 0, 0, 0, 0, 0, 0, 0, 0, 0, 0, 0, 0, 0, 0, 0, 0, 0, 0, 0, 0, 0, 0, 0, 0, 0, 0, 0, 0, 0, 0, 0, 0, 0, 0, 0, 0, 0, 0, 0, 0, 0, 0, 0, 0, 0, 0]\n",
      "Euclidean distance: 64.11708040764177\n",
      "1/1 [==============================] - 0s 12ms/step\n",
      "-SAMPLE N. 53\n",
      "Predicted audio features: [0, 0, 0, 0, 0, 0, 0, 0, 0, 0, 0, 0, 6, 11, 0, 0, 0, 10, 0, 12, 0, 0, 4, 0, 0, 0, 10, 0, 0, 12, 0, 0, 4, 4, 0, 0, 0, 7, 4, 4, 0, 12, 0, 0, 0, 0, 0, 0, 23, 0, 8, 0, 0, 0, 0, 0, 0, 8, 0, 0, 0, 0, 9, 9, 0, 0, 4, 4, 4, 4, 4, 0, 0, 0, 0, 0, 0, 0, 0, 0, 0, 0, 0, 0, 0, 0, 0, 0, 0, 0, 0, 0, 0, 0, 0, 0, 0, 0, 0, 0, 0, 0, 0, 0, 0, 0, 0, 0, 0, 0, 0, 0, 0, 0, 0, 0, 0, 0, 0, 0, 0, 0, 0, 0, 0, 0, 0, 0, 0, 0, 0, 0, 0, 0, 0, 0, 0, 0, 0, 0, 0, 0, 0, 0, 0, 0, 0, 0, 0, 0]\n",
      "---Target audio features: [0, 0, 17, 17, 0, 0, 0, 8, 0, 25, 0, 5, 0, 4, 4, 4, 6, 11, 5, 4, 4, 23, 11, 11, 0, 0, 8, 0, 0, 0, 9, 5, 0, 4, 4, 0, 14, 0, 0, 0, 0, 0, 8, 18, 0, 9, 9, 4, 4, 4, 4, 4, 0, 0, 0, 0, 0, 0, 0, 0, 0, 0, 0, 0, 0, 0, 0, 0, 0, 0, 0, 0, 0, 0, 0, 0, 0, 0, 0, 0, 0, 0, 0, 0, 0, 0, 0, 0, 0, 0, 0, 0, 0, 0, 0, 0, 0, 0, 0, 0, 0, 0, 0, 0, 0, 0, 0, 0, 0, 0, 0, 0, 0, 0, 0, 0, 0, 0, 0, 0, 0, 0, 0, 0, 0, 0, 0, 0, 0, 0, 0, 0, 0, 0, 0, 0, 0, 0, 0, 0, 0, 0, 0, 0, 0, 0, 0, 0, 0, 0]\n",
      "Euclidean distance: 65.09992319503918\n",
      "1/1 [==============================] - 0s 13ms/step\n",
      "-SAMPLE N. 54\n",
      "Predicted audio features: [0, 0, 0, 0, 0, 0, 0, 0, 0, 0, 0, 0, 0, 0, 0, 0, 0, 6, 11, 0, 0, 0, 0, 10, 0, 12, 0, 0, 4, 4, 0, 0, 0, 0, 10, 0, 12, 12, 0, 4, 4, 4, 4, 4, 7, 4, 4, 0, 0, 12, 12, 0, 0, 0, 0, 0, 23, 0, 0, 8, 8, 0, 0, 0, 0, 0, 0, 8, 0, 9, 9, 0, 0, 0, 4, 4, 4, 4, 0, 0, 0, 0, 0, 0, 0, 0, 0, 0, 0, 0, 0, 0, 0, 0, 0, 0, 0, 0, 0, 0, 0, 0, 0, 0, 0, 0, 0, 0, 0, 0, 0, 0, 0, 0, 0, 0, 0, 0, 0, 0, 0, 0, 0, 0, 0, 0, 0, 0, 0, 0, 0, 0, 0, 0, 0, 0, 0, 0, 0, 0, 0, 0, 0, 0, 0, 0, 0, 0, 0, 0]\n",
      "---Target audio features: [0, 0, 0, 13, 13, 0, 0, 8, 0, 0, 0, 0, 6, 0, 0, 0, 7, 0, 0, 6, 0, 5, 0, 4, 4, 0, 6, 11, 5, 4, 4, 23, 0, 11, 0, 0, 0, 0, 8, 0, 0, 9, 9, 5, 0, 4, 4, 4, 0, 0, 0, 0, 0, 0, 0, 0, 0, 0, 0, 0, 0, 0, 0, 0, 0, 0, 0, 0, 0, 0, 0, 0, 0, 0, 0, 0, 0, 0, 0, 0, 0, 0, 0, 0, 0, 0, 0, 0, 0, 0, 0, 0, 0, 0, 0, 0, 0, 0, 0, 0, 0, 0, 0, 0, 0, 0, 0, 0, 0, 0, 0, 0, 0, 0, 0, 0, 0, 0, 0, 0, 0, 0, 0, 0, 0, 0, 0, 0, 0, 0, 0, 0, 0, 0, 0, 0, 0, 0, 0, 0, 0, 0, 0, 0, 0, 0, 0, 0, 0, 0]\n",
      "Euclidean distance: 59.665735560705194\n",
      "1/1 [==============================] - 0s 12ms/step\n",
      "-SAMPLE N. 55\n",
      "Predicted audio features: [0, 0, 0, 0, 0, 0, 0, 0, 0, 0, 0, 0, 6, 11, 0, 0, 0, 0, 10, 0, 12, 0, 0, 4, 0, 0, 0, 0, 10, 0, 12, 0, 4, 4, 4, 4, 4, 0, 7, 4, 4, 0, 0, 0, 26, 26, 9, 9, 0, 0, 0, 0, 0, 0, 0, 0, 10, 0, 0, 0, 20, 0, 5, 4, 4, 4, 0, 0, 0, 0, 0, 0, 0, 0, 0, 0, 0, 0, 0, 0, 0, 0, 0, 0, 0, 0, 0, 0, 0, 0, 0, 0, 0, 0, 0, 0, 0, 0, 0, 0, 0, 0, 0, 0, 0, 0, 0, 0, 0, 0, 0, 0, 0, 0, 0, 0, 0, 0, 0, 0, 0, 0, 0, 0, 0, 0, 0, 0, 0, 0, 0, 0, 0, 0, 0, 0, 0, 0, 0, 0, 0, 0, 0, 0, 0, 0, 0, 0, 0, 0]\n",
      "---Target audio features: [0, 0, 17, 0, 8, 0, 0, 0, 8, 0, 25, 0, 5, 0, 4, 4, 6, 11, 5, 4, 4, 4, 0, 23, 11, 0, 0, 8, 8, 0, 0, 9, 0, 5, 0, 4, 4, 0, 6, 8, 0, 4, 4, 4, 6, 11, 5, 4, 4, 0, 15, 0, 0, 0, 0, 0, 5, 0, 20, 0, 0, 0, 0, 6, 0, 0, 4, 4, 0, 0, 0, 0, 0, 0, 0, 0, 0, 0, 0, 0, 0, 0, 0, 0, 0, 0, 0, 0, 0, 0, 0, 0, 0, 0, 0, 0, 0, 0, 0, 0, 0, 0, 0, 0, 0, 0, 0, 0, 0, 0, 0, 0, 0, 0, 0, 0, 0, 0, 0, 0, 0, 0, 0, 0, 0, 0, 0, 0, 0, 0, 0, 0, 0, 0, 0, 0, 0, 0, 0, 0, 0, 0, 0, 0, 0, 0, 0, 0, 0, 0]\n",
      "Euclidean distance: 64.71475874945375\n"
     ]
    },
    {
     "name": "stdout",
     "output_type": "stream",
     "text": [
      "1/1 [==============================] - 0s 12ms/step\n",
      "-SAMPLE N. 56\n",
      "Predicted audio features: [0, 0, 0, 0, 0, 0, 0, 0, 0, 0, 0, 0, 6, 11, 0, 0, 10, 0, 12, 0, 0, 4, 4, 0, 0, 0, 10, 0, 12, 0, 0, 4, 4, 4, 0, 0, 7, 4, 4, 0, 0, 23, 0, 11, 0, 0, 0, 0, 0, 0, 0, 0, 7, 18, 0, 0, 0, 9, 9, 0, 0, 4, 4, 4, 4, 0, 0, 0, 0, 0, 0, 0, 0, 0, 0, 0, 0, 0, 0, 0, 0, 0, 0, 0, 0, 0, 0, 0, 0, 0, 0, 0, 0, 0, 0, 0, 0, 0, 0, 0, 0, 0, 0, 0, 0, 0, 0, 0, 0, 0, 0, 0, 0, 0, 0, 0, 0, 0, 0, 0, 0, 0, 0, 0, 0, 0, 0, 0, 0, 0, 0, 0, 0, 0, 0, 0, 0, 0, 0, 0, 0, 0, 0, 0, 0, 0, 0, 0, 0, 0]\n",
      "---Target audio features: [0, 0, 17, 0, 0, 0, 0, 8, 0, 25, 0, 5, 0, 4, 4, 6, 11, 5, 4, 4, 4, 0, 23, 11, 0, 0, 0, 8, 0, 0, 9, 0, 5, 0, 4, 4, 6, 6, 8, 4, 4, 4, 6, 11, 5, 4, 4, 4, 13, 13, 0, 0, 0, 10, 10, 21, 0, 11, 0, 6, 6, 0, 4, 4, 4, 0, 0, 0, 0, 0, 0, 0, 0, 0, 0, 0, 0, 0, 0, 0, 0, 0, 0, 0, 0, 0, 0, 0, 0, 0, 0, 0, 0, 0, 0, 0, 0, 0, 0, 0, 0, 0, 0, 0, 0, 0, 0, 0, 0, 0, 0, 0, 0, 0, 0, 0, 0, 0, 0, 0, 0, 0, 0, 0, 0, 0, 0, 0, 0, 0, 0, 0, 0, 0, 0, 0, 0, 0, 0, 0, 0, 0, 0, 0, 0, 0, 0, 0, 0, 0]\n",
      "Euclidean distance: 62.465990746965666\n",
      "1/1 [==============================] - 0s 12ms/step\n",
      "-SAMPLE N. 57\n",
      "Predicted audio features: [0, 0, 10, 0, 12, 0, 0, 4, 0, 0, 10, 12, 12, 4, 4, 4, 7, 0, 4, 0, 20, 0, 0, 0, 0, 0, 0, 0, 7, 13, 0, 0, 9, 0, 4, 4, 0, 0, 0, 0, 0, 0, 0, 0, 0, 0, 0, 0, 0, 0, 0, 0, 0, 0, 0, 0, 0, 0, 0, 0, 0, 0, 0, 0, 0, 0, 0, 0, 0, 0, 0, 0, 0, 0, 0, 0, 0, 0, 0, 0, 0, 0, 0, 0, 0, 0, 0, 0, 0, 0, 0, 0, 0, 0, 0, 0, 0, 0, 0, 0, 0, 0, 0, 0, 0, 0, 0, 0, 0, 0, 0, 0, 0, 0, 0, 0, 0, 0, 0, 0, 0, 0, 0, 0, 0, 0, 0, 0, 0, 0, 0, 0, 0, 0, 0, 0, 0, 0, 0, 0, 0, 0, 0, 0, 0, 0, 0, 0, 0, 0]\n",
      "---Target audio features: [0, 17, 0, 8, 0, 0, 0, 8, 0, 0, 0, 0, 0, 0, 4, 0, 6, 11, 5, 0, 4, 4, 23, 23, 11, 0, 0, 0, 0, 8, 0, 5, 0, 0, 0, 4, 26, 9, 9, 0, 0, 0, 0, 0, 0, 0, 0, 8, 0, 0, 23, 0, 0, 0, 4, 4, 0, 0, 0, 0, 0, 0, 0, 0, 0, 0, 0, 0, 0, 0, 0, 0, 0, 0, 0, 0, 0, 0, 0, 0, 0, 0, 0, 0, 0, 0, 0, 0, 0, 0, 0, 0, 0, 0, 0, 0, 0, 0, 0, 0, 0, 0, 0, 0, 0, 0, 0, 0, 0, 0, 0, 0, 0, 0, 0, 0, 0, 0, 0, 0, 0, 0, 0, 0, 0, 0, 0, 0, 0, 0, 0, 0, 0, 0, 0, 0, 0, 0, 0, 0, 0, 0, 0, 0, 0, 0, 0, 0, 0, 0]\n",
      "Euclidean distance: 65.31462317123173\n",
      "1/1 [==============================] - 0s 12ms/step\n",
      "-SAMPLE N. 58\n",
      "Predicted audio features: [0, 0, 0, 0, 0, 0, 0, 0, 0, 0, 0, 6, 11, 0, 10, 12, 12, 0, 4, 0, 0, 10, 12, 12, 4, 4, 7, 4, 0, 23, 11, 11, 0, 0, 8, 0, 0, 9, 5, 0, 4, 4, 4, 0, 0, 0, 0, 0, 0, 0, 0, 0, 0, 0, 0, 0, 0, 0, 0, 0, 0, 0, 0, 0, 0, 0, 0, 0, 0, 0, 0, 0, 0, 0, 0, 0, 0, 0, 0, 0, 0, 0, 0, 0, 0, 0, 0, 0, 0, 0, 0, 0, 0, 0, 0, 0, 0, 0, 0, 0, 0, 0, 0, 0, 0, 0, 0, 0, 0, 0, 0, 0, 0, 0, 0, 0, 0, 0, 0, 0, 0, 0, 0, 0, 0, 0, 0, 0, 0, 0, 0, 0, 0, 0, 0, 0, 0, 0, 0, 0, 0, 0, 0, 0, 0, 0, 0, 0, 0, 0]\n",
      "---Target audio features: [0, 0, 17, 0, 0, 0, 0, 8, 0, 25, 0, 5, 0, 4, 4, 6, 6, 11, 5, 4, 4, 0, 23, 11, 0, 0, 0, 0, 8, 0, 0, 0, 9, 0, 5, 0, 4, 4, 0, 0, 14, 0, 0, 0, 0, 0, 0, 0, 0, 0, 8, 18, 0, 0, 9, 0, 4, 4, 4, 4, 4, 0, 0, 0, 0, 0, 0, 0, 0, 0, 0, 0, 0, 0, 0, 0, 0, 0, 0, 0, 0, 0, 0, 0, 0, 0, 0, 0, 0, 0, 0, 0, 0, 0, 0, 0, 0, 0, 0, 0, 0, 0, 0, 0, 0, 0, 0, 0, 0, 0, 0, 0, 0, 0, 0, 0, 0, 0, 0, 0, 0, 0, 0, 0, 0, 0, 0, 0, 0, 0, 0, 0, 0, 0, 0, 0, 0, 0, 0, 0, 0, 0, 0, 0, 0, 0, 0, 0, 0, 0]\n",
      "Euclidean distance: 58.0430874437258\n",
      "1/1 [==============================] - 0s 12ms/step\n",
      "-SAMPLE N. 59\n",
      "Predicted audio features: [0, 0, 0, 0, 0, 0, 0, 0, 0, 0, 0, 6, 11, 0, 10, 0, 12, 0, 4, 4, 0, 10, 12, 12, 4, 4, 7, 4, 0, 23, 11, 11, 0, 0, 8, 0, 0, 9, 5, 0, 4, 4, 4, 0, 0, 0, 0, 0, 0, 0, 0, 0, 0, 0, 0, 0, 0, 0, 0, 0, 0, 0, 0, 0, 0, 0, 0, 0, 0, 0, 0, 0, 0, 0, 0, 0, 0, 0, 0, 0, 0, 0, 0, 0, 0, 0, 0, 0, 0, 0, 0, 0, 0, 0, 0, 0, 0, 0, 0, 0, 0, 0, 0, 0, 0, 0, 0, 0, 0, 0, 0, 0, 0, 0, 0, 0, 0, 0, 0, 0, 0, 0, 0, 0, 0, 0, 0, 0, 0, 0, 0, 0, 0, 0, 0, 0, 0, 0, 0, 0, 0, 0, 0, 0, 0, 0, 0, 0, 0, 0]\n",
      "---Target audio features: [0, 0, 0, 13, 13, 0, 0, 8, 0, 0, 0, 0, 0, 6, 0, 0, 0, 7, 0, 6, 0, 5, 0, 4, 6, 11, 0, 5, 4, 4, 0, 23, 11, 0, 0, 0, 0, 0, 0, 8, 0, 0, 0, 9, 0, 5, 5, 4, 4, 4, 0, 0, 0, 0, 0, 0, 0, 0, 0, 0, 0, 0, 0, 0, 0, 0, 0, 0, 0, 0, 0, 0, 0, 0, 0, 0, 0, 0, 0, 0, 0, 0, 0, 0, 0, 0, 0, 0, 0, 0, 0, 0, 0, 0, 0, 0, 0, 0, 0, 0, 0, 0, 0, 0, 0, 0, 0, 0, 0, 0, 0, 0, 0, 0, 0, 0, 0, 0, 0, 0, 0, 0, 0, 0, 0, 0, 0, 0, 0, 0, 0, 0, 0, 0, 0, 0, 0, 0, 0, 0, 0, 0, 0, 0, 0, 0, 0, 0, 0, 0]\n",
      "Euclidean distance: 49.678969393496885\n",
      "1/1 [==============================] - 0s 13ms/step\n",
      "-SAMPLE N. 60\n",
      "Predicted audio features: [0, 0, 10, 0, 12, 0, 4, 4, 0, 0, 10, 12, 12, 4, 4, 4, 7, 4, 4, 0, 20, 0, 0, 0, 0, 0, 0, 8, 0, 0, 9, 0, 5, 0, 4, 4, 0, 0, 0, 0, 0, 0, 0, 0, 0, 0, 0, 0, 0, 0, 0, 0, 0, 0, 0, 0, 0, 0, 0, 0, 0, 0, 0, 0, 0, 0, 0, 0, 0, 0, 0, 0, 0, 0, 0, 0, 0, 0, 0, 0, 0, 0, 0, 0, 0, 0, 0, 0, 0, 0, 0, 0, 0, 0, 0, 0, 0, 0, 0, 0, 0, 0, 0, 0, 0, 0, 0, 0, 0, 0, 0, 0, 0, 0, 0, 0, 0, 0, 0, 0, 0, 0, 0, 0, 0, 0, 0, 0, 0, 0, 0, 0, 0, 0, 0, 0, 0, 0, 0, 0, 0, 0, 0, 0, 0, 0, 0, 0, 0, 0]\n",
      "---Target audio features: [17, 0, 0, 0, 8, 25, 0, 5, 0, 4, 4, 6, 11, 5, 4, 4, 0, 23, 11, 0, 0, 8, 8, 0, 0, 9, 5, 0, 4, 4, 6, 6, 8, 0, 4, 4, 6, 6, 11, 5, 4, 0, 15, 0, 0, 0, 0, 5, 0, 20, 0, 0, 6, 0, 4, 4, 4, 0, 0, 0, 0, 0, 0, 0, 0, 0, 0, 0, 0, 0, 0, 0, 0, 0, 0, 0, 0, 0, 0, 0, 0, 0, 0, 0, 0, 0, 0, 0, 0, 0, 0, 0, 0, 0, 0, 0, 0, 0, 0, 0, 0, 0, 0, 0, 0, 0, 0, 0, 0, 0, 0, 0, 0, 0, 0, 0, 0, 0, 0, 0, 0, 0, 0, 0, 0, 0, 0, 0, 0, 0, 0, 0, 0, 0, 0, 0, 0, 0, 0, 0, 0, 0, 0, 0, 0, 0, 0, 0, 0, 0]\n",
      "Euclidean distance: 57.86190456595773\n",
      "1/1 [==============================] - 0s 12ms/step\n",
      "-SAMPLE N. 61\n",
      "Predicted audio features: [0, 0, 0, 0, 0, 0, 0, 0, 0, 0, 0, 0, 6, 11, 0, 0, 10, 0, 12, 0, 0, 4, 4, 0, 0, 0, 10, 0, 12, 0, 0, 4, 4, 4, 0, 0, 7, 4, 4, 0, 0, 23, 0, 11, 0, 0, 0, 0, 0, 0, 0, 0, 7, 18, 0, 0, 0, 9, 9, 0, 0, 4, 4, 4, 4, 0, 0, 0, 0, 0, 0, 0, 0, 0, 0, 0, 0, 0, 0, 0, 0, 0, 0, 0, 0, 0, 0, 0, 0, 0, 0, 0, 0, 0, 0, 0, 0, 0, 0, 0, 0, 0, 0, 0, 0, 0, 0, 0, 0, 0, 0, 0, 0, 0, 0, 0, 0, 0, 0, 0, 0, 0, 0, 0, 0, 0, 0, 0, 0, 0, 0, 0, 0, 0, 0, 0, 0, 0, 0, 0, 0, 0, 0, 0, 0, 0, 0, 0, 0, 0]\n",
      "---Target audio features: [17, 0, 0, 0, 8, 0, 25, 5, 5, 4, 0, 4, 6, 11, 5, 4, 4, 20, 0, 0, 0, 0, 8, 0, 0, 9, 0, 0, 4, 4, 6, 6, 8, 0, 4, 4, 6, 11, 5, 4, 4, 0, 13, 0, 0, 10, 10, 21, 11, 11, 6, 6, 4, 4, 4, 0, 0, 0, 0, 0, 0, 0, 0, 0, 0, 0, 0, 0, 0, 0, 0, 0, 0, 0, 0, 0, 0, 0, 0, 0, 0, 0, 0, 0, 0, 0, 0, 0, 0, 0, 0, 0, 0, 0, 0, 0, 0, 0, 0, 0, 0, 0, 0, 0, 0, 0, 0, 0, 0, 0, 0, 0, 0, 0, 0, 0, 0, 0, 0, 0, 0, 0, 0, 0, 0, 0, 0, 0, 0, 0, 0, 0, 0, 0, 0, 0, 0, 0, 0, 0, 0, 0, 0, 0, 0, 0, 0, 0, 0, 0]\n",
      "Euclidean distance: 66.19667665374146\n",
      "1/1 [==============================] - 0s 12ms/step\n",
      "-SAMPLE N. 62\n",
      "Predicted audio features: [0, 0, 0, 0, 0, 0, 0, 0, 0, 0, 0, 0, 6, 11, 0, 0, 10, 0, 12, 0, 0, 4, 4, 0, 0, 0, 10, 0, 12, 0, 0, 4, 4, 4, 0, 0, 7, 4, 4, 0, 0, 23, 0, 11, 0, 0, 0, 0, 0, 0, 0, 0, 7, 18, 0, 0, 0, 9, 9, 0, 0, 4, 4, 4, 4, 0, 0, 0, 0, 0, 0, 0, 0, 0, 0, 0, 0, 0, 0, 0, 0, 0, 0, 0, 0, 0, 0, 0, 0, 0, 0, 0, 0, 0, 0, 0, 0, 0, 0, 0, 0, 0, 0, 0, 0, 0, 0, 0, 0, 0, 0, 0, 0, 0, 0, 0, 0, 0, 0, 0, 0, 0, 0, 0, 0, 0, 0, 0, 0, 0, 0, 0, 0, 0, 0, 0, 0, 0, 0, 0, 0, 0, 0, 0, 0, 0, 0, 0, 0, 0]\n",
      "---Target audio features: [0, 17, 0, 0, 0, 8, 0, 25, 5, 0, 4, 4, 6, 11, 5, 5, 4, 0, 23, 11, 0, 0, 8, 0, 0, 0, 9, 5, 5, 4, 4, 0, 0, 16, 0, 23, 0, 4, 0, 0, 0, 0, 0, 0, 0, 0, 0, 0, 0, 0, 0, 0, 0, 0, 0, 0, 0, 0, 0, 0, 0, 0, 0, 0, 0, 0, 0, 0, 0, 0, 0, 0, 0, 0, 0, 0, 0, 0, 0, 0, 0, 0, 0, 0, 0, 0, 0, 0, 0, 0, 0, 0, 0, 0, 0, 0, 0, 0, 0, 0, 0, 0, 0, 0, 0, 0, 0, 0, 0, 0, 0, 0, 0, 0, 0, 0, 0, 0, 0, 0, 0, 0, 0, 0, 0, 0, 0, 0, 0, 0, 0, 0, 0, 0, 0, 0, 0, 0, 0, 0, 0, 0, 0, 0, 0, 0, 0, 0, 0, 0]\n",
      "Euclidean distance: 59.33801479658719\n",
      "1/1 [==============================] - 0s 13ms/step\n",
      "-SAMPLE N. 63\n",
      "Predicted audio features: [0, 0, 0, 0, 0, 0, 0, 0, 0, 0, 0, 0, 6, 11, 0, 0, 10, 0, 12, 0, 0, 4, 4, 0, 0, 0, 10, 0, 12, 0, 4, 4, 4, 4, 4, 0, 7, 4, 4, 0, 12, 12, 0, 0, 0, 0, 0, 23, 0, 8, 0, 0, 0, 0, 0, 0, 8, 8, 0, 0, 0, 0, 9, 9, 0, 4, 4, 4, 4, 4, 4, 0, 0, 0, 0, 0, 0, 0, 0, 0, 0, 0, 0, 0, 0, 0, 0, 0, 0, 0, 0, 0, 0, 0, 0, 0, 0, 0, 0, 0, 0, 0, 0, 0, 0, 0, 0, 0, 0, 0, 0, 0, 0, 0, 0, 0, 0, 0, 0, 0, 0, 0, 0, 0, 0, 0, 0, 0, 0, 0, 0, 0, 0, 0, 0, 0, 0, 0, 0, 0, 0, 0, 0, 0, 0, 0, 0, 0, 0, 0]\n",
      "---Target audio features: [0, 17, 0, 0, 0, 8, 25, 25, 5, 0, 0, 4, 4, 6, 11, 5, 4, 4, 23, 11, 0, 0, 0, 8, 0, 0, 9, 0, 5, 0, 4, 4, 0, 14, 0, 0, 0, 0, 0, 8, 18, 0, 9, 9, 0, 4, 4, 4, 4, 0, 0, 0, 0, 0, 0, 0, 0, 0, 0, 0, 0, 0, 0, 0, 0, 0, 0, 0, 0, 0, 0, 0, 0, 0, 0, 0, 0, 0, 0, 0, 0, 0, 0, 0, 0, 0, 0, 0, 0, 0, 0, 0, 0, 0, 0, 0, 0, 0, 0, 0, 0, 0, 0, 0, 0, 0, 0, 0, 0, 0, 0, 0, 0, 0, 0, 0, 0, 0, 0, 0, 0, 0, 0, 0, 0, 0, 0, 0, 0, 0, 0, 0, 0, 0, 0, 0, 0, 0, 0, 0, 0, 0, 0, 0, 0, 0, 0, 0, 0, 0]\n",
      "Euclidean distance: 61.1310068623117\n"
     ]
    },
    {
     "name": "stdout",
     "output_type": "stream",
     "text": [
      "1/1 [==============================] - 0s 12ms/step\n",
      "-SAMPLE N. 64\n",
      "Predicted audio features: [0, 0, 0, 0, 0, 0, 0, 0, 0, 0, 0, 6, 11, 0, 10, 12, 12, 0, 4, 0, 0, 10, 12, 12, 4, 4, 7, 4, 0, 23, 11, 11, 0, 0, 8, 0, 0, 9, 5, 0, 4, 4, 4, 0, 0, 0, 0, 0, 0, 0, 0, 0, 0, 0, 0, 0, 0, 0, 0, 0, 0, 0, 0, 0, 0, 0, 0, 0, 0, 0, 0, 0, 0, 0, 0, 0, 0, 0, 0, 0, 0, 0, 0, 0, 0, 0, 0, 0, 0, 0, 0, 0, 0, 0, 0, 0, 0, 0, 0, 0, 0, 0, 0, 0, 0, 0, 0, 0, 0, 0, 0, 0, 0, 0, 0, 0, 0, 0, 0, 0, 0, 0, 0, 0, 0, 0, 0, 0, 0, 0, 0, 0, 0, 0, 0, 0, 0, 0, 0, 0, 0, 0, 0, 0, 0, 0, 0, 0, 0, 0]\n",
      "---Target audio features: [0, 13, 13, 0, 0, 8, 0, 0, 0, 6, 0, 0, 0, 7, 0, 0, 6, 5, 0, 4, 4, 6, 11, 5, 5, 4, 4, 23, 11, 11, 0, 0, 0, 0, 8, 0, 0, 0, 9, 5, 0, 4, 4, 0, 0, 0, 0, 0, 0, 0, 0, 0, 0, 0, 0, 0, 0, 0, 0, 0, 0, 0, 0, 0, 0, 0, 0, 0, 0, 0, 0, 0, 0, 0, 0, 0, 0, 0, 0, 0, 0, 0, 0, 0, 0, 0, 0, 0, 0, 0, 0, 0, 0, 0, 0, 0, 0, 0, 0, 0, 0, 0, 0, 0, 0, 0, 0, 0, 0, 0, 0, 0, 0, 0, 0, 0, 0, 0, 0, 0, 0, 0, 0, 0, 0, 0, 0, 0, 0, 0, 0, 0, 0, 0, 0, 0, 0, 0, 0, 0, 0, 0, 0, 0, 0, 0, 0, 0, 0, 0]\n",
      "Euclidean distance: 45.59605246071199\n",
      "1/1 [==============================] - 0s 12ms/step\n",
      "-SAMPLE N. 65\n",
      "Predicted audio features: [0, 0, 0, 0, 0, 0, 0, 0, 0, 0, 0, 0, 0, 0, 6, 0, 11, 0, 0, 0, 0, 10, 0, 12, 0, 0, 0, 4, 0, 0, 0, 0, 0, 10, 0, 12, 0, 0, 4, 4, 4, 4, 0, 0, 7, 4, 4, 0, 0, 12, 12, 0, 0, 0, 0, 23, 0, 0, 8, 0, 0, 0, 0, 0, 0, 0, 8, 0, 0, 0, 9, 9, 0, 0, 0, 4, 4, 4, 4, 4, 0, 0, 0, 0, 0, 0, 0, 0, 0, 0, 0, 0, 0, 0, 0, 0, 0, 0, 0, 0, 0, 0, 0, 0, 0, 0, 0, 0, 0, 0, 0, 0, 0, 0, 0, 0, 0, 0, 0, 0, 0, 0, 0, 0, 0, 0, 0, 0, 0, 0, 0, 0, 0, 0, 0, 0, 0, 0, 0, 0, 0, 0, 0, 0, 0, 0, 0, 0, 0, 0]\n",
      "---Target audio features: [0, 17, 17, 0, 0, 0, 8, 0, 25, 5, 5, 12, 0, 4, 4, 6, 11, 0, 5, 4, 4, 0, 23, 11, 0, 0, 8, 0, 9, 0, 5, 0, 4, 4, 6, 6, 8, 0, 0, 4, 4, 6, 11, 5, 4, 4, 0, 0, 15, 0, 0, 0, 0, 5, 0, 20, 0, 0, 0, 6, 0, 4, 4, 0, 0, 0, 0, 0, 0, 0, 0, 0, 0, 0, 0, 0, 0, 0, 0, 0, 0, 0, 0, 0, 0, 0, 0, 0, 0, 0, 0, 0, 0, 0, 0, 0, 0, 0, 0, 0, 0, 0, 0, 0, 0, 0, 0, 0, 0, 0, 0, 0, 0, 0, 0, 0, 0, 0, 0, 0, 0, 0, 0, 0, 0, 0, 0, 0, 0, 0, 0, 0, 0, 0, 0, 0, 0, 0, 0, 0, 0, 0, 0, 0, 0, 0, 0, 0, 0, 0]\n",
      "Euclidean distance: 61.26989472816156\n",
      "1/1 [==============================] - 0s 14ms/step\n",
      "-SAMPLE N. 66\n",
      "Predicted audio features: [0, 0, 0, 0, 0, 0, 0, 0, 0, 0, 0, 0, 6, 11, 11, 0, 0, 10, 0, 12, 0, 0, 4, 0, 0, 10, 0, 12, 0, 4, 4, 4, 7, 4, 4, 4, 12, 12, 0, 0, 23, 8, 8, 0, 0, 0, 0, 8, 9, 9, 0, 0, 4, 4, 4, 4, 0, 0, 0, 0, 0, 0, 0, 0, 0, 0, 0, 0, 0, 0, 0, 0, 0, 0, 0, 0, 0, 0, 0, 0, 0, 0, 0, 0, 0, 0, 0, 0, 0, 0, 0, 0, 0, 0, 0, 0, 0, 0, 0, 0, 0, 0, 0, 0, 0, 0, 0, 0, 0, 0, 0, 0, 0, 0, 0, 0, 0, 0, 0, 0, 0, 0, 0, 0, 0, 0, 0, 0, 0, 0, 0, 0, 0, 0, 0, 0, 0, 0, 0, 0, 0, 0, 0, 0, 0, 0, 0, 0, 0, 0]\n",
      "---Target audio features: [0, 0, 15, 0, 0, 0, 0, 8, 0, 12, 0, 5, 0, 4, 4, 6, 11, 5, 0, 4, 0, 23, 11, 0, 0, 0, 8, 0, 0, 9, 5, 0, 4, 4, 6, 0, 8, 4, 4, 4, 6, 11, 5, 4, 4, 13, 13, 0, 0, 0, 10, 21, 21, 11, 6, 6, 0, 4, 0, 0, 0, 0, 0, 0, 0, 0, 0, 0, 0, 0, 0, 0, 0, 0, 0, 0, 0, 0, 0, 0, 0, 0, 0, 0, 0, 0, 0, 0, 0, 0, 0, 0, 0, 0, 0, 0, 0, 0, 0, 0, 0, 0, 0, 0, 0, 0, 0, 0, 0, 0, 0, 0, 0, 0, 0, 0, 0, 0, 0, 0, 0, 0, 0, 0, 0, 0, 0, 0, 0, 0, 0, 0, 0, 0, 0, 0, 0, 0, 0, 0, 0, 0, 0, 0, 0, 0, 0, 0, 0, 0]\n",
      "Euclidean distance: 60.93439094632849\n",
      "1/1 [==============================] - 0s 12ms/step\n",
      "-SAMPLE N. 67\n",
      "Predicted audio features: [0, 0, 0, 0, 0, 0, 0, 0, 0, 0, 0, 0, 0, 0, 0, 0, 0, 6, 11, 0, 0, 0, 0, 10, 0, 12, 0, 0, 4, 4, 0, 0, 0, 0, 10, 0, 12, 12, 0, 4, 4, 4, 4, 4, 7, 4, 4, 0, 0, 12, 12, 0, 0, 0, 0, 0, 23, 0, 0, 8, 8, 0, 0, 0, 0, 0, 0, 8, 0, 9, 9, 0, 0, 0, 4, 4, 4, 4, 0, 0, 0, 0, 0, 0, 0, 0, 0, 0, 0, 0, 0, 0, 0, 0, 0, 0, 0, 0, 0, 0, 0, 0, 0, 0, 0, 0, 0, 0, 0, 0, 0, 0, 0, 0, 0, 0, 0, 0, 0, 0, 0, 0, 0, 0, 0, 0, 0, 0, 0, 0, 0, 0, 0, 0, 0, 0, 0, 0, 0, 0, 0, 0, 0, 0, 0, 0, 0, 0, 0, 0]\n",
      "---Target audio features: [0, 0, 0, 0, 17, 0, 0, 0, 0, 16, 0, 25, 5, 0, 0, 0, 0, 0, 0, 5, 0, 0, 0, 23, 11, 0, 0, 8, 0, 0, 0, 9, 5, 0, 4, 0, 0, 16, 0, 0, 23, 0, 4, 4, 0, 0, 0, 0, 0, 0, 0, 0, 0, 0, 0, 0, 0, 0, 0, 0, 0, 0, 0, 0, 0, 0, 0, 0, 0, 0, 0, 0, 0, 0, 0, 0, 0, 0, 0, 0, 0, 0, 0, 0, 0, 0, 0, 0, 0, 0, 0, 0, 0, 0, 0, 0, 0, 0, 0, 0, 0, 0, 0, 0, 0, 0, 0, 0, 0, 0, 0, 0, 0, 0, 0, 0, 0, 0, 0, 0, 0, 0, 0, 0, 0, 0, 0, 0, 0, 0, 0, 0, 0, 0, 0, 0, 0, 0, 0, 0, 0, 0, 0, 0, 0, 0, 0, 0, 0, 0]\n",
      "Euclidean distance: 62.5939294181153\n",
      "1/1 [==============================] - 0s 12ms/step\n",
      "-SAMPLE N. 68\n",
      "Predicted audio features: [0, 0, 0, 0, 0, 0, 0, 0, 0, 0, 0, 0, 6, 11, 11, 0, 0, 10, 0, 12, 0, 0, 4, 0, 0, 10, 0, 12, 0, 4, 4, 4, 7, 4, 4, 4, 12, 12, 0, 0, 23, 8, 8, 0, 0, 0, 0, 8, 9, 9, 0, 0, 4, 4, 4, 4, 0, 0, 0, 0, 0, 0, 0, 0, 0, 0, 0, 0, 0, 0, 0, 0, 0, 0, 0, 0, 0, 0, 0, 0, 0, 0, 0, 0, 0, 0, 0, 0, 0, 0, 0, 0, 0, 0, 0, 0, 0, 0, 0, 0, 0, 0, 0, 0, 0, 0, 0, 0, 0, 0, 0, 0, 0, 0, 0, 0, 0, 0, 0, 0, 0, 0, 0, 0, 0, 0, 0, 0, 0, 0, 0, 0, 0, 0, 0, 0, 0, 0, 0, 0, 0, 0, 0, 0, 0, 0, 0, 0, 0, 0]\n",
      "---Target audio features: [0, 0, 0, 17, 0, 0, 0, 0, 0, 8, 0, 25, 5, 0, 12, 4, 0, 6, 11, 5, 0, 4, 0, 23, 11, 0, 0, 8, 0, 0, 0, 9, 0, 5, 0, 4, 4, 14, 0, 0, 0, 0, 8, 18, 0, 0, 9, 0, 4, 4, 4, 4, 0, 0, 0, 0, 0, 0, 0, 0, 0, 0, 0, 0, 0, 0, 0, 0, 0, 0, 0, 0, 0, 0, 0, 0, 0, 0, 0, 0, 0, 0, 0, 0, 0, 0, 0, 0, 0, 0, 0, 0, 0, 0, 0, 0, 0, 0, 0, 0, 0, 0, 0, 0, 0, 0, 0, 0, 0, 0, 0, 0, 0, 0, 0, 0, 0, 0, 0, 0, 0, 0, 0, 0, 0, 0, 0, 0, 0, 0, 0, 0, 0, 0, 0, 0, 0, 0, 0, 0, 0, 0, 0, 0, 0, 0, 0, 0, 0, 0]\n",
      "Euclidean distance: 59.16079783099616\n",
      "1/1 [==============================] - 0s 12ms/step\n",
      "-SAMPLE N. 69\n",
      "Predicted audio features: [0, 0, 0, 0, 0, 0, 0, 0, 0, 0, 0, 0, 6, 11, 11, 0, 0, 10, 0, 12, 0, 4, 4, 0, 0, 10, 0, 12, 0, 4, 4, 4, 7, 4, 4, 23, 11, 11, 0, 0, 0, 0, 8, 8, 0, 0, 0, 9, 0, 5, 4, 4, 4, 4, 0, 0, 0, 0, 0, 0, 0, 0, 0, 0, 0, 0, 0, 0, 0, 0, 0, 0, 0, 0, 0, 0, 0, 0, 0, 0, 0, 0, 0, 0, 0, 0, 0, 0, 0, 0, 0, 0, 0, 0, 0, 0, 0, 0, 0, 0, 0, 0, 0, 0, 0, 0, 0, 0, 0, 0, 0, 0, 0, 0, 0, 0, 0, 0, 0, 0, 0, 0, 0, 0, 0, 0, 0, 0, 0, 0, 0, 0, 0, 0, 0, 0, 0, 0, 0, 0, 0, 0, 0, 0, 0, 0, 0, 0, 0, 0]\n",
      "---Target audio features: [0, 0, 0, 13, 13, 0, 0, 8, 0, 0, 0, 0, 6, 0, 0, 0, 5, 0, 0, 0, 6, 5, 0, 4, 6, 0, 0, 5, 0, 0, 23, 11, 11, 0, 0, 0, 8, 0, 0, 9, 0, 0, 5, 4, 4, 0, 0, 0, 0, 0, 0, 0, 0, 0, 0, 0, 0, 0, 0, 0, 0, 0, 0, 0, 0, 0, 0, 0, 0, 0, 0, 0, 0, 0, 0, 0, 0, 0, 0, 0, 0, 0, 0, 0, 0, 0, 0, 0, 0, 0, 0, 0, 0, 0, 0, 0, 0, 0, 0, 0, 0, 0, 0, 0, 0, 0, 0, 0, 0, 0, 0, 0, 0, 0, 0, 0, 0, 0, 0, 0, 0, 0, 0, 0, 0, 0, 0, 0, 0, 0, 0, 0, 0, 0, 0, 0, 0, 0, 0, 0, 0, 0, 0, 0, 0, 0, 0, 0, 0, 0]\n",
      "Euclidean distance: 50.91168824543142\n",
      "1/1 [==============================] - 0s 12ms/step\n",
      "-SAMPLE N. 70\n",
      "Predicted audio features: [0, 0, 0, 0, 0, 0, 0, 0, 0, 0, 0, 0, 6, 11, 0, 0, 10, 0, 12, 0, 0, 4, 4, 0, 0, 0, 10, 0, 12, 0, 0, 4, 4, 4, 0, 0, 7, 4, 4, 0, 0, 23, 0, 11, 0, 0, 0, 0, 0, 0, 0, 0, 7, 18, 0, 0, 0, 9, 9, 0, 0, 4, 4, 4, 4, 0, 0, 0, 0, 0, 0, 0, 0, 0, 0, 0, 0, 0, 0, 0, 0, 0, 0, 0, 0, 0, 0, 0, 0, 0, 0, 0, 0, 0, 0, 0, 0, 0, 0, 0, 0, 0, 0, 0, 0, 0, 0, 0, 0, 0, 0, 0, 0, 0, 0, 0, 0, 0, 0, 0, 0, 0, 0, 0, 0, 0, 0, 0, 0, 0, 0, 0, 0, 0, 0, 0, 0, 0, 0, 0, 0, 0, 0, 0, 0, 0, 0, 0, 0, 0]\n",
      "---Target audio features: [17, 0, 0, 8, 0, 25, 0, 5, 14, 4, 4, 6, 11, 5, 4, 4, 23, 11, 11, 0, 8, 0, 0, 9, 0, 5, 0, 4, 0, 6, 0, 8, 0, 4, 4, 6, 11, 5, 4, 4, 15, 0, 0, 0, 5, 5, 20, 20, 0, 0, 6, 0, 4, 4, 4, 0, 0, 0, 0, 0, 0, 0, 0, 0, 0, 0, 0, 0, 0, 0, 0, 0, 0, 0, 0, 0, 0, 0, 0, 0, 0, 0, 0, 0, 0, 0, 0, 0, 0, 0, 0, 0, 0, 0, 0, 0, 0, 0, 0, 0, 0, 0, 0, 0, 0, 0, 0, 0, 0, 0, 0, 0, 0, 0, 0, 0, 0, 0, 0, 0, 0, 0, 0, 0, 0, 0, 0, 0, 0, 0, 0, 0, 0, 0, 0, 0, 0, 0, 0, 0, 0, 0, 0, 0, 0, 0, 0, 0, 0, 0]\n",
      "Euclidean distance: 66.88796603276258\n",
      "1/1 [==============================] - 0s 12ms/step\n",
      "-SAMPLE N. 71\n",
      "Predicted audio features: [0, 0, 0, 0, 0, 0, 0, 0, 0, 0, 0, 0, 6, 11, 0, 0, 10, 0, 12, 0, 0, 4, 4, 0, 0, 0, 10, 0, 12, 0, 4, 4, 4, 4, 4, 0, 7, 4, 4, 0, 12, 12, 0, 0, 0, 0, 0, 23, 0, 8, 0, 0, 0, 0, 0, 0, 8, 8, 0, 0, 0, 0, 9, 9, 0, 4, 4, 4, 4, 4, 4, 0, 0, 0, 0, 0, 0, 0, 0, 0, 0, 0, 0, 0, 0, 0, 0, 0, 0, 0, 0, 0, 0, 0, 0, 0, 0, 0, 0, 0, 0, 0, 0, 0, 0, 0, 0, 0, 0, 0, 0, 0, 0, 0, 0, 0, 0, 0, 0, 0, 0, 0, 0, 0, 0, 0, 0, 0, 0, 0, 0, 0, 0, 0, 0, 0, 0, 0, 0, 0, 0, 0, 0, 0, 0, 0, 0, 0, 0, 0]\n",
      "---Target audio features: [17, 0, 0, 8, 25, 0, 5, 0, 14, 4, 6, 11, 5, 4, 4, 23, 11, 11, 0, 8, 0, 0, 0, 9, 5, 5, 4, 4, 6, 0, 8, 0, 4, 4, 6, 11, 5, 4, 4, 0, 13, 0, 0, 0, 10, 10, 21, 11, 11, 6, 6, 4, 4, 4, 4, 0, 0, 0, 0, 0, 0, 0, 0, 0, 0, 0, 0, 0, 0, 0, 0, 0, 0, 0, 0, 0, 0, 0, 0, 0, 0, 0, 0, 0, 0, 0, 0, 0, 0, 0, 0, 0, 0, 0, 0, 0, 0, 0, 0, 0, 0, 0, 0, 0, 0, 0, 0, 0, 0, 0, 0, 0, 0, 0, 0, 0, 0, 0, 0, 0, 0, 0, 0, 0, 0, 0, 0, 0, 0, 0, 0, 0, 0, 0, 0, 0, 0, 0, 0, 0, 0, 0, 0, 0, 0, 0, 0, 0, 0, 0]\n",
      "Euclidean distance: 65.19202405202648\n"
     ]
    },
    {
     "name": "stdout",
     "output_type": "stream",
     "text": [
      "1/1 [==============================] - 0s 14ms/step\n",
      "-SAMPLE N. 72\n",
      "Predicted audio features: [0, 0, 10, 12, 0, 4, 4, 0, 10, 12, 12, 4, 4, 7, 4, 4, 20, 0, 0, 0, 0, 7, 13, 0, 17, 0, 4, 4, 0, 0, 0, 0, 0, 0, 0, 0, 0, 0, 0, 0, 0, 0, 0, 0, 0, 0, 0, 0, 0, 0, 0, 0, 0, 0, 0, 0, 0, 0, 0, 0, 0, 0, 0, 0, 0, 0, 0, 0, 0, 0, 0, 0, 0, 0, 0, 0, 0, 0, 0, 0, 0, 0, 0, 0, 0, 0, 0, 0, 0, 0, 0, 0, 0, 0, 0, 0, 0, 0, 0, 0, 0, 0, 0, 0, 0, 0, 0, 0, 0, 0, 0, 0, 0, 0, 0, 0, 0, 0, 0, 0, 0, 0, 0, 0, 0, 0, 0, 0, 0, 0, 0, 0, 0, 0, 0, 0, 0, 0, 0, 0, 0, 0, 0, 0, 0, 0, 0, 0, 0, 0]\n",
      "---Target audio features: [8, 0, 0, 8, 0, 25, 0, 0, 0, 4, 6, 11, 5, 4, 4, 23, 11, 0, 0, 8, 0, 0, 0, 0, 9, 0, 0, 4, 0, 0, 16, 0, 23, 0, 0, 4, 0, 0, 0, 0, 0, 0, 0, 0, 0, 0, 0, 0, 0, 0, 0, 0, 0, 0, 0, 0, 0, 0, 0, 0, 0, 0, 0, 0, 0, 0, 0, 0, 0, 0, 0, 0, 0, 0, 0, 0, 0, 0, 0, 0, 0, 0, 0, 0, 0, 0, 0, 0, 0, 0, 0, 0, 0, 0, 0, 0, 0, 0, 0, 0, 0, 0, 0, 0, 0, 0, 0, 0, 0, 0, 0, 0, 0, 0, 0, 0, 0, 0, 0, 0, 0, 0, 0, 0, 0, 0, 0, 0, 0, 0, 0, 0, 0, 0, 0, 0, 0, 0, 0, 0, 0, 0, 0, 0, 0, 0, 0, 0, 0, 0]\n",
      "Euclidean distance: 50.00999900019995\n",
      "1/1 [==============================] - 0s 12ms/step\n",
      "-SAMPLE N. 73\n",
      "Predicted audio features: [0, 0, 0, 0, 0, 0, 0, 0, 0, 0, 0, 6, 11, 0, 10, 12, 12, 0, 4, 0, 0, 10, 12, 12, 4, 4, 7, 4, 0, 23, 11, 11, 0, 0, 8, 0, 0, 9, 5, 0, 4, 4, 4, 0, 0, 0, 0, 0, 0, 0, 0, 0, 0, 0, 0, 0, 0, 0, 0, 0, 0, 0, 0, 0, 0, 0, 0, 0, 0, 0, 0, 0, 0, 0, 0, 0, 0, 0, 0, 0, 0, 0, 0, 0, 0, 0, 0, 0, 0, 0, 0, 0, 0, 0, 0, 0, 0, 0, 0, 0, 0, 0, 0, 0, 0, 0, 0, 0, 0, 0, 0, 0, 0, 0, 0, 0, 0, 0, 0, 0, 0, 0, 0, 0, 0, 0, 0, 0, 0, 0, 0, 0, 0, 0, 0, 0, 0, 0, 0, 0, 0, 0, 0, 0, 0, 0, 0, 0, 0, 0]\n",
      "---Target audio features: [0, 0, 0, 8, 0, 25, 0, 5, 0, 4, 4, 6, 11, 5, 4, 20, 0, 0, 0, 7, 15, 0, 0, 0, 17, 0, 0, 4, 4, 14, 0, 0, 0, 0, 0, 8, 18, 0, 9, 9, 0, 4, 4, 4, 4, 0, 0, 0, 0, 0, 0, 0, 0, 0, 0, 0, 0, 0, 0, 0, 0, 0, 0, 0, 0, 0, 0, 0, 0, 0, 0, 0, 0, 0, 0, 0, 0, 0, 0, 0, 0, 0, 0, 0, 0, 0, 0, 0, 0, 0, 0, 0, 0, 0, 0, 0, 0, 0, 0, 0, 0, 0, 0, 0, 0, 0, 0, 0, 0, 0, 0, 0, 0, 0, 0, 0, 0, 0, 0, 0, 0, 0, 0, 0, 0, 0, 0, 0, 0, 0, 0, 0, 0, 0, 0, 0, 0, 0, 0, 0, 0, 0, 0, 0, 0, 0, 0, 0, 0, 0]\n",
      "Euclidean distance: 54.258639865002145\n",
      "1/1 [==============================] - 0s 12ms/step\n",
      "-SAMPLE N. 74\n",
      "Predicted audio features: [0, 0, 10, 12, 0, 4, 4, 0, 10, 12, 12, 4, 4, 7, 4, 4, 12, 12, 0, 23, 8, 8, 0, 0, 8, 0, 9, 0, 0, 4, 4, 4, 0, 0, 0, 0, 0, 0, 0, 0, 0, 0, 0, 0, 0, 0, 0, 0, 0, 0, 0, 0, 0, 0, 0, 0, 0, 0, 0, 0, 0, 0, 0, 0, 0, 0, 0, 0, 0, 0, 0, 0, 0, 0, 0, 0, 0, 0, 0, 0, 0, 0, 0, 0, 0, 0, 0, 0, 0, 0, 0, 0, 0, 0, 0, 0, 0, 0, 0, 0, 0, 0, 0, 0, 0, 0, 0, 0, 0, 0, 0, 0, 0, 0, 0, 0, 0, 0, 0, 0, 0, 0, 0, 0, 0, 0, 0, 0, 0, 0, 0, 0, 0, 0, 0, 0, 0, 0, 0, 0, 0, 0, 0, 0, 0, 0, 0, 0, 0, 0]\n",
      "---Target audio features: [13, 13, 0, 8, 16, 0, 0, 0, 0, 6, 0, 0, 0, 7, 0, 26, 0, 5, 4, 4, 0, 6, 11, 5, 4, 4, 23, 11, 11, 0, 0, 0, 0, 8, 0, 0, 9, 0, 5, 4, 4, 4, 0, 0, 0, 0, 0, 0, 0, 0, 0, 0, 0, 0, 0, 0, 0, 0, 0, 0, 0, 0, 0, 0, 0, 0, 0, 0, 0, 0, 0, 0, 0, 0, 0, 0, 0, 0, 0, 0, 0, 0, 0, 0, 0, 0, 0, 0, 0, 0, 0, 0, 0, 0, 0, 0, 0, 0, 0, 0, 0, 0, 0, 0, 0, 0, 0, 0, 0, 0, 0, 0, 0, 0, 0, 0, 0, 0, 0, 0, 0, 0, 0, 0, 0, 0, 0, 0, 0, 0, 0, 0, 0, 0, 0, 0, 0, 0, 0, 0, 0, 0, 0, 0, 0, 0, 0, 0, 0, 0]\n",
      "Euclidean distance: 55.44366510251645\n",
      "1/1 [==============================] - 0s 12ms/step\n",
      "-SAMPLE N. 75\n",
      "Predicted audio features: [0, 0, 0, 0, 0, 6, 11, 0, 0, 0, 0, 10, 0, 12, 0, 0, 4, 4, 0, 0, 0, 0, 10, 0, 12, 0, 4, 4, 4, 4, 0, 0, 7, 4, 4, 0, 0, 23, 11, 11, 0, 0, 0, 0, 0, 0, 0, 0, 8, 0, 0, 0, 9, 0, 5, 0, 4, 4, 4, 0, 0, 0, 0, 0, 0, 0, 0, 0, 0, 0, 0, 0, 0, 0, 0, 0, 0, 0, 0, 0, 0, 0, 0, 0, 0, 0, 0, 0, 0, 0, 0, 0, 0, 0, 0, 0, 0, 0, 0, 0, 0, 0, 0, 0, 0, 0, 0, 0, 0, 0, 0, 0, 0, 0, 0, 0, 0, 0, 0, 0, 0, 0, 0, 0, 0, 0, 0, 0, 0, 0, 0, 0, 0, 0, 0, 0, 0, 0, 0, 0, 0, 0, 0, 0, 0, 0, 0, 0, 0, 0]\n",
      "---Target audio features: [0, 0, 0, 17, 0, 0, 0, 0, 8, 0, 0, 25, 5, 5, 0, 4, 4, 6, 11, 5, 4, 4, 4, 0, 23, 11, 0, 0, 0, 0, 8, 8, 0, 0, 9, 5, 5, 0, 4, 4, 0, 6, 0, 8, 0, 4, 4, 6, 11, 5, 4, 0, 15, 15, 0, 0, 0, 0, 5, 0, 20, 20, 0, 0, 6, 0, 0, 0, 0, 0, 0, 0, 0, 0, 0, 0, 0, 0, 0, 0, 0, 0, 0, 0, 0, 0, 0, 0, 0, 0, 0, 0, 0, 0, 0, 0, 0, 0, 0, 0, 0, 0, 0, 0, 0, 0, 0, 0, 0, 0, 0, 0, 0, 0, 0, 0, 0, 0, 0, 0, 0, 0, 0, 0, 0, 0, 0, 0, 0, 0, 0, 0, 0, 0, 0, 0, 0, 0, 0, 0, 0, 0, 0, 0, 0, 0, 0, 0, 0, 0]\n",
      "Euclidean distance: 60.14149981501958\n",
      "1/1 [==============================] - 0s 12ms/step\n",
      "-SAMPLE N. 76\n",
      "Predicted audio features: [0, 0, 0, 0, 0, 0, 0, 0, 0, 0, 0, 6, 11, 0, 10, 12, 12, 0, 4, 0, 0, 10, 12, 12, 4, 4, 7, 4, 0, 23, 11, 11, 0, 0, 8, 0, 0, 9, 5, 0, 4, 4, 4, 0, 0, 0, 0, 0, 0, 0, 0, 0, 0, 0, 0, 0, 0, 0, 0, 0, 0, 0, 0, 0, 0, 0, 0, 0, 0, 0, 0, 0, 0, 0, 0, 0, 0, 0, 0, 0, 0, 0, 0, 0, 0, 0, 0, 0, 0, 0, 0, 0, 0, 0, 0, 0, 0, 0, 0, 0, 0, 0, 0, 0, 0, 0, 0, 0, 0, 0, 0, 0, 0, 0, 0, 0, 0, 0, 0, 0, 0, 0, 0, 0, 0, 0, 0, 0, 0, 0, 0, 0, 0, 0, 0, 0, 0, 0, 0, 0, 0, 0, 0, 0, 0, 0, 0, 0, 0, 0]\n",
      "---Target audio features: [0, 0, 0, 17, 0, 0, 0, 8, 8, 0, 25, 5, 5, 0, 4, 4, 6, 11, 0, 5, 4, 4, 0, 23, 11, 11, 0, 0, 0, 0, 8, 0, 0, 9, 5, 5, 4, 4, 4, 0, 6, 0, 8, 0, 0, 4, 4, 6, 11, 5, 4, 4, 0, 13, 0, 0, 10, 10, 21, 0, 11, 6, 6, 0, 4, 4, 0, 0, 0, 0, 0, 0, 0, 0, 0, 0, 0, 0, 0, 0, 0, 0, 0, 0, 0, 0, 0, 0, 0, 0, 0, 0, 0, 0, 0, 0, 0, 0, 0, 0, 0, 0, 0, 0, 0, 0, 0, 0, 0, 0, 0, 0, 0, 0, 0, 0, 0, 0, 0, 0, 0, 0, 0, 0, 0, 0, 0, 0, 0, 0, 0, 0, 0, 0, 0, 0, 0, 0, 0, 0, 0, 0, 0, 0, 0, 0, 0, 0, 0, 0]\n",
      "Euclidean distance: 63.166446789415026\n",
      "1/1 [==============================] - 0s 13ms/step\n",
      "-SAMPLE N. 77\n",
      "Predicted audio features: [0, 0, 0, 0, 0, 0, 0, 0, 0, 0, 0, 0, 0, 0, 6, 0, 11, 0, 0, 0, 0, 10, 0, 12, 0, 0, 4, 4, 0, 0, 0, 0, 10, 12, 12, 0, 4, 4, 4, 0, 0, 0, 7, 0, 4, 0, 0, 0, 23, 11, 11, 0, 0, 0, 0, 0, 0, 0, 0, 0, 8, 8, 0, 0, 0, 9, 0, 5, 5, 0, 4, 4, 4, 4, 4, 0, 0, 0, 0, 0, 0, 0, 0, 0, 0, 0, 0, 0, 0, 0, 0, 0, 0, 0, 0, 0, 0, 0, 0, 0, 0, 0, 0, 0, 0, 0, 0, 0, 0, 0, 0, 0, 0, 0, 0, 0, 0, 0, 0, 0, 0, 0, 0, 0, 0, 0, 0, 0, 0, 0, 0, 0, 0, 0, 0, 0, 0, 0, 0, 0, 0, 0, 0, 0, 0, 0, 0, 0, 0, 0]\n",
      "---Target audio features: [0, 0, 0, 17, 0, 0, 0, 0, 8, 0, 25, 0, 5, 5, 0, 4, 6, 6, 11, 5, 4, 0, 23, 11, 11, 0, 0, 0, 8, 0, 0, 0, 9, 0, 0, 7, 0, 4, 4, 4, 0, 0, 0, 0, 0, 0, 0, 0, 0, 0, 0, 0, 0, 0, 0, 0, 0, 0, 0, 0, 0, 0, 0, 0, 0, 0, 0, 0, 0, 0, 0, 0, 0, 0, 0, 0, 0, 0, 0, 0, 0, 0, 0, 0, 0, 0, 0, 0, 0, 0, 0, 0, 0, 0, 0, 0, 0, 0, 0, 0, 0, 0, 0, 0, 0, 0, 0, 0, 0, 0, 0, 0, 0, 0, 0, 0, 0, 0, 0, 0, 0, 0, 0, 0, 0, 0, 0, 0, 0, 0, 0, 0, 0, 0, 0, 0, 0, 0, 0, 0, 0, 0, 0, 0, 0, 0, 0, 0, 0, 0]\n",
      "Euclidean distance: 60.78651166171653\n",
      "1/1 [==============================] - 0s 14ms/step\n",
      "-SAMPLE N. 78\n",
      "Predicted audio features: [0, 0, 0, 0, 0, 0, 0, 0, 0, 0, 0, 6, 11, 0, 10, 12, 12, 0, 4, 0, 0, 10, 12, 12, 4, 4, 7, 4, 0, 23, 11, 11, 0, 0, 8, 0, 0, 9, 5, 0, 4, 4, 4, 0, 0, 0, 0, 0, 0, 0, 0, 0, 0, 0, 0, 0, 0, 0, 0, 0, 0, 0, 0, 0, 0, 0, 0, 0, 0, 0, 0, 0, 0, 0, 0, 0, 0, 0, 0, 0, 0, 0, 0, 0, 0, 0, 0, 0, 0, 0, 0, 0, 0, 0, 0, 0, 0, 0, 0, 0, 0, 0, 0, 0, 0, 0, 0, 0, 0, 0, 0, 0, 0, 0, 0, 0, 0, 0, 0, 0, 0, 0, 0, 0, 0, 0, 0, 0, 0, 0, 0, 0, 0, 0, 0, 0, 0, 0, 0, 0, 0, 0, 0, 0, 0, 0, 0, 0, 0, 0]\n",
      "---Target audio features: [0, 0, 0, 17, 0, 0, 0, 0, 8, 0, 25, 0, 5, 0, 4, 4, 4, 6, 11, 5, 4, 4, 20, 0, 0, 0, 0, 8, 0, 0, 0, 9, 0, 5, 0, 4, 0, 14, 0, 0, 0, 0, 8, 18, 18, 9, 9, 4, 4, 4, 4, 0, 0, 0, 0, 0, 0, 0, 0, 0, 0, 0, 0, 0, 0, 0, 0, 0, 0, 0, 0, 0, 0, 0, 0, 0, 0, 0, 0, 0, 0, 0, 0, 0, 0, 0, 0, 0, 0, 0, 0, 0, 0, 0, 0, 0, 0, 0, 0, 0, 0, 0, 0, 0, 0, 0, 0, 0, 0, 0, 0, 0, 0, 0, 0, 0, 0, 0, 0, 0, 0, 0, 0, 0, 0, 0, 0, 0, 0, 0, 0, 0, 0, 0, 0, 0, 0, 0, 0, 0, 0, 0, 0, 0, 0, 0, 0, 0, 0, 0]\n",
      "Euclidean distance: 58.412327466040935\n",
      "1/1 [==============================] - 0s 12ms/step\n",
      "-SAMPLE N. 79\n",
      "Predicted audio features: [0, 0, 0, 0, 0, 0, 0, 0, 0, 0, 0, 0, 0, 0, 0, 0, 6, 11, 0, 0, 0, 0, 0, 10, 0, 0, 12, 0, 0, 4, 4, 0, 0, 0, 0, 0, 10, 12, 12, 0, 4, 4, 4, 4, 0, 7, 0, 4, 0, 0, 0, 0, 0, 20, 0, 0, 0, 0, 0, 0, 0, 0, 0, 0, 0, 0, 0, 8, 18, 0, 0, 0, 0, 9, 9, 0, 0, 0, 0, 4, 4, 4, 4, 0, 0, 0, 0, 0, 0, 0, 0, 0, 0, 0, 0, 0, 0, 0, 0, 0, 0, 0, 0, 0, 0, 0, 0, 0, 0, 0, 0, 0, 0, 0, 0, 0, 0, 0, 0, 0, 0, 0, 0, 0, 0, 0, 0, 0, 0, 0, 0, 0, 0, 0, 0, 0, 0, 0, 0, 0, 0, 0, 0, 0, 0, 0, 0, 0, 0, 0]\n",
      "---Target audio features: [0, 0, 0, 13, 0, 0, 8, 0, 0, 0, 0, 6, 0, 0, 0, 7, 7, 0, 0, 6, 5, 0, 4, 4, 0, 6, 11, 5, 4, 4, 0, 23, 11, 0, 0, 0, 0, 0, 8, 0, 0, 0, 9, 5, 5, 4, 4, 0, 0, 0, 0, 0, 0, 0, 0, 0, 0, 0, 0, 0, 0, 0, 0, 0, 0, 0, 0, 0, 0, 0, 0, 0, 0, 0, 0, 0, 0, 0, 0, 0, 0, 0, 0, 0, 0, 0, 0, 0, 0, 0, 0, 0, 0, 0, 0, 0, 0, 0, 0, 0, 0, 0, 0, 0, 0, 0, 0, 0, 0, 0, 0, 0, 0, 0, 0, 0, 0, 0, 0, 0, 0, 0, 0, 0, 0, 0, 0, 0, 0, 0, 0, 0, 0, 0, 0, 0, 0, 0, 0, 0, 0, 0, 0, 0, 0, 0, 0, 0, 0, 0]\n",
      "Euclidean distance: 51.91338940966964\n"
     ]
    },
    {
     "name": "stdout",
     "output_type": "stream",
     "text": [
      "1/1 [==============================] - 0s 12ms/step\n",
      "-SAMPLE N. 80\n",
      "Predicted audio features: [0, 0, 0, 0, 0, 0, 0, 0, 0, 0, 0, 0, 0, 0, 0, 0, 0, 6, 11, 0, 0, 0, 0, 10, 0, 12, 0, 0, 4, 4, 0, 0, 0, 0, 10, 0, 12, 12, 0, 4, 4, 4, 4, 4, 7, 4, 4, 0, 0, 12, 12, 0, 0, 0, 0, 0, 23, 0, 0, 8, 8, 0, 0, 0, 0, 0, 0, 8, 0, 9, 9, 0, 0, 0, 4, 4, 4, 4, 0, 0, 0, 0, 0, 0, 0, 0, 0, 0, 0, 0, 0, 0, 0, 0, 0, 0, 0, 0, 0, 0, 0, 0, 0, 0, 0, 0, 0, 0, 0, 0, 0, 0, 0, 0, 0, 0, 0, 0, 0, 0, 0, 0, 0, 0, 0, 0, 0, 0, 0, 0, 0, 0, 0, 0, 0, 0, 0, 0, 0, 0, 0, 0, 0, 0, 0, 0, 0, 0, 0, 0]\n",
      "---Target audio features: [0, 17, 0, 0, 0, 8, 0, 25, 0, 5, 0, 0, 4, 4, 6, 6, 11, 5, 4, 4, 0, 23, 11, 0, 0, 0, 0, 8, 0, 0, 9, 0, 5, 0, 4, 4, 0, 0, 0, 6, 6, 0, 8, 0, 0, 4, 4, 6, 11, 5, 4, 4, 0, 15, 0, 0, 0, 0, 0, 5, 20, 0, 0, 0, 6, 0, 4, 4, 0, 0, 0, 0, 0, 0, 0, 0, 0, 0, 0, 0, 0, 0, 0, 0, 0, 0, 0, 0, 0, 0, 0, 0, 0, 0, 0, 0, 0, 0, 0, 0, 0, 0, 0, 0, 0, 0, 0, 0, 0, 0, 0, 0, 0, 0, 0, 0, 0, 0, 0, 0, 0, 0, 0, 0, 0, 0, 0, 0, 0, 0, 0, 0, 0, 0, 0, 0, 0, 0, 0, 0, 0, 0, 0, 0, 0, 0, 0, 0, 0, 0]\n",
      "Euclidean distance: 65.7419196555744\n",
      "1/1 [==============================] - 0s 12ms/step\n",
      "-SAMPLE N. 81\n",
      "Predicted audio features: [0, 0, 0, 0, 0, 0, 0, 0, 0, 0, 0, 6, 11, 0, 10, 0, 12, 0, 4, 4, 0, 10, 12, 12, 4, 4, 7, 4, 0, 23, 11, 11, 0, 0, 8, 0, 0, 9, 5, 0, 4, 4, 4, 0, 0, 0, 0, 0, 0, 0, 0, 0, 0, 0, 0, 0, 0, 0, 0, 0, 0, 0, 0, 0, 0, 0, 0, 0, 0, 0, 0, 0, 0, 0, 0, 0, 0, 0, 0, 0, 0, 0, 0, 0, 0, 0, 0, 0, 0, 0, 0, 0, 0, 0, 0, 0, 0, 0, 0, 0, 0, 0, 0, 0, 0, 0, 0, 0, 0, 0, 0, 0, 0, 0, 0, 0, 0, 0, 0, 0, 0, 0, 0, 0, 0, 0, 0, 0, 0, 0, 0, 0, 0, 0, 0, 0, 0, 0, 0, 0, 0, 0, 0, 0, 0, 0, 0, 0, 0, 0]\n",
      "---Target audio features: [0, 17, 0, 0, 0, 8, 0, 25, 0, 5, 0, 4, 4, 0, 6, 11, 5, 4, 4, 0, 23, 11, 0, 0, 0, 0, 8, 0, 0, 9, 0, 5, 0, 4, 4, 0, 0, 0, 6, 0, 0, 8, 0, 4, 4, 6, 11, 5, 4, 4, 0, 13, 0, 0, 0, 10, 10, 21, 11, 11, 6, 6, 0, 4, 4, 4, 0, 0, 0, 0, 0, 0, 0, 0, 0, 0, 0, 0, 0, 0, 0, 0, 0, 0, 0, 0, 0, 0, 0, 0, 0, 0, 0, 0, 0, 0, 0, 0, 0, 0, 0, 0, 0, 0, 0, 0, 0, 0, 0, 0, 0, 0, 0, 0, 0, 0, 0, 0, 0, 0, 0, 0, 0, 0, 0, 0, 0, 0, 0, 0, 0, 0, 0, 0, 0, 0, 0, 0, 0, 0, 0, 0, 0, 0, 0, 0, 0, 0, 0, 0]\n",
      "Euclidean distance: 63.82789358893179\n",
      "1/1 [==============================] - 0s 12ms/step\n",
      "-SAMPLE N. 82\n",
      "Predicted audio features: [0, 0, 0, 0, 17, 0, 0, 0, 0, 0, 0, 0, 8, 0, 0, 6, 0, 11, 5, 0, 0, 4, 4, 6, 11, 0, 5, 0, 4, 4, 0, 0, 12, 0, 0, 0, 0, 23, 0, 8, 0, 0, 0, 0, 8, 8, 9, 9, 0, 0, 0, 4, 4, 0, 6, 6, 0, 8, 0, 0, 4, 4, 4, 6, 11, 5, 4, 4, 4, 0, 0, 15, 15, 0, 0, 0, 0, 0, 0, 0, 0, 0, 5, 0, 20, 20, 0, 0, 0, 0, 6, 6, 0, 0, 4, 4, 0, 0, 0, 0, 0, 0, 0, 0, 0, 0, 0, 0, 0, 0, 0, 0, 0, 0, 0, 0, 0, 0, 0, 0, 0, 0, 0, 0, 0, 0, 0, 0, 0, 0, 0, 0, 0, 0, 0, 0, 0, 0, 0, 0, 0, 0, 0, 0, 0, 0, 0, 0, 0, 0]\n",
      "---Target audio features: [0, 17, 0, 0, 0, 0, 8, 0, 25, 0, 5, 0, 0, 4, 4, 6, 6, 11, 5, 4, 4, 0, 23, 11, 0, 0, 0, 8, 0, 0, 0, 9, 5, 5, 4, 4, 0, 0, 0, 0, 0, 16, 0, 23, 0, 4, 0, 0, 0, 0, 0, 0, 0, 0, 0, 0, 0, 0, 0, 0, 0, 0, 0, 0, 0, 0, 0, 0, 0, 0, 0, 0, 0, 0, 0, 0, 0, 0, 0, 0, 0, 0, 0, 0, 0, 0, 0, 0, 0, 0, 0, 0, 0, 0, 0, 0, 0, 0, 0, 0, 0, 0, 0, 0, 0, 0, 0, 0, 0, 0, 0, 0, 0, 0, 0, 0, 0, 0, 0, 0, 0, 0, 0, 0, 0, 0, 0, 0, 0, 0, 0, 0, 0, 0, 0, 0, 0, 0, 0, 0, 0, 0, 0, 0, 0, 0, 0, 0, 0, 0]\n",
      "Euclidean distance: 75.7099729229908\n",
      "1/1 [==============================] - 0s 12ms/step\n",
      "-SAMPLE N. 83\n",
      "Predicted audio features: [0, 0, 0, 0, 0, 0, 0, 0, 0, 0, 0, 6, 11, 0, 10, 12, 12, 0, 4, 0, 0, 10, 12, 12, 4, 4, 7, 4, 0, 23, 11, 11, 0, 0, 8, 0, 0, 9, 5, 0, 4, 4, 4, 0, 0, 0, 0, 0, 0, 0, 0, 0, 0, 0, 0, 0, 0, 0, 0, 0, 0, 0, 0, 0, 0, 0, 0, 0, 0, 0, 0, 0, 0, 0, 0, 0, 0, 0, 0, 0, 0, 0, 0, 0, 0, 0, 0, 0, 0, 0, 0, 0, 0, 0, 0, 0, 0, 0, 0, 0, 0, 0, 0, 0, 0, 0, 0, 0, 0, 0, 0, 0, 0, 0, 0, 0, 0, 0, 0, 0, 0, 0, 0, 0, 0, 0, 0, 0, 0, 0, 0, 0, 0, 0, 0, 0, 0, 0, 0, 0, 0, 0, 0, 0, 0, 0, 0, 0, 0, 0]\n",
      "---Target audio features: [0, 17, 0, 0, 0, 8, 0, 25, 0, 5, 0, 0, 4, 4, 6, 11, 5, 4, 4, 0, 23, 11, 0, 0, 0, 8, 0, 0, 9, 0, 5, 0, 4, 4, 0, 14, 0, 0, 0, 0, 0, 8, 8, 18, 0, 9, 0, 4, 4, 4, 4, 4, 4, 0, 0, 0, 0, 0, 0, 0, 0, 0, 0, 0, 0, 0, 0, 0, 0, 0, 0, 0, 0, 0, 0, 0, 0, 0, 0, 0, 0, 0, 0, 0, 0, 0, 0, 0, 0, 0, 0, 0, 0, 0, 0, 0, 0, 0, 0, 0, 0, 0, 0, 0, 0, 0, 0, 0, 0, 0, 0, 0, 0, 0, 0, 0, 0, 0, 0, 0, 0, 0, 0, 0, 0, 0, 0, 0, 0, 0, 0, 0, 0, 0, 0, 0, 0, 0, 0, 0, 0, 0, 0, 0, 0, 0, 0, 0, 0, 0]\n",
      "Euclidean distance: 61.765686266729034\n",
      "1/1 [==============================] - 0s 14ms/step\n",
      "-SAMPLE N. 84\n",
      "Predicted audio features: [0, 0, 0, 0, 0, 0, 0, 0, 0, 0, 0, 0, 0, 0, 0, 0, 6, 11, 0, 0, 0, 0, 0, 10, 0, 0, 12, 0, 0, 4, 4, 0, 0, 0, 0, 0, 10, 12, 12, 0, 4, 4, 4, 4, 0, 7, 0, 4, 0, 0, 0, 0, 0, 20, 0, 0, 0, 0, 0, 0, 0, 0, 0, 0, 0, 0, 0, 8, 18, 0, 0, 0, 0, 9, 9, 0, 0, 0, 0, 4, 4, 4, 4, 0, 0, 0, 0, 0, 0, 0, 0, 0, 0, 0, 0, 0, 0, 0, 0, 0, 0, 0, 0, 0, 0, 0, 0, 0, 0, 0, 0, 0, 0, 0, 0, 0, 0, 0, 0, 0, 0, 0, 0, 0, 0, 0, 0, 0, 0, 0, 0, 0, 0, 0, 0, 0, 0, 0, 0, 0, 0, 0, 0, 0, 0, 0, 0, 0, 0, 0]\n",
      "---Target audio features: [0, 0, 13, 13, 0, 0, 8, 0, 0, 0, 0, 6, 0, 0, 0, 0, 7, 0, 0, 6, 6, 5, 0, 4, 4, 0, 6, 11, 11, 0, 5, 4, 4, 23, 11, 11, 0, 0, 0, 0, 8, 0, 0, 9, 0, 5, 0, 4, 4, 4, 0, 0, 0, 0, 0, 0, 0, 0, 0, 0, 0, 0, 0, 0, 0, 0, 0, 0, 0, 0, 0, 0, 0, 0, 0, 0, 0, 0, 0, 0, 0, 0, 0, 0, 0, 0, 0, 0, 0, 0, 0, 0, 0, 0, 0, 0, 0, 0, 0, 0, 0, 0, 0, 0, 0, 0, 0, 0, 0, 0, 0, 0, 0, 0, 0, 0, 0, 0, 0, 0, 0, 0, 0, 0, 0, 0, 0, 0, 0, 0, 0, 0, 0, 0, 0, 0, 0, 0, 0, 0, 0, 0, 0, 0, 0, 0, 0, 0, 0, 0]\n",
      "Euclidean distance: 57.60208329565867\n",
      "1/1 [==============================] - 0s 12ms/step\n",
      "-SAMPLE N. 85\n",
      "Predicted audio features: [0, 0, 0, 6, 11, 0, 0, 10, 0, 12, 0, 4, 4, 0, 0, 10, 12, 12, 0, 4, 4, 4, 7, 4, 0, 0, 23, 11, 0, 0, 0, 0, 0, 8, 0, 0, 9, 5, 0, 4, 0, 0, 0, 0, 0, 0, 0, 0, 0, 0, 0, 0, 0, 0, 0, 0, 0, 0, 0, 0, 0, 0, 0, 0, 0, 0, 0, 0, 0, 0, 0, 0, 0, 0, 0, 0, 0, 0, 0, 0, 0, 0, 0, 0, 0, 0, 0, 0, 0, 0, 0, 0, 0, 0, 0, 0, 0, 0, 0, 0, 0, 0, 0, 0, 0, 0, 0, 0, 0, 0, 0, 0, 0, 0, 0, 0, 0, 0, 0, 0, 0, 0, 0, 0, 0, 0, 0, 0, 0, 0, 0, 0, 0, 0, 0, 0, 0, 0, 0, 0, 0, 0, 0, 0, 0, 0, 0, 0, 0, 0]\n",
      "---Target audio features: [0, 0, 0, 0, 17, 0, 0, 8, 0, 25, 0, 5, 5, 0, 4, 6, 11, 5, 5, 4, 4, 20, 0, 0, 0, 8, 16, 0, 0, 9, 14, 0, 4, 4, 6, 0, 8, 0, 4, 6, 11, 5, 4, 4, 0, 15, 0, 0, 0, 0, 5, 0, 20, 0, 0, 0, 6, 0, 4, 4, 0, 0, 0, 0, 0, 0, 0, 0, 0, 0, 0, 0, 0, 0, 0, 0, 0, 0, 0, 0, 0, 0, 0, 0, 0, 0, 0, 0, 0, 0, 0, 0, 0, 0, 0, 0, 0, 0, 0, 0, 0, 0, 0, 0, 0, 0, 0, 0, 0, 0, 0, 0, 0, 0, 0, 0, 0, 0, 0, 0, 0, 0, 0, 0, 0, 0, 0, 0, 0, 0, 0, 0, 0, 0, 0, 0, 0, 0, 0, 0, 0, 0, 0, 0, 0, 0, 0, 0, 0, 0]\n",
      "Euclidean distance: 46.861498055439924\n",
      "1/1 [==============================] - 0s 12ms/step\n",
      "-SAMPLE N. 86\n",
      "Predicted audio features: [0, 0, 0, 0, 0, 0, 0, 0, 0, 0, 0, 6, 11, 0, 10, 0, 12, 0, 4, 4, 0, 10, 12, 12, 4, 4, 7, 4, 0, 23, 11, 11, 0, 0, 8, 0, 0, 9, 5, 0, 4, 4, 4, 0, 0, 0, 0, 0, 0, 0, 0, 0, 0, 0, 0, 0, 0, 0, 0, 0, 0, 0, 0, 0, 0, 0, 0, 0, 0, 0, 0, 0, 0, 0, 0, 0, 0, 0, 0, 0, 0, 0, 0, 0, 0, 0, 0, 0, 0, 0, 0, 0, 0, 0, 0, 0, 0, 0, 0, 0, 0, 0, 0, 0, 0, 0, 0, 0, 0, 0, 0, 0, 0, 0, 0, 0, 0, 0, 0, 0, 0, 0, 0, 0, 0, 0, 0, 0, 0, 0, 0, 0, 0, 0, 0, 0, 0, 0, 0, 0, 0, 0, 0, 0, 0, 0, 0, 0, 0, 0]\n",
      "---Target audio features: [0, 0, 0, 17, 17, 0, 0, 0, 8, 0, 25, 5, 0, 4, 4, 6, 11, 0, 5, 4, 4, 23, 11, 0, 0, 8, 0, 0, 9, 9, 5, 0, 4, 4, 6, 6, 8, 0, 4, 4, 6, 11, 5, 4, 4, 13, 13, 0, 0, 0, 0, 10, 10, 21, 11, 11, 6, 6, 0, 4, 4, 4, 0, 0, 0, 0, 0, 0, 0, 0, 0, 0, 0, 0, 0, 0, 0, 0, 0, 0, 0, 0, 0, 0, 0, 0, 0, 0, 0, 0, 0, 0, 0, 0, 0, 0, 0, 0, 0, 0, 0, 0, 0, 0, 0, 0, 0, 0, 0, 0, 0, 0, 0, 0, 0, 0, 0, 0, 0, 0, 0, 0, 0, 0, 0, 0, 0, 0, 0, 0, 0, 0, 0, 0, 0, 0, 0, 0, 0, 0, 0, 0, 0, 0, 0, 0, 0, 0, 0, 0]\n",
      "Euclidean distance: 63.25345840347388\n",
      "1/1 [==============================] - 0s 12ms/step\n",
      "-SAMPLE N. 87\n",
      "Predicted audio features: [0, 0, 0, 0, 0, 0, 0, 0, 0, 0, 0, 6, 11, 0, 10, 0, 12, 0, 4, 4, 0, 10, 12, 12, 4, 4, 7, 4, 0, 23, 11, 11, 0, 0, 8, 0, 0, 9, 5, 0, 4, 4, 4, 0, 0, 0, 0, 0, 0, 0, 0, 0, 0, 0, 0, 0, 0, 0, 0, 0, 0, 0, 0, 0, 0, 0, 0, 0, 0, 0, 0, 0, 0, 0, 0, 0, 0, 0, 0, 0, 0, 0, 0, 0, 0, 0, 0, 0, 0, 0, 0, 0, 0, 0, 0, 0, 0, 0, 0, 0, 0, 0, 0, 0, 0, 0, 0, 0, 0, 0, 0, 0, 0, 0, 0, 0, 0, 0, 0, 0, 0, 0, 0, 0, 0, 0, 0, 0, 0, 0, 0, 0, 0, 0, 0, 0, 0, 0, 0, 0, 0, 0, 0, 0, 0, 0, 0, 0, 0, 0]\n",
      "---Target audio features: [0, 0, 0, 17, 0, 0, 0, 8, 0, 25, 0, 5, 14, 4, 4, 6, 11, 11, 5, 4, 4, 23, 23, 11, 0, 8, 8, 0, 0, 9, 5, 5, 4, 4, 0, 0, 0, 16, 0, 23, 0, 0, 4, 0, 0, 0, 0, 0, 0, 0, 0, 0, 0, 0, 0, 0, 0, 0, 0, 0, 0, 0, 0, 0, 0, 0, 0, 0, 0, 0, 0, 0, 0, 0, 0, 0, 0, 0, 0, 0, 0, 0, 0, 0, 0, 0, 0, 0, 0, 0, 0, 0, 0, 0, 0, 0, 0, 0, 0, 0, 0, 0, 0, 0, 0, 0, 0, 0, 0, 0, 0, 0, 0, 0, 0, 0, 0, 0, 0, 0, 0, 0, 0, 0, 0, 0, 0, 0, 0, 0, 0, 0, 0, 0, 0, 0, 0, 0, 0, 0, 0, 0, 0, 0, 0, 0, 0, 0, 0, 0]\n",
      "Euclidean distance: 50.53711507397311\n"
     ]
    },
    {
     "name": "stdout",
     "output_type": "stream",
     "text": [
      "1/1 [==============================] - 0s 12ms/step\n",
      "-SAMPLE N. 88\n",
      "Predicted audio features: [0, 0, 0, 0, 0, 0, 0, 0, 0, 0, 0, 0, 0, 0, 0, 0, 0, 6, 11, 0, 0, 0, 0, 10, 0, 12, 0, 0, 4, 4, 0, 0, 0, 0, 10, 0, 12, 12, 0, 4, 4, 4, 4, 4, 7, 4, 4, 0, 0, 12, 12, 0, 0, 0, 0, 0, 23, 0, 0, 8, 8, 0, 0, 0, 0, 0, 0, 8, 0, 9, 9, 0, 0, 0, 4, 4, 4, 4, 0, 0, 0, 0, 0, 0, 0, 0, 0, 0, 0, 0, 0, 0, 0, 0, 0, 0, 0, 0, 0, 0, 0, 0, 0, 0, 0, 0, 0, 0, 0, 0, 0, 0, 0, 0, 0, 0, 0, 0, 0, 0, 0, 0, 0, 0, 0, 0, 0, 0, 0, 0, 0, 0, 0, 0, 0, 0, 0, 0, 0, 0, 0, 0, 0, 0, 0, 0, 0, 0, 0, 0]\n",
      "---Target audio features: [0, 0, 0, 0, 17, 0, 0, 0, 8, 25, 25, 5, 0, 14, 4, 4, 6, 11, 5, 4, 4, 4, 23, 11, 0, 0, 8, 0, 0, 0, 9, 5, 0, 4, 4, 0, 14, 0, 0, 0, 0, 0, 8, 8, 18, 0, 9, 0, 4, 4, 4, 4, 4, 0, 0, 0, 0, 0, 0, 0, 0, 0, 0, 0, 0, 0, 0, 0, 0, 0, 0, 0, 0, 0, 0, 0, 0, 0, 0, 0, 0, 0, 0, 0, 0, 0, 0, 0, 0, 0, 0, 0, 0, 0, 0, 0, 0, 0, 0, 0, 0, 0, 0, 0, 0, 0, 0, 0, 0, 0, 0, 0, 0, 0, 0, 0, 0, 0, 0, 0, 0, 0, 0, 0, 0, 0, 0, 0, 0, 0, 0, 0, 0, 0, 0, 0, 0, 0, 0, 0, 0, 0, 0, 0, 0, 0, 0, 0, 0, 0]\n",
      "Euclidean distance: 66.64833081180653\n",
      "1/1 [==============================] - 0s 12ms/step\n",
      "-SAMPLE N. 89\n",
      "Predicted audio features: [0, 0, 0, 6, 11, 0, 0, 10, 0, 12, 0, 4, 4, 0, 0, 10, 12, 12, 0, 4, 4, 4, 7, 4, 4, 4, 12, 12, 0, 0, 23, 8, 0, 0, 0, 8, 0, 0, 0, 0, 10, 9, 0, 21, 4, 0, 0, 0, 0, 0, 0, 0, 0, 0, 0, 0, 0, 0, 0, 0, 0, 0, 0, 0, 0, 0, 0, 0, 0, 0, 0, 0, 0, 0, 0, 0, 0, 0, 0, 0, 0, 0, 0, 0, 0, 0, 0, 0, 0, 0, 0, 0, 0, 0, 0, 0, 0, 0, 0, 0, 0, 0, 0, 0, 0, 0, 0, 0, 0, 0, 0, 0, 0, 0, 0, 0, 0, 0, 0, 0, 0, 0, 0, 0, 0, 0, 0, 0, 0, 0, 0, 0, 0, 0, 0, 0, 0, 0, 0, 0, 0, 0, 0, 0, 0, 0, 0, 0, 0, 0]\n",
      "---Target audio features: [0, 0, 0, 13, 13, 0, 0, 8, 0, 0, 0, 0, 0, 6, 0, 0, 0, 7, 0, 0, 14, 5, 0, 4, 4, 6, 11, 5, 4, 4, 23, 11, 11, 0, 0, 0, 0, 8, 8, 0, 0, 0, 9, 0, 5, 4, 4, 4, 0, 0, 0, 0, 0, 0, 0, 0, 0, 0, 0, 0, 0, 0, 0, 0, 0, 0, 0, 0, 0, 0, 0, 0, 0, 0, 0, 0, 0, 0, 0, 0, 0, 0, 0, 0, 0, 0, 0, 0, 0, 0, 0, 0, 0, 0, 0, 0, 0, 0, 0, 0, 0, 0, 0, 0, 0, 0, 0, 0, 0, 0, 0, 0, 0, 0, 0, 0, 0, 0, 0, 0, 0, 0, 0, 0, 0, 0, 0, 0, 0, 0, 0, 0, 0, 0, 0, 0, 0, 0, 0, 0, 0, 0, 0, 0, 0, 0, 0, 0, 0, 0]\n",
      "Euclidean distance: 43.174066289845804\n",
      "1/1 [==============================] - 0s 14ms/step\n",
      "-SAMPLE N. 90\n",
      "Predicted audio features: [0, 0, 0, 0, 0, 0, 0, 0, 0, 0, 0, 6, 11, 0, 10, 12, 12, 0, 4, 0, 0, 10, 12, 12, 4, 4, 7, 4, 0, 23, 11, 11, 0, 0, 8, 0, 0, 9, 5, 0, 4, 4, 4, 0, 0, 0, 0, 0, 0, 0, 0, 0, 0, 0, 0, 0, 0, 0, 0, 0, 0, 0, 0, 0, 0, 0, 0, 0, 0, 0, 0, 0, 0, 0, 0, 0, 0, 0, 0, 0, 0, 0, 0, 0, 0, 0, 0, 0, 0, 0, 0, 0, 0, 0, 0, 0, 0, 0, 0, 0, 0, 0, 0, 0, 0, 0, 0, 0, 0, 0, 0, 0, 0, 0, 0, 0, 0, 0, 0, 0, 0, 0, 0, 0, 0, 0, 0, 0, 0, 0, 0, 0, 0, 0, 0, 0, 0, 0, 0, 0, 0, 0, 0, 0, 0, 0, 0, 0, 0, 0]\n",
      "---Target audio features: [0, 0, 17, 0, 0, 8, 0, 25, 0, 5, 0, 4, 4, 4, 6, 11, 5, 4, 4, 0, 23, 11, 11, 0, 0, 8, 0, 0, 9, 9, 5, 0, 4, 4, 0, 6, 0, 8, 0, 4, 4, 4, 6, 11, 5, 4, 4, 0, 15, 0, 0, 0, 0, 0, 5, 0, 20, 0, 0, 6, 0, 4, 0, 0, 0, 0, 0, 0, 0, 0, 0, 0, 0, 0, 0, 0, 0, 0, 0, 0, 0, 0, 0, 0, 0, 0, 0, 0, 0, 0, 0, 0, 0, 0, 0, 0, 0, 0, 0, 0, 0, 0, 0, 0, 0, 0, 0, 0, 0, 0, 0, 0, 0, 0, 0, 0, 0, 0, 0, 0, 0, 0, 0, 0, 0, 0, 0, 0, 0, 0, 0, 0, 0, 0, 0, 0, 0, 0, 0, 0, 0, 0, 0, 0, 0, 0, 0, 0, 0, 0]\n",
      "Euclidean distance: 58.463663928973865\n",
      "1/1 [==============================] - 0s 12ms/step\n",
      "-SAMPLE N. 91\n",
      "Predicted audio features: [0, 0, 0, 0, 0, 0, 0, 0, 0, 0, 0, 6, 11, 0, 10, 0, 12, 0, 4, 4, 0, 10, 12, 12, 4, 4, 7, 4, 0, 23, 11, 11, 0, 0, 8, 0, 0, 9, 5, 0, 4, 4, 4, 0, 0, 0, 0, 0, 0, 0, 0, 0, 0, 0, 0, 0, 0, 0, 0, 0, 0, 0, 0, 0, 0, 0, 0, 0, 0, 0, 0, 0, 0, 0, 0, 0, 0, 0, 0, 0, 0, 0, 0, 0, 0, 0, 0, 0, 0, 0, 0, 0, 0, 0, 0, 0, 0, 0, 0, 0, 0, 0, 0, 0, 0, 0, 0, 0, 0, 0, 0, 0, 0, 0, 0, 0, 0, 0, 0, 0, 0, 0, 0, 0, 0, 0, 0, 0, 0, 0, 0, 0, 0, 0, 0, 0, 0, 0, 0, 0, 0, 0, 0, 0, 0, 0, 0, 0, 0, 0]\n",
      "---Target audio features: [0, 17, 0, 0, 0, 8, 0, 25, 5, 0, 4, 4, 4, 6, 11, 5, 4, 4, 4, 0, 23, 11, 0, 0, 0, 8, 0, 0, 9, 5, 0, 4, 4, 0, 6, 0, 8, 0, 4, 4, 4, 6, 11, 5, 4, 4, 0, 13, 0, 0, 0, 0, 10, 10, 21, 11, 11, 6, 0, 4, 0, 0, 0, 0, 0, 0, 0, 0, 0, 0, 0, 0, 0, 0, 0, 0, 0, 0, 0, 0, 0, 0, 0, 0, 0, 0, 0, 0, 0, 0, 0, 0, 0, 0, 0, 0, 0, 0, 0, 0, 0, 0, 0, 0, 0, 0, 0, 0, 0, 0, 0, 0, 0, 0, 0, 0, 0, 0, 0, 0, 0, 0, 0, 0, 0, 0, 0, 0, 0, 0, 0, 0, 0, 0, 0, 0, 0, 0, 0, 0, 0, 0, 0, 0, 0, 0, 0, 0, 0, 0]\n",
      "Euclidean distance: 64.15605972938177\n",
      "1/1 [==============================] - 0s 12ms/step\n",
      "-SAMPLE N. 92\n",
      "Predicted audio features: [0, 0, 0, 0, 0, 0, 0, 0, 0, 0, 0, 0, 6, 6, 11, 0, 0, 10, 0, 12, 0, 0, 4, 0, 0, 0, 10, 0, 12, 0, 4, 4, 4, 4, 7, 4, 4, 0, 0, 0, 20, 0, 0, 0, 0, 0, 0, 0, 0, 0, 8, 8, 7, 0, 0, 17, 0, 0, 0, 4, 4, 4, 4, 0, 0, 0, 0, 0, 0, 0, 0, 0, 0, 0, 0, 0, 0, 0, 0, 0, 0, 0, 0, 0, 0, 0, 0, 0, 0, 0, 0, 0, 0, 0, 0, 0, 0, 0, 0, 0, 0, 0, 0, 0, 0, 0, 0, 0, 0, 0, 0, 0, 0, 0, 0, 0, 0, 0, 0, 0, 0, 0, 0, 0, 0, 0, 0, 0, 0, 0, 0, 0, 0, 0, 0, 0, 0, 0, 0, 0, 0, 0, 0, 0, 0, 0, 0, 0, 0, 0]\n",
      "---Target audio features: [0, 0, 17, 0, 0, 8, 0, 25, 5, 5, 14, 4, 4, 6, 11, 5, 4, 4, 0, 23, 11, 0, 0, 8, 0, 0, 0, 0, 9, 9, 0, 0, 0, 16, 0, 23, 0, 4, 4, 0, 0, 0, 0, 0, 0, 0, 0, 0, 0, 0, 0, 0, 0, 0, 0, 0, 0, 0, 0, 0, 0, 0, 0, 0, 0, 0, 0, 0, 0, 0, 0, 0, 0, 0, 0, 0, 0, 0, 0, 0, 0, 0, 0, 0, 0, 0, 0, 0, 0, 0, 0, 0, 0, 0, 0, 0, 0, 0, 0, 0, 0, 0, 0, 0, 0, 0, 0, 0, 0, 0, 0, 0, 0, 0, 0, 0, 0, 0, 0, 0, 0, 0, 0, 0, 0, 0, 0, 0, 0, 0, 0, 0, 0, 0, 0, 0, 0, 0, 0, 0, 0, 0, 0, 0, 0, 0, 0, 0, 0, 0]\n",
      "Euclidean distance: 58.42088667591412\n",
      "1/1 [==============================] - 0s 12ms/step\n",
      "-SAMPLE N. 93\n",
      "Predicted audio features: [0, 0, 0, 0, 0, 0, 0, 0, 0, 0, 0, 6, 11, 0, 10, 12, 12, 0, 4, 0, 0, 10, 12, 12, 4, 4, 7, 4, 0, 23, 11, 11, 0, 0, 8, 0, 0, 9, 5, 0, 4, 4, 4, 0, 0, 0, 0, 0, 0, 0, 0, 0, 0, 0, 0, 0, 0, 0, 0, 0, 0, 0, 0, 0, 0, 0, 0, 0, 0, 0, 0, 0, 0, 0, 0, 0, 0, 0, 0, 0, 0, 0, 0, 0, 0, 0, 0, 0, 0, 0, 0, 0, 0, 0, 0, 0, 0, 0, 0, 0, 0, 0, 0, 0, 0, 0, 0, 0, 0, 0, 0, 0, 0, 0, 0, 0, 0, 0, 0, 0, 0, 0, 0, 0, 0, 0, 0, 0, 0, 0, 0, 0, 0, 0, 0, 0, 0, 0, 0, 0, 0, 0, 0, 0, 0, 0, 0, 0, 0, 0]\n",
      "---Target audio features: [0, 0, 17, 0, 8, 0, 25, 0, 5, 0, 0, 4, 4, 6, 11, 5, 4, 4, 23, 0, 11, 0, 0, 8, 0, 0, 9, 0, 5, 0, 4, 4, 14, 14, 0, 0, 0, 0, 8, 18, 0, 9, 0, 4, 4, 4, 0, 0, 0, 0, 0, 0, 0, 0, 0, 0, 0, 0, 0, 0, 0, 0, 0, 0, 0, 0, 0, 0, 0, 0, 0, 0, 0, 0, 0, 0, 0, 0, 0, 0, 0, 0, 0, 0, 0, 0, 0, 0, 0, 0, 0, 0, 0, 0, 0, 0, 0, 0, 0, 0, 0, 0, 0, 0, 0, 0, 0, 0, 0, 0, 0, 0, 0, 0, 0, 0, 0, 0, 0, 0, 0, 0, 0, 0, 0, 0, 0, 0, 0, 0, 0, 0, 0, 0, 0, 0, 0, 0, 0, 0, 0, 0, 0, 0, 0, 0, 0, 0, 0, 0]\n",
      "Euclidean distance: 60.35726965329032\n",
      "1/1 [==============================] - 0s 12ms/step\n",
      "-SAMPLE N. 94\n",
      "Predicted audio features: [0, 0, 0, 0, 0, 0, 0, 0, 0, 0, 0, 6, 11, 0, 10, 0, 12, 0, 4, 4, 0, 10, 12, 12, 4, 4, 7, 4, 0, 23, 11, 11, 0, 0, 8, 0, 0, 9, 5, 0, 4, 4, 4, 0, 0, 0, 0, 0, 0, 0, 0, 0, 0, 0, 0, 0, 0, 0, 0, 0, 0, 0, 0, 0, 0, 0, 0, 0, 0, 0, 0, 0, 0, 0, 0, 0, 0, 0, 0, 0, 0, 0, 0, 0, 0, 0, 0, 0, 0, 0, 0, 0, 0, 0, 0, 0, 0, 0, 0, 0, 0, 0, 0, 0, 0, 0, 0, 0, 0, 0, 0, 0, 0, 0, 0, 0, 0, 0, 0, 0, 0, 0, 0, 0, 0, 0, 0, 0, 0, 0, 0, 0, 0, 0, 0, 0, 0, 0, 0, 0, 0, 0, 0, 0, 0, 0, 0, 0, 0, 0]\n",
      "---Target audio features: [0, 13, 13, 0, 0, 8, 0, 0, 0, 0, 0, 6, 0, 0, 7, 0, 0, 0, 6, 5, 0, 4, 4, 6, 11, 0, 5, 4, 4, 0, 20, 0, 0, 0, 0, 0, 0, 0, 0, 7, 18, 0, 0, 9, 0, 4, 4, 0, 0, 0, 0, 0, 0, 0, 0, 0, 0, 0, 0, 0, 0, 0, 0, 0, 0, 0, 0, 0, 0, 0, 0, 0, 0, 0, 0, 0, 0, 0, 0, 0, 0, 0, 0, 0, 0, 0, 0, 0, 0, 0, 0, 0, 0, 0, 0, 0, 0, 0, 0, 0, 0, 0, 0, 0, 0, 0, 0, 0, 0, 0, 0, 0, 0, 0, 0, 0, 0, 0, 0, 0, 0, 0, 0, 0, 0, 0, 0, 0, 0, 0, 0, 0, 0, 0, 0, 0, 0, 0, 0, 0, 0, 0, 0, 0, 0, 0, 0, 0, 0, 0]\n",
      "Euclidean distance: 46.82947789587238\n",
      "1/1 [==============================] - 0s 12ms/step\n",
      "-SAMPLE N. 95\n",
      "Predicted audio features: [0, 0, 0, 6, 11, 0, 0, 10, 0, 12, 0, 4, 4, 0, 0, 10, 12, 12, 0, 4, 4, 4, 7, 4, 4, 4, 12, 12, 0, 0, 23, 8, 0, 0, 0, 8, 0, 0, 0, 0, 10, 9, 0, 21, 4, 0, 0, 0, 0, 0, 0, 0, 0, 0, 0, 0, 0, 0, 0, 0, 0, 0, 0, 0, 0, 0, 0, 0, 0, 0, 0, 0, 0, 0, 0, 0, 0, 0, 0, 0, 0, 0, 0, 0, 0, 0, 0, 0, 0, 0, 0, 0, 0, 0, 0, 0, 0, 0, 0, 0, 0, 0, 0, 0, 0, 0, 0, 0, 0, 0, 0, 0, 0, 0, 0, 0, 0, 0, 0, 0, 0, 0, 0, 0, 0, 0, 0, 0, 0, 0, 0, 0, 0, 0, 0, 0, 0, 0, 0, 0, 0, 0, 0, 0, 0, 0, 0, 0, 0, 0]\n",
      "---Target audio features: [0, 0, 0, 17, 0, 0, 0, 0, 0, 8, 0, 25, 0, 5, 0, 0, 4, 4, 0, 6, 11, 5, 4, 4, 0, 23, 11, 11, 0, 0, 0, 8, 0, 0, 9, 5, 5, 4, 4, 0, 6, 0, 8, 0, 4, 4, 6, 11, 11, 5, 4, 0, 0, 15, 0, 0, 0, 0, 0, 5, 0, 20, 0, 0, 0, 6, 0, 4, 4, 0, 0, 0, 0, 0, 0, 0, 0, 0, 0, 0, 0, 0, 0, 0, 0, 0, 0, 0, 0, 0, 0, 0, 0, 0, 0, 0, 0, 0, 0, 0, 0, 0, 0, 0, 0, 0, 0, 0, 0, 0, 0, 0, 0, 0, 0, 0, 0, 0, 0, 0, 0, 0, 0, 0, 0, 0, 0, 0, 0, 0, 0, 0, 0, 0, 0, 0, 0, 0, 0, 0, 0, 0, 0, 0, 0, 0, 0, 0, 0, 0]\n",
      "Euclidean distance: 61.97580172938467\n"
     ]
    },
    {
     "name": "stdout",
     "output_type": "stream",
     "text": [
      "1/1 [==============================] - 0s 13ms/step\n",
      "-SAMPLE N. 96\n",
      "Predicted audio features: [0, 0, 0, 0, 0, 0, 0, 0, 0, 0, 0, 0, 0, 0, 0, 0, 0, 6, 11, 0, 0, 0, 0, 10, 0, 12, 0, 0, 4, 4, 4, 0, 0, 0, 0, 10, 12, 12, 0, 4, 4, 4, 4, 0, 0, 7, 4, 4, 0, 0, 23, 11, 0, 0, 0, 0, 0, 0, 0, 0, 8, 0, 0, 0, 9, 0, 5, 0, 4, 4, 4, 4, 0, 0, 0, 0, 0, 0, 0, 0, 0, 0, 0, 0, 0, 0, 0, 0, 0, 0, 0, 0, 0, 0, 0, 0, 0, 0, 0, 0, 0, 0, 0, 0, 0, 0, 0, 0, 0, 0, 0, 0, 0, 0, 0, 0, 0, 0, 0, 0, 0, 0, 0, 0, 0, 0, 0, 0, 0, 0, 0, 0, 0, 0, 0, 0, 0, 0, 0, 0, 0, 0, 0, 0, 0, 0, 0, 0, 0, 0]\n",
      "---Target audio features: [0, 0, 0, 17, 17, 0, 0, 0, 0, 8, 0, 25, 0, 5, 0, 0, 4, 4, 0, 6, 11, 5, 4, 4, 0, 23, 11, 11, 0, 0, 0, 8, 0, 0, 0, 9, 5, 0, 4, 4, 0, 6, 0, 8, 0, 4, 4, 6, 11, 5, 4, 4, 0, 13, 0, 0, 0, 10, 0, 21, 11, 11, 6, 6, 0, 4, 4, 4, 0, 0, 0, 0, 0, 0, 0, 0, 0, 0, 0, 0, 0, 0, 0, 0, 0, 0, 0, 0, 0, 0, 0, 0, 0, 0, 0, 0, 0, 0, 0, 0, 0, 0, 0, 0, 0, 0, 0, 0, 0, 0, 0, 0, 0, 0, 0, 0, 0, 0, 0, 0, 0, 0, 0, 0, 0, 0, 0, 0, 0, 0, 0, 0, 0, 0, 0, 0, 0, 0, 0, 0, 0, 0, 0, 0, 0, 0, 0, 0, 0, 0]\n",
      "Euclidean distance: 64.11708040764177\n",
      "1/1 [==============================] - 0s 12ms/step\n",
      "-SAMPLE N. 97\n",
      "Predicted audio features: [0, 0, 0, 6, 11, 0, 0, 10, 0, 12, 0, 4, 4, 0, 0, 10, 12, 12, 0, 4, 4, 4, 7, 4, 4, 4, 12, 12, 0, 0, 23, 8, 0, 0, 0, 8, 0, 0, 0, 0, 10, 9, 0, 21, 4, 0, 0, 0, 0, 0, 0, 0, 0, 0, 0, 0, 0, 0, 0, 0, 0, 0, 0, 0, 0, 0, 0, 0, 0, 0, 0, 0, 0, 0, 0, 0, 0, 0, 0, 0, 0, 0, 0, 0, 0, 0, 0, 0, 0, 0, 0, 0, 0, 0, 0, 0, 0, 0, 0, 0, 0, 0, 0, 0, 0, 0, 0, 0, 0, 0, 0, 0, 0, 0, 0, 0, 0, 0, 0, 0, 0, 0, 0, 0, 0, 0, 0, 0, 0, 0, 0, 0, 0, 0, 0, 0, 0, 0, 0, 0, 0, 0, 0, 0, 0, 0, 0, 0, 0, 0]\n",
      "---Target audio features: [0, 0, 0, 17, 0, 0, 0, 0, 0, 8, 0, 25, 0, 5, 0, 4, 4, 4, 6, 11, 0, 5, 4, 4, 23, 11, 11, 0, 0, 8, 0, 0, 0, 9, 0, 5, 0, 4, 4, 0, 0, 0, 16, 0, 23, 0, 0, 4, 0, 0, 0, 0, 0, 0, 0, 0, 0, 0, 0, 0, 0, 0, 0, 0, 0, 0, 0, 0, 0, 0, 0, 0, 0, 0, 0, 0, 0, 0, 0, 0, 0, 0, 0, 0, 0, 0, 0, 0, 0, 0, 0, 0, 0, 0, 0, 0, 0, 0, 0, 0, 0, 0, 0, 0, 0, 0, 0, 0, 0, 0, 0, 0, 0, 0, 0, 0, 0, 0, 0, 0, 0, 0, 0, 0, 0, 0, 0, 0, 0, 0, 0, 0, 0, 0, 0, 0, 0, 0, 0, 0, 0, 0, 0, 0, 0, 0, 0, 0, 0, 0]\n",
      "Euclidean distance: 60.860496218811754\n",
      "1/1 [==============================] - 0s 12ms/step\n",
      "-SAMPLE N. 98\n",
      "Predicted audio features: [0, 0, 0, 6, 11, 0, 0, 10, 0, 12, 0, 4, 4, 0, 0, 10, 12, 12, 0, 4, 4, 4, 7, 4, 4, 4, 12, 12, 0, 0, 23, 8, 0, 0, 0, 8, 0, 0, 0, 0, 10, 9, 0, 21, 4, 0, 0, 0, 0, 0, 0, 0, 0, 0, 0, 0, 0, 0, 0, 0, 0, 0, 0, 0, 0, 0, 0, 0, 0, 0, 0, 0, 0, 0, 0, 0, 0, 0, 0, 0, 0, 0, 0, 0, 0, 0, 0, 0, 0, 0, 0, 0, 0, 0, 0, 0, 0, 0, 0, 0, 0, 0, 0, 0, 0, 0, 0, 0, 0, 0, 0, 0, 0, 0, 0, 0, 0, 0, 0, 0, 0, 0, 0, 0, 0, 0, 0, 0, 0, 0, 0, 0, 0, 0, 0, 0, 0, 0, 0, 0, 0, 0, 0, 0, 0, 0, 0, 0, 0, 0]\n",
      "---Target audio features: [0, 0, 0, 17, 0, 0, 0, 0, 0, 0, 8, 0, 25, 5, 5, 4, 4, 4, 0, 6, 11, 5, 4, 4, 0, 23, 11, 0, 0, 0, 8, 8, 0, 0, 9, 0, 5, 0, 4, 4, 14, 14, 0, 0, 0, 0, 0, 8, 8, 18, 0, 9, 9, 4, 4, 4, 4, 4, 0, 0, 0, 0, 0, 0, 0, 0, 0, 0, 0, 0, 0, 0, 0, 0, 0, 0, 0, 0, 0, 0, 0, 0, 0, 0, 0, 0, 0, 0, 0, 0, 0, 0, 0, 0, 0, 0, 0, 0, 0, 0, 0, 0, 0, 0, 0, 0, 0, 0, 0, 0, 0, 0, 0, 0, 0, 0, 0, 0, 0, 0, 0, 0, 0, 0, 0, 0, 0, 0, 0, 0, 0, 0, 0, 0, 0, 0, 0, 0, 0, 0, 0, 0, 0, 0, 0, 0, 0, 0, 0, 0]\n",
      "Euclidean distance: 58.52349955359813\n",
      "1/1 [==============================] - 0s 12ms/step\n",
      "-SAMPLE N. 99\n",
      "Predicted audio features: [0, 0, 0, 0, 0, 0, 0, 0, 0, 0, 0, 0, 0, 0, 0, 0, 0, 6, 11, 0, 0, 0, 0, 0, 10, 0, 12, 0, 0, 4, 4, 4, 0, 0, 0, 0, 10, 0, 12, 0, 4, 4, 4, 4, 0, 0, 7, 4, 0, 0, 0, 23, 11, 11, 0, 0, 0, 0, 0, 0, 0, 0, 8, 0, 0, 0, 9, 0, 5, 5, 0, 4, 4, 4, 0, 0, 0, 0, 0, 0, 0, 0, 0, 0, 0, 0, 0, 0, 0, 0, 0, 0, 0, 0, 0, 0, 0, 0, 0, 0, 0, 0, 0, 0, 0, 0, 0, 0, 0, 0, 0, 0, 0, 0, 0, 0, 0, 0, 0, 0, 0, 0, 0, 0, 0, 0, 0, 0, 0, 0, 0, 0, 0, 0, 0, 0, 0, 0, 0, 0, 0, 0, 0, 0, 0, 0, 0, 0, 0, 0]\n",
      "---Target audio features: [0, 0, 0, 13, 13, 0, 0, 8, 0, 0, 0, 0, 6, 0, 0, 0, 7, 0, 0, 6, 5, 5, 4, 4, 6, 11, 11, 5, 4, 4, 23, 0, 11, 0, 0, 0, 0, 0, 8, 0, 0, 9, 0, 5, 0, 4, 4, 0, 0, 0, 0, 0, 0, 0, 0, 0, 0, 0, 0, 0, 0, 0, 0, 0, 0, 0, 0, 0, 0, 0, 0, 0, 0, 0, 0, 0, 0, 0, 0, 0, 0, 0, 0, 0, 0, 0, 0, 0, 0, 0, 0, 0, 0, 0, 0, 0, 0, 0, 0, 0, 0, 0, 0, 0, 0, 0, 0, 0, 0, 0, 0, 0, 0, 0, 0, 0, 0, 0, 0, 0, 0, 0, 0, 0, 0, 0, 0, 0, 0, 0, 0, 0, 0, 0, 0, 0, 0, 0, 0, 0, 0, 0, 0, 0, 0, 0, 0, 0, 0, 0]\n",
      "Euclidean distance: 51.65268628057983\n",
      "\n",
      "======\n",
      "MEAN DISTANCE: 59.06406688028469\n"
     ]
    }
   ],
   "source": [
    "entire_test_sequence_length=len(encoder_input_data_MOVEPEN) #2900\n",
    "n=100\n",
    "predicted = []\n",
    "sum_distance = 0\n",
    "for seq_index in range(n):\n",
    "    # Take one sequence (part of the training set)\n",
    "    # for trying out decoding.\n",
    "    input_seq = encoder_input_data_MOVEPEN[seq_index : seq_index + 1]\n",
    "    decoded_sentence = decode_sequence(input_seq)\n",
    "    print(\"-SAMPLE N.\", seq_index)\n",
    "    #print(\"Input sentence:\", input_texts[seq_index])\n",
    "    print(\"Predicted audio features:\", decoded_sentence)\n",
    "    print(\"---Target audio features:\", list(argmax(decoder_target_data_MOVEPEN[seq_index], axis=1, out=None)))\n",
    "    predicted.append(decoded_sentence)\n",
    "    distance = euclidean_distance(decoded_sentence, list(argmax(decoder_target_data_MOVEPEN[seq_index], axis=1, out=None)))\n",
    "    print(\"Euclidean distance:\", distance)\n",
    "    sum_distance = sum_distance + distance\n",
    "\n",
    "mean_distance = sum_distance / n\n",
    "print (\"\\n======\\nMEAN DISTANCE:\", mean_distance)\n",
    "\n",
    "\n"
   ]
  },
  {
   "cell_type": "code",
   "execution_count": 26,
   "id": "9242b22c",
   "metadata": {},
   "outputs": [
    {
     "name": "stdout",
     "output_type": "stream",
     "text": [
      "MEAN DISTANCE: 59.06406688028469\n"
     ]
    }
   ],
   "source": [
    "print (\"MEAN DISTANCE:\", mean_distance)\n"
   ]
  },
  {
   "cell_type": "code",
   "execution_count": 27,
   "id": "a5e72ca0",
   "metadata": {},
   "outputs": [],
   "source": [
    "save('predictions/PREDICTED_MODEL_CHOLLET_06_move_phone_0-100.npy', pd.DataFrame(predicted))"
   ]
  },
  {
   "cell_type": "code",
   "execution_count": null,
   "id": "131a9098",
   "metadata": {},
   "outputs": [],
   "source": []
  },
  {
   "cell_type": "markdown",
   "id": "a44d9940",
   "metadata": {},
   "source": [
    "# Test model"
   ]
  },
  {
   "cell_type": "code",
   "execution_count": 28,
   "id": "507b3efc",
   "metadata": {},
   "outputs": [
    {
     "name": "stdout",
     "output_type": "stream",
     "text": [
      "46/46 [==============================] - 2s 27ms/step - loss: 0.7294 - accuracy: 0.8852 - precision: 0.8874 - recall: 0.8838\n"
     ]
    }
   ],
   "source": [
    "model_eval = model.evaluate([encoder_input_data_MOVEPEN, decoder_input_data_MOVEPEN],decoder_target_data_MOVEPEN)"
   ]
  },
  {
   "cell_type": "code",
   "execution_count": 29,
   "id": "8c4f86e9",
   "metadata": {},
   "outputs": [
    {
     "name": "stdout",
     "output_type": "stream",
     "text": [
      "TEST MODEL\n",
      "Loss: 0.7293970584869385 \n",
      "Accuracy: 0.8852046132087708 \n",
      "Precision: 0.8874162435531616 \n",
      "Recall: 0.8838298916816711\n"
     ]
    }
   ],
   "source": [
    "print(\"TEST MODEL\\nLoss:\", model_eval[0], \"\\nAccuracy:\", model_eval[1], \"\\nPrecision:\", model_eval[2], \"\\nRecall:\", model_eval[3])"
   ]
  },
  {
   "cell_type": "code",
   "execution_count": null,
   "id": "7f8edcfe",
   "metadata": {},
   "outputs": [],
   "source": []
  },
  {
   "cell_type": "code",
   "execution_count": null,
   "id": "98d8b973",
   "metadata": {},
   "outputs": [],
   "source": []
  },
  {
   "cell_type": "code",
   "execution_count": null,
   "id": "30f86bdd",
   "metadata": {},
   "outputs": [],
   "source": []
  },
  {
   "cell_type": "code",
   "execution_count": null,
   "id": "4b257efe",
   "metadata": {},
   "outputs": [],
   "source": []
  },
  {
   "cell_type": "code",
   "execution_count": null,
   "id": "91d8977f",
   "metadata": {},
   "outputs": [],
   "source": []
  },
  {
   "cell_type": "code",
   "execution_count": null,
   "id": "3ce8f880",
   "metadata": {},
   "outputs": [],
   "source": []
  },
  {
   "cell_type": "code",
   "execution_count": null,
   "id": "9da17635",
   "metadata": {},
   "outputs": [],
   "source": []
  },
  {
   "cell_type": "code",
   "execution_count": null,
   "id": "4799d473",
   "metadata": {},
   "outputs": [],
   "source": []
  },
  {
   "cell_type": "code",
   "execution_count": null,
   "id": "bed28688",
   "metadata": {},
   "outputs": [],
   "source": []
  }
 ],
 "metadata": {
  "kernelspec": {
   "display_name": "Python 3 (ipykernel)",
   "language": "python",
   "name": "python3"
  },
  "language_info": {
   "codemirror_mode": {
    "name": "ipython",
    "version": 3
   },
   "file_extension": ".py",
   "mimetype": "text/x-python",
   "name": "python",
   "nbconvert_exporter": "python",
   "pygments_lexer": "ipython3",
   "version": "3.9.12"
  }
 },
 "nbformat": 4,
 "nbformat_minor": 5
}
